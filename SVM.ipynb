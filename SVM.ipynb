{
  "nbformat": 4,
  "nbformat_minor": 0,
  "metadata": {
    "colab": {
      "name": "SVM.ipynb",
      "version": "0.3.2",
      "provenance": [],
      "collapsed_sections": []
    },
    "kernelspec": {
      "display_name": "Python 3",
      "language": "python",
      "name": "python3"
    }
  },
  "cells": [
    {
      "cell_type": "markdown",
      "metadata": {
        "id": "EylHuuC3mcRw",
        "colab_type": "text"
      },
      "source": [
        "# HW #6: Evaluating SVM\n",
        "---\n",
        "\n",
        "In this HW, you'll explore several data sets with SVM classifiers and compare them to logistic regression classifiers.  \n",
        "\n",
        "Use markdown cells to explain your observation.  \n",
        "\n",
        "We will use two data sets:\n",
        "\n",
        "**Breast Cancer**\n",
        "\n",
        "    breast_cancer.csv\n",
        "\n",
        "**Car Evaluation**\n",
        "\n",
        "    car.csv\n"
      ]
    },
    {
      "cell_type": "code",
      "metadata": {
        "id": "m5WZZiXzmcRx",
        "colab_type": "code",
        "colab": {}
      },
      "source": [
        "import pandas as pd\n",
        "import numpy as np\n",
        "import matplotlib.pyplot as plt\n",
        "import seaborn as sns\n",
        "\n",
        "from sklearn.svm import SVC\n",
        "from sklearn.linear_model import LogisticRegression\n",
        "from sklearn import linear_model, datasets\n",
        "from sklearn.model_selection import cross_val_score\n",
        "from sklearn.metrics import confusion_matrix\n",
        "\n",
        "plt.style.use('fivethirtyeight')\n",
        "\n",
        "from ipywidgets import *\n",
        "from IPython.display import display\n",
        "\n",
        "%matplotlib inline\n",
        "%config InlineBackend.figure_format = 'retina'"
      ],
      "execution_count": 0,
      "outputs": []
    },
    {
      "cell_type": "code",
      "metadata": {
        "colab_type": "code",
        "id": "1WbzJM4cYp1I",
        "colab": {}
      },
      "source": [
        "#1 Code to read csv file into colaboratory:\n",
        "!pip install -U -q PyDrive\n",
        "from pydrive.auth import GoogleAuth\n",
        "from pydrive.drive import GoogleDrive\n",
        "from google.colab import auth\n",
        "from oauth2client.client import GoogleCredentials\n",
        "\n",
        "# 1. Authenticate and create the PyDrive client.\n",
        "auth.authenticate_user()\n",
        "gauth = GoogleAuth()\n",
        "gauth.credentials = GoogleCredentials.get_application_default()\n",
        "drive = GoogleDrive(gauth)"
      ],
      "execution_count": 0,
      "outputs": []
    },
    {
      "cell_type": "code",
      "metadata": {
        "colab_type": "code",
        "id": "ubjxW9IrYrMG",
        "colab": {}
      },
      "source": [
        "#2. Get the file\n",
        "#make sure you upload all your data files to your Google drive and change share->Advanced->change->anyone with the link can view\n",
        "downloaded = drive.CreateFile({'id':'1kxV5c1FgaUM-KFoHVAM7-np6LnpIFZxQ'}) # replace the id with id of file you want to access\n",
        "downloaded.GetContentFile('breast_cancer.csv')\n",
        "\n",
        "\n",
        "downloaded = drive.CreateFile({'id':'1ILf9_rzNvU9ip4_tyQx3oVSrMciMg_sm'}) # replace the id with id of file you want to access\n",
        "downloaded.GetContentFile('car.csv')"
      ],
      "execution_count": 0,
      "outputs": []
    },
    {
      "cell_type": "markdown",
      "metadata": {
        "id": "xHmLV-HumcRz",
        "colab_type": "text"
      },
      "source": [
        "### 1) Load the breast cancer data.\n",
        "\n",
        "- Are there any missing values? If so, impute or clean the data set.\n",
        "- Select a classification target and predictors."
      ]
    },
    {
      "cell_type": "code",
      "metadata": {
        "id": "RvUhHjvemcR0",
        "colab_type": "code",
        "colab": {}
      },
      "source": [
        "df = pd.read_csv('breast_cancer.csv', na_values='?')"
      ],
      "execution_count": 0,
      "outputs": []
    },
    {
      "cell_type": "code",
      "metadata": {
        "id": "GBJIiLYMmcR2",
        "colab_type": "code",
        "outputId": "9be22c3d-7b4d-4a62-c856-1803e8871e8c",
        "colab": {
          "base_uri": "https://localhost:8080/",
          "height": 217
        }
      },
      "source": [
        "# A:\n",
        "\n",
        "df.head()"
      ],
      "execution_count": 0,
      "outputs": [
        {
          "output_type": "execute_result",
          "data": {
            "text/html": [
              "<div>\n",
              "<style scoped>\n",
              "    .dataframe tbody tr th:only-of-type {\n",
              "        vertical-align: middle;\n",
              "    }\n",
              "\n",
              "    .dataframe tbody tr th {\n",
              "        vertical-align: top;\n",
              "    }\n",
              "\n",
              "    .dataframe thead th {\n",
              "        text-align: right;\n",
              "    }\n",
              "</style>\n",
              "<table border=\"1\" class=\"dataframe\">\n",
              "  <thead>\n",
              "    <tr style=\"text-align: right;\">\n",
              "      <th></th>\n",
              "      <th>Sample_code_number</th>\n",
              "      <th>Clump_Thickness</th>\n",
              "      <th>Uniformity_of_Cell_Size</th>\n",
              "      <th>Uniformity_of_Cell_Shape</th>\n",
              "      <th>Marginal_Adhesion</th>\n",
              "      <th>Single_Epithelial_Cell_Size</th>\n",
              "      <th>Bare_Nuclei</th>\n",
              "      <th>Bland_Chromatin</th>\n",
              "      <th>Normal_Nucleoli</th>\n",
              "      <th>Mitoses</th>\n",
              "      <th>Class</th>\n",
              "    </tr>\n",
              "  </thead>\n",
              "  <tbody>\n",
              "    <tr>\n",
              "      <th>0</th>\n",
              "      <td>1000025</td>\n",
              "      <td>5</td>\n",
              "      <td>1</td>\n",
              "      <td>1</td>\n",
              "      <td>1</td>\n",
              "      <td>2</td>\n",
              "      <td>1.0</td>\n",
              "      <td>3</td>\n",
              "      <td>1</td>\n",
              "      <td>1</td>\n",
              "      <td>2</td>\n",
              "    </tr>\n",
              "    <tr>\n",
              "      <th>1</th>\n",
              "      <td>1002945</td>\n",
              "      <td>5</td>\n",
              "      <td>4</td>\n",
              "      <td>4</td>\n",
              "      <td>5</td>\n",
              "      <td>7</td>\n",
              "      <td>10.0</td>\n",
              "      <td>3</td>\n",
              "      <td>2</td>\n",
              "      <td>1</td>\n",
              "      <td>2</td>\n",
              "    </tr>\n",
              "    <tr>\n",
              "      <th>2</th>\n",
              "      <td>1015425</td>\n",
              "      <td>3</td>\n",
              "      <td>1</td>\n",
              "      <td>1</td>\n",
              "      <td>1</td>\n",
              "      <td>2</td>\n",
              "      <td>2.0</td>\n",
              "      <td>3</td>\n",
              "      <td>1</td>\n",
              "      <td>1</td>\n",
              "      <td>2</td>\n",
              "    </tr>\n",
              "    <tr>\n",
              "      <th>3</th>\n",
              "      <td>1016277</td>\n",
              "      <td>6</td>\n",
              "      <td>8</td>\n",
              "      <td>8</td>\n",
              "      <td>1</td>\n",
              "      <td>3</td>\n",
              "      <td>4.0</td>\n",
              "      <td>3</td>\n",
              "      <td>7</td>\n",
              "      <td>1</td>\n",
              "      <td>2</td>\n",
              "    </tr>\n",
              "    <tr>\n",
              "      <th>4</th>\n",
              "      <td>1017023</td>\n",
              "      <td>4</td>\n",
              "      <td>1</td>\n",
              "      <td>1</td>\n",
              "      <td>3</td>\n",
              "      <td>2</td>\n",
              "      <td>1.0</td>\n",
              "      <td>3</td>\n",
              "      <td>1</td>\n",
              "      <td>1</td>\n",
              "      <td>2</td>\n",
              "    </tr>\n",
              "  </tbody>\n",
              "</table>\n",
              "</div>"
            ],
            "text/plain": [
              "   Sample_code_number  Clump_Thickness  Uniformity_of_Cell_Size  \\\n",
              "0             1000025                5                        1   \n",
              "1             1002945                5                        4   \n",
              "2             1015425                3                        1   \n",
              "3             1016277                6                        8   \n",
              "4             1017023                4                        1   \n",
              "\n",
              "   Uniformity_of_Cell_Shape  Marginal_Adhesion  Single_Epithelial_Cell_Size  \\\n",
              "0                         1                  1                            2   \n",
              "1                         4                  5                            7   \n",
              "2                         1                  1                            2   \n",
              "3                         8                  1                            3   \n",
              "4                         1                  3                            2   \n",
              "\n",
              "   Bare_Nuclei  Bland_Chromatin  Normal_Nucleoli  Mitoses  Class  \n",
              "0          1.0                3                1        1      2  \n",
              "1         10.0                3                2        1      2  \n",
              "2          2.0                3                1        1      2  \n",
              "3          4.0                3                7        1      2  \n",
              "4          1.0                3                1        1      2  "
            ]
          },
          "metadata": {
            "tags": []
          },
          "execution_count": 52
        }
      ]
    },
    {
      "cell_type": "code",
      "metadata": {
        "id": "z5VnaYqb744l",
        "colab_type": "code",
        "outputId": "84af8ed7-c93d-4aae-8769-81c51618fb40",
        "colab": {
          "base_uri": "https://localhost:8080/",
          "height": 230
        }
      },
      "source": [
        "df.dtypes"
      ],
      "execution_count": 0,
      "outputs": [
        {
          "output_type": "execute_result",
          "data": {
            "text/plain": [
              "Sample_code_number               int64\n",
              "Clump_Thickness                  int64\n",
              "Uniformity_of_Cell_Size          int64\n",
              "Uniformity_of_Cell_Shape         int64\n",
              "Marginal_Adhesion                int64\n",
              "Single_Epithelial_Cell_Size      int64\n",
              "Bare_Nuclei                    float64\n",
              "Bland_Chromatin                  int64\n",
              "Normal_Nucleoli                  int64\n",
              "Mitoses                          int64\n",
              "Class                            int64\n",
              "dtype: object"
            ]
          },
          "metadata": {
            "tags": []
          },
          "execution_count": 53
        }
      ]
    },
    {
      "cell_type": "code",
      "metadata": {
        "id": "hrJqNfCwH5zs",
        "colab_type": "code",
        "outputId": "097b4645-80f9-4475-dcfe-4f2a89fa3a82",
        "colab": {
          "base_uri": "https://localhost:8080/",
          "height": 230
        }
      },
      "source": [
        "#df.info()\n",
        "\n",
        "df.isnull().sum()\n",
        "\n",
        "## Yes,there are missing values in the data set for the column Bare_Nucleui"
      ],
      "execution_count": 0,
      "outputs": [
        {
          "output_type": "execute_result",
          "data": {
            "text/plain": [
              "Sample_code_number              0\n",
              "Clump_Thickness                 0\n",
              "Uniformity_of_Cell_Size         0\n",
              "Uniformity_of_Cell_Shape        0\n",
              "Marginal_Adhesion               0\n",
              "Single_Epithelial_Cell_Size     0\n",
              "Bare_Nuclei                    16\n",
              "Bland_Chromatin                 0\n",
              "Normal_Nucleoli                 0\n",
              "Mitoses                         0\n",
              "Class                           0\n",
              "dtype: int64"
            ]
          },
          "metadata": {
            "tags": []
          },
          "execution_count": 54
        }
      ]
    },
    {
      "cell_type": "code",
      "metadata": {
        "id": "UIpC0vgkJiwu",
        "colab_type": "code",
        "outputId": "5a775209-6ef4-4c29-b7f2-1aa6886604c1",
        "colab": {
          "base_uri": "https://localhost:8080/",
          "height": 547
        }
      },
      "source": [
        "\n",
        "\n",
        "#df[df.isnull().any(axis=1)]\n",
        "\n",
        "df[df.isnull().any(axis=1)] ## This gives the records those are are null values in the dataset\n",
        "\n"
      ],
      "execution_count": 0,
      "outputs": [
        {
          "output_type": "execute_result",
          "data": {
            "text/html": [
              "<div>\n",
              "<style scoped>\n",
              "    .dataframe tbody tr th:only-of-type {\n",
              "        vertical-align: middle;\n",
              "    }\n",
              "\n",
              "    .dataframe tbody tr th {\n",
              "        vertical-align: top;\n",
              "    }\n",
              "\n",
              "    .dataframe thead th {\n",
              "        text-align: right;\n",
              "    }\n",
              "</style>\n",
              "<table border=\"1\" class=\"dataframe\">\n",
              "  <thead>\n",
              "    <tr style=\"text-align: right;\">\n",
              "      <th></th>\n",
              "      <th>Sample_code_number</th>\n",
              "      <th>Clump_Thickness</th>\n",
              "      <th>Uniformity_of_Cell_Size</th>\n",
              "      <th>Uniformity_of_Cell_Shape</th>\n",
              "      <th>Marginal_Adhesion</th>\n",
              "      <th>Single_Epithelial_Cell_Size</th>\n",
              "      <th>Bare_Nuclei</th>\n",
              "      <th>Bland_Chromatin</th>\n",
              "      <th>Normal_Nucleoli</th>\n",
              "      <th>Mitoses</th>\n",
              "      <th>Class</th>\n",
              "    </tr>\n",
              "  </thead>\n",
              "  <tbody>\n",
              "    <tr>\n",
              "      <th>23</th>\n",
              "      <td>1057013</td>\n",
              "      <td>8</td>\n",
              "      <td>4</td>\n",
              "      <td>5</td>\n",
              "      <td>1</td>\n",
              "      <td>2</td>\n",
              "      <td>NaN</td>\n",
              "      <td>7</td>\n",
              "      <td>3</td>\n",
              "      <td>1</td>\n",
              "      <td>4</td>\n",
              "    </tr>\n",
              "    <tr>\n",
              "      <th>40</th>\n",
              "      <td>1096800</td>\n",
              "      <td>6</td>\n",
              "      <td>6</td>\n",
              "      <td>6</td>\n",
              "      <td>9</td>\n",
              "      <td>6</td>\n",
              "      <td>NaN</td>\n",
              "      <td>7</td>\n",
              "      <td>8</td>\n",
              "      <td>1</td>\n",
              "      <td>2</td>\n",
              "    </tr>\n",
              "    <tr>\n",
              "      <th>139</th>\n",
              "      <td>1183246</td>\n",
              "      <td>1</td>\n",
              "      <td>1</td>\n",
              "      <td>1</td>\n",
              "      <td>1</td>\n",
              "      <td>1</td>\n",
              "      <td>NaN</td>\n",
              "      <td>2</td>\n",
              "      <td>1</td>\n",
              "      <td>1</td>\n",
              "      <td>2</td>\n",
              "    </tr>\n",
              "    <tr>\n",
              "      <th>145</th>\n",
              "      <td>1184840</td>\n",
              "      <td>1</td>\n",
              "      <td>1</td>\n",
              "      <td>3</td>\n",
              "      <td>1</td>\n",
              "      <td>2</td>\n",
              "      <td>NaN</td>\n",
              "      <td>2</td>\n",
              "      <td>1</td>\n",
              "      <td>1</td>\n",
              "      <td>2</td>\n",
              "    </tr>\n",
              "    <tr>\n",
              "      <th>158</th>\n",
              "      <td>1193683</td>\n",
              "      <td>1</td>\n",
              "      <td>1</td>\n",
              "      <td>2</td>\n",
              "      <td>1</td>\n",
              "      <td>3</td>\n",
              "      <td>NaN</td>\n",
              "      <td>1</td>\n",
              "      <td>1</td>\n",
              "      <td>1</td>\n",
              "      <td>2</td>\n",
              "    </tr>\n",
              "    <tr>\n",
              "      <th>164</th>\n",
              "      <td>1197510</td>\n",
              "      <td>5</td>\n",
              "      <td>1</td>\n",
              "      <td>1</td>\n",
              "      <td>1</td>\n",
              "      <td>2</td>\n",
              "      <td>NaN</td>\n",
              "      <td>3</td>\n",
              "      <td>1</td>\n",
              "      <td>1</td>\n",
              "      <td>2</td>\n",
              "    </tr>\n",
              "    <tr>\n",
              "      <th>235</th>\n",
              "      <td>1241232</td>\n",
              "      <td>3</td>\n",
              "      <td>1</td>\n",
              "      <td>4</td>\n",
              "      <td>1</td>\n",
              "      <td>2</td>\n",
              "      <td>NaN</td>\n",
              "      <td>3</td>\n",
              "      <td>1</td>\n",
              "      <td>1</td>\n",
              "      <td>2</td>\n",
              "    </tr>\n",
              "    <tr>\n",
              "      <th>249</th>\n",
              "      <td>169356</td>\n",
              "      <td>3</td>\n",
              "      <td>1</td>\n",
              "      <td>1</td>\n",
              "      <td>1</td>\n",
              "      <td>2</td>\n",
              "      <td>NaN</td>\n",
              "      <td>3</td>\n",
              "      <td>1</td>\n",
              "      <td>1</td>\n",
              "      <td>2</td>\n",
              "    </tr>\n",
              "    <tr>\n",
              "      <th>275</th>\n",
              "      <td>432809</td>\n",
              "      <td>3</td>\n",
              "      <td>1</td>\n",
              "      <td>3</td>\n",
              "      <td>1</td>\n",
              "      <td>2</td>\n",
              "      <td>NaN</td>\n",
              "      <td>2</td>\n",
              "      <td>1</td>\n",
              "      <td>1</td>\n",
              "      <td>2</td>\n",
              "    </tr>\n",
              "    <tr>\n",
              "      <th>292</th>\n",
              "      <td>563649</td>\n",
              "      <td>8</td>\n",
              "      <td>8</td>\n",
              "      <td>8</td>\n",
              "      <td>1</td>\n",
              "      <td>2</td>\n",
              "      <td>NaN</td>\n",
              "      <td>6</td>\n",
              "      <td>10</td>\n",
              "      <td>1</td>\n",
              "      <td>4</td>\n",
              "    </tr>\n",
              "    <tr>\n",
              "      <th>294</th>\n",
              "      <td>606140</td>\n",
              "      <td>1</td>\n",
              "      <td>1</td>\n",
              "      <td>1</td>\n",
              "      <td>1</td>\n",
              "      <td>2</td>\n",
              "      <td>NaN</td>\n",
              "      <td>2</td>\n",
              "      <td>1</td>\n",
              "      <td>1</td>\n",
              "      <td>2</td>\n",
              "    </tr>\n",
              "    <tr>\n",
              "      <th>297</th>\n",
              "      <td>61634</td>\n",
              "      <td>5</td>\n",
              "      <td>4</td>\n",
              "      <td>3</td>\n",
              "      <td>1</td>\n",
              "      <td>2</td>\n",
              "      <td>NaN</td>\n",
              "      <td>2</td>\n",
              "      <td>3</td>\n",
              "      <td>1</td>\n",
              "      <td>2</td>\n",
              "    </tr>\n",
              "    <tr>\n",
              "      <th>315</th>\n",
              "      <td>704168</td>\n",
              "      <td>4</td>\n",
              "      <td>6</td>\n",
              "      <td>5</td>\n",
              "      <td>6</td>\n",
              "      <td>7</td>\n",
              "      <td>NaN</td>\n",
              "      <td>4</td>\n",
              "      <td>9</td>\n",
              "      <td>1</td>\n",
              "      <td>2</td>\n",
              "    </tr>\n",
              "    <tr>\n",
              "      <th>321</th>\n",
              "      <td>733639</td>\n",
              "      <td>3</td>\n",
              "      <td>1</td>\n",
              "      <td>1</td>\n",
              "      <td>1</td>\n",
              "      <td>2</td>\n",
              "      <td>NaN</td>\n",
              "      <td>3</td>\n",
              "      <td>1</td>\n",
              "      <td>1</td>\n",
              "      <td>2</td>\n",
              "    </tr>\n",
              "    <tr>\n",
              "      <th>411</th>\n",
              "      <td>1238464</td>\n",
              "      <td>1</td>\n",
              "      <td>1</td>\n",
              "      <td>1</td>\n",
              "      <td>1</td>\n",
              "      <td>1</td>\n",
              "      <td>NaN</td>\n",
              "      <td>2</td>\n",
              "      <td>1</td>\n",
              "      <td>1</td>\n",
              "      <td>2</td>\n",
              "    </tr>\n",
              "    <tr>\n",
              "      <th>617</th>\n",
              "      <td>1057067</td>\n",
              "      <td>1</td>\n",
              "      <td>1</td>\n",
              "      <td>1</td>\n",
              "      <td>1</td>\n",
              "      <td>1</td>\n",
              "      <td>NaN</td>\n",
              "      <td>1</td>\n",
              "      <td>1</td>\n",
              "      <td>1</td>\n",
              "      <td>2</td>\n",
              "    </tr>\n",
              "  </tbody>\n",
              "</table>\n",
              "</div>"
            ],
            "text/plain": [
              "     Sample_code_number  Clump_Thickness  Uniformity_of_Cell_Size  \\\n",
              "23              1057013                8                        4   \n",
              "40              1096800                6                        6   \n",
              "139             1183246                1                        1   \n",
              "145             1184840                1                        1   \n",
              "158             1193683                1                        1   \n",
              "164             1197510                5                        1   \n",
              "235             1241232                3                        1   \n",
              "249              169356                3                        1   \n",
              "275              432809                3                        1   \n",
              "292              563649                8                        8   \n",
              "294              606140                1                        1   \n",
              "297               61634                5                        4   \n",
              "315              704168                4                        6   \n",
              "321              733639                3                        1   \n",
              "411             1238464                1                        1   \n",
              "617             1057067                1                        1   \n",
              "\n",
              "     Uniformity_of_Cell_Shape  Marginal_Adhesion  Single_Epithelial_Cell_Size  \\\n",
              "23                          5                  1                            2   \n",
              "40                          6                  9                            6   \n",
              "139                         1                  1                            1   \n",
              "145                         3                  1                            2   \n",
              "158                         2                  1                            3   \n",
              "164                         1                  1                            2   \n",
              "235                         4                  1                            2   \n",
              "249                         1                  1                            2   \n",
              "275                         3                  1                            2   \n",
              "292                         8                  1                            2   \n",
              "294                         1                  1                            2   \n",
              "297                         3                  1                            2   \n",
              "315                         5                  6                            7   \n",
              "321                         1                  1                            2   \n",
              "411                         1                  1                            1   \n",
              "617                         1                  1                            1   \n",
              "\n",
              "     Bare_Nuclei  Bland_Chromatin  Normal_Nucleoli  Mitoses  Class  \n",
              "23           NaN                7                3        1      4  \n",
              "40           NaN                7                8        1      2  \n",
              "139          NaN                2                1        1      2  \n",
              "145          NaN                2                1        1      2  \n",
              "158          NaN                1                1        1      2  \n",
              "164          NaN                3                1        1      2  \n",
              "235          NaN                3                1        1      2  \n",
              "249          NaN                3                1        1      2  \n",
              "275          NaN                2                1        1      2  \n",
              "292          NaN                6               10        1      4  \n",
              "294          NaN                2                1        1      2  \n",
              "297          NaN                2                3        1      2  \n",
              "315          NaN                4                9        1      2  \n",
              "321          NaN                3                1        1      2  \n",
              "411          NaN                2                1        1      2  \n",
              "617          NaN                1                1        1      2  "
            ]
          },
          "metadata": {
            "tags": []
          },
          "execution_count": 55
        }
      ]
    },
    {
      "cell_type": "code",
      "metadata": {
        "id": "Wv2BhGjLIxx-",
        "colab_type": "code",
        "colab": {}
      },
      "source": [
        " df.dropna(inplace = True) ############ by dropping null values"
      ],
      "execution_count": 0,
      "outputs": []
    },
    {
      "cell_type": "code",
      "metadata": {
        "id": "baBaYvm9Jejn",
        "colab_type": "code",
        "outputId": "662229b9-0268-4994-b634-fcf102ff0d0f",
        "colab": {
          "base_uri": "https://localhost:8080/",
          "height": 67
        }
      },
      "source": [
        "df[df.isnull().any(axis=1)] ## This gives the records those are are null values in the dataset\n"
      ],
      "execution_count": 0,
      "outputs": [
        {
          "output_type": "execute_result",
          "data": {
            "text/html": [
              "<div>\n",
              "<style scoped>\n",
              "    .dataframe tbody tr th:only-of-type {\n",
              "        vertical-align: middle;\n",
              "    }\n",
              "\n",
              "    .dataframe tbody tr th {\n",
              "        vertical-align: top;\n",
              "    }\n",
              "\n",
              "    .dataframe thead th {\n",
              "        text-align: right;\n",
              "    }\n",
              "</style>\n",
              "<table border=\"1\" class=\"dataframe\">\n",
              "  <thead>\n",
              "    <tr style=\"text-align: right;\">\n",
              "      <th></th>\n",
              "      <th>Sample_code_number</th>\n",
              "      <th>Clump_Thickness</th>\n",
              "      <th>Uniformity_of_Cell_Size</th>\n",
              "      <th>Uniformity_of_Cell_Shape</th>\n",
              "      <th>Marginal_Adhesion</th>\n",
              "      <th>Single_Epithelial_Cell_Size</th>\n",
              "      <th>Bare_Nuclei</th>\n",
              "      <th>Bland_Chromatin</th>\n",
              "      <th>Normal_Nucleoli</th>\n",
              "      <th>Mitoses</th>\n",
              "      <th>Class</th>\n",
              "    </tr>\n",
              "  </thead>\n",
              "  <tbody>\n",
              "  </tbody>\n",
              "</table>\n",
              "</div>"
            ],
            "text/plain": [
              "Empty DataFrame\n",
              "Columns: [Sample_code_number, Clump_Thickness, Uniformity_of_Cell_Size, Uniformity_of_Cell_Shape, Marginal_Adhesion, Single_Epithelial_Cell_Size, Bare_Nuclei, Bland_Chromatin, Normal_Nucleoli, Mitoses, Class]\n",
              "Index: []"
            ]
          },
          "metadata": {
            "tags": []
          },
          "execution_count": 57
        }
      ]
    },
    {
      "cell_type": "code",
      "metadata": {
        "id": "sIZDi-7yVRAy",
        "colab_type": "code",
        "outputId": "f98b012a-f8c4-48e2-b942-f7bf54dfa6e0",
        "colab": {
          "base_uri": "https://localhost:8080/",
          "height": 107
        }
      },
      "source": [
        "\n",
        "from sklearn.preprocessing import StandardScaler\n",
        "scaler = StandardScaler()\n",
        "scaler.fit(XX)\n",
        "XXX = scaler.transform(XX)\n"
      ],
      "execution_count": 0,
      "outputs": [
        {
          "output_type": "stream",
          "text": [
            "/usr/local/lib/python3.6/dist-packages/sklearn/preprocessing/data.py:645: DataConversionWarning: Data with input dtype int64, float64 were all converted to float64 by StandardScaler.\n",
            "  return self.partial_fit(X, y)\n",
            "/usr/local/lib/python3.6/dist-packages/ipykernel_launcher.py:5: DataConversionWarning: Data with input dtype int64, float64 were all converted to float64 by StandardScaler.\n",
            "  \"\"\"\n"
          ],
          "name": "stderr"
        }
      ]
    },
    {
      "cell_type": "code",
      "metadata": {
        "id": "sNE7O00TXESt",
        "colab_type": "code",
        "outputId": "cf37a1be-31d5-4068-c093-6d22b1664f8c",
        "colab": {
          "base_uri": "https://localhost:8080/",
          "height": 105
        }
      },
      "source": [
        "XX.columns"
      ],
      "execution_count": 0,
      "outputs": [
        {
          "output_type": "execute_result",
          "data": {
            "text/plain": [
              "Index(['Clump_Thickness', 'Uniformity_of_Cell_Size',\n",
              "       'Uniformity_of_Cell_Shape', 'Marginal_Adhesion',\n",
              "       'Single_Epithelial_Cell_Size', 'Bare_Nuclei', 'Bland_Chromatin',\n",
              "       'Normal_Nucleoli', 'Mitoses'],\n",
              "      dtype='object')"
            ]
          },
          "metadata": {
            "tags": []
          },
          "execution_count": 59
        }
      ]
    },
    {
      "cell_type": "code",
      "metadata": {
        "id": "eEq6FMaKVW2T",
        "colab_type": "code",
        "outputId": "055ac655-20cf-47b1-8107-4c0fd5c818d1",
        "colab": {
          "base_uri": "https://localhost:8080/",
          "height": 197
        }
      },
      "source": [
        "# data = pd.DataFrame({})\n",
        "\n",
        "features = pd.DataFrame(XXX, columns = XX.columns)\n",
        "\n",
        "features.head()\n",
        "\n"
      ],
      "execution_count": 0,
      "outputs": [
        {
          "output_type": "execute_result",
          "data": {
            "text/html": [
              "<div>\n",
              "<style scoped>\n",
              "    .dataframe tbody tr th:only-of-type {\n",
              "        vertical-align: middle;\n",
              "    }\n",
              "\n",
              "    .dataframe tbody tr th {\n",
              "        vertical-align: top;\n",
              "    }\n",
              "\n",
              "    .dataframe thead th {\n",
              "        text-align: right;\n",
              "    }\n",
              "</style>\n",
              "<table border=\"1\" class=\"dataframe\">\n",
              "  <thead>\n",
              "    <tr style=\"text-align: right;\">\n",
              "      <th></th>\n",
              "      <th>Clump_Thickness</th>\n",
              "      <th>Uniformity_of_Cell_Size</th>\n",
              "      <th>Uniformity_of_Cell_Shape</th>\n",
              "      <th>Marginal_Adhesion</th>\n",
              "      <th>Single_Epithelial_Cell_Size</th>\n",
              "      <th>Bare_Nuclei</th>\n",
              "      <th>Bland_Chromatin</th>\n",
              "      <th>Normal_Nucleoli</th>\n",
              "      <th>Mitoses</th>\n",
              "    </tr>\n",
              "  </thead>\n",
              "  <tbody>\n",
              "    <tr>\n",
              "      <th>0</th>\n",
              "      <td>0.197905</td>\n",
              "      <td>-0.702212</td>\n",
              "      <td>-0.741774</td>\n",
              "      <td>-0.639366</td>\n",
              "      <td>-0.555608</td>\n",
              "      <td>-0.698853</td>\n",
              "      <td>-0.181827</td>\n",
              "      <td>-0.612927</td>\n",
              "      <td>-0.3484</td>\n",
              "    </tr>\n",
              "    <tr>\n",
              "      <th>1</th>\n",
              "      <td>0.197905</td>\n",
              "      <td>0.277252</td>\n",
              "      <td>0.262783</td>\n",
              "      <td>0.758032</td>\n",
              "      <td>1.695166</td>\n",
              "      <td>1.772867</td>\n",
              "      <td>-0.181827</td>\n",
              "      <td>-0.285105</td>\n",
              "      <td>-0.3484</td>\n",
              "    </tr>\n",
              "    <tr>\n",
              "      <th>2</th>\n",
              "      <td>-0.511643</td>\n",
              "      <td>-0.702212</td>\n",
              "      <td>-0.741774</td>\n",
              "      <td>-0.639366</td>\n",
              "      <td>-0.555608</td>\n",
              "      <td>-0.424217</td>\n",
              "      <td>-0.181827</td>\n",
              "      <td>-0.612927</td>\n",
              "      <td>-0.3484</td>\n",
              "    </tr>\n",
              "    <tr>\n",
              "      <th>3</th>\n",
              "      <td>0.552679</td>\n",
              "      <td>1.583204</td>\n",
              "      <td>1.602192</td>\n",
              "      <td>-0.639366</td>\n",
              "      <td>-0.105454</td>\n",
              "      <td>0.125054</td>\n",
              "      <td>-0.181827</td>\n",
              "      <td>1.354008</td>\n",
              "      <td>-0.3484</td>\n",
              "    </tr>\n",
              "    <tr>\n",
              "      <th>4</th>\n",
              "      <td>-0.156869</td>\n",
              "      <td>-0.702212</td>\n",
              "      <td>-0.741774</td>\n",
              "      <td>0.059333</td>\n",
              "      <td>-0.555608</td>\n",
              "      <td>-0.698853</td>\n",
              "      <td>-0.181827</td>\n",
              "      <td>-0.612927</td>\n",
              "      <td>-0.3484</td>\n",
              "    </tr>\n",
              "  </tbody>\n",
              "</table>\n",
              "</div>"
            ],
            "text/plain": [
              "   Clump_Thickness  Uniformity_of_Cell_Size  Uniformity_of_Cell_Shape  \\\n",
              "0         0.197905                -0.702212                 -0.741774   \n",
              "1         0.197905                 0.277252                  0.262783   \n",
              "2        -0.511643                -0.702212                 -0.741774   \n",
              "3         0.552679                 1.583204                  1.602192   \n",
              "4        -0.156869                -0.702212                 -0.741774   \n",
              "\n",
              "   Marginal_Adhesion  Single_Epithelial_Cell_Size  Bare_Nuclei  \\\n",
              "0          -0.639366                    -0.555608    -0.698853   \n",
              "1           0.758032                     1.695166     1.772867   \n",
              "2          -0.639366                    -0.555608    -0.424217   \n",
              "3          -0.639366                    -0.105454     0.125054   \n",
              "4           0.059333                    -0.555608    -0.698853   \n",
              "\n",
              "   Bland_Chromatin  Normal_Nucleoli  Mitoses  \n",
              "0        -0.181827        -0.612927  -0.3484  \n",
              "1        -0.181827        -0.285105  -0.3484  \n",
              "2        -0.181827        -0.612927  -0.3484  \n",
              "3        -0.181827         1.354008  -0.3484  \n",
              "4        -0.181827        -0.612927  -0.3484  "
            ]
          },
          "metadata": {
            "tags": []
          },
          "execution_count": 60
        }
      ]
    },
    {
      "cell_type": "code",
      "metadata": {
        "id": "WbouzbnQM57E",
        "colab_type": "code",
        "outputId": "e568c5e3-d426-4b19-b514-2cd3f5d5ef99",
        "colab": {
          "base_uri": "https://localhost:8080/",
          "height": 230
        }
      },
      "source": [
        "df.isnull().sum()"
      ],
      "execution_count": 0,
      "outputs": [
        {
          "output_type": "execute_result",
          "data": {
            "text/plain": [
              "Sample_code_number             0\n",
              "Clump_Thickness                0\n",
              "Uniformity_of_Cell_Size        0\n",
              "Uniformity_of_Cell_Shape       0\n",
              "Marginal_Adhesion              0\n",
              "Single_Epithelial_Cell_Size    0\n",
              "Bare_Nuclei                    0\n",
              "Bland_Chromatin                0\n",
              "Normal_Nucleoli                0\n",
              "Mitoses                        0\n",
              "Class                          0\n",
              "dtype: int64"
            ]
          },
          "metadata": {
            "tags": []
          },
          "execution_count": 61
        }
      ]
    },
    {
      "cell_type": "code",
      "metadata": {
        "id": "jUVVpqDmP0rl",
        "colab_type": "code",
        "outputId": "d227d571-4b5a-44e4-df46-4d6cfbd59bee",
        "colab": {
          "base_uri": "https://localhost:8080/",
          "height": 70
        }
      },
      "source": [
        "## Here there are 2-458 classes and 4 - 241 classes in  the dataset.\n",
        "df.Class.value_counts()\n",
        "\n",
        "#df.Sample_code_number.value_counts()"
      ],
      "execution_count": 0,
      "outputs": [
        {
          "output_type": "execute_result",
          "data": {
            "text/plain": [
              "2    444\n",
              "4    239\n",
              "Name: Class, dtype: int64"
            ]
          },
          "metadata": {
            "tags": []
          },
          "execution_count": 62
        }
      ]
    },
    {
      "cell_type": "markdown",
      "metadata": {
        "id": "-TEYtmNDmcR4",
        "colab_type": "text"
      },
      "source": [
        "### 2) Build an SVM classifier on the data.\n",
        "\n",
        "For details on the SVM classifier, [click here](http://scikit-learn.org/stable/modules/generated/sklearn.svm.SVC.html).\n",
        "\n",
        "- Initialize and train a linear SVM. What's the average accuracy score with a five-fold cross-validation?\n",
        "- Repeat using a radial basis function (RBF) classifier. Compare the scores. Which one is better?\n",
        "- Print a confusion matrix and classification report for your best model using training and testing data.\n",
        "\n",
        "**[View Classification report and Confusion matrix coding example here](http://joshlawman.com/metrics-classification-report-breakdown-precision-recall-f1/)**"
      ]
    },
    {
      "cell_type": "code",
      "metadata": {
        "id": "yrBFxXB18wMQ",
        "colab_type": "code",
        "outputId": "5573b0bb-e8db-4491-f018-b1f02f47ee40",
        "colab": {
          "base_uri": "https://localhost:8080/",
          "height": 105
        }
      },
      "source": [
        "## Convert the target label into dummy using label encoder\n",
        "\n",
        "from sklearn.preprocessing import LabelEncoder\n",
        "Y = LabelEncoder().fit_transform(df['Class']) # Fit transform gives as 1,2,3,4 instead of just 1,0 and 1,0 and 1,0 \n",
        "X = df.drop('Class', axis=1)  \n",
        "\n",
        "X.columns"
      ],
      "execution_count": 0,
      "outputs": [
        {
          "output_type": "execute_result",
          "data": {
            "text/plain": [
              "Index(['Sample_code_number', 'Clump_Thickness', 'Uniformity_of_Cell_Size',\n",
              "       'Uniformity_of_Cell_Shape', 'Marginal_Adhesion',\n",
              "       'Single_Epithelial_Cell_Size', 'Bare_Nuclei', 'Bland_Chromatin',\n",
              "       'Normal_Nucleoli', 'Mitoses'],\n",
              "      dtype='object')"
            ]
          },
          "metadata": {
            "tags": []
          },
          "execution_count": 63
        }
      ]
    },
    {
      "cell_type": "code",
      "metadata": {
        "id": "zcQP37W7BacK",
        "colab_type": "code",
        "outputId": "4701bb4d-3596-42f6-c9e2-ffd2ec67b45e",
        "colab": {
          "base_uri": "https://localhost:8080/",
          "height": 34
        }
      },
      "source": [
        "XX = X.drop('Sample_code_number', axis=1)\n",
        "\n",
        "XX.shape"
      ],
      "execution_count": 0,
      "outputs": [
        {
          "output_type": "execute_result",
          "data": {
            "text/plain": [
              "(683, 9)"
            ]
          },
          "metadata": {
            "tags": []
          },
          "execution_count": 64
        }
      ]
    },
    {
      "cell_type": "code",
      "metadata": {
        "id": "6FZ-mPNrmcR5",
        "colab_type": "code",
        "outputId": "df50fe0a-ec7c-49fe-cdfe-c3b400edab93",
        "colab": {
          "base_uri": "https://localhost:8080/",
          "height": 70
        }
      },
      "source": [
        "# A:\n",
        "\n",
        "import warnings\n",
        "warnings.filterwarnings(\"ignore\", category=FutureWarning)\n",
        "\n",
        "from sklearn.svm import SVC\n",
        "from sklearn.linear_model import LogisticRegression\n",
        "from sklearn import linear_model, datasets\n",
        "from sklearn.svm import SVC\n",
        "from sklearn.model_selection import cross_val_score\n",
        "\n",
        "\n",
        "\n",
        "########\n",
        "\n",
        "from sklearn.model_selection import KFold\n",
        "from sklearn import metrics\n",
        "\n",
        "svc_modell = SVC(kernel = 'linear')\n",
        "scores = cross_val_score(svc_modell,XX,Y,cv = 5)\n",
        "\n",
        "print('mean scores: ',np.mean(scores))\n",
        "print('std of scores', np.std(scores))\n",
        "\n",
        "print('scores:', scores)"
      ],
      "execution_count": 0,
      "outputs": [
        {
          "output_type": "stream",
          "text": [
            "mean scores:  0.9663801027304677\n",
            "std of scores 0.014975650493662142\n",
            "scores: [0.94890511 0.94890511 0.97810219 0.97080292 0.98518519]\n"
          ],
          "name": "stdout"
        }
      ]
    },
    {
      "cell_type": "code",
      "metadata": {
        "id": "E5w3lo-ODY_S",
        "colab_type": "code",
        "outputId": "f1c47779-7daf-4e41-8778-0c181d991a2b",
        "colab": {
          "base_uri": "https://localhost:8080/",
          "height": 70
        }
      },
      "source": [
        "### Building model using \"rbf\" Kernel\n",
        "\n",
        "svc_model = SVC(kernel = 'rbf')\n",
        "scores = cross_val_score(svc_model,XX,Y,cv = 5)\n",
        "\n",
        "print('mean scores: ',np.mean(scores))\n",
        "print('std of scores', np.std(scores))\n",
        "print('scores:', scores)"
      ],
      "execution_count": 0,
      "outputs": [
        {
          "output_type": "stream",
          "text": [
            "mean scores:  0.9503217085698837\n",
            "std of scores 0.0349323662284763\n",
            "scores: [0.90510949 0.91240876 0.96350365 0.98540146 0.98518519]\n"
          ],
          "name": "stdout"
        }
      ]
    },
    {
      "cell_type": "code",
      "metadata": {
        "id": "lYmDuIrmWgu1",
        "colab_type": "code",
        "colab": {}
      },
      "source": [
        ""
      ],
      "execution_count": 0,
      "outputs": []
    },
    {
      "cell_type": "markdown",
      "metadata": {
        "id": "t1fCL1xU8ReV",
        "colab_type": "text"
      },
      "source": [
        "#### The mean SCORE for an SVM with linear  kernel has an accuracy of 0.96638 where as for Rbf has 0.9503.\n",
        "#### When you compare both the models with different kernel function, svm with linear kernel has higher score compared to rbf"
      ]
    },
    {
      "cell_type": "code",
      "metadata": {
        "id": "Ez8Z9pufDkCT",
        "colab_type": "code",
        "colab": {}
      },
      "source": [
        "#### Confusion matrix\n",
        "\n",
        "## Slplit data into test and train ##\n",
        "\n",
        "from sklearn.model_selection import train_test_split  \n",
        "X_train, X_test, y_train, y_test = train_test_split(XX, Y, test_size = 0.2,random_state = 20)  \n"
      ],
      "execution_count": 0,
      "outputs": []
    },
    {
      "cell_type": "code",
      "metadata": {
        "id": "TmaWqd7R9P_-",
        "colab_type": "code",
        "outputId": "08c7fa22-eeb0-48fa-c01c-d606c5016d96",
        "colab": {
          "base_uri": "https://localhost:8080/",
          "height": 87
        }
      },
      "source": [
        "# Building model using SVM with linear kernel ###\n",
        "\n",
        "from sklearn.svm import SVC  \n",
        "svclassifier = SVC(kernel='linear')  \n",
        "svclassifier.fit(X_train, y_train)  \n"
      ],
      "execution_count": 0,
      "outputs": [
        {
          "output_type": "execute_result",
          "data": {
            "text/plain": [
              "SVC(C=1.0, cache_size=200, class_weight=None, coef0=0.0,\n",
              "  decision_function_shape='ovr', degree=3, gamma='auto_deprecated',\n",
              "  kernel='linear', max_iter=-1, probability=False, random_state=None,\n",
              "  shrinking=True, tol=0.001, verbose=False)"
            ]
          },
          "metadata": {
            "tags": []
          },
          "execution_count": 18
        }
      ]
    },
    {
      "cell_type": "markdown",
      "metadata": {
        "id": "SRxmwD9S9ekL",
        "colab_type": "text"
      },
      "source": [
        ""
      ]
    },
    {
      "cell_type": "code",
      "metadata": {
        "id": "XkMsV8GjKPHs",
        "colab_type": "code",
        "colab": {}
      },
      "source": [
        "# Applying prediction on test data \n",
        "\n",
        "y_pred = svclassifier.predict(X_test)  \n"
      ],
      "execution_count": 0,
      "outputs": []
    },
    {
      "cell_type": "code",
      "metadata": {
        "id": "ZE-irSBl9MjL",
        "colab_type": "code",
        "outputId": "1766e8e1-1c90-485f-bec0-64a5a9d1351e",
        "colab": {
          "base_uri": "https://localhost:8080/",
          "height": 212
        }
      },
      "source": [
        "\n",
        "##### Model Evaluation using by Applying confusion Matrix ###\n",
        "from sklearn.metrics import classification_report, confusion_matrix  \n",
        "print(confusion_matrix(y_test,y_pred))  \n",
        "print(classification_report(y_test,y_pred))  \n",
        "\n"
      ],
      "execution_count": 0,
      "outputs": [
        {
          "output_type": "stream",
          "text": [
            "[[94  5]\n",
            " [ 2 36]]\n",
            "              precision    recall  f1-score   support\n",
            "\n",
            "           0       0.98      0.95      0.96        99\n",
            "           1       0.88      0.95      0.91        38\n",
            "\n",
            "   micro avg       0.95      0.95      0.95       137\n",
            "   macro avg       0.93      0.95      0.94       137\n",
            "weighted avg       0.95      0.95      0.95       137\n",
            "\n"
          ],
          "name": "stdout"
        }
      ]
    },
    {
      "cell_type": "code",
      "metadata": {
        "id": "X8Ul7wgGIS-O",
        "colab_type": "code",
        "colab": {}
      },
      "source": [
        "from sklearn.metrics import confusion_matrix\n",
        "\n",
        "final_svc_poly = SVC(kernel='linear')\n",
        "final_svc_poly.fit(X_train, y_train)  \n",
        "\n",
        "confusion_mat = confusion_matrix(y_test, final_svc_poly.predict(X_test))\n"
      ],
      "execution_count": 0,
      "outputs": []
    },
    {
      "cell_type": "code",
      "metadata": {
        "id": "p3Bm3GAaI28U",
        "colab_type": "code",
        "outputId": "3da3a087-8c57-49a1-c30d-550c016ab8d8",
        "colab": {
          "base_uri": "https://localhost:8080/",
          "height": 70
        }
      },
      "source": [
        "from sklearn.metrics import confusion_matrix\n",
        "import pandas as pd\n",
        "\n",
        "confusion_df = pd.DataFrame(confusion_matrix(y_test, final_svc_poly.predict(X_test)),\n",
        "             columns=[\"Predicted Class \" + str(class_name) for class_name in [0,1]],\n",
        "             index = [\"Class \" + str(class_name) for class_name in [0,1]])\n",
        "\n",
        "print(confusion_df)\n"
      ],
      "execution_count": 0,
      "outputs": [
        {
          "output_type": "stream",
          "text": [
            "         Predicted Class 0  Predicted Class 1\n",
            "Class 0                 94                  5\n",
            "Class 1                  2                 36\n"
          ],
          "name": "stdout"
        }
      ]
    },
    {
      "cell_type": "markdown",
      "metadata": {
        "id": "OirS8-2RmcR_",
        "colab_type": "text"
      },
      "source": [
        "#### 2.A) Are there more false positives or false negatives? Is this good or bad?"
      ]
    },
    {
      "cell_type": "code",
      "metadata": {
        "id": "qrwNRn1TmcSA",
        "colab_type": "code",
        "colab": {}
      },
      "source": [
        "# A: ## \n",
        "\n",
        "# In a binary classification problem, Class 0 is considered as False and Class 1 as True.\n",
        "# Now, When compared to both False positives and False Negatives. There are more number of false positives.\n",
        "# In our case, in breast cancer problem. We got less number of false negative it is good. But we should try to minimize it further if possible.\n",
        "# There are more number of false positive. Which means, a patient had no cancer but model predicted  as he had cancer.\n",
        "# This is good but the model has more in number for type-1 error."
      ],
      "execution_count": 0,
      "outputs": []
    },
    {
      "cell_type": "markdown",
      "metadata": {
        "id": "07kc10K0mcSB",
        "colab_type": "text"
      },
      "source": [
        "### 3) Compare SVM and logistic regression using cars' dataset.\n",
        "\n",
        "You should work on the following:\n",
        "\n",
        "- With default hyperparameters, compare the performance of SVM vs. Logistic Regression\n",
        "- What choice of kernel would give SVM the best performance\n",
        "\n",
        "Use the following to discuss performance\n",
        "- The mean value of cross-validate scores.\n",
        "- Examine confusion matrices and classification reports.\n"
      ]
    },
    {
      "cell_type": "code",
      "metadata": {
        "id": "NfF4PqSRmcSC",
        "colab_type": "code",
        "outputId": "ed3b7e1a-13e9-43ed-f252-56dd9f05d2f1",
        "colab": {
          "base_uri": "https://localhost:8080/",
          "height": 107
        }
      },
      "source": [
        "car = pd.read_csv('car.csv')\n",
        "car.head(2)"
      ],
      "execution_count": 0,
      "outputs": [
        {
          "output_type": "execute_result",
          "data": {
            "text/html": [
              "<div>\n",
              "<style scoped>\n",
              "    .dataframe tbody tr th:only-of-type {\n",
              "        vertical-align: middle;\n",
              "    }\n",
              "\n",
              "    .dataframe tbody tr th {\n",
              "        vertical-align: top;\n",
              "    }\n",
              "\n",
              "    .dataframe thead th {\n",
              "        text-align: right;\n",
              "    }\n",
              "</style>\n",
              "<table border=\"1\" class=\"dataframe\">\n",
              "  <thead>\n",
              "    <tr style=\"text-align: right;\">\n",
              "      <th></th>\n",
              "      <th>buying</th>\n",
              "      <th>maint</th>\n",
              "      <th>doors</th>\n",
              "      <th>persons</th>\n",
              "      <th>lug_boot</th>\n",
              "      <th>safety</th>\n",
              "      <th>acceptability</th>\n",
              "    </tr>\n",
              "  </thead>\n",
              "  <tbody>\n",
              "    <tr>\n",
              "      <th>0</th>\n",
              "      <td>vhigh</td>\n",
              "      <td>vhigh</td>\n",
              "      <td>2</td>\n",
              "      <td>2</td>\n",
              "      <td>small</td>\n",
              "      <td>low</td>\n",
              "      <td>unacc</td>\n",
              "    </tr>\n",
              "    <tr>\n",
              "      <th>1</th>\n",
              "      <td>vhigh</td>\n",
              "      <td>vhigh</td>\n",
              "      <td>2</td>\n",
              "      <td>2</td>\n",
              "      <td>small</td>\n",
              "      <td>med</td>\n",
              "      <td>unacc</td>\n",
              "    </tr>\n",
              "  </tbody>\n",
              "</table>\n",
              "</div>"
            ],
            "text/plain": [
              "  buying  maint doors persons lug_boot safety acceptability\n",
              "0  vhigh  vhigh     2       2    small    low         unacc\n",
              "1  vhigh  vhigh     2       2    small    med         unacc"
            ]
          },
          "metadata": {
            "tags": []
          },
          "execution_count": 24
        }
      ]
    },
    {
      "cell_type": "code",
      "metadata": {
        "id": "hva7uLHnnG4D",
        "colab_type": "code",
        "outputId": "2b099d58-6012-4b65-c44f-be3bbcefec1a",
        "colab": {
          "base_uri": "https://localhost:8080/",
          "height": 230
        }
      },
      "source": [
        "car.info()"
      ],
      "execution_count": 0,
      "outputs": [
        {
          "output_type": "stream",
          "text": [
            "<class 'pandas.core.frame.DataFrame'>\n",
            "RangeIndex: 1728 entries, 0 to 1727\n",
            "Data columns (total 7 columns):\n",
            "buying           1728 non-null object\n",
            "maint            1728 non-null object\n",
            "doors            1728 non-null object\n",
            "persons          1728 non-null object\n",
            "lug_boot         1728 non-null object\n",
            "safety           1728 non-null object\n",
            "acceptability    1728 non-null object\n",
            "dtypes: object(7)\n",
            "memory usage: 94.6+ KB\n"
          ],
          "name": "stdout"
        }
      ]
    },
    {
      "cell_type": "code",
      "metadata": {
        "id": "DH2YgnERmcSF",
        "colab_type": "code",
        "colab": {}
      },
      "source": [
        "# A:\n",
        "\n",
        "from sklearn.preprocessing import LabelEncoder\n",
        "Y = LabelEncoder().fit_transform(car['acceptability'])\n",
        "\n",
        "x = pd.get_dummies(car.drop(['acceptability'],axis = 1))\n",
        "\n",
        "#car.sample(3)\n",
        "from sklearn.model_selection import train_test_split\n",
        "\n",
        "x_train,x_test,y_train,y_test=train_test_split(x,Y,test_size=0.3,random_state= 42)\n"
      ],
      "execution_count": 0,
      "outputs": []
    },
    {
      "cell_type": "code",
      "metadata": {
        "id": "-P0cxtwMi6L2",
        "colab_type": "code",
        "outputId": "239cb3da-15f4-48e5-d71e-02e66b119fae",
        "colab": {
          "base_uri": "https://localhost:8080/",
          "height": 87
        }
      },
      "source": [
        "\n",
        "\n",
        "logreg = LogisticRegression()\n",
        "print(\"Logistic Regression:\",cross_val_score(logreg, x,Y, cv=5, scoring='accuracy').mean())\n",
        "\n",
        "svc = SVC(kernel = 'linear')        # linear\n",
        "print( \"SVM with linear kernel:\",cross_val_score(svc, x, Y, cv=5, scoring='accuracy').mean())\n",
        "\n",
        "poly_svc = SVC(kernel = 'poly')#, degree = 1)        #  polys\n",
        "\n",
        "print(\"SVM with poly kernel:\",cross_val_score(poly_svc, x,Y, cv=5, scoring='accuracy').mean())\n",
        "\n",
        "\n",
        "rbf_svc = SVC(kernel = 'rbf')#,C= 0.1)           # rbf\n",
        "print(\"SVM with rbf kernel:\",cross_val_score(rbf_svc, x, Y, cv=5, scoring='accuracy').mean())\n"
      ],
      "execution_count": 0,
      "outputs": [
        {
          "output_type": "stream",
          "text": [
            "Logistic Regression: 0.7586537168974324\n",
            "SVM with linear kernel: 0.8033573060895283\n",
            "SVM with poly kernel: 0.7002352466729399\n",
            "SVM with rbf kernel: 0.7511258233633553\n"
          ],
          "name": "stdout"
        }
      ]
    },
    {
      "cell_type": "code",
      "metadata": {
        "id": "JlVEZZY5NqLZ",
        "colab_type": "code",
        "colab": {}
      },
      "source": [
        "### We can see from above models that SVM with linear kernel performed well,which has an accuracy over 0.803 where as logistic regression has 0.75"
      ],
      "execution_count": 0,
      "outputs": []
    },
    {
      "cell_type": "code",
      "metadata": {
        "id": "0Vx_1M71NxOO",
        "colab_type": "code",
        "colab": {}
      },
      "source": [
        "from sklearn.model_selection import cross_val_predict\n",
        "y_pred1=cross_val_predict(svc,x_test,y_test)"
      ],
      "execution_count": 0,
      "outputs": []
    },
    {
      "cell_type": "code",
      "metadata": {
        "id": "opBGBO-dOvxp",
        "colab_type": "code",
        "outputId": "d367a0dc-6a45-43f4-c460-76b64eb784fc",
        "colab": {
          "base_uri": "https://localhost:8080/",
          "height": 70
        }
      },
      "source": [
        "from sklearn.metrics import precision_score\n",
        "from sklearn.metrics import recall_score\n",
        "from sklearn.metrics import f1_score\n",
        "\n",
        "print(\"Precision score: {}\".format(precision_score(y_test,y_pred1,average='micro')))\n",
        "\n",
        "print(\"Recall score: {}\".format(recall_score(y_test,y_pred1,average='micro')))\n",
        "\n",
        "print(\"F1 Score: {}\".format(f1_score(y_test,y_pred1,average='micro')))\n",
        "\n"
      ],
      "execution_count": 0,
      "outputs": [
        {
          "output_type": "stream",
          "text": [
            "Precision score: 0.9036608863198459\n",
            "Recall score: 0.9036608863198459\n",
            "F1 Score: 0.9036608863198459\n"
          ],
          "name": "stdout"
        }
      ]
    },
    {
      "cell_type": "code",
      "metadata": {
        "id": "VK5uOpceOenY",
        "colab_type": "code",
        "outputId": "a67198bd-e5b5-4c67-dd23-f02de227d4eb",
        "colab": {
          "base_uri": "https://localhost:8080/",
          "height": 212
        }
      },
      "source": [
        "from sklearn.metrics import classification_report\n",
        "\n",
        "print(classification_report(y_test,y_pred1))"
      ],
      "execution_count": 0,
      "outputs": [
        {
          "output_type": "stream",
          "text": [
            "              precision    recall  f1-score   support\n",
            "\n",
            "           0       0.77      0.84      0.80       118\n",
            "           1       0.62      0.53      0.57        19\n",
            "           2       0.97      0.95      0.96       358\n",
            "           3       0.88      0.88      0.88        24\n",
            "\n",
            "   micro avg       0.90      0.90      0.90       519\n",
            "   macro avg       0.81      0.80      0.80       519\n",
            "weighted avg       0.91      0.90      0.90       519\n",
            "\n"
          ],
          "name": "stdout"
        }
      ]
    },
    {
      "cell_type": "code",
      "metadata": {
        "id": "Zy6mqZnzOioJ",
        "colab_type": "code",
        "outputId": "78110d42-0af7-4358-926d-2a8611a29b17",
        "colab": {
          "base_uri": "https://localhost:8080/",
          "height": 87
        }
      },
      "source": [
        "from sklearn.metrics import confusion_matrix\n",
        "import pandas as pd\n",
        "confusion_matrix(y_test,y_pred1)"
      ],
      "execution_count": 0,
      "outputs": [
        {
          "output_type": "execute_result",
          "data": {
            "text/plain": [
              "array([[ 99,   6,  12,   1],\n",
              "       [  7,  10,   0,   2],\n",
              "       [ 19,   0, 339,   0],\n",
              "       [  3,   0,   0,  21]])"
            ]
          },
          "metadata": {
            "tags": []
          },
          "execution_count": 32
        }
      ]
    },
    {
      "cell_type": "code",
      "metadata": {
        "id": "QmZeUdYXOj14",
        "colab_type": "code",
        "outputId": "459d2f3b-8c29-4119-9bcd-27642f57c6bf",
        "colab": {
          "base_uri": "https://localhost:8080/",
          "height": 212
        }
      },
      "source": [
        "confusion_df = pd.DataFrame(confusion_matrix(y_test,y_pred1),\n",
        "           columns=[\"Predicted Class \" + str(class_name) for class_name in [0,1,2,3]],\n",
        "           index = [\"Class \" + str(class_name) for class_name in [0,1,2,3]])\n",
        "\n",
        "print(confusion_df)"
      ],
      "execution_count": 0,
      "outputs": [
        {
          "output_type": "stream",
          "text": [
            "         Predicted Class 0  Predicted Class 1  Predicted Class 2  \\\n",
            "Class 0                 99                  6                 12   \n",
            "Class 1                  7                 10                  0   \n",
            "Class 2                 19                  0                339   \n",
            "Class 3                  3                  0                  0   \n",
            "\n",
            "         Predicted Class 3  \n",
            "Class 0                  1  \n",
            "Class 1                  2  \n",
            "Class 2                  0  \n",
            "Class 3                 21  \n"
          ],
          "name": "stdout"
        }
      ]
    },
    {
      "cell_type": "code",
      "metadata": {
        "id": "tcVeiPMhH8Gf",
        "colab_type": "code",
        "colab": {}
      },
      "source": [
        "# In recall metric, the fraction of positives, were identified as 0.4 for one class and the rest of them has 0.53 with weighted average of 0.9\n",
        "# The F1 score is greater than 70% for 3 classes and 48% for one but the weighted average of 0.56\n",
        "# The accuracy of positive predictions is more than 60% for all classes in linear SVM kernel, with an weighted  average over 0.91\n",
        "# From Our confusion matrix, our model has predicted class 2 more accurately compared to rest other classes"
      ],
      "execution_count": 0,
      "outputs": []
    }
  ]
}