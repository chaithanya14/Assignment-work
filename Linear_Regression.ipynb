{
  "nbformat": 4,
  "nbformat_minor": 0,
  "metadata": {
    "colab": {
      "name": "Linear Regression.ipynb",
      "version": "0.3.2",
      "provenance": [],
      "collapsed_sections": []
    },
    "kernelspec": {
      "display_name": "Python 3",
      "language": "python",
      "name": "python3"
    }
  },
  "cells": [
    {
      "cell_type": "markdown",
      "metadata": {
        "id": "5U0irMAUgyF4",
        "colab_type": "text"
      },
      "source": [
        "\n",
        "# HW3: Simple Linear Regression with Sacramento Real Estate Data\n",
        "\n",
        "---\n",
        "\n",
        "In this HW you will apply your EDA skills and practice constructing simple linear regressions using a dataset on Sacramento real estate sales.  The dataset contains information on qualities of the property, location of the property, and time of sale.\n",
        "\n",
        "**You are expected to create and enter MULTIPLE relevant cells in each part.**   \n",
        "**Explain with markdown cells any reason that support your finding or action.**   \n",
        "**Points may be deducted if no appropriate interpretation is provided.**\n",
        "\n",
        "*you may download the dataset used in this HW from here: 1RW87ZmENMHrS8K9iPPwmnHfYxmb-w0Qr*\n"
      ]
    },
    {
      "cell_type": "markdown",
      "metadata": {
        "id": "oK1Ta1TSgyF6",
        "colab_type": "text"
      },
      "source": [
        "### 1. Read in the Sacramento housing data set."
      ]
    },
    {
      "cell_type": "code",
      "metadata": {
        "colab_type": "code",
        "id": "1WbzJM4cYp1I",
        "colab": {}
      },
      "source": [
        "#1 Code to read csv file into colaboratory:\n",
        "!pip install -U -q PyDrive\n",
        "from pydrive.auth import GoogleAuth\n",
        "from pydrive.drive import GoogleDrive\n",
        "from google.colab import auth\n",
        "from oauth2client.client import GoogleCredentials\n",
        "\n",
        "# 1. Authenticate and create the PyDrive client.\n",
        "auth.authenticate_user()\n",
        "gauth = GoogleAuth()\n",
        "gauth.credentials = GoogleCredentials.get_application_default()\n",
        "drive = GoogleDrive(gauth)"
      ],
      "execution_count": 0,
      "outputs": []
    },
    {
      "cell_type": "code",
      "metadata": {
        "colab_type": "code",
        "id": "ubjxW9IrYrMG",
        "colab": {}
      },
      "source": [
        "#2. Get the file\n",
        "#make sure you upload all your data files to your Google drive and change share->Advanced->change->anyone with the link can view\n",
        "downloaded = drive.CreateFile({'id':'17HbHBVlcAsqs0Yi7IGnZAt5u2-sl9B7L'}) # replace the id with id of file you want to access\n",
        "downloaded.GetContentFile('drug-use-by-age.csv') \n",
        "downloaded = drive.CreateFile({'id':'1RW87ZmENMHrS8K9iPPwmnHfYxmb-w0Qr'}) # replace the id with id of file you want to access\n",
        "downloaded.GetContentFile('sacramento_real_estate_transactions.csv')\n"
      ],
      "execution_count": 0,
      "outputs": []
    },
    {
      "cell_type": "code",
      "metadata": {
        "id": "YltSaKkigyF7",
        "colab_type": "code",
        "colab": {}
      },
      "source": [
        "sac_csv = 'sacramento_real_estate_transactions.csv'"
      ],
      "execution_count": 0,
      "outputs": []
    },
    {
      "cell_type": "code",
      "metadata": {
        "id": "C0Sbc2tdgyF-",
        "colab_type": "code",
        "colab": {}
      },
      "source": [
        "import pandas as pd\n",
        "import seaborn as sns\n",
        "import matplotlib.pyplot as plt\n",
        "import numpy as np\n",
        "import scipy.stats\n",
        "from sklearn.metrics import mean_squared_error \n",
        "\n",
        "% matplotlib inline"
      ],
      "execution_count": 0,
      "outputs": []
    },
    {
      "cell_type": "markdown",
      "metadata": {
        "id": "64FoGyiCgyGA",
        "colab_type": "text"
      },
      "source": [
        "### 2. Conduct exploratory data analysis (EDA) on this data set. \n",
        "\n",
        "**Show how you exolore this dataset     \n",
        "Explain any steps you take to clean/transform your data.   \n",
        "Do not transform your data without any reasoning.**"
      ]
    },
    {
      "cell_type": "markdown",
      "metadata": {
        "id": "AJyabJ4e-ZiK",
        "colab_type": "text"
      },
      "source": [
        "## Exploratory Data Analysis"
      ]
    },
    {
      "cell_type": "markdown",
      "metadata": {
        "id": "OzJ_MF_6-fz9",
        "colab_type": "text"
      },
      "source": [
        "Read csv data using pandas "
      ]
    },
    {
      "cell_type": "code",
      "metadata": {
        "id": "ppNWv4M6gyGB",
        "colab_type": "code",
        "outputId": "2dcfa5a3-97b5-41f6-c687-95be79f151aa",
        "colab": {
          "base_uri": "https://localhost:8080/",
          "height": 197
        }
      },
      "source": [
        "# A:\n",
        "housing = pd.read_csv('sacramento_real_estate_transactions.csv')\n",
        "housing.head(5)"
      ],
      "execution_count": 0,
      "outputs": [
        {
          "output_type": "execute_result",
          "data": {
            "text/html": [
              "<div>\n",
              "<style scoped>\n",
              "    .dataframe tbody tr th:only-of-type {\n",
              "        vertical-align: middle;\n",
              "    }\n",
              "\n",
              "    .dataframe tbody tr th {\n",
              "        vertical-align: top;\n",
              "    }\n",
              "\n",
              "    .dataframe thead th {\n",
              "        text-align: right;\n",
              "    }\n",
              "</style>\n",
              "<table border=\"1\" class=\"dataframe\">\n",
              "  <thead>\n",
              "    <tr style=\"text-align: right;\">\n",
              "      <th></th>\n",
              "      <th>street</th>\n",
              "      <th>city</th>\n",
              "      <th>zip</th>\n",
              "      <th>state</th>\n",
              "      <th>beds</th>\n",
              "      <th>baths</th>\n",
              "      <th>sq__ft</th>\n",
              "      <th>type</th>\n",
              "      <th>sale_date</th>\n",
              "      <th>price</th>\n",
              "      <th>latitude</th>\n",
              "      <th>longitude</th>\n",
              "    </tr>\n",
              "  </thead>\n",
              "  <tbody>\n",
              "    <tr>\n",
              "      <th>0</th>\n",
              "      <td>3526 HIGH ST</td>\n",
              "      <td>SACRAMENTO</td>\n",
              "      <td>95838</td>\n",
              "      <td>CA</td>\n",
              "      <td>2</td>\n",
              "      <td>1</td>\n",
              "      <td>836</td>\n",
              "      <td>Residential</td>\n",
              "      <td>Wed May 21 00:00:00 EDT 2008</td>\n",
              "      <td>59222</td>\n",
              "      <td>38.631913</td>\n",
              "      <td>-121.434879</td>\n",
              "    </tr>\n",
              "    <tr>\n",
              "      <th>1</th>\n",
              "      <td>51 OMAHA CT</td>\n",
              "      <td>SACRAMENTO</td>\n",
              "      <td>95823</td>\n",
              "      <td>CA</td>\n",
              "      <td>3</td>\n",
              "      <td>1</td>\n",
              "      <td>1167</td>\n",
              "      <td>Residential</td>\n",
              "      <td>Wed May 21 00:00:00 EDT 2008</td>\n",
              "      <td>68212</td>\n",
              "      <td>38.478902</td>\n",
              "      <td>-121.431028</td>\n",
              "    </tr>\n",
              "    <tr>\n",
              "      <th>2</th>\n",
              "      <td>2796 BRANCH ST</td>\n",
              "      <td>SACRAMENTO</td>\n",
              "      <td>95815</td>\n",
              "      <td>CA</td>\n",
              "      <td>2</td>\n",
              "      <td>1</td>\n",
              "      <td>796</td>\n",
              "      <td>Residential</td>\n",
              "      <td>Wed May 21 00:00:00 EDT 2008</td>\n",
              "      <td>68880</td>\n",
              "      <td>38.618305</td>\n",
              "      <td>-121.443839</td>\n",
              "    </tr>\n",
              "    <tr>\n",
              "      <th>3</th>\n",
              "      <td>2805 JANETTE WAY</td>\n",
              "      <td>SACRAMENTO</td>\n",
              "      <td>95815</td>\n",
              "      <td>CA</td>\n",
              "      <td>2</td>\n",
              "      <td>1</td>\n",
              "      <td>852</td>\n",
              "      <td>Residential</td>\n",
              "      <td>Wed May 21 00:00:00 EDT 2008</td>\n",
              "      <td>69307</td>\n",
              "      <td>38.616835</td>\n",
              "      <td>-121.439146</td>\n",
              "    </tr>\n",
              "    <tr>\n",
              "      <th>4</th>\n",
              "      <td>6001 MCMAHON DR</td>\n",
              "      <td>SACRAMENTO</td>\n",
              "      <td>95824</td>\n",
              "      <td>CA</td>\n",
              "      <td>2</td>\n",
              "      <td>1</td>\n",
              "      <td>797</td>\n",
              "      <td>Residential</td>\n",
              "      <td>Wed May 21 00:00:00 EDT 2008</td>\n",
              "      <td>81900</td>\n",
              "      <td>38.519470</td>\n",
              "      <td>-121.435768</td>\n",
              "    </tr>\n",
              "  </tbody>\n",
              "</table>\n",
              "</div>"
            ],
            "text/plain": [
              "             street        city    zip state  beds  baths  sq__ft  \\\n",
              "0      3526 HIGH ST  SACRAMENTO  95838    CA     2      1     836   \n",
              "1       51 OMAHA CT  SACRAMENTO  95823    CA     3      1    1167   \n",
              "2    2796 BRANCH ST  SACRAMENTO  95815    CA     2      1     796   \n",
              "3  2805 JANETTE WAY  SACRAMENTO  95815    CA     2      1     852   \n",
              "4   6001 MCMAHON DR  SACRAMENTO  95824    CA     2      1     797   \n",
              "\n",
              "          type                     sale_date  price   latitude   longitude  \n",
              "0  Residential  Wed May 21 00:00:00 EDT 2008  59222  38.631913 -121.434879  \n",
              "1  Residential  Wed May 21 00:00:00 EDT 2008  68212  38.478902 -121.431028  \n",
              "2  Residential  Wed May 21 00:00:00 EDT 2008  68880  38.618305 -121.443839  \n",
              "3  Residential  Wed May 21 00:00:00 EDT 2008  69307  38.616835 -121.439146  \n",
              "4  Residential  Wed May 21 00:00:00 EDT 2008  81900  38.519470 -121.435768  "
            ]
          },
          "metadata": {
            "tags": []
          },
          "execution_count": 6
        }
      ]
    },
    {
      "cell_type": "markdown",
      "metadata": {
        "id": "XQOuyl8e-qds",
        "colab_type": "text"
      },
      "source": [
        "#### Check the datatype\n"
      ]
    },
    {
      "cell_type": "markdown",
      "metadata": {
        "id": "bw2DXHP4-2Ha",
        "colab_type": "text"
      },
      "source": [
        "It is necessary to look over the shape of the dataset before you start analyzing on the data.\n",
        "\n",
        "#### The Housing data consists of 985 rows and 12 columns."
      ]
    },
    {
      "cell_type": "code",
      "metadata": {
        "id": "t9ibUYZT_ATm",
        "colab_type": "code",
        "outputId": "6264a5e2-a02e-41c9-e372-33f7eee37a65",
        "colab": {
          "base_uri": "https://localhost:8080/",
          "height": 34
        }
      },
      "source": [
        "## Shape of the dataset\n",
        "housing.shape"
      ],
      "execution_count": 0,
      "outputs": [
        {
          "output_type": "execute_result",
          "data": {
            "text/plain": [
              "(985, 12)"
            ]
          },
          "metadata": {
            "tags": []
          },
          "execution_count": 7
        }
      ]
    },
    {
      "cell_type": "markdown",
      "metadata": {
        "id": "KliPeb1a_ho_",
        "colab_type": "text"
      },
      "source": [
        "#### Look for null values in the dataset"
      ]
    },
    {
      "cell_type": "code",
      "metadata": {
        "id": "YiwTVYMz_cy0",
        "colab_type": "code",
        "outputId": "8f0ec9d6-8b07-4af9-d49b-4be2d145fd5c",
        "colab": {
          "base_uri": "https://localhost:8080/",
          "height": 247
        }
      },
      "source": [
        "housing.isnull().sum()"
      ],
      "execution_count": 0,
      "outputs": [
        {
          "output_type": "execute_result",
          "data": {
            "text/plain": [
              "street       0\n",
              "city         0\n",
              "zip          0\n",
              "state        0\n",
              "beds         0\n",
              "baths        0\n",
              "sq__ft       0\n",
              "type         0\n",
              "sale_date    0\n",
              "price        0\n",
              "latitude     0\n",
              "longitude    0\n",
              "dtype: int64"
            ]
          },
          "metadata": {
            "tags": []
          },
          "execution_count": 8
        }
      ]
    },
    {
      "cell_type": "markdown",
      "metadata": {
        "id": "koMRKDcJ_tGv",
        "colab_type": "text"
      },
      "source": [
        "#### There are no null values in the dataset, which is a good sign for our analysis\n"
      ]
    },
    {
      "cell_type": "markdown",
      "metadata": {
        "id": "G5FSTUsB_6D6",
        "colab_type": "text"
      },
      "source": [
        " Check the datatypes in the dataframe."
      ]
    },
    {
      "cell_type": "code",
      "metadata": {
        "id": "c36bOaOUehNY",
        "colab_type": "code",
        "outputId": "70ada8e1-b944-4cc2-80ba-29caff9081a2",
        "colab": {
          "base_uri": "https://localhost:8080/",
          "height": 318
        }
      },
      "source": [
        "housing.info()"
      ],
      "execution_count": 0,
      "outputs": [
        {
          "output_type": "stream",
          "text": [
            "<class 'pandas.core.frame.DataFrame'>\n",
            "RangeIndex: 985 entries, 0 to 984\n",
            "Data columns (total 12 columns):\n",
            "street       985 non-null object\n",
            "city         985 non-null object\n",
            "zip          985 non-null int64\n",
            "state        985 non-null object\n",
            "beds         985 non-null int64\n",
            "baths        985 non-null int64\n",
            "sq__ft       985 non-null int64\n",
            "type         985 non-null object\n",
            "sale_date    985 non-null object\n",
            "price        985 non-null int64\n",
            "latitude     985 non-null float64\n",
            "longitude    985 non-null float64\n",
            "dtypes: float64(2), int64(5), object(5)\n",
            "memory usage: 92.4+ KB\n"
          ],
          "name": "stdout"
        }
      ]
    },
    {
      "cell_type": "markdown",
      "metadata": {
        "id": "daMB1ZANgHjv",
        "colab_type": "text"
      },
      "source": [
        "####  Here, there are 2 floats, 5 integers and 5 objects were present\n",
        "\n",
        "Street, City, State,Type and Sale_date were the string objects"
      ]
    },
    {
      "cell_type": "code",
      "metadata": {
        "id": "u07fsNDhfzUU",
        "colab_type": "code",
        "colab": {}
      },
      "source": [
        "## Date is a column in the dataframe\n",
        "## Let's convert it into index\n",
        "#Set date as index\n",
        "housing.set_index('sale_date', inplace=True)\n"
      ],
      "execution_count": 0,
      "outputs": []
    },
    {
      "cell_type": "markdown",
      "metadata": {
        "id": "3VhaO2LJv_Vk",
        "colab_type": "text"
      },
      "source": [
        "\n",
        "Here, the  sale_date can be converted into index of our dataframe. The sale_date helps us in knowing the basic information on the price with respect to date. Hence we converted it into index"
      ]
    },
    {
      "cell_type": "code",
      "metadata": {
        "id": "0ljyo-Wtv95K",
        "colab_type": "code",
        "outputId": "90b4015d-847a-4746-85a7-e735d3b129b8",
        "colab": {
          "base_uri": "https://localhost:8080/",
          "height": 70
        }
      },
      "source": [
        "\n",
        "## Lets see how many states are in \n",
        "\n",
        "housing.state.value_counts()"
      ],
      "execution_count": 0,
      "outputs": [
        {
          "output_type": "execute_result",
          "data": {
            "text/plain": [
              "CA    984\n",
              "AC      1\n",
              "Name: state, dtype: int64"
            ]
          },
          "metadata": {
            "tags": []
          },
          "execution_count": 11
        }
      ]
    },
    {
      "cell_type": "markdown",
      "metadata": {
        "id": "BWA6Xs6Tv-uJ",
        "colab_type": "text"
      },
      "source": [
        "There are 984 records with in california state and one Record is from \"AC\" which is unknown let's investigate on it."
      ]
    },
    {
      "cell_type": "code",
      "metadata": {
        "id": "39_3tLTleNvN",
        "colab_type": "code",
        "outputId": "57a7dfa7-feba-4403-cbd8-e3db471e9225",
        "colab": {
          "base_uri": "https://localhost:8080/",
          "height": 107
        }
      },
      "source": [
        "housing.loc[housing['state'] == 'AC']"
      ],
      "execution_count": 0,
      "outputs": [
        {
          "output_type": "execute_result",
          "data": {
            "text/html": [
              "<div>\n",
              "<style scoped>\n",
              "    .dataframe tbody tr th:only-of-type {\n",
              "        vertical-align: middle;\n",
              "    }\n",
              "\n",
              "    .dataframe tbody tr th {\n",
              "        vertical-align: top;\n",
              "    }\n",
              "\n",
              "    .dataframe thead th {\n",
              "        text-align: right;\n",
              "    }\n",
              "</style>\n",
              "<table border=\"1\" class=\"dataframe\">\n",
              "  <thead>\n",
              "    <tr style=\"text-align: right;\">\n",
              "      <th></th>\n",
              "      <th>street</th>\n",
              "      <th>city</th>\n",
              "      <th>zip</th>\n",
              "      <th>state</th>\n",
              "      <th>beds</th>\n",
              "      <th>baths</th>\n",
              "      <th>sq__ft</th>\n",
              "      <th>type</th>\n",
              "      <th>price</th>\n",
              "      <th>latitude</th>\n",
              "      <th>longitude</th>\n",
              "    </tr>\n",
              "    <tr>\n",
              "      <th>sale_date</th>\n",
              "      <th></th>\n",
              "      <th></th>\n",
              "      <th></th>\n",
              "      <th></th>\n",
              "      <th></th>\n",
              "      <th></th>\n",
              "      <th></th>\n",
              "      <th></th>\n",
              "      <th></th>\n",
              "      <th></th>\n",
              "      <th></th>\n",
              "    </tr>\n",
              "  </thead>\n",
              "  <tbody>\n",
              "    <tr>\n",
              "      <th>Fri May 16 00:00:00 EDT 2008</th>\n",
              "      <td>1900 DANBROOK DR</td>\n",
              "      <td>SACRAMENTO</td>\n",
              "      <td>95835</td>\n",
              "      <td>AC</td>\n",
              "      <td>1</td>\n",
              "      <td>1</td>\n",
              "      <td>-984</td>\n",
              "      <td>Condo</td>\n",
              "      <td>-210944</td>\n",
              "      <td>-121.503471</td>\n",
              "      <td>38.668433</td>\n",
              "    </tr>\n",
              "  </tbody>\n",
              "</table>\n",
              "</div>"
            ],
            "text/plain": [
              "                                        street        city    zip state  beds  \\\n",
              "sale_date                                                                       \n",
              "Fri May 16 00:00:00 EDT 2008  1900 DANBROOK DR  SACRAMENTO  95835    AC     1   \n",
              "\n",
              "                              baths  sq__ft   type   price    latitude  \\\n",
              "sale_date                                                                \n",
              "Fri May 16 00:00:00 EDT 2008      1    -984  Condo -210944 -121.503471   \n",
              "\n",
              "                              longitude  \n",
              "sale_date                                \n",
              "Fri May 16 00:00:00 EDT 2008  38.668433  "
            ]
          },
          "metadata": {
            "tags": []
          },
          "execution_count": 12
        }
      ]
    },
    {
      "cell_type": "markdown",
      "metadata": {
        "id": "BcIIiwYbGV1Y",
        "colab_type": "text"
      },
      "source": [
        "Here, if we carefully look over city we can confirm that state is 'AC' but city was Sacremento. we can make a conclusion that state name got wrong. So,we can modify it into 'CA' .    \n",
        "\n",
        "And, there are some other insights we can get from the dataset. The sq__ft can't be negative. moreover, price which should not be negative value. "
      ]
    },
    {
      "cell_type": "code",
      "metadata": {
        "id": "BuEUX_7beNzk",
        "colab_type": "code",
        "colab": {}
      },
      "source": [
        "# Replace state 'AC' into 'CA'.\n",
        "housing['state'] = ['CA' if x == 'AC' else x for x in housing['state']] \n"
      ],
      "execution_count": 0,
      "outputs": []
    },
    {
      "cell_type": "code",
      "metadata": {
        "id": "CJT4ikBrHnui",
        "colab_type": "code",
        "outputId": "09b37055-1e83-4cb1-8a88-063c62d280a5",
        "colab": {
          "base_uri": "https://localhost:8080/",
          "height": 52
        }
      },
      "source": [
        "housing.state.value_counts() # We had modified 'AC' to 'CA'. Now it become 985 records"
      ],
      "execution_count": 0,
      "outputs": [
        {
          "output_type": "execute_result",
          "data": {
            "text/plain": [
              "CA    985\n",
              "Name: state, dtype: int64"
            ]
          },
          "metadata": {
            "tags": []
          },
          "execution_count": 14
        }
      ]
    },
    {
      "cell_type": "markdown",
      "metadata": {
        "id": "FY1N9qqHIV5t",
        "colab_type": "text"
      },
      "source": [
        "Let's get into another column. Lets see what types of houses are available in the dataset"
      ]
    },
    {
      "cell_type": "code",
      "metadata": {
        "id": "FBByAcwyH3bO",
        "colab_type": "code",
        "outputId": "82879a71-f4ba-4693-f864-9200a0760156",
        "colab": {
          "base_uri": "https://localhost:8080/",
          "height": 105
        }
      },
      "source": [
        "housing.type.value_counts() ## There is one 'Unknown', 'type' house"
      ],
      "execution_count": 0,
      "outputs": [
        {
          "output_type": "execute_result",
          "data": {
            "text/plain": [
              "Residential     917\n",
              "Condo            54\n",
              "Multi-Family     13\n",
              "Unkown            1\n",
              "Name: type, dtype: int64"
            ]
          },
          "metadata": {
            "tags": []
          },
          "execution_count": 15
        }
      ]
    },
    {
      "cell_type": "markdown",
      "metadata": {
        "id": "3OXXz2VP93X3",
        "colab_type": "text"
      },
      "source": [
        "If we observe the \"type\" \"Unkown\" in the dataset. There are two ways to deal with this. Either remove the whole record from the dataset or replace the \"type\" with some other known type."
      ]
    },
    {
      "cell_type": "code",
      "metadata": {
        "id": "vXQgD2RTH3fP",
        "colab_type": "code",
        "outputId": "2b0da701-205d-4918-d6c7-b602d9b2f2fb",
        "colab": {
          "base_uri": "https://localhost:8080/",
          "height": 107
        }
      },
      "source": [
        "housing.loc[housing['type'] == 'Unkown']"
      ],
      "execution_count": 0,
      "outputs": [
        {
          "output_type": "execute_result",
          "data": {
            "text/html": [
              "<div>\n",
              "<style scoped>\n",
              "    .dataframe tbody tr th:only-of-type {\n",
              "        vertical-align: middle;\n",
              "    }\n",
              "\n",
              "    .dataframe tbody tr th {\n",
              "        vertical-align: top;\n",
              "    }\n",
              "\n",
              "    .dataframe thead th {\n",
              "        text-align: right;\n",
              "    }\n",
              "</style>\n",
              "<table border=\"1\" class=\"dataframe\">\n",
              "  <thead>\n",
              "    <tr style=\"text-align: right;\">\n",
              "      <th></th>\n",
              "      <th>street</th>\n",
              "      <th>city</th>\n",
              "      <th>zip</th>\n",
              "      <th>state</th>\n",
              "      <th>beds</th>\n",
              "      <th>baths</th>\n",
              "      <th>sq__ft</th>\n",
              "      <th>type</th>\n",
              "      <th>price</th>\n",
              "      <th>latitude</th>\n",
              "      <th>longitude</th>\n",
              "    </tr>\n",
              "    <tr>\n",
              "      <th>sale_date</th>\n",
              "      <th></th>\n",
              "      <th></th>\n",
              "      <th></th>\n",
              "      <th></th>\n",
              "      <th></th>\n",
              "      <th></th>\n",
              "      <th></th>\n",
              "      <th></th>\n",
              "      <th></th>\n",
              "      <th></th>\n",
              "      <th></th>\n",
              "    </tr>\n",
              "  </thead>\n",
              "  <tbody>\n",
              "    <tr>\n",
              "      <th>Fri May 16 00:00:00 EDT 2008</th>\n",
              "      <td>6007 MARYBELLE LN</td>\n",
              "      <td>SHINGLE SPRINGS</td>\n",
              "      <td>95682</td>\n",
              "      <td>CA</td>\n",
              "      <td>0</td>\n",
              "      <td>0</td>\n",
              "      <td>0</td>\n",
              "      <td>Unkown</td>\n",
              "      <td>275000</td>\n",
              "      <td>38.64347</td>\n",
              "      <td>-120.888183</td>\n",
              "    </tr>\n",
              "  </tbody>\n",
              "</table>\n",
              "</div>"
            ],
            "text/plain": [
              "                                         street             city    zip state  \\\n",
              "sale_date                                                                       \n",
              "Fri May 16 00:00:00 EDT 2008  6007 MARYBELLE LN  SHINGLE SPRINGS  95682    CA   \n",
              "\n",
              "                              beds  baths  sq__ft    type   price  latitude  \\\n",
              "sale_date                                                                     \n",
              "Fri May 16 00:00:00 EDT 2008     0      0       0  Unkown  275000  38.64347   \n",
              "\n",
              "                               longitude  \n",
              "sale_date                                 \n",
              "Fri May 16 00:00:00 EDT 2008 -120.888183  "
            ]
          },
          "metadata": {
            "tags": []
          },
          "execution_count": 16
        }
      ]
    },
    {
      "cell_type": "markdown",
      "metadata": {
        "id": "VZRJiENKA8xR",
        "colab_type": "text"
      },
      "source": [
        "Here, we have very less number of records. Removing records is not a good idea. So we can replace the value.\n",
        "\n",
        "#### Let's see what types of houses are there in the zip '95682' ."
      ]
    },
    {
      "cell_type": "code",
      "metadata": {
        "id": "Q1r9V3DqH3om",
        "colab_type": "code",
        "outputId": "b95b1830-9ce3-4abe-a75c-985aaad79c43",
        "colab": {
          "base_uri": "https://localhost:8080/",
          "height": 377
        }
      },
      "source": [
        "housing.loc[housing['zip'] == 95682]"
      ],
      "execution_count": 0,
      "outputs": [
        {
          "output_type": "execute_result",
          "data": {
            "text/html": [
              "<div>\n",
              "<style scoped>\n",
              "    .dataframe tbody tr th:only-of-type {\n",
              "        vertical-align: middle;\n",
              "    }\n",
              "\n",
              "    .dataframe tbody tr th {\n",
              "        vertical-align: top;\n",
              "    }\n",
              "\n",
              "    .dataframe thead th {\n",
              "        text-align: right;\n",
              "    }\n",
              "</style>\n",
              "<table border=\"1\" class=\"dataframe\">\n",
              "  <thead>\n",
              "    <tr style=\"text-align: right;\">\n",
              "      <th></th>\n",
              "      <th>street</th>\n",
              "      <th>city</th>\n",
              "      <th>zip</th>\n",
              "      <th>state</th>\n",
              "      <th>beds</th>\n",
              "      <th>baths</th>\n",
              "      <th>sq__ft</th>\n",
              "      <th>type</th>\n",
              "      <th>price</th>\n",
              "      <th>latitude</th>\n",
              "      <th>longitude</th>\n",
              "    </tr>\n",
              "    <tr>\n",
              "      <th>sale_date</th>\n",
              "      <th></th>\n",
              "      <th></th>\n",
              "      <th></th>\n",
              "      <th></th>\n",
              "      <th></th>\n",
              "      <th></th>\n",
              "      <th></th>\n",
              "      <th></th>\n",
              "      <th></th>\n",
              "      <th></th>\n",
              "      <th></th>\n",
              "    </tr>\n",
              "  </thead>\n",
              "  <tbody>\n",
              "    <tr>\n",
              "      <th>Tue May 20 00:00:00 EDT 2008</th>\n",
              "      <td>2778 KAWEAH CT</td>\n",
              "      <td>CAMERON PARK</td>\n",
              "      <td>95682</td>\n",
              "      <td>CA</td>\n",
              "      <td>3</td>\n",
              "      <td>1</td>\n",
              "      <td>0</td>\n",
              "      <td>Residential</td>\n",
              "      <td>201000</td>\n",
              "      <td>38.694052</td>\n",
              "      <td>-120.995589</td>\n",
              "    </tr>\n",
              "    <tr>\n",
              "      <th>Tue May 20 00:00:00 EDT 2008</th>\n",
              "      <td>3361 BOW MAR CT</td>\n",
              "      <td>CAMERON PARK</td>\n",
              "      <td>95682</td>\n",
              "      <td>CA</td>\n",
              "      <td>2</td>\n",
              "      <td>2</td>\n",
              "      <td>0</td>\n",
              "      <td>Residential</td>\n",
              "      <td>210000</td>\n",
              "      <td>38.694370</td>\n",
              "      <td>-120.996602</td>\n",
              "    </tr>\n",
              "    <tr>\n",
              "      <th>Tue May 20 00:00:00 EDT 2008</th>\n",
              "      <td>3429 FERNBROOK CT</td>\n",
              "      <td>CAMERON PARK</td>\n",
              "      <td>95682</td>\n",
              "      <td>CA</td>\n",
              "      <td>3</td>\n",
              "      <td>2</td>\n",
              "      <td>2016</td>\n",
              "      <td>Residential</td>\n",
              "      <td>399000</td>\n",
              "      <td>38.664225</td>\n",
              "      <td>-121.007173</td>\n",
              "    </tr>\n",
              "    <tr>\n",
              "      <th>Mon May 19 00:00:00 EDT 2008</th>\n",
              "      <td>2809 LOON CT</td>\n",
              "      <td>CAMERON PARK</td>\n",
              "      <td>95682</td>\n",
              "      <td>CA</td>\n",
              "      <td>4</td>\n",
              "      <td>2</td>\n",
              "      <td>0</td>\n",
              "      <td>Residential</td>\n",
              "      <td>423000</td>\n",
              "      <td>38.687072</td>\n",
              "      <td>-121.004729</td>\n",
              "    </tr>\n",
              "    <tr>\n",
              "      <th>Fri May 16 00:00:00 EDT 2008</th>\n",
              "      <td>3330 VILLAGE CT</td>\n",
              "      <td>CAMERON PARK</td>\n",
              "      <td>95682</td>\n",
              "      <td>CA</td>\n",
              "      <td>2</td>\n",
              "      <td>2</td>\n",
              "      <td>0</td>\n",
              "      <td>Residential</td>\n",
              "      <td>195000</td>\n",
              "      <td>38.690504</td>\n",
              "      <td>-120.996245</td>\n",
              "    </tr>\n",
              "    <tr>\n",
              "      <th>Fri May 16 00:00:00 EDT 2008</th>\n",
              "      <td>2733 YUMA CT</td>\n",
              "      <td>CAMERON PARK</td>\n",
              "      <td>95682</td>\n",
              "      <td>CA</td>\n",
              "      <td>2</td>\n",
              "      <td>2</td>\n",
              "      <td>0</td>\n",
              "      <td>Residential</td>\n",
              "      <td>215000</td>\n",
              "      <td>38.691215</td>\n",
              "      <td>-120.994949</td>\n",
              "    </tr>\n",
              "    <tr>\n",
              "      <th>Fri May 16 00:00:00 EDT 2008</th>\n",
              "      <td>6007 MARYBELLE LN</td>\n",
              "      <td>SHINGLE SPRINGS</td>\n",
              "      <td>95682</td>\n",
              "      <td>CA</td>\n",
              "      <td>0</td>\n",
              "      <td>0</td>\n",
              "      <td>0</td>\n",
              "      <td>Unkown</td>\n",
              "      <td>275000</td>\n",
              "      <td>38.643470</td>\n",
              "      <td>-120.888183</td>\n",
              "    </tr>\n",
              "    <tr>\n",
              "      <th>Fri May 16 00:00:00 EDT 2008</th>\n",
              "      <td>2818 KNOLLWOOD DR</td>\n",
              "      <td>CAMERON PARK</td>\n",
              "      <td>95682</td>\n",
              "      <td>CA</td>\n",
              "      <td>3</td>\n",
              "      <td>2</td>\n",
              "      <td>0</td>\n",
              "      <td>Residential</td>\n",
              "      <td>425000</td>\n",
              "      <td>38.669805</td>\n",
              "      <td>-120.999007</td>\n",
              "    </tr>\n",
              "    <tr>\n",
              "      <th>Thu May 15 00:00:00 EDT 2008</th>\n",
              "      <td>3035 ESTEPA DR Unit 5C</td>\n",
              "      <td>CAMERON PARK</td>\n",
              "      <td>95682</td>\n",
              "      <td>CA</td>\n",
              "      <td>0</td>\n",
              "      <td>0</td>\n",
              "      <td>0</td>\n",
              "      <td>Condo</td>\n",
              "      <td>119000</td>\n",
              "      <td>38.681393</td>\n",
              "      <td>-120.996713</td>\n",
              "    </tr>\n",
              "    <tr>\n",
              "      <th>Thu May 15 00:00:00 EDT 2008</th>\n",
              "      <td>2181 WINTERHAVEN CIR</td>\n",
              "      <td>CAMERON PARK</td>\n",
              "      <td>95682</td>\n",
              "      <td>CA</td>\n",
              "      <td>3</td>\n",
              "      <td>2</td>\n",
              "      <td>0</td>\n",
              "      <td>Residential</td>\n",
              "      <td>224500</td>\n",
              "      <td>38.697570</td>\n",
              "      <td>-120.995739</td>\n",
              "    </tr>\n",
              "  </tbody>\n",
              "</table>\n",
              "</div>"
            ],
            "text/plain": [
              "                                              street             city    zip  \\\n",
              "sale_date                                                                      \n",
              "Tue May 20 00:00:00 EDT 2008          2778 KAWEAH CT     CAMERON PARK  95682   \n",
              "Tue May 20 00:00:00 EDT 2008         3361 BOW MAR CT     CAMERON PARK  95682   \n",
              "Tue May 20 00:00:00 EDT 2008       3429 FERNBROOK CT     CAMERON PARK  95682   \n",
              "Mon May 19 00:00:00 EDT 2008            2809 LOON CT     CAMERON PARK  95682   \n",
              "Fri May 16 00:00:00 EDT 2008         3330 VILLAGE CT     CAMERON PARK  95682   \n",
              "Fri May 16 00:00:00 EDT 2008            2733 YUMA CT     CAMERON PARK  95682   \n",
              "Fri May 16 00:00:00 EDT 2008       6007 MARYBELLE LN  SHINGLE SPRINGS  95682   \n",
              "Fri May 16 00:00:00 EDT 2008       2818 KNOLLWOOD DR     CAMERON PARK  95682   \n",
              "Thu May 15 00:00:00 EDT 2008  3035 ESTEPA DR Unit 5C     CAMERON PARK  95682   \n",
              "Thu May 15 00:00:00 EDT 2008    2181 WINTERHAVEN CIR     CAMERON PARK  95682   \n",
              "\n",
              "                             state  beds  baths  sq__ft         type   price  \\\n",
              "sale_date                                                                      \n",
              "Tue May 20 00:00:00 EDT 2008    CA     3      1       0  Residential  201000   \n",
              "Tue May 20 00:00:00 EDT 2008    CA     2      2       0  Residential  210000   \n",
              "Tue May 20 00:00:00 EDT 2008    CA     3      2    2016  Residential  399000   \n",
              "Mon May 19 00:00:00 EDT 2008    CA     4      2       0  Residential  423000   \n",
              "Fri May 16 00:00:00 EDT 2008    CA     2      2       0  Residential  195000   \n",
              "Fri May 16 00:00:00 EDT 2008    CA     2      2       0  Residential  215000   \n",
              "Fri May 16 00:00:00 EDT 2008    CA     0      0       0       Unkown  275000   \n",
              "Fri May 16 00:00:00 EDT 2008    CA     3      2       0  Residential  425000   \n",
              "Thu May 15 00:00:00 EDT 2008    CA     0      0       0        Condo  119000   \n",
              "Thu May 15 00:00:00 EDT 2008    CA     3      2       0  Residential  224500   \n",
              "\n",
              "                               latitude   longitude  \n",
              "sale_date                                            \n",
              "Tue May 20 00:00:00 EDT 2008  38.694052 -120.995589  \n",
              "Tue May 20 00:00:00 EDT 2008  38.694370 -120.996602  \n",
              "Tue May 20 00:00:00 EDT 2008  38.664225 -121.007173  \n",
              "Mon May 19 00:00:00 EDT 2008  38.687072 -121.004729  \n",
              "Fri May 16 00:00:00 EDT 2008  38.690504 -120.996245  \n",
              "Fri May 16 00:00:00 EDT 2008  38.691215 -120.994949  \n",
              "Fri May 16 00:00:00 EDT 2008  38.643470 -120.888183  \n",
              "Fri May 16 00:00:00 EDT 2008  38.669805 -120.999007  \n",
              "Thu May 15 00:00:00 EDT 2008  38.681393 -120.996713  \n",
              "Thu May 15 00:00:00 EDT 2008  38.697570 -120.995739  "
            ]
          },
          "metadata": {
            "tags": []
          },
          "execution_count": 17
        }
      ]
    },
    {
      "cell_type": "markdown",
      "metadata": {
        "id": "wJF8LtqiKH4M",
        "colab_type": "text"
      },
      "source": [
        "Here, majority were residential.So, we can replace 'Unkown' type into 'Residnetial' type.\n",
        "\n",
        "\n"
      ]
    },
    {
      "cell_type": "code",
      "metadata": {
        "id": "PPxKFVDIKGRI",
        "colab_type": "code",
        "colab": {}
      },
      "source": [
        "housing['type'] = ['Residential' if x == 'Unkown' else x for x in housing['type']]\n"
      ],
      "execution_count": 0,
      "outputs": []
    },
    {
      "cell_type": "code",
      "metadata": {
        "id": "zB0VBOpHH3uz",
        "colab_type": "code",
        "outputId": "f91db245-de10-4710-8092-61dfecb4f4a5",
        "colab": {
          "base_uri": "https://localhost:8080/",
          "height": 87
        }
      },
      "source": [
        "housing.type.value_counts() ## Now we have replaced the 'Unkown' value from the dataframe into 'Residential'"
      ],
      "execution_count": 0,
      "outputs": [
        {
          "output_type": "execute_result",
          "data": {
            "text/plain": [
              "Residential     918\n",
              "Condo            54\n",
              "Multi-Family     13\n",
              "Name: type, dtype: int64"
            ]
          },
          "metadata": {
            "tags": []
          },
          "execution_count": 19
        }
      ]
    },
    {
      "cell_type": "code",
      "metadata": {
        "id": "avDrIdXWH3zJ",
        "colab_type": "code",
        "outputId": "9356c196-aa6c-4565-c653-488fa8d4b58d",
        "colab": {
          "base_uri": "https://localhost:8080/",
          "height": 257
        }
      },
      "source": [
        "# We can see the summary statistics of the data.\n",
        "housing.describe().T"
      ],
      "execution_count": 0,
      "outputs": [
        {
          "output_type": "execute_result",
          "data": {
            "text/html": [
              "<div>\n",
              "<style scoped>\n",
              "    .dataframe tbody tr th:only-of-type {\n",
              "        vertical-align: middle;\n",
              "    }\n",
              "\n",
              "    .dataframe tbody tr th {\n",
              "        vertical-align: top;\n",
              "    }\n",
              "\n",
              "    .dataframe thead th {\n",
              "        text-align: right;\n",
              "    }\n",
              "</style>\n",
              "<table border=\"1\" class=\"dataframe\">\n",
              "  <thead>\n",
              "    <tr style=\"text-align: right;\">\n",
              "      <th></th>\n",
              "      <th>count</th>\n",
              "      <th>mean</th>\n",
              "      <th>std</th>\n",
              "      <th>min</th>\n",
              "      <th>25%</th>\n",
              "      <th>50%</th>\n",
              "      <th>75%</th>\n",
              "      <th>max</th>\n",
              "    </tr>\n",
              "  </thead>\n",
              "  <tbody>\n",
              "    <tr>\n",
              "      <th>zip</th>\n",
              "      <td>985.0</td>\n",
              "      <td>95750.697462</td>\n",
              "      <td>85.176072</td>\n",
              "      <td>95603.000000</td>\n",
              "      <td>95660.000000</td>\n",
              "      <td>95762.000000</td>\n",
              "      <td>95828.000000</td>\n",
              "      <td>95864.000000</td>\n",
              "    </tr>\n",
              "    <tr>\n",
              "      <th>beds</th>\n",
              "      <td>985.0</td>\n",
              "      <td>2.911675</td>\n",
              "      <td>1.307932</td>\n",
              "      <td>0.000000</td>\n",
              "      <td>2.000000</td>\n",
              "      <td>3.000000</td>\n",
              "      <td>4.000000</td>\n",
              "      <td>8.000000</td>\n",
              "    </tr>\n",
              "    <tr>\n",
              "      <th>baths</th>\n",
              "      <td>985.0</td>\n",
              "      <td>1.776650</td>\n",
              "      <td>0.895371</td>\n",
              "      <td>0.000000</td>\n",
              "      <td>1.000000</td>\n",
              "      <td>2.000000</td>\n",
              "      <td>2.000000</td>\n",
              "      <td>5.000000</td>\n",
              "    </tr>\n",
              "    <tr>\n",
              "      <th>sq__ft</th>\n",
              "      <td>985.0</td>\n",
              "      <td>1312.918782</td>\n",
              "      <td>856.123224</td>\n",
              "      <td>-984.000000</td>\n",
              "      <td>950.000000</td>\n",
              "      <td>1304.000000</td>\n",
              "      <td>1718.000000</td>\n",
              "      <td>5822.000000</td>\n",
              "    </tr>\n",
              "    <tr>\n",
              "      <th>price</th>\n",
              "      <td>985.0</td>\n",
              "      <td>233715.951269</td>\n",
              "      <td>139088.818896</td>\n",
              "      <td>-210944.000000</td>\n",
              "      <td>145000.000000</td>\n",
              "      <td>213750.000000</td>\n",
              "      <td>300000.000000</td>\n",
              "      <td>884790.000000</td>\n",
              "    </tr>\n",
              "    <tr>\n",
              "      <th>latitude</th>\n",
              "      <td>985.0</td>\n",
              "      <td>38.445121</td>\n",
              "      <td>5.103637</td>\n",
              "      <td>-121.503471</td>\n",
              "      <td>38.482704</td>\n",
              "      <td>38.625932</td>\n",
              "      <td>38.695589</td>\n",
              "      <td>39.020808</td>\n",
              "    </tr>\n",
              "    <tr>\n",
              "      <th>longitude</th>\n",
              "      <td>985.0</td>\n",
              "      <td>-121.193371</td>\n",
              "      <td>5.100670</td>\n",
              "      <td>-121.551704</td>\n",
              "      <td>-121.446119</td>\n",
              "      <td>-121.375799</td>\n",
              "      <td>-121.294893</td>\n",
              "      <td>38.668433</td>\n",
              "    </tr>\n",
              "  </tbody>\n",
              "</table>\n",
              "</div>"
            ],
            "text/plain": [
              "           count           mean            std            min            25%  \\\n",
              "zip        985.0   95750.697462      85.176072   95603.000000   95660.000000   \n",
              "beds       985.0       2.911675       1.307932       0.000000       2.000000   \n",
              "baths      985.0       1.776650       0.895371       0.000000       1.000000   \n",
              "sq__ft     985.0    1312.918782     856.123224    -984.000000     950.000000   \n",
              "price      985.0  233715.951269  139088.818896 -210944.000000  145000.000000   \n",
              "latitude   985.0      38.445121       5.103637    -121.503471      38.482704   \n",
              "longitude  985.0    -121.193371       5.100670    -121.551704    -121.446119   \n",
              "\n",
              "                     50%            75%            max  \n",
              "zip         95762.000000   95828.000000   95864.000000  \n",
              "beds            3.000000       4.000000       8.000000  \n",
              "baths           2.000000       2.000000       5.000000  \n",
              "sq__ft       1304.000000    1718.000000    5822.000000  \n",
              "price      213750.000000  300000.000000  884790.000000  \n",
              "latitude       38.625932      38.695589      39.020808  \n",
              "longitude    -121.375799    -121.294893      38.668433  "
            ]
          },
          "metadata": {
            "tags": []
          },
          "execution_count": 20
        }
      ]
    },
    {
      "cell_type": "markdown",
      "metadata": {
        "id": "8u4WbXIMMT0q",
        "colab_type": "text"
      },
      "source": [
        "From the above describe table we got lot of insights on the data.\n",
        "\n",
        "1.  The column price,sq__ft are having negative value as minimum. There won't be the posibility of negative value for these.\n",
        "2. There are 0 beds, 0 bathrooms  and we have the price for that data.  \n",
        "     Now, we had two choice in dealing with this data.   \n",
        "     Method1: Remove the records contaning the negative and zero values.    \n",
        "     Method2:  impute  with absolute mean values.    \n",
        "     \n",
        "3. We can choose imputing with mean for beds and baths columns that are containig zero value.    \n",
        "4. Replace the negative values with absolute value.\n",
        "    \n"
      ]
    },
    {
      "cell_type": "code",
      "metadata": {
        "id": "kJxOfOPtH3lm",
        "colab_type": "code",
        "colab": {}
      },
      "source": [
        "## Replace the negative values with absolute values in price and sq__ft\n",
        "housing['price'] = housing['price'].abs()\n",
        "\n",
        "housing['sq__ft'] = housing['sq__ft'].abs()"
      ],
      "execution_count": 0,
      "outputs": []
    },
    {
      "cell_type": "code",
      "metadata": {
        "id": "qI3DzMZATjUk",
        "colab_type": "code",
        "colab": {}
      },
      "source": [
        "## Replace zero with mean values for 'bath','beds' and 'sq__ft'.\n",
        "\n",
        "dat = housing['baths'].mean()\n",
        "dat = round(dat)\n",
        "dat\n",
        "\n",
        "dat1 = housing['beds'].mean()\n",
        "dat1 = round(dat1)\n",
        "\n",
        "\n",
        "dat2 = housing['sq__ft'].mean()\n",
        "\n",
        "dat2 = round(dat)\n",
        "\n",
        "\n",
        "housing['sq__ft'] = [dat2 if x == 0 else x for x in housing['sq__ft']]\n",
        "\n",
        "housing['baths'] = [dat if x == 0 else x for x in housing['baths']]\n",
        "\n",
        "housing['beds'] = [dat1 if x == 0 else x for x in housing['beds']]\n",
        "\n"
      ],
      "execution_count": 0,
      "outputs": []
    },
    {
      "cell_type": "markdown",
      "metadata": {
        "id": "cYThdwsiYIsw",
        "colab_type": "text"
      },
      "source": [
        "## Outlier Detection Analysis\n",
        "\n",
        "Linear Regression is susceptible for Outliers"
      ]
    },
    {
      "cell_type": "code",
      "metadata": {
        "id": "35vdln4kH3jm",
        "colab_type": "code",
        "outputId": "cfe744e3-bca5-4576-c443-b763cee3c4c1",
        "colab": {
          "base_uri": "https://localhost:8080/",
          "height": 373
        }
      },
      "source": [
        "import seaborn as sns\n",
        "sns.boxplot(x=housing)"
      ],
      "execution_count": 0,
      "outputs": [
        {
          "output_type": "stream",
          "text": [
            "/usr/local/lib/python3.6/dist-packages/seaborn/categorical.py:2171: UserWarning: The boxplot API has been changed. Attempting to adjust your arguments for the new API (which might not work). Please update your code. See the version 0.6 release notes for more info.\n",
            "  warnings.warn(msg, UserWarning)\n",
            "/usr/local/lib/python3.6/dist-packages/seaborn/categorical.py:454: FutureWarning: remove_na is deprecated and is a private function. Do not use.\n",
            "  box_data = remove_na(group_data)\n"
          ],
          "name": "stderr"
        },
        {
          "output_type": "execute_result",
          "data": {
            "text/plain": [
              "<matplotlib.axes._subplots.AxesSubplot at 0x7f0c4a80de80>"
            ]
          },
          "metadata": {
            "tags": []
          },
          "execution_count": 23
        },
        {
          "output_type": "display_data",
          "data": {
            "image/png": "[encoded data removed]",
            "text/plain": [
              "<Figure size 432x288 with 1 Axes>"
            ]
          },
          "metadata": {
            "tags": []
          }
        }
      ]
    },
    {
      "cell_type": "code",
      "metadata": {
        "id": "rghlH5tlZqPO",
        "colab_type": "code",
        "outputId": "9ea53a20-cd90-4152-f978-92e34c1e9a35",
        "colab": {
          "base_uri": "https://localhost:8080/",
          "height": 335
        }
      },
      "source": [
        "plt.hist(housing['price'], color = 'blue', edgecolor = 'black',)"
      ],
      "execution_count": 0,
      "outputs": [
        {
          "output_type": "execute_result",
          "data": {
            "text/plain": [
              "(array([ 96., 269., 304., 160.,  76.,  43.,  22.,  10.,   1.,   4.]),\n",
              " array([  1551. ,  89874.9, 178198.8, 266522.7, 354846.6, 443170.5,\n",
              "        531494.4, 619818.3, 708142.2, 796466.1, 884790. ]),\n",
              " <a list of 10 Patch objects>)"
            ]
          },
          "metadata": {
            "tags": []
          },
          "execution_count": 24
        },
        {
          "output_type": "display_data",
          "data": {
            "image/png": "[encoded data removed]",
            "text/plain": [
              "<Figure size 432x288 with 1 Axes>"
            ]
          },
          "metadata": {
            "tags": []
          }
        }
      ]
    },
    {
      "cell_type": "markdown",
      "metadata": {
        "id": "OgDQ5MrLdLPx",
        "colab_type": "text"
      },
      "source": [
        "We can see that the dependent variable is not possessing normal distribution. As there are outliers in the data, causing the disitribution to get skewed. Let's remove the outliers from the data."
      ]
    },
    {
      "cell_type": "markdown",
      "metadata": {
        "id": "5bfzCBw-DE94",
        "colab_type": "text"
      },
      "source": [
        "#### There are two ways to remove the outliers.\n",
        "Ways to detect outliers in the dataset.    \n",
        "1.   Using of Z-Score, eliminate the data which falls beyond 3 standard deviations. This is  one way, we can try to eliminate the outliers.\n",
        "\n",
        "2. IQR range, It tells how the spread of middle values are. It tells when a value is too far from the middle.\n",
        " ( An Outlier is a point which falls more than 1.5 times the IQR range and above 3rd quartile range and below 1st quartile range).\n",
        "\n",
        "3.  With a scatter plot you can also try to find those values.\n",
        "\n",
        "Lets go with Standard deviation in normal distribution concept."
      ]
    },
    {
      "cell_type": "code",
      "metadata": {
        "id": "YhHs5GZBeRzx",
        "colab_type": "code",
        "colab": {}
      },
      "source": [
        "housing = housing[np.abs(housing.price - housing.price.mean()) <= (3*housing.price.std())]\n",
        "\n",
        "# house = housing_new1[~(np.abs(housing_new1.price-housing_new1.price.mean()) > (3*housing_new1.price.std()))]\n"
      ],
      "execution_count": 0,
      "outputs": []
    },
    {
      "cell_type": "markdown",
      "metadata": {
        "id": "qrUQMm3XD4gk",
        "colab_type": "text"
      },
      "source": [
        "If you observe the mean house price after removing the outliers, there is a change in the value."
      ]
    },
    {
      "cell_type": "code",
      "metadata": {
        "id": "BZ96tVtKhhed",
        "colab_type": "code",
        "outputId": "73492f04-5df8-4ca0-d4ce-1eefa87e6c90",
        "colab": {
          "base_uri": "https://localhost:8080/",
          "height": 34
        }
      },
      "source": [
        "housing.price.max() # Maximum house price."
      ],
      "execution_count": 0,
      "outputs": [
        {
          "output_type": "execute_result",
          "data": {
            "text/plain": [
              "636000"
            ]
          },
          "metadata": {
            "tags": []
          },
          "execution_count": 26
        }
      ]
    },
    {
      "cell_type": "code",
      "metadata": {
        "id": "15FBUU-HoEw6",
        "colab_type": "code",
        "colab": {}
      },
      "source": [
        "## Outlier datapoints in the price column"
      ],
      "execution_count": 0,
      "outputs": []
    },
    {
      "cell_type": "code",
      "metadata": {
        "id": "XgMcTA-MeSO1",
        "colab_type": "code",
        "colab": {}
      },
      "source": [
        "import numpy as np\n",
        "import pandas as pd\n",
        "outliers=[]\n",
        "\n",
        "#data1 = housing.price\n",
        "def detect_outlier(data_1):\n",
        "    \n",
        "    threshold=3\n",
        "    mean_1 = np.mean(data_1)\n",
        "    std_1 =np.std(data_1)\n",
        "    \n",
        "    \n",
        "    for y in data_1:\n",
        "        z_score= (y - mean_1)/std_1 \n",
        "        if np.abs(z_score) > threshold:\n",
        "            outliers.append(y)\n",
        "    return outliers\n"
      ],
      "execution_count": 0,
      "outputs": []
    },
    {
      "cell_type": "code",
      "metadata": {
        "id": "V7cZmdqRkNic",
        "colab_type": "code",
        "outputId": "883ce34f-fd77-4ad2-f664-52c4f3af5840",
        "colab": {
          "base_uri": "https://localhost:8080/",
          "height": 52
        }
      },
      "source": [
        "outlier_datapoints = detect_outlier(housing.price)\n",
        "print(outlier_datapoints)\n",
        "len(outlier_datapoints)"
      ],
      "execution_count": 0,
      "outputs": [
        {
          "output_type": "stream",
          "text": [
            "[606238, 613401, 614000, 636000, 610000, 622500]\n"
          ],
          "name": "stdout"
        },
        {
          "output_type": "execute_result",
          "data": {
            "text/plain": [
              "6"
            ]
          },
          "metadata": {
            "tags": []
          },
          "execution_count": 29
        }
      ]
    },
    {
      "cell_type": "markdown",
      "metadata": {
        "id": "yIh_l4XAarxy",
        "colab_type": "text"
      },
      "source": [
        "## Linear Regression Assumptions.\n",
        "It is important to understand the complete behavior of the data,before applying linear regression technique on the data.\n",
        "\n",
        "1.    The dependent Variable and error must posses a normal distribution.\n",
        "\n",
        "2.  There should exist linear relation between independent and dependent variable.\n",
        "\n",
        "3.  There should be no correlation between independent variables.This may lead to multicolinearity.\n",
        "\n",
        "4.  Error terms must possess constant variance.absence of this leads to heteroskedacity.\n",
        "\n",
        "5. The error terms must be uncorrelated. Presence of that leads to auto correlation\n",
        "\n",
        "### Most important every feature should be in numeric type in linear regression model"
      ]
    },
    {
      "cell_type": "markdown",
      "metadata": {
        "id": "p6bRcdhvFjij",
        "colab_type": "text"
      },
      "source": [
        "#### Here, we have \"State\", \"City\", \"Street \", \"Type\" are categorical data. But Zip code was in numeric type. It should be converted into categorical data.\n",
        "\n",
        "Zip code was not a measurable quantity, hence we can convert into categorical type."
      ]
    },
    {
      "cell_type": "code",
      "metadata": {
        "id": "4JU-R9q2dCek",
        "colab_type": "code",
        "colab": {}
      },
      "source": [
        "# Convert zip into string object\n",
        "housing['zip'] = housing['zip'].astype(str)"
      ],
      "execution_count": 0,
      "outputs": []
    },
    {
      "cell_type": "markdown",
      "metadata": {
        "id": "x-Tch3FpHhfK",
        "colab_type": "text"
      },
      "source": [
        "There can't be categorical type data, while building an linear regression model. Let's convert categorical one into numeric by applying transformations.\n",
        "\n",
        "\n",
        "\n",
        "That is, convert categorical into dummy variables."
      ]
    },
    {
      "cell_type": "markdown",
      "metadata": {
        "id": "yJb2YjIDIczj",
        "colab_type": "text"
      },
      "source": [
        "#### Create dummy variables using `get_dummies` from Pandas."
      ]
    },
    {
      "cell_type": "code",
      "metadata": {
        "id": "kPZC8iawYGHY",
        "colab_type": "code",
        "colab": {}
      },
      "source": [
        "street_dummies = pd.get_dummies(housing.street, prefix='street')\n",
        "\n",
        "city_dummies = pd.get_dummies(housing.city,prefix = 'city')\n",
        "\n",
        "zip_dummies = pd.get_dummies(housing.zip,prefix = 'zip')\n",
        "\n",
        "state_dummies = pd.get_dummies(housing.state,prefix = 'state')\n",
        "\n",
        "type_dummies = pd.get_dummies(housing.type,prefix = 'type')"
      ],
      "execution_count": 0,
      "outputs": []
    },
    {
      "cell_type": "markdown",
      "metadata": {
        "id": "kJ6MW5xTKUoa",
        "colab_type": "text"
      },
      "source": [
        "#### Inspect the `DataFrame` of `dummies`."
      ]
    },
    {
      "cell_type": "code",
      "metadata": {
        "id": "emdXPGXjSbJ9",
        "colab_type": "code",
        "outputId": "5f208eec-b55a-42cd-d2f2-3e58fea6af29",
        "colab": {
          "base_uri": "https://localhost:8080/",
          "height": 227
        }
      },
      "source": [
        "# Print five random rows.\n",
        "type_dummies.sample(n=5, random_state=1)"
      ],
      "execution_count": 0,
      "outputs": [
        {
          "output_type": "execute_result",
          "data": {
            "text/html": [
              "<div>\n",
              "<style scoped>\n",
              "    .dataframe tbody tr th:only-of-type {\n",
              "        vertical-align: middle;\n",
              "    }\n",
              "\n",
              "    .dataframe tbody tr th {\n",
              "        vertical-align: top;\n",
              "    }\n",
              "\n",
              "    .dataframe thead th {\n",
              "        text-align: right;\n",
              "    }\n",
              "</style>\n",
              "<table border=\"1\" class=\"dataframe\">\n",
              "  <thead>\n",
              "    <tr style=\"text-align: right;\">\n",
              "      <th></th>\n",
              "      <th>type_Condo</th>\n",
              "      <th>type_Multi-Family</th>\n",
              "      <th>type_Residential</th>\n",
              "    </tr>\n",
              "    <tr>\n",
              "      <th>sale_date</th>\n",
              "      <th></th>\n",
              "      <th></th>\n",
              "      <th></th>\n",
              "    </tr>\n",
              "  </thead>\n",
              "  <tbody>\n",
              "    <tr>\n",
              "      <th>Mon May 19 00:00:00 EDT 2008</th>\n",
              "      <td>0</td>\n",
              "      <td>0</td>\n",
              "      <td>1</td>\n",
              "    </tr>\n",
              "    <tr>\n",
              "      <th>Mon May 19 00:00:00 EDT 2008</th>\n",
              "      <td>0</td>\n",
              "      <td>0</td>\n",
              "      <td>1</td>\n",
              "    </tr>\n",
              "    <tr>\n",
              "      <th>Tue May 20 00:00:00 EDT 2008</th>\n",
              "      <td>0</td>\n",
              "      <td>0</td>\n",
              "      <td>1</td>\n",
              "    </tr>\n",
              "    <tr>\n",
              "      <th>Fri May 16 00:00:00 EDT 2008</th>\n",
              "      <td>0</td>\n",
              "      <td>0</td>\n",
              "      <td>1</td>\n",
              "    </tr>\n",
              "    <tr>\n",
              "      <th>Tue May 20 00:00:00 EDT 2008</th>\n",
              "      <td>0</td>\n",
              "      <td>0</td>\n",
              "      <td>1</td>\n",
              "    </tr>\n",
              "  </tbody>\n",
              "</table>\n",
              "</div>"
            ],
            "text/plain": [
              "                              type_Condo  type_Multi-Family  type_Residential\n",
              "sale_date                                                                    \n",
              "Mon May 19 00:00:00 EDT 2008           0                  0                 1\n",
              "Mon May 19 00:00:00 EDT 2008           0                  0                 1\n",
              "Tue May 20 00:00:00 EDT 2008           0                  0                 1\n",
              "Fri May 16 00:00:00 EDT 2008           0                  0                 1\n",
              "Tue May 20 00:00:00 EDT 2008           0                  0                 1"
            ]
          },
          "metadata": {
            "tags": []
          },
          "execution_count": 32
        }
      ]
    },
    {
      "cell_type": "code",
      "metadata": {
        "id": "mjzr998TC9aV",
        "colab_type": "code",
        "colab": {}
      },
      "source": [
        "#housing.columns"
      ],
      "execution_count": 0,
      "outputs": []
    },
    {
      "cell_type": "markdown",
      "metadata": {
        "id": "H5bGTyuXQOXa",
        "colab_type": "text"
      },
      "source": [
        "#### Drop the first column.\n",
        "\n"
      ]
    },
    {
      "cell_type": "markdown",
      "metadata": {
        "id": "N9-jawxsRE4g",
        "colab_type": "text"
      },
      "source": [
        "In general, if you have a categorical feature with k possible values, you create k-1 dummy variables.\n",
        "These k-1 variables capture maximum amount of information.\n"
      ]
    },
    {
      "cell_type": "code",
      "metadata": {
        "id": "aQFZjqJlM_q4",
        "colab_type": "code",
        "colab": {}
      },
      "source": [
        ""
      ],
      "execution_count": 0,
      "outputs": []
    },
    {
      "cell_type": "code",
      "metadata": {
        "id": "_welRKHHeNtQ",
        "colab_type": "code",
        "colab": {}
      },
      "source": [
        "street_dummies.drop(street_dummies.columns[0], axis=1, inplace=True)"
      ],
      "execution_count": 0,
      "outputs": []
    },
    {
      "cell_type": "code",
      "metadata": {
        "id": "KjgRSU4ueAgd",
        "colab_type": "code",
        "colab": {}
      },
      "source": [
        "city_dummies.drop(city_dummies.columns[0],axis = 1,inplace = True)"
      ],
      "execution_count": 0,
      "outputs": []
    },
    {
      "cell_type": "code",
      "metadata": {
        "id": "h6hGGZk9eM5q",
        "colab_type": "code",
        "colab": {}
      },
      "source": [
        "type_dummies.drop(type_dummies.columns[0],axis = 1,inplace = True)"
      ],
      "execution_count": 0,
      "outputs": []
    },
    {
      "cell_type": "code",
      "metadata": {
        "id": "YAafBcOWeArJ",
        "colab_type": "code",
        "colab": {}
      },
      "source": [
        "state_dummies.drop(state_dummies.columns[0],axis = 1,inplace = True)"
      ],
      "execution_count": 0,
      "outputs": []
    },
    {
      "cell_type": "code",
      "metadata": {
        "id": "CciWSZGoSmxs",
        "colab_type": "code",
        "colab": {}
      },
      "source": [
        "zip_dummies.drop(zip_dummies.columns[0],axis = 1,inplace = True)"
      ],
      "execution_count": 0,
      "outputs": []
    },
    {
      "cell_type": "markdown",
      "metadata": {
        "id": "TUaPRMIagyGF",
        "colab_type": "text"
      },
      "source": [
        "### 3. Our goal will be to predict the price. List variables that you think qualify as predictors of price in a SLR model. \n",
        "\n",
        "**For EACH of these variables you believe to be valid potential predictors in an SLR model, generate a sns.lmplot showing the relationship between the the feature variable and target variable.**"
      ]
    },
    {
      "cell_type": "markdown",
      "metadata": {
        "id": "4P38qRiqtTW5",
        "colab_type": "text"
      },
      "source": [
        "We have following variables in our data set.   \n",
        "\n",
        "Street,  City,  zip,   state,   beds,  sq__ft,   baths,  type,  price,   latitude,   longitude\n",
        "\n",
        "These are the  important varibles that are present in our dataset.\n",
        "\n",
        "Zip should not be numeric type. We need to convert into categorical data.\n",
        "\n",
        "A scatter plot can be good with numeric type data. Hence, here we have beds, sq__ft, baths,  type,  price,  latitude and longitude are numeric type.\n",
        "\n",
        "Note, as per domain knowledge is concern, we have sufficent data on geographic loction, which can hlep us in predicting the price but latitude and longitude seems won't contribute much to the model. \n",
        "\n",
        "If we observe the relation between them as well. There is no linearity between them.\n",
        "\n",
        "\n",
        "\n",
        "\n"
      ]
    },
    {
      "cell_type": "code",
      "metadata": {
        "id": "g_RDpb4A21jf",
        "colab_type": "code",
        "outputId": "7956371e-c065-426a-df44-3aa4a5c656f6",
        "colab": {
          "base_uri": "https://localhost:8080/",
          "height": 386
        }
      },
      "source": [
        "sns.lmplot(x='latitude', y='price', data=housing, aspect=1.5, scatter_kws={'alpha':0.5})"
      ],
      "execution_count": 0,
      "outputs": [
        {
          "output_type": "execute_result",
          "data": {
            "text/plain": [
              "<seaborn.axisgrid.FacetGrid at 0x7f0c4bc85cc0>"
            ]
          },
          "metadata": {
            "tags": []
          },
          "execution_count": 39
        },
        {
          "output_type": "display_data",
          "data": {
            "image/png": "[encoded data removed]",
            "text/plain": [
              "<Figure size 540x360 with 1 Axes>"
            ]
          },
          "metadata": {
            "tags": []
          }
        }
      ]
    },
    {
      "cell_type": "code",
      "metadata": {
        "id": "J8u8fEdm26Qh",
        "colab_type": "code",
        "outputId": "9a83243a-07b7-4bbd-df1b-7d84739b4177",
        "colab": {
          "base_uri": "https://localhost:8080/",
          "height": 386
        }
      },
      "source": [
        "sns.lmplot(x='longitude', y='price', data=housing, aspect=1.5, scatter_kws={'alpha':0.5})"
      ],
      "execution_count": 0,
      "outputs": [
        {
          "output_type": "execute_result",
          "data": {
            "text/plain": [
              "<seaborn.axisgrid.FacetGrid at 0x7f0c4866be10>"
            ]
          },
          "metadata": {
            "tags": []
          },
          "execution_count": 40
        },
        {
          "output_type": "display_data",
          "data": {
            "image/png": "[encoded data removed]",
            "text/plain": [
              "<Figure size 540x360 with 1 Axes>"
            ]
          },
          "metadata": {
            "tags": []
          }
        }
      ]
    },
    {
      "cell_type": "markdown",
      "metadata": {
        "id": "TSnvINEQ3NxP",
        "colab_type": "text"
      },
      "source": [
        "It is clear that latitude and longitue are not good predictor variables to our model.Because one of our main assumption is that there should be an linear relationship between dependent and independent variable.\n",
        "\n",
        "\n",
        "\n",
        "We can remove latitude and longitude variables from the dataset.\n",
        "\n"
      ]
    },
    {
      "cell_type": "code",
      "metadata": {
        "id": "N3n3HoOI3M-u",
        "colab_type": "code",
        "colab": {}
      },
      "source": [
        "#zip_dummies.drop(zip_dummies.columns[0],axis = 1,inplace = True)\n",
        "\n",
        "housing.drop('latitude',axis = 1,inplace = True)"
      ],
      "execution_count": 0,
      "outputs": []
    },
    {
      "cell_type": "code",
      "metadata": {
        "id": "QbcFDP8gUXBD",
        "colab_type": "code",
        "colab": {}
      },
      "source": [
        "housing.drop('longitude',axis = 1, inplace = True)"
      ],
      "execution_count": 0,
      "outputs": []
    },
    {
      "cell_type": "code",
      "metadata": {
        "id": "fJVOBjzjUdB5",
        "colab_type": "code",
        "outputId": "12e4ee3c-8a29-470a-878b-6f609bea6072",
        "colab": {
          "base_uri": "https://localhost:8080/",
          "height": 227
        }
      },
      "source": [
        "housing.head(5)"
      ],
      "execution_count": 0,
      "outputs": [
        {
          "output_type": "execute_result",
          "data": {
            "text/html": [
              "<div>\n",
              "<style scoped>\n",
              "    .dataframe tbody tr th:only-of-type {\n",
              "        vertical-align: middle;\n",
              "    }\n",
              "\n",
              "    .dataframe tbody tr th {\n",
              "        vertical-align: top;\n",
              "    }\n",
              "\n",
              "    .dataframe thead th {\n",
              "        text-align: right;\n",
              "    }\n",
              "</style>\n",
              "<table border=\"1\" class=\"dataframe\">\n",
              "  <thead>\n",
              "    <tr style=\"text-align: right;\">\n",
              "      <th></th>\n",
              "      <th>street</th>\n",
              "      <th>city</th>\n",
              "      <th>zip</th>\n",
              "      <th>state</th>\n",
              "      <th>beds</th>\n",
              "      <th>baths</th>\n",
              "      <th>sq__ft</th>\n",
              "      <th>type</th>\n",
              "      <th>price</th>\n",
              "    </tr>\n",
              "    <tr>\n",
              "      <th>sale_date</th>\n",
              "      <th></th>\n",
              "      <th></th>\n",
              "      <th></th>\n",
              "      <th></th>\n",
              "      <th></th>\n",
              "      <th></th>\n",
              "      <th></th>\n",
              "      <th></th>\n",
              "      <th></th>\n",
              "    </tr>\n",
              "  </thead>\n",
              "  <tbody>\n",
              "    <tr>\n",
              "      <th>Wed May 21 00:00:00 EDT 2008</th>\n",
              "      <td>3526 HIGH ST</td>\n",
              "      <td>SACRAMENTO</td>\n",
              "      <td>95838</td>\n",
              "      <td>CA</td>\n",
              "      <td>2</td>\n",
              "      <td>1</td>\n",
              "      <td>836</td>\n",
              "      <td>Residential</td>\n",
              "      <td>59222</td>\n",
              "    </tr>\n",
              "    <tr>\n",
              "      <th>Wed May 21 00:00:00 EDT 2008</th>\n",
              "      <td>51 OMAHA CT</td>\n",
              "      <td>SACRAMENTO</td>\n",
              "      <td>95823</td>\n",
              "      <td>CA</td>\n",
              "      <td>3</td>\n",
              "      <td>1</td>\n",
              "      <td>1167</td>\n",
              "      <td>Residential</td>\n",
              "      <td>68212</td>\n",
              "    </tr>\n",
              "    <tr>\n",
              "      <th>Wed May 21 00:00:00 EDT 2008</th>\n",
              "      <td>2796 BRANCH ST</td>\n",
              "      <td>SACRAMENTO</td>\n",
              "      <td>95815</td>\n",
              "      <td>CA</td>\n",
              "      <td>2</td>\n",
              "      <td>1</td>\n",
              "      <td>796</td>\n",
              "      <td>Residential</td>\n",
              "      <td>68880</td>\n",
              "    </tr>\n",
              "    <tr>\n",
              "      <th>Wed May 21 00:00:00 EDT 2008</th>\n",
              "      <td>2805 JANETTE WAY</td>\n",
              "      <td>SACRAMENTO</td>\n",
              "      <td>95815</td>\n",
              "      <td>CA</td>\n",
              "      <td>2</td>\n",
              "      <td>1</td>\n",
              "      <td>852</td>\n",
              "      <td>Residential</td>\n",
              "      <td>69307</td>\n",
              "    </tr>\n",
              "    <tr>\n",
              "      <th>Wed May 21 00:00:00 EDT 2008</th>\n",
              "      <td>6001 MCMAHON DR</td>\n",
              "      <td>SACRAMENTO</td>\n",
              "      <td>95824</td>\n",
              "      <td>CA</td>\n",
              "      <td>2</td>\n",
              "      <td>1</td>\n",
              "      <td>797</td>\n",
              "      <td>Residential</td>\n",
              "      <td>81900</td>\n",
              "    </tr>\n",
              "  </tbody>\n",
              "</table>\n",
              "</div>"
            ],
            "text/plain": [
              "                                        street        city    zip state  beds  \\\n",
              "sale_date                                                                       \n",
              "Wed May 21 00:00:00 EDT 2008      3526 HIGH ST  SACRAMENTO  95838    CA     2   \n",
              "Wed May 21 00:00:00 EDT 2008       51 OMAHA CT  SACRAMENTO  95823    CA     3   \n",
              "Wed May 21 00:00:00 EDT 2008    2796 BRANCH ST  SACRAMENTO  95815    CA     2   \n",
              "Wed May 21 00:00:00 EDT 2008  2805 JANETTE WAY  SACRAMENTO  95815    CA     2   \n",
              "Wed May 21 00:00:00 EDT 2008   6001 MCMAHON DR  SACRAMENTO  95824    CA     2   \n",
              "\n",
              "                              baths  sq__ft         type  price  \n",
              "sale_date                                                        \n",
              "Wed May 21 00:00:00 EDT 2008      1     836  Residential  59222  \n",
              "Wed May 21 00:00:00 EDT 2008      1    1167  Residential  68212  \n",
              "Wed May 21 00:00:00 EDT 2008      1     796  Residential  68880  \n",
              "Wed May 21 00:00:00 EDT 2008      1     852  Residential  69307  \n",
              "Wed May 21 00:00:00 EDT 2008      1     797  Residential  81900  "
            ]
          },
          "metadata": {
            "tags": []
          },
          "execution_count": 43
        }
      ]
    },
    {
      "cell_type": "code",
      "metadata": {
        "id": "dhCDVz19r-JQ",
        "colab_type": "code",
        "outputId": "2e23827a-3451-4e66-e615-fd9a50d9473d",
        "colab": {
          "base_uri": "https://localhost:8080/",
          "height": 386
        }
      },
      "source": [
        "## Scatter Plot for beds vs price\n",
        "import seaborn as sns\n",
        "sns.lmplot(x='beds', y='price', data=housing, aspect=1.5, scatter_kws={'alpha':0.5})"
      ],
      "execution_count": 0,
      "outputs": [
        {
          "output_type": "execute_result",
          "data": {
            "text/plain": [
              "<seaborn.axisgrid.FacetGrid at 0x7f0c472d98d0>"
            ]
          },
          "metadata": {
            "tags": []
          },
          "execution_count": 44
        },
        {
          "output_type": "display_data",
          "data": {
            "image/png": "[encoded data removed]",
            "text/plain": [
              "<Figure size 540x360 with 1 Axes>"
            ]
          },
          "metadata": {
            "tags": []
          }
        }
      ]
    },
    {
      "cell_type": "markdown",
      "metadata": {
        "id": "wjRn8EwAsABp",
        "colab_type": "text"
      },
      "source": [
        "There is an linear relationship between price and beds.Hence, beds could be a good feature for the model.\n",
        "\n",
        "\n"
      ]
    },
    {
      "cell_type": "code",
      "metadata": {
        "id": "IYUKlOrIgyGG",
        "colab_type": "code",
        "outputId": "35d6985d-0261-4bd6-d69b-76d2cf92d8b9",
        "colab": {
          "base_uri": "https://localhost:8080/",
          "height": 386
        }
      },
      "source": [
        "# A\n",
        "\n",
        "# Seaborn scatterplot with regression line (a big plus that helps us to see the trend)\n",
        "# Sq__ft vs price\n",
        "sns.lmplot(x='sq__ft', y='price', data=housing, aspect=1.5, scatter_kws={'alpha':0.5})"
      ],
      "execution_count": 0,
      "outputs": [
        {
          "output_type": "execute_result",
          "data": {
            "text/plain": [
              "<seaborn.axisgrid.FacetGrid at 0x7f0c472a87f0>"
            ]
          },
          "metadata": {
            "tags": []
          },
          "execution_count": 45
        },
        {
          "output_type": "display_data",
          "data": {
            "image/png": "[encoded data removed]",
            "text/plain": [
              "<Figure size 540x360 with 1 Axes>"
            ]
          },
          "metadata": {
            "tags": []
          }
        }
      ]
    },
    {
      "cell_type": "markdown",
      "metadata": {
        "id": "Rn6upv1DqnSE",
        "colab_type": "text"
      },
      "source": [
        "Here,Sq__ft vs price forms linear relation. This can also be the good feature to the model.\n"
      ]
    },
    {
      "cell_type": "code",
      "metadata": {
        "id": "TuEwHN3fsfrw",
        "colab_type": "code",
        "outputId": "b7c63316-c5f6-4014-f83e-bef5dbae5541",
        "colab": {
          "base_uri": "https://localhost:8080/",
          "height": 386
        }
      },
      "source": [
        "sns.lmplot(x='baths', y='price', data=housing, aspect=1.5, scatter_kws={'alpha':0.5})"
      ],
      "execution_count": 0,
      "outputs": [
        {
          "output_type": "execute_result",
          "data": {
            "text/plain": [
              "<seaborn.axisgrid.FacetGrid at 0x7f0c4720e6a0>"
            ]
          },
          "metadata": {
            "tags": []
          },
          "execution_count": 46
        },
        {
          "output_type": "display_data",
          "data": {
            "image/png": "[encoded data removed]",
            "text/plain": [
              "<Figure size 540x360 with 1 Axes>"
            ]
          },
          "metadata": {
            "tags": []
          }
        }
      ]
    },
    {
      "cell_type": "markdown",
      "metadata": {
        "id": "qy3ZZGnSV6h2",
        "colab_type": "text"
      },
      "source": [
        "Baths vs Price forms linear relationship. It can also be the good predictor to our model."
      ]
    },
    {
      "cell_type": "markdown",
      "metadata": {
        "id": "LHyL0x6y54Kg",
        "colab_type": "text"
      },
      "source": [
        "## Correlation map:\n"
      ]
    },
    {
      "cell_type": "code",
      "metadata": {
        "id": "7_MDQgu_1_pC",
        "colab_type": "code",
        "outputId": "96dac711-f791-41c9-932a-fe7958afabf7",
        "colab": {
          "base_uri": "https://localhost:8080/",
          "height": 282
        }
      },
      "source": [
        "sns.heatmap(housing.corr().abs(),annot = True)\n",
        "#sns.heatmap(housing, annot=True)#, annot_kws={\"size\": 7})\n"
      ],
      "execution_count": 0,
      "outputs": [
        {
          "output_type": "execute_result",
          "data": {
            "text/plain": [
              "<matplotlib.axes._subplots.AxesSubplot at 0x7f0c472209e8>"
            ]
          },
          "metadata": {
            "tags": []
          },
          "execution_count": 47
        },
        {
          "output_type": "display_data",
          "data": {
            "image/png": "[encoded data removed]",
            "text/plain": [
              "<Figure size 432x288 with 2 Axes>"
            ]
          },
          "metadata": {
            "tags": []
          }
        }
      ]
    },
    {
      "cell_type": "code",
      "metadata": {
        "id": "0XGZEWmGqoMZ",
        "colab_type": "code",
        "outputId": "c388ded4-afb1-4697-ece0-72ad02fee8bd",
        "colab": {
          "base_uri": "https://localhost:8080/",
          "height": 105
        }
      },
      "source": [
        "housing.corr().abs().price.sort_values(ascending= False)"
      ],
      "execution_count": 0,
      "outputs": [
        {
          "output_type": "execute_result",
          "data": {
            "text/plain": [
              "price     1.000000\n",
              "baths     0.428919\n",
              "beds      0.389466\n",
              "sq__ft    0.321601\n",
              "Name: price, dtype: float64"
            ]
          },
          "metadata": {
            "tags": []
          },
          "execution_count": 48
        }
      ]
    },
    {
      "cell_type": "markdown",
      "metadata": {
        "id": "eR4aYCzEHAGC",
        "colab_type": "text"
      },
      "source": [
        "There is a high correlation between price and baths and least correlation between Sq__ft and price.\n",
        "\n",
        "\n"
      ]
    },
    {
      "cell_type": "markdown",
      "metadata": {
        "id": "QW6lgBXagyGI",
        "colab_type": "text"
      },
      "source": [
        "### 4. Which SINGLE variable would be the best predictor of Y in a SLR model? Why?"
      ]
    },
    {
      "cell_type": "code",
      "metadata": {
        "id": "Hene66j_AbNy",
        "colab_type": "code",
        "colab": {}
      },
      "source": [
        "feature_cols = ['sq__ft']\n",
        "X = housing_new[feature_cols]\n",
        "y = housing_new.price\n",
        "\n",
        "from sklearn.linear_model import LinearRegression\n",
        "# Instantiate an object out of linear regression class.\n",
        "lr = LinearRegression()\n",
        "\n",
        "lr.fit(X, y) ## With sq__ft as single variable\n",
        "lr.score(X,y) ## R2 score value"
      ],
      "execution_count": 0,
      "outputs": []
    },
    {
      "cell_type": "code",
      "metadata": {
        "id": "djKGXzSJxcqQ",
        "colab_type": "code",
        "colab": {}
      },
      "source": [
        "X"
      ],
      "execution_count": 0,
      "outputs": []
    },
    {
      "cell_type": "code",
      "metadata": {
        "id": "HlQA9hM9DQTi",
        "colab_type": "code",
        "colab": {}
      },
      "source": [
        "feature_cols1 = ['baths']\n",
        "X_1 = housing[feature_cols1]\n",
        "y = housing.price\n",
        "\n",
        "lr.fit(X_1,y) # with baths as single variable\n",
        "lr.score(X_1,y) #R square score value"
      ],
      "execution_count": 0,
      "outputs": []
    },
    {
      "cell_type": "code",
      "metadata": {
        "id": "Em_2Fp4-DQwR",
        "colab_type": "code",
        "outputId": "c3ba9a40-21c1-45db-dc4f-e214a8e7543e",
        "colab": {
          "base_uri": "https://localhost:8080/",
          "height": 34
        }
      },
      "source": [
        "feature_cols2 = ['beds']\n",
        "X_2 = housing[feature_cols2]\n",
        "y = housing.price\n",
        "\n",
        "lr.fit(X_2,y) # with beds as single variable\n",
        "lr.score(X_2,y) # R-Square score\n",
        "\n"
      ],
      "execution_count": 0,
      "outputs": [
        {
          "output_type": "execute_result",
          "data": {
            "text/plain": [
              "0.15168373384969058"
            ]
          },
          "metadata": {
            "tags": []
          },
          "execution_count": 123
        }
      ]
    },
    {
      "cell_type": "markdown",
      "metadata": {
        "id": "PMJn8eo4FcxI",
        "colab_type": "text"
      },
      "source": [
        "If we observe all considered numeric features the variable with \"baths\" has high r square score compared to other variables. Hence, we can make conclusion that single variable \"baths\" could be the good input in predicting price.\n",
        "\n",
        "\n"
      ]
    },
    {
      "cell_type": "markdown",
      "metadata": {
        "id": "gV51xEZegyGL",
        "colab_type": "text"
      },
      "source": [
        "### 5. Build a function that will take in two lists `Y` and `X` and returns the intercept and slope coefficients that minimize SSE. \n",
        "\n",
        "`Y` is the target variable and `X` is the predictor variable.\n",
        "\n",
        "- **Test your function on price and the variable you determined was the best predictor in Problem 4.**\n",
        "- **Report the slope and intercept.**\n",
        "- **Report its score.**"
      ]
    },
    {
      "cell_type": "code",
      "metadata": {
        "id": "YYZM3t7QgyGL",
        "colab_type": "code",
        "outputId": "7e805304-48d8-4dca-95cf-85a72fea658a",
        "colab": {
          "base_uri": "https://localhost:8080/",
          "height": 70
        }
      },
      "source": [
        "# A:\n",
        "\n",
        "feature_cols1 = ['baths']\n",
        "X = housing[feature_cols1]\n",
        "Y = housing.price\n",
        "\n",
        "lr.fit(X_1,y) # with baths as single variable\n",
        "lr.score(X_1,y) #R square score value\n",
        "\n",
        "\n",
        "def lrmodel(X,Y):\n",
        "  \n",
        "  from sklearn.linear_model import LinearRegression\n",
        "  lr = LinearRegression()\n",
        "  lr.fit(X,Y)\n",
        "  \n",
        "  \n",
        "print(\"Intercept:\",lr.intercept_)\n",
        "print(\"Slope: \",lr.coef_)\n",
        "print(\"R-Square score:\", lr.score(X,Y))"
      ],
      "execution_count": 0,
      "outputs": [
        {
          "output_type": "stream",
          "text": [
            "Intercept: 55754.88729878215\n",
            "Slope:  [86656.25327043]\n",
            "R-Square score: 0.18397121090040536\n"
          ],
          "name": "stdout"
        }
      ]
    },
    {
      "cell_type": "markdown",
      "metadata": {
        "id": "AvOWkxpZgyGO",
        "colab_type": "text"
      },
      "source": [
        "### 6. Interpret the intercept. Interpret the slope."
      ]
    },
    {
      "cell_type": "markdown",
      "metadata": {
        "id": "SJPQ2OKe2BWt",
        "colab_type": "text"
      },
      "source": [
        "Ans: \n",
        " For understanding see Q.8 graph\n",
        "\n",
        "Slope is a consistent change in relationship between independent and dependent variable in a linear model.\n",
        "\n",
        " Intercept say's that Even with a zero value in feature baths, we can predict  price for the house would be 55754.887\n",
        "\n",
        " Slope say's that for every unit change in baths the change in price will be 86656.25"
      ]
    },
    {
      "cell_type": "markdown",
      "metadata": {
        "id": "h0w3DFrkgyGS",
        "colab_type": "text"
      },
      "source": [
        "\n",
        "### 7. Give a real life example of how this model could help people in prediction. Also give an example that the model can be used for inference purpose. You should consider non-technical people as users in your example.\n",
        "\n",
        "**Be sure to make it clear which example is associated with prediction and which is associated with inference.**"
      ]
    },
    {
      "cell_type": "markdown",
      "metadata": {
        "id": "0aPu-kC02dgs",
        "colab_type": "text"
      },
      "source": [
        "Ans:   \n",
        "\n",
        "Let's say a person wants to purchase a new house. In general, Common people have the good idea on how much area, he/she wants in their house and number of rooms, and baths so on. Having all the features are good thing but price varies from region to region. So, Ideally this model helps in precting the house price in Sacremento region( As the data is taken from sacremento real estate) With their basic inputs such as sq__ft baths,beds and street etc.\n",
        "\n",
        "Here, I built using single feature baths but if we implement on Multiple features using multi linear regression technique the model can give good results in predicting the price."
      ]
    },
    {
      "cell_type": "markdown",
      "metadata": {
        "id": "bSvS34TsgyGU",
        "colab_type": "text"
      },
      "source": [
        "### 8: Using the model you came up with in Problem 5, calculate the residuals (MSE) and plot the targets vs. the prediction with the linear regression line."
      ]
    },
    {
      "cell_type": "code",
      "metadata": {
        "id": "r8GBzp1fgyGV",
        "colab_type": "code",
        "outputId": "17ea4f5a-66b8-4998-91ef-7f86949e3137",
        "colab": {
          "base_uri": "https://localhost:8080/",
          "height": 296
        }
      },
      "source": [
        "# A:\n",
        "\n",
        "\n",
        "\n",
        "predictions  =  lr.predict(X)\n",
        "score        =  lr.score(X,Y)\n",
        "housing['predictions'] = predictions\n",
        "\n",
        "ax1 = housing.plot(kind='scatter',x='baths', y='price', color='black')\n",
        "housing.plot(kind='line',x='baths', y='predictions', color='red',ax=ax1)\n",
        "\n",
        "\n",
        "#from sklearn.metrics import mean_squared_error\n",
        "\n",
        "MSE = mean_squared_error(housing.price,housing.predictions)\n",
        "print('Mean_Squared_Error:',MSE)"
      ],
      "execution_count": 0,
      "outputs": [
        {
          "output_type": "stream",
          "text": [
            "Mean_Squared_Error: 12906320957.593456\n"
          ],
          "name": "stdout"
        },
        {
          "output_type": "display_data",
          "data": {
            "image/png": "[encoded data removed]",
            "text/plain": [
              "<Figure size 432x288 with 1 Axes>"
            ]
          },
          "metadata": {
            "tags": []
          }
        }
      ]
    },
    {
      "cell_type": "code",
      "metadata": {
        "id": "Gvn-vAKbKsIA",
        "colab_type": "code",
        "colab": {}
      },
      "source": [
        "import class--> instantiate the class --> fit model --> scre --> predictt"
      ],
      "execution_count": 0,
      "outputs": []
    },
    {
      "cell_type": "markdown",
      "metadata": {
        "id": "w-QV8QDHGbBt",
        "colab_type": "text"
      },
      "source": [
        "Here, the model is underfitting."
      ]
    }
  ]
}