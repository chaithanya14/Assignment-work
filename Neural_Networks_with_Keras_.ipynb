{
  "nbformat": 4,
  "nbformat_minor": 0,
  "metadata": {
    "colab": {
      "name": "Neural Networks with Keras .ipynb",
      "version": "0.3.2",
      "provenance": [],
      "collapsed_sections": []
    },
    "kernelspec": {
      "name": "python3",
      "display_name": "Python 3"
    }
  },
  "cells": [
    {
      "cell_type": "markdown",
      "metadata": {
        "id": "p-dG8sB0gOMK",
        "colab_type": "text"
      },
      "source": [
        "\n",
        "#HW #9: Neural Networks with Keras\n",
        "\n",
        "---"
      ]
    },
    {
      "cell_type": "markdown",
      "metadata": {
        "id": "Q_8pw6nhgOMM",
        "colab_type": "text"
      },
      "source": [
        "**Overview**\n",
        "\n",
        "`keras` is a convenience layer over `tensorflow`.  Let's review the workflow we had yesterday in `tensorflow`:\n",
        "\n",
        "1. Load the data.\n",
        "2. Data cleaning/munging, feature engineering (will not do today)\n",
        "3. Make test/train splits. (Should we use cross validation?)\n",
        "4. Standardize the data.\n",
        "5. Build the computational graph for the neural network.\n",
        "6. Train the network using gradient descent a.k.a. back propogation.\n",
        "7. Evaluate performance and iterate.\n",
        "\n",
        "The \"big\" steps were 5 and 6.\n",
        "\n",
        "- 5 Build the network by creating linked `dense` layers.\n",
        "- 6 Iterate over epochs (and possibly batches), explicitly calling on the session to execute a \"training op\"\n",
        "\n",
        "In `keras` these to steps are simplified.\n",
        "\n",
        "- 5 Add layers to a \"model\".\n",
        "- 6 Compile and fit the model. (as little as 2 lines of code!)\n",
        "\n",
        "---\n",
        "\n",
        "**Regardless of the tool that you are using**, keep in mind the following concepts:\n",
        "\n",
        "- What will your network topology (number of hidden layers and units per layer) be?\n",
        "- What activation function will you use for the hidden layers?\n",
        "- Based on your model, how many units will be in your input and output layers?\n",
        "- Based on your model, what will the activation function on your output layer be?\n",
        "- What will your loss function be?\n",
        "- What optimizer will you use for the gradient descent/backpropogation?"
      ]
    },
    {
      "cell_type": "markdown",
      "metadata": {
        "id": "uaF14vHfgOMN",
        "colab_type": "text"
      },
      "source": [
        "## Regression Model"
      ]
    },
    {
      "cell_type": "code",
      "metadata": {
        "id": "sjNpNN6QLNb-",
        "colab_type": "code",
        "colab": {}
      },
      "source": [
        "!pip install -q keras"
      ],
      "execution_count": 0,
      "outputs": []
    },
    {
      "cell_type": "code",
      "metadata": {
        "id": "BZd3E4SLLb8q",
        "colab_type": "code",
        "colab": {}
      },
      "source": [
        "import os\n",
        "os.environ[\"THEANO_FLAGS\"] = \"mode=FAST_RUN,device=gpu,floatX=float32\"\n"
      ],
      "execution_count": 0,
      "outputs": []
    },
    {
      "cell_type": "code",
      "metadata": {
        "id": "UhXbfPljLhhT",
        "colab_type": "code",
        "colab": {}
      },
      "source": [
        "from keras import backend as K\n",
        "if K.backend()=='tensorflow':\n",
        "    K.set_image_dim_ordering(\"th\")"
      ],
      "execution_count": 0,
      "outputs": []
    },
    {
      "cell_type": "code",
      "metadata": {
        "id": "wqST3dIFgOMO",
        "colab_type": "code",
        "colab": {}
      },
      "source": [
        "from sklearn.datasets import load_diabetes\n",
        "import matplotlib.pyplot as plt\n",
        "\n",
        "%matplotlib inline"
      ],
      "execution_count": 0,
      "outputs": []
    },
    {
      "cell_type": "code",
      "metadata": {
        "id": "c_6Itg8NgOMU",
        "colab_type": "code",
        "outputId": "51775673-768a-4bae-96e3-e3953accd7e0",
        "colab": {
          "base_uri": "https://localhost:8080/",
          "height": 141
        }
      },
      "source": [
        "data = load_diabetes()\n",
        "#show the description of this data below\n",
        "import pandas as pd\n",
        "for key, value in data.items():\n",
        "  print(key,value[0])"
      ],
      "execution_count": 0,
      "outputs": [
        {
          "output_type": "stream",
          "text": [
            "data [ 0.03807591  0.05068012  0.06169621  0.02187235 -0.0442235  -0.03482076\n",
            " -0.04340085 -0.00259226  0.01990842 -0.01764613]\n",
            "target 151.0\n",
            "DESCR .\n",
            "feature_names age\n",
            "data_filename /\n",
            "target_filename /\n"
          ],
          "name": "stdout"
        }
      ]
    },
    {
      "cell_type": "code",
      "metadata": {
        "id": "KKESRlrx6MC4",
        "colab_type": "code",
        "outputId": "7adace3f-6596-4c54-982b-4ff94e4e803a",
        "colab": {
          "base_uri": "https://localhost:8080/",
          "height": 692
        }
      },
      "source": [
        "print(data.DESCR)"
      ],
      "execution_count": 0,
      "outputs": [
        {
          "output_type": "stream",
          "text": [
            ".. _diabetes_dataset:\n",
            "\n",
            "Diabetes dataset\n",
            "----------------\n",
            "\n",
            "Ten baseline variables, age, sex, body mass index, average blood\n",
            "pressure, and six blood serum measurements were obtained for each of n =\n",
            "442 diabetes patients, as well as the response of interest, a\n",
            "quantitative measure of disease progression one year after baseline.\n",
            "\n",
            "**Data Set Characteristics:**\n",
            "\n",
            "  :Number of Instances: 442\n",
            "\n",
            "  :Number of Attributes: First 10 columns are numeric predictive values\n",
            "\n",
            "  :Target: Column 11 is a quantitative measure of disease progression one year after baseline\n",
            "\n",
            "  :Attribute Information:\n",
            "      - Age\n",
            "      - Sex\n",
            "      - Body mass index\n",
            "      - Average blood pressure\n",
            "      - S1\n",
            "      - S2\n",
            "      - S3\n",
            "      - S4\n",
            "      - S5\n",
            "      - S6\n",
            "\n",
            "Note: Each of these 10 feature variables have been mean centered and scaled by the standard deviation times `n_samples` (i.e. the sum of squares of each column totals 1).\n",
            "\n",
            "Source URL:\n",
            "http://www4.stat.ncsu.edu/~boos/var.select/diabetes.html\n",
            "\n",
            "For more information see:\n",
            "Bradley Efron, Trevor Hastie, Iain Johnstone and Robert Tibshirani (2004) \"Least Angle Regression,\" Annals of Statistics (with discussion), 407-499.\n",
            "(http://web.stanford.edu/~hastie/Papers/LARS/LeastAngle_2002.pdf)\n"
          ],
          "name": "stdout"
        }
      ]
    },
    {
      "cell_type": "code",
      "metadata": {
        "id": "LAH6DaH-5cku",
        "colab_type": "code",
        "outputId": "325f8455-c93a-425e-88a8-4d0491a65bb4",
        "colab": {
          "base_uri": "https://localhost:8080/",
          "height": 212
        }
      },
      "source": [
        "pd.Series(data.feature_names).value_counts()"
      ],
      "execution_count": 0,
      "outputs": [
        {
          "output_type": "execute_result",
          "data": {
            "text/plain": [
              "bp     1\n",
              "s4     1\n",
              "age    1\n",
              "bmi    1\n",
              "s1     1\n",
              "s5     1\n",
              "sex    1\n",
              "s6     1\n",
              "s3     1\n",
              "s2     1\n",
              "dtype: int64"
            ]
          },
          "metadata": {
            "tags": []
          },
          "execution_count": 245
        }
      ]
    },
    {
      "cell_type": "code",
      "metadata": {
        "id": "OoTol4vU5sGd",
        "colab_type": "code",
        "outputId": "e3f6ed53-3bee-431f-bf15-25b3272a9bcd",
        "colab": {
          "base_uri": "https://localhost:8080/",
          "height": 34
        }
      },
      "source": [
        "len(data.feature_names)"
      ],
      "execution_count": 0,
      "outputs": [
        {
          "output_type": "execute_result",
          "data": {
            "text/plain": [
              "10"
            ]
          },
          "metadata": {
            "tags": []
          },
          "execution_count": 246
        }
      ]
    },
    {
      "cell_type": "code",
      "metadata": {
        "id": "nNhtp5gPNXbB",
        "colab_type": "code",
        "outputId": "af0005c3-ad00-4f15-b321-fbf849ca63bb",
        "colab": {
          "base_uri": "https://localhost:8080/",
          "height": 603
        }
      },
      "source": [
        "import numpy as np\n",
        "print(data['target'].dtype)\n",
        "unique_elements, counts_elements = np.unique(data['target'], return_counts=True)\n",
        "print(np.asarray((unique_elements, counts_elements)))"
      ],
      "execution_count": 0,
      "outputs": [
        {
          "output_type": "stream",
          "text": [
            "float64\n",
            "[[ 25.  31.  37.  39.  40.  42.  43.  44.  45.  47.  48.  49.  50.  51.\n",
            "   52.  53.  54.  55.  57.  58.  59.  60.  61.  63.  64.  65.  66.  67.\n",
            "   68.  69.  70.  71.  72.  73.  74.  75.  77.  78.  79.  80.  81.  83.\n",
            "   84.  85.  86.  87.  88.  89.  90.  91.  92.  93.  94.  95.  96.  97.\n",
            "   98.  99. 100. 101. 102. 103. 104. 107. 108. 109. 110. 111. 113. 114.\n",
            "  115. 116. 118. 120. 121. 122. 123. 124. 125. 126. 127. 128. 129. 131.\n",
            "  132. 134. 135. 136. 137. 138. 139. 140. 141. 142. 143. 144. 145. 146.\n",
            "  147. 148. 150. 151. 152. 153. 154. 155. 156. 158. 160. 161. 162. 163.\n",
            "  164. 166. 167. 168. 170. 171. 172. 173. 174. 175. 177. 178. 179. 180.\n",
            "  181. 182. 183. 184. 185. 186. 187. 189. 190. 191. 192. 195. 196. 197.\n",
            "  198. 199. 200. 201. 202. 206. 208. 209. 210. 212. 214. 215. 216. 217.\n",
            "  219. 220. 221. 222. 225. 229. 230. 232. 233. 235. 236. 237. 241. 242.\n",
            "  243. 244. 245. 246. 248. 249. 252. 253. 257. 258. 259. 261. 262. 263.\n",
            "  264. 265. 268. 270. 272. 273. 274. 275. 276. 277. 279. 280. 281. 283.\n",
            "  288. 292. 293. 295. 296. 297. 302. 303. 306. 308. 310. 311. 317. 321.\n",
            "  332. 336. 341. 346.]\n",
            " [  1.   1.   1.   2.   1.   3.   1.   1.   1.   2.   3.   3.   1.   3.\n",
            "    4.   4.   1.   4.   1.   1.   4.   3.   2.   4.   3.   4.   2.   2.\n",
            "    3.   3.   2.   5.   6.   1.   2.   2.   4.   3.   1.   1.   2.   3.\n",
            "    4.   4.   1.   2.   4.   2.   5.   4.   2.   2.   3.   2.   4.   4.\n",
            "    1.   2.   1.   3.   3.   2.   4.   2.   1.   4.   2.   3.   3.   1.\n",
            "    2.   2.   3.   1.   2.   2.   1.   2.   1.   1.   2.   4.   3.   4.\n",
            "    2.   2.   2.   1.   2.   2.   2.   2.   3.   4.   2.   4.   1.   1.\n",
            "    1.   1.   4.   3.   2.   1.   1.   2.   1.   2.   2.   1.   1.   2.\n",
            "    2.   1.   1.   3.   3.   1.   2.   2.   2.   1.   1.   5.   2.   2.\n",
            "    2.   3.   1.   1.   3.   1.   1.   1.   2.   2.   1.   1.   2.   2.\n",
            "    3.   1.   6.   1.   4.   2.   1.   1.   1.   1.   3.   1.   1.   2.\n",
            "    2.   4.   1.   1.   2.   1.   2.   2.   3.   2.   1.   2.   1.   3.\n",
            "    2.   1.   2.   2.   3.   1.   3.   1.   2.   3.   3.   1.   2.   2.\n",
            "    1.   3.   2.   2.   2.   1.   1.   4.   1.   2.   1.   1.   4.   2.\n",
            "    1.   2.   1.   1.   1.   1.   1.   1.   1.   1.   3.   1.   1.   1.\n",
            "    1.   1.   1.   1.]]\n"
          ],
          "name": "stdout"
        }
      ]
    },
    {
      "cell_type": "code",
      "metadata": {
        "id": "hD_ThF1DgOMZ",
        "colab_type": "code",
        "colab": {}
      },
      "source": [
        "#show the histogram distribution of the targets"
      ],
      "execution_count": 0,
      "outputs": []
    },
    {
      "cell_type": "code",
      "metadata": {
        "id": "F6V0PnFvlB27",
        "colab_type": "code",
        "outputId": "2bd147a8-b7e0-416a-975e-4e6f0d1ea4c3",
        "colab": {
          "base_uri": "https://localhost:8080/",
          "height": 340
        }
      },
      "source": [
        "plt.hist(data.target)"
      ],
      "execution_count": 0,
      "outputs": [
        {
          "output_type": "execute_result",
          "data": {
            "text/plain": [
              "(array([38., 80., 68., 62., 50., 41., 38., 42., 17.,  6.]),\n",
              " array([ 25. ,  57.1,  89.2, 121.3, 153.4, 185.5, 217.6, 249.7, 281.8,\n",
              "        313.9, 346. ]),\n",
              " <a list of 10 Patch objects>)"
            ]
          },
          "metadata": {
            "tags": []
          },
          "execution_count": 249
        },
        {
          "output_type": "display_data",
          "data": {
            "image/png": "[encoded data removed]",
            "text/plain": [
              "<Figure size 432x288 with 1 Axes>"
            ]
          },
          "metadata": {
            "tags": []
          }
        }
      ]
    },
    {
      "cell_type": "markdown",
      "metadata": {
        "id": "SD1BX9kagOMc",
        "colab_type": "text"
      },
      "source": [
        "\n",
        "\n",
        "\n",
        "\n",
        "\n",
        "\n",
        "\n",
        "\n",
        "\n",
        "Note that the data matrix (i.e., input features) are stored in `data.data`; the target values are stored in `data.target`.\n",
        "\n",
        "To prepare your data...\n",
        "\n",
        "1. Split your data into train and test sets.\n",
        "2. Standardize your data.\n",
        "\n",
        "> Note that the description indicate that these data have already been scaled.  Let's go through the motions and scale explicitly here, since you typically will _not_ have someone else scaling your data for you. "
      ]
    },
    {
      "cell_type": "code",
      "metadata": {
        "id": "ysRQnZGygOMd",
        "colab_type": "code",
        "colab": {}
      },
      "source": [
        "from sklearn.model_selection import train_test_split\n",
        "from sklearn.preprocessing import StandardScaler"
      ],
      "execution_count": 0,
      "outputs": []
    },
    {
      "cell_type": "code",
      "metadata": {
        "id": "Obf_2aNfnwUN",
        "colab_type": "code",
        "outputId": "01ec97d5-e594-4e9d-b12f-4d9762e8cdca",
        "colab": {
          "base_uri": "https://localhost:8080/",
          "height": 692
        }
      },
      "source": [
        "print(data.DESCR)"
      ],
      "execution_count": 0,
      "outputs": [
        {
          "output_type": "stream",
          "text": [
            ".. _diabetes_dataset:\n",
            "\n",
            "Diabetes dataset\n",
            "----------------\n",
            "\n",
            "Ten baseline variables, age, sex, body mass index, average blood\n",
            "pressure, and six blood serum measurements were obtained for each of n =\n",
            "442 diabetes patients, as well as the response of interest, a\n",
            "quantitative measure of disease progression one year after baseline.\n",
            "\n",
            "**Data Set Characteristics:**\n",
            "\n",
            "  :Number of Instances: 442\n",
            "\n",
            "  :Number of Attributes: First 10 columns are numeric predictive values\n",
            "\n",
            "  :Target: Column 11 is a quantitative measure of disease progression one year after baseline\n",
            "\n",
            "  :Attribute Information:\n",
            "      - Age\n",
            "      - Sex\n",
            "      - Body mass index\n",
            "      - Average blood pressure\n",
            "      - S1\n",
            "      - S2\n",
            "      - S3\n",
            "      - S4\n",
            "      - S5\n",
            "      - S6\n",
            "\n",
            "Note: Each of these 10 feature variables have been mean centered and scaled by the standard deviation times `n_samples` (i.e. the sum of squares of each column totals 1).\n",
            "\n",
            "Source URL:\n",
            "http://www4.stat.ncsu.edu/~boos/var.select/diabetes.html\n",
            "\n",
            "For more information see:\n",
            "Bradley Efron, Trevor Hastie, Iain Johnstone and Robert Tibshirani (2004) \"Least Angle Regression,\" Annals of Statistics (with discussion), 407-499.\n",
            "(http://web.stanford.edu/~hastie/Papers/LARS/LeastAngle_2002.pdf)\n"
          ],
          "name": "stdout"
        }
      ]
    },
    {
      "cell_type": "code",
      "metadata": {
        "id": "oipGmUKEmsGf",
        "colab_type": "code",
        "colab": {}
      },
      "source": [
        "#Split the data into X_train, X_test, y_train, y_test\n",
        "\n",
        "X_train, X_test, y_train, y_test = train_test_split(data.data, data.target, test_size=0.2)"
      ],
      "execution_count": 0,
      "outputs": []
    },
    {
      "cell_type": "code",
      "metadata": {
        "id": "FlwYIw1XmsRQ",
        "colab_type": "code",
        "colab": {}
      },
      "source": [
        "#Use StandardScaler to scale the input part\n",
        "ss = StandardScaler()\n",
        "X_train = ss.fit_transform(X_train)\n",
        "X_test = ss.transform(X_test)"
      ],
      "execution_count": 0,
      "outputs": []
    },
    {
      "cell_type": "code",
      "metadata": {
        "id": "pFCmGYYxmsUo",
        "colab_type": "code",
        "outputId": "745585d9-a78a-4a61-8e62-af82bb2bebae",
        "colab": {
          "base_uri": "https://localhost:8080/",
          "height": 34
        }
      },
      "source": [
        "#Show the dimension of X_train\n",
        "X_train.shape"
      ],
      "execution_count": 0,
      "outputs": [
        {
          "output_type": "execute_result",
          "data": {
            "text/plain": [
              "(353, 10)"
            ]
          },
          "metadata": {
            "tags": []
          },
          "execution_count": 254
        }
      ]
    },
    {
      "cell_type": "code",
      "metadata": {
        "id": "hhQygH-CgOMi",
        "colab_type": "code",
        "colab": {}
      },
      "source": [
        "from keras.models import Sequential\n",
        "from keras.layers import Dense"
      ],
      "execution_count": 0,
      "outputs": []
    },
    {
      "cell_type": "code",
      "metadata": {
        "id": "XSKeEvQngOMm",
        "colab_type": "code",
        "colab": {}
      },
      "source": [
        "model = Sequential()"
      ],
      "execution_count": 0,
      "outputs": []
    },
    {
      "cell_type": "code",
      "metadata": {
        "id": "tnHBmzB1gOMo",
        "colab_type": "code",
        "outputId": "64719049-53ac-4c12-f332-9d19d3b5e38d",
        "colab": {
          "base_uri": "https://localhost:8080/",
          "height": 107
        }
      },
      "source": [
        "#build a feedforward NN with one hidden layer\n",
        "model = Sequential()\n",
        "input_size =X_train.shape[1]\n",
        "hidden_units=input_size\n",
        "\n",
        "model.add(Dense(hidden_units*3, input_dim=input_size, init='uniform', activation='relu'))\n",
        "model.add(Dense(1, init='uniform', activation='linear'))\n"
      ],
      "execution_count": 0,
      "outputs": [
        {
          "output_type": "stream",
          "text": [
            "/usr/local/lib/python3.6/dist-packages/ipykernel_launcher.py:5: UserWarning: Update your `Dense` call to the Keras 2 API: `Dense(30, input_dim=10, activation=\"relu\", kernel_initializer=\"uniform\")`\n",
            "  \"\"\"\n",
            "/usr/local/lib/python3.6/dist-packages/ipykernel_launcher.py:6: UserWarning: Update your `Dense` call to the Keras 2 API: `Dense(1, activation=\"linear\", kernel_initializer=\"uniform\")`\n",
            "  \n"
          ],
          "name": "stderr"
        }
      ]
    },
    {
      "cell_type": "code",
      "metadata": {
        "id": "FCNCP7a6gOMr",
        "colab_type": "code",
        "colab": {}
      },
      "source": [
        "from keras.optimizers import Adam\n",
        "#compile the model with loss='mean_squared_error' and optimizer=adam\n",
        "# Compile model\n",
        "model.compile(loss='mean_squared_error', optimizer='adam', metrics=['mean_squared_error'])"
      ],
      "execution_count": 0,
      "outputs": []
    },
    {
      "cell_type": "code",
      "metadata": {
        "id": "WV7drSnpgOMt",
        "colab_type": "code",
        "colab": {}
      },
      "source": [
        "#Train the model with X_train, y_train and validation data as X_test, y_test\n",
        "\n",
        "history = model.fit(X_train, y_train, validation_data=(X_test, y_test),epochs=30, batch_size=20,  verbose=0);"
      ],
      "execution_count": 0,
      "outputs": []
    },
    {
      "cell_type": "code",
      "metadata": {
        "id": "NKDclmV-rkCX",
        "colab_type": "code",
        "outputId": "c0a1b0a4-63a2-4e19-f42a-c3b67e3299c1",
        "colab": {
          "base_uri": "https://localhost:8080/",
          "height": 34
        }
      },
      "source": [
        "predictions = model.predict(X_test)\n",
        "score =model.evaluate(X_test, y_test, batch_size=20,  verbose=0)\n",
        "print('prediction score: %.2f%%' % (score[1]*100))"
      ],
      "execution_count": 0,
      "outputs": [
        {
          "output_type": "stream",
          "text": [
            "prediction score: 1961047.95%\n"
          ],
          "name": "stdout"
        }
      ]
    },
    {
      "cell_type": "code",
      "metadata": {
        "id": "vxEaY2-GFYR0",
        "colab_type": "code",
        "outputId": "b29255ed-2492-48ad-88b4-8ace90b97fd9",
        "colab": {
          "base_uri": "https://localhost:8080/",
          "height": 282
        }
      },
      "source": [
        "training_loss = history.history['loss']\n",
        "test_loss = history.history['val_loss']\n",
        "# Create count of the number of epochs\n",
        "epoch_count = range(1, len(training_loss) + 1)\n",
        "# Visualize loss history\n",
        "plt.plot(epoch_count, training_loss, 'r--')\n",
        "plt.plot(epoch_count, test_loss, 'b-')\n",
        "plt.legend(['Training Loss', 'Test Loss'])\n",
        "plt.xlabel('Epoch')\n",
        "plt.ylabel('Loss')\n",
        "plt.show();"
      ],
      "execution_count": 0,
      "outputs": [
        {
          "output_type": "display_data",
          "data": {
            "image/png": "[encoded data removed]",
            "text/plain": [
              "<Figure size 432x288 with 1 Axes>"
            ]
          },
          "metadata": {
            "tags": []
          }
        }
      ]
    },
    {
      "cell_type": "markdown",
      "metadata": {
        "id": "ZnAzM6Z5gOMw",
        "colab_type": "text"
      },
      "source": [
        "## Binary Classification"
      ]
    },
    {
      "cell_type": "code",
      "metadata": {
        "id": "s9OjQUrkgOMx",
        "colab_type": "code",
        "colab": {}
      },
      "source": [
        "from sklearn.datasets import load_breast_cancer"
      ],
      "execution_count": 0,
      "outputs": []
    },
    {
      "cell_type": "code",
      "metadata": {
        "id": "MRD9JvxpgOM6",
        "colab_type": "code",
        "colab": {}
      },
      "source": [
        "data = load_breast_cancer()\n",
        "\n",
        "X_train, X_test, y_train, y_test = train_test_split(data.data, data.target)\n"
      ],
      "execution_count": 0,
      "outputs": []
    },
    {
      "cell_type": "code",
      "metadata": {
        "id": "BKEdh0z5tZN5",
        "colab_type": "code",
        "outputId": "74abc893-1f1e-442b-a482-3a2c5b7f9ca8",
        "colab": {
          "base_uri": "https://localhost:8080/",
          "height": 247
        }
      },
      "source": [
        "data.data\n"
      ],
      "execution_count": 0,
      "outputs": [
        {
          "output_type": "execute_result",
          "data": {
            "text/plain": [
              "array([[1.799e+01, 1.038e+01, 1.228e+02, ..., 2.654e-01, 4.601e-01,\n",
              "        1.189e-01],\n",
              "       [2.057e+01, 1.777e+01, 1.329e+02, ..., 1.860e-01, 2.750e-01,\n",
              "        8.902e-02],\n",
              "       [1.969e+01, 2.125e+01, 1.300e+02, ..., 2.430e-01, 3.613e-01,\n",
              "        8.758e-02],\n",
              "       ...,\n",
              "       [1.660e+01, 2.808e+01, 1.083e+02, ..., 1.418e-01, 2.218e-01,\n",
              "        7.820e-02],\n",
              "       [2.060e+01, 2.933e+01, 1.401e+02, ..., 2.650e-01, 4.087e-01,\n",
              "        1.240e-01],\n",
              "       [7.760e+00, 2.454e+01, 4.792e+01, ..., 0.000e+00, 2.871e-01,\n",
              "        7.039e-02]])"
            ]
          },
          "metadata": {
            "tags": []
          },
          "execution_count": 264
        }
      ]
    },
    {
      "cell_type": "code",
      "metadata": {
        "id": "Fk1FyqP7gONQ",
        "colab_type": "code",
        "outputId": "f2042969-1eec-43dd-bd87-81aff9b7662c",
        "colab": {
          "base_uri": "https://localhost:8080/",
          "height": 107
        }
      },
      "source": [
        "model = Sequential()\n",
        "\n",
        "\n",
        "n_input = X_train.shape[1]\n",
        "n_hidden = n_input\n",
        "\n",
        "model.add(Dense(n_hidden, input_dim=n_input, activation='relu',init='uniform'))\n",
        "model.add(Dense(1, activation='sigmoid',init = 'uniform'))"
      ],
      "execution_count": 0,
      "outputs": [
        {
          "output_type": "stream",
          "text": [
            "/usr/local/lib/python3.6/dist-packages/ipykernel_launcher.py:7: UserWarning: Update your `Dense` call to the Keras 2 API: `Dense(30, input_dim=30, activation=\"relu\", kernel_initializer=\"uniform\")`\n",
            "  import sys\n",
            "/usr/local/lib/python3.6/dist-packages/ipykernel_launcher.py:8: UserWarning: Update your `Dense` call to the Keras 2 API: `Dense(1, activation=\"sigmoid\", kernel_initializer=\"uniform\")`\n",
            "  \n"
          ],
          "name": "stderr"
        }
      ]
    },
    {
      "cell_type": "markdown",
      "metadata": {
        "id": "Ax37WxgZ9Qr_",
        "colab_type": "text"
      },
      "source": [
        "**Repeat the steps (with appropirate modification )as in Regression model except use compile it with loss='binary_crossentropy' **"
      ]
    },
    {
      "cell_type": "code",
      "metadata": {
        "id": "cTsX8lomyCRL",
        "colab_type": "code",
        "colab": {}
      },
      "source": [
        "model.compile(loss='binary_crossentropy', optimizer='adam', metrics=['accuracy'])\n"
      ],
      "execution_count": 0,
      "outputs": []
    },
    {
      "cell_type": "code",
      "metadata": {
        "id": "wlSiYArLyCtS",
        "colab_type": "code",
        "colab": {}
      },
      "source": [
        "history = model.fit(X_train, y_train, validation_data=(X_test, y_test),epochs=30, batch_size=20,  verbose=0);"
      ],
      "execution_count": 0,
      "outputs": []
    },
    {
      "cell_type": "code",
      "metadata": {
        "id": "DOqgcjulJruQ",
        "colab_type": "code",
        "outputId": "76532298-ce30-4be8-b12e-a5f0119e596b",
        "colab": {
          "base_uri": "https://localhost:8080/",
          "height": 34
        }
      },
      "source": [
        "predictions = model.predict(X_test)\n",
        "score =model.evaluate(X_test, y_test, batch_size=20,  verbose=0)\n",
        "print('prediction score: %.2f%%' % (score[1]*100)  )"
      ],
      "execution_count": 0,
      "outputs": [
        {
          "output_type": "stream",
          "text": [
            "prediction score: 93.71%\n"
          ],
          "name": "stdout"
        }
      ]
    },
    {
      "cell_type": "code",
      "metadata": {
        "id": "qYW8-e71gONc",
        "colab_type": "code",
        "outputId": "b1b9071f-1f4d-4c48-92e7-8a36db5d1f7b",
        "colab": {
          "base_uri": "https://localhost:8080/",
          "height": 282
        }
      },
      "source": [
        "#Show the training and testing loss profile curves\n",
        "\n",
        "training_loss = history.history['loss']\n",
        "test_loss = history.history['val_loss']\n",
        "# Create count of the number of epochs\n",
        "epoch_count = range(1, len(training_loss) + 1)\n",
        "# Visualize loss history\n",
        "plt.plot(epoch_count, training_loss, 'r--')\n",
        "plt.plot(epoch_count, test_loss, 'b-')\n",
        "plt.legend(['Training Loss', 'Test Loss'])\n",
        "plt.xlabel('Epoch')\n",
        "plt.ylabel('Loss')\n",
        "plt.show();"
      ],
      "execution_count": 0,
      "outputs": [
        {
          "output_type": "display_data",
          "data": {
            "image/png": "[encoded data removed]",
            "text/plain": [
              "<Figure size 432x288 with 1 Axes>"
            ]
          },
          "metadata": {
            "tags": []
          }
        }
      ]
    },
    {
      "cell_type": "markdown",
      "metadata": {
        "id": "P592Wjp3gONm",
        "colab_type": "text"
      },
      "source": [
        "## Multi-Class Classification"
      ]
    },
    {
      "cell_type": "code",
      "metadata": {
        "id": "403oy6hRgONm",
        "colab_type": "code",
        "colab": {}
      },
      "source": [
        "from sklearn.datasets import load_iris\n",
        "from keras.utils import to_categorical"
      ],
      "execution_count": 0,
      "outputs": []
    },
    {
      "cell_type": "code",
      "metadata": {
        "id": "kMN1e50sgONo",
        "colab_type": "code",
        "colab": {}
      },
      "source": [
        "data = load_iris()\n",
        "\n",
        "X_train, X_test, y_train, y_test = train_test_split(data.data, data.target)\n"
      ],
      "execution_count": 0,
      "outputs": []
    },
    {
      "cell_type": "code",
      "metadata": {
        "id": "zEJoVFvATT8o",
        "colab_type": "code",
        "outputId": "d86f9659-8c94-41e9-e832-d03eaf03dfe1",
        "colab": {
          "base_uri": "https://localhost:8080/",
          "height": 87
        }
      },
      "source": [
        "pd.Series(data.target).value_counts()"
      ],
      "execution_count": 0,
      "outputs": [
        {
          "output_type": "execute_result",
          "data": {
            "text/plain": [
              "2    50\n",
              "1    50\n",
              "0    50\n",
              "dtype: int64"
            ]
          },
          "metadata": {
            "tags": []
          },
          "execution_count": 272
        }
      ]
    },
    {
      "cell_type": "markdown",
      "metadata": {
        "id": "EabDTn_y951n",
        "colab_type": "text"
      },
      "source": [
        "**Repeat the steps (with appropirate modification )as in Regression model except use compile it with loss='categorical_crossentropy''**"
      ]
    },
    {
      "cell_type": "code",
      "metadata": {
        "id": "ldpRb1JCKtQz",
        "colab_type": "code",
        "outputId": "26d52a88-6c57-43cd-9dd5-df2bb2cb2423",
        "colab": {
          "base_uri": "https://localhost:8080/",
          "height": 107
        }
      },
      "source": [
        "model = Sequential()\n",
        "n_input = X_train.shape[1]\n",
        "n_hidden = n_input\n",
        "model.add(Dense(n_hidden, input_dim=n_input, activation='relu',init='uniform'))\n",
        "model.add(Dense(3, activation='sigmoid',init = 'uniform'))"
      ],
      "execution_count": 0,
      "outputs": [
        {
          "output_type": "stream",
          "text": [
            "/usr/local/lib/python3.6/dist-packages/ipykernel_launcher.py:4: UserWarning: Update your `Dense` call to the Keras 2 API: `Dense(4, input_dim=4, activation=\"relu\", kernel_initializer=\"uniform\")`\n",
            "  after removing the cwd from sys.path.\n",
            "/usr/local/lib/python3.6/dist-packages/ipykernel_launcher.py:5: UserWarning: Update your `Dense` call to the Keras 2 API: `Dense(3, activation=\"sigmoid\", kernel_initializer=\"uniform\")`\n",
            "  \"\"\"\n"
          ],
          "name": "stderr"
        }
      ]
    },
    {
      "cell_type": "code",
      "metadata": {
        "id": "74bfwh6oKtXv",
        "colab_type": "code",
        "colab": {}
      },
      "source": [
        "model.compile(loss='categorical_crossentropy', optimizer='adam', metrics=['accuracy'])\n"
      ],
      "execution_count": 0,
      "outputs": []
    },
    {
      "cell_type": "code",
      "metadata": {
        "id": "0qBolLQCLLrk",
        "colab_type": "code",
        "outputId": "2b935d76-2be3-4a28-ffbd-6bd6f6f4dc40",
        "colab": {
          "base_uri": "https://localhost:8080/",
          "height": 34
        }
      },
      "source": [
        "y_train_c = to_categorical(y_train, num_classes=3)\n",
        "y_test_c = to_categorical(y_test, num_classes=3)\n",
        "print('original y_train size:',y_train.shape,'transformed y_train shape:', y_train_c.shape)"
      ],
      "execution_count": 0,
      "outputs": [
        {
          "output_type": "stream",
          "text": [
            "original y_train size: (112,) transformed y_train shape: (112, 3)\n"
          ],
          "name": "stdout"
        }
      ]
    },
    {
      "cell_type": "code",
      "metadata": {
        "id": "PlkgSnGvKtz9",
        "colab_type": "code",
        "colab": {}
      },
      "source": [
        "history = model.fit(X_train, y_train_c, validation_data=(X_test, y_test_c),epochs=30, batch_size=20,  verbose=0);"
      ],
      "execution_count": 0,
      "outputs": []
    },
    {
      "cell_type": "code",
      "metadata": {
        "id": "oSOPDwSiKt3T",
        "colab_type": "code",
        "outputId": "c95a410b-dfb7-48e9-9ad3-eb1e3d75c369",
        "colab": {
          "base_uri": "https://localhost:8080/",
          "height": 34
        }
      },
      "source": [
        "predictions = model.predict(X_test)\n",
        "score =model.evaluate(X_test, y_test_c, batch_size=20,  verbose=0)\n",
        "print('prediction score: %.2f%%' % (score[1]*100)  )"
      ],
      "execution_count": 0,
      "outputs": [
        {
          "output_type": "stream",
          "text": [
            "prediction score: 65.79%\n"
          ],
          "name": "stdout"
        }
      ]
    },
    {
      "cell_type": "code",
      "metadata": {
        "id": "jzQxFKChgON7",
        "colab_type": "code",
        "colab": {}
      },
      "source": [
        "#Plot the training and testing loss courves"
      ],
      "execution_count": 0,
      "outputs": []
    },
    {
      "cell_type": "code",
      "metadata": {
        "id": "eb_wVJw-gOOA",
        "colab_type": "code",
        "outputId": "38928673-560f-4e5e-b383-573a64ea02f7",
        "colab": {
          "base_uri": "https://localhost:8080/",
          "height": 282
        }
      },
      "source": [
        "training_loss = history.history['loss']\n",
        "test_loss = history.history['val_loss']\n",
        "# Create count of the number of epochs\n",
        "epoch_count = range(1, len(training_loss) + 1)\n",
        "# Visualize loss history\n",
        "plt.plot(epoch_count, training_loss, 'r--')\n",
        "plt.plot(epoch_count, test_loss, 'b-')\n",
        "plt.legend(['Training Loss', 'Test Loss'])\n",
        "plt.xlabel('Epoch')\n",
        "plt.ylabel('Loss')\n",
        "plt.show();"
      ],
      "execution_count": 0,
      "outputs": [
        {
          "output_type": "display_data",
          "data": {
            "image/png": "[encoded data removed]",
            "text/plain": [
              "<Figure size 432x288 with 1 Axes>"
            ]
          },
          "metadata": {
            "tags": []
          }
        }
      ]
    },
    {
      "cell_type": "code",
      "metadata": {
        "id": "Eh3h61vNLrLA",
        "colab_type": "code",
        "colab": {}
      },
      "source": [
        ""
      ],
      "execution_count": 0,
      "outputs": []
    }
  ]
}