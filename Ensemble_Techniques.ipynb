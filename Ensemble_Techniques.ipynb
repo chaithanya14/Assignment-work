{
  "nbformat": 4,
  "nbformat_minor": 0,
  "metadata": {
    "colab": {
      "name": "Ensemble Techniques.ipynb",
      "version": "0.3.2",
      "provenance": [],
      "collapsed_sections": []
    },
    "kernelspec": {
      "display_name": "Python 3",
      "language": "python",
      "name": "python3"
    }
  },
  "cells": [
    {
      "cell_type": "markdown",
      "metadata": {
        "id": "uZ5vbHH1d6Po",
        "colab_type": "text"
      },
      "source": [
        "# HW5: Ensemble methods and cross validation with college data\n",
        "\n",
        "Using the college statistic data to compare different ensemble methods on their performance with cross validation.\n"
      ]
    },
    {
      "cell_type": "code",
      "metadata": {
        "id": "uJRcz7cnd6Pp",
        "colab_type": "code",
        "colab": {}
      },
      "source": [
        "# import few things we will use in this exercise\n",
        "import pandas as pd\n",
        "from sklearn.model_selection import cross_val_score, StratifiedKFold\n",
        "from sklearn.preprocessing import LabelEncoder\n",
        "from sklearn.tree import DecisionTreeClassifier\n",
        "from sklearn.ensemble import RandomForestClassifier, ExtraTreesClassifier, BaggingClassifier,AdaBoostClassifier,GradientBoostingClassifier"
      ],
      "execution_count": 0,
      "outputs": []
    },
    {
      "cell_type": "code",
      "metadata": {
        "colab_type": "code",
        "id": "1WbzJM4cYp1I",
        "colab": {}
      },
      "source": [
        "#1 Code to read csv file into colaboratory:\n",
        "!pip install -U -q PyDrive\n",
        "from pydrive.auth import GoogleAuth\n",
        "from pydrive.drive import GoogleDrive\n",
        "from google.colab import auth\n",
        "from oauth2client.client import GoogleCredentials\n",
        "\n",
        "# 1. Authenticate and create the PyDrive client.\n",
        "auth.authenticate_user()\n",
        "gauth = GoogleAuth()\n",
        "gauth.credentials = GoogleCredentials.get_application_default()\n",
        "drive = GoogleDrive(gauth)"
      ],
      "execution_count": 0,
      "outputs": []
    },
    {
      "cell_type": "code",
      "metadata": {
        "colab_type": "code",
        "id": "ubjxW9IrYrMG",
        "colab": {}
      },
      "source": [
        "#2. Get the file\n",
        "#make sure you upload all your data files to your Google drive and change share->Advanced->change->anyone with the link can view\n",
        "downloaded = drive.CreateFile({'id':'185gv_hzqVvSUI_TBDINYNU6Leawu5tMo'}) # replace the id with id of file you want to access\n",
        "downloaded.GetContentFile('college.csv')"
      ],
      "execution_count": 0,
      "outputs": []
    },
    {
      "cell_type": "code",
      "metadata": {
        "id": "dxKzuHXNd6Pt",
        "colab_type": "code",
        "colab": {}
      },
      "source": [
        "# read in the data and save it in a dataframe\n",
        "col = pd.read_csv('college.csv')"
      ],
      "execution_count": 0,
      "outputs": []
    },
    {
      "cell_type": "code",
      "metadata": {
        "id": "QedE_6P_d6Px",
        "colab_type": "code",
        "outputId": "b68ab3b1-9193-4c24-e17b-ad9d24b137c4",
        "colab": {
          "base_uri": "https://localhost:8080/",
          "height": 367
        }
      },
      "source": [
        "# Take a look and see what's in it\n",
        "col.head(5)"
      ],
      "execution_count": 0,
      "outputs": [
        {
          "output_type": "execute_result",
          "data": {
            "text/html": [
              "<div>\n",
              "<style scoped>\n",
              "    .dataframe tbody tr th:only-of-type {\n",
              "        vertical-align: middle;\n",
              "    }\n",
              "\n",
              "    .dataframe tbody tr th {\n",
              "        vertical-align: top;\n",
              "    }\n",
              "\n",
              "    .dataframe thead th {\n",
              "        text-align: right;\n",
              "    }\n",
              "</style>\n",
              "<table border=\"1\" class=\"dataframe\">\n",
              "  <thead>\n",
              "    <tr style=\"text-align: right;\">\n",
              "      <th></th>\n",
              "      <th>Unnamed: 0</th>\n",
              "      <th>Private</th>\n",
              "      <th>Apps</th>\n",
              "      <th>Accept</th>\n",
              "      <th>Enroll</th>\n",
              "      <th>Top10perc</th>\n",
              "      <th>Top25perc</th>\n",
              "      <th>F.Undergrad</th>\n",
              "      <th>P.Undergrad</th>\n",
              "      <th>Outstate</th>\n",
              "      <th>Room.Board</th>\n",
              "      <th>Books</th>\n",
              "      <th>Personal</th>\n",
              "      <th>PhD</th>\n",
              "      <th>Terminal</th>\n",
              "      <th>S.F.Ratio</th>\n",
              "      <th>perc.alumni</th>\n",
              "      <th>Expend</th>\n",
              "      <th>Grad.Rate</th>\n",
              "    </tr>\n",
              "  </thead>\n",
              "  <tbody>\n",
              "    <tr>\n",
              "      <th>0</th>\n",
              "      <td>Abilene Christian University</td>\n",
              "      <td>Yes</td>\n",
              "      <td>1660</td>\n",
              "      <td>1232</td>\n",
              "      <td>721</td>\n",
              "      <td>23</td>\n",
              "      <td>52</td>\n",
              "      <td>2885</td>\n",
              "      <td>537</td>\n",
              "      <td>7440</td>\n",
              "      <td>3300</td>\n",
              "      <td>450</td>\n",
              "      <td>2200</td>\n",
              "      <td>70</td>\n",
              "      <td>78</td>\n",
              "      <td>18.1</td>\n",
              "      <td>12</td>\n",
              "      <td>7041</td>\n",
              "      <td>60</td>\n",
              "    </tr>\n",
              "    <tr>\n",
              "      <th>1</th>\n",
              "      <td>Adelphi University</td>\n",
              "      <td>Yes</td>\n",
              "      <td>2186</td>\n",
              "      <td>1924</td>\n",
              "      <td>512</td>\n",
              "      <td>16</td>\n",
              "      <td>29</td>\n",
              "      <td>2683</td>\n",
              "      <td>1227</td>\n",
              "      <td>12280</td>\n",
              "      <td>6450</td>\n",
              "      <td>750</td>\n",
              "      <td>1500</td>\n",
              "      <td>29</td>\n",
              "      <td>30</td>\n",
              "      <td>12.2</td>\n",
              "      <td>16</td>\n",
              "      <td>10527</td>\n",
              "      <td>56</td>\n",
              "    </tr>\n",
              "    <tr>\n",
              "      <th>2</th>\n",
              "      <td>Adrian College</td>\n",
              "      <td>Yes</td>\n",
              "      <td>1428</td>\n",
              "      <td>1097</td>\n",
              "      <td>336</td>\n",
              "      <td>22</td>\n",
              "      <td>50</td>\n",
              "      <td>1036</td>\n",
              "      <td>99</td>\n",
              "      <td>11250</td>\n",
              "      <td>3750</td>\n",
              "      <td>400</td>\n",
              "      <td>1165</td>\n",
              "      <td>53</td>\n",
              "      <td>66</td>\n",
              "      <td>12.9</td>\n",
              "      <td>30</td>\n",
              "      <td>8735</td>\n",
              "      <td>54</td>\n",
              "    </tr>\n",
              "    <tr>\n",
              "      <th>3</th>\n",
              "      <td>Agnes Scott College</td>\n",
              "      <td>Yes</td>\n",
              "      <td>417</td>\n",
              "      <td>349</td>\n",
              "      <td>137</td>\n",
              "      <td>60</td>\n",
              "      <td>89</td>\n",
              "      <td>510</td>\n",
              "      <td>63</td>\n",
              "      <td>12960</td>\n",
              "      <td>5450</td>\n",
              "      <td>450</td>\n",
              "      <td>875</td>\n",
              "      <td>92</td>\n",
              "      <td>97</td>\n",
              "      <td>7.7</td>\n",
              "      <td>37</td>\n",
              "      <td>19016</td>\n",
              "      <td>59</td>\n",
              "    </tr>\n",
              "    <tr>\n",
              "      <th>4</th>\n",
              "      <td>Alaska Pacific University</td>\n",
              "      <td>Yes</td>\n",
              "      <td>193</td>\n",
              "      <td>146</td>\n",
              "      <td>55</td>\n",
              "      <td>16</td>\n",
              "      <td>44</td>\n",
              "      <td>249</td>\n",
              "      <td>869</td>\n",
              "      <td>7560</td>\n",
              "      <td>4120</td>\n",
              "      <td>800</td>\n",
              "      <td>1500</td>\n",
              "      <td>76</td>\n",
              "      <td>72</td>\n",
              "      <td>11.9</td>\n",
              "      <td>2</td>\n",
              "      <td>10922</td>\n",
              "      <td>15</td>\n",
              "    </tr>\n",
              "  </tbody>\n",
              "</table>\n",
              "</div>"
            ],
            "text/plain": [
              "                     Unnamed: 0 Private  Apps  Accept  Enroll  Top10perc  \\\n",
              "0  Abilene Christian University     Yes  1660    1232     721         23   \n",
              "1            Adelphi University     Yes  2186    1924     512         16   \n",
              "2                Adrian College     Yes  1428    1097     336         22   \n",
              "3           Agnes Scott College     Yes   417     349     137         60   \n",
              "4     Alaska Pacific University     Yes   193     146      55         16   \n",
              "\n",
              "   Top25perc  F.Undergrad  P.Undergrad  Outstate  Room.Board  Books  Personal  \\\n",
              "0         52         2885          537      7440        3300    450      2200   \n",
              "1         29         2683         1227     12280        6450    750      1500   \n",
              "2         50         1036           99     11250        3750    400      1165   \n",
              "3         89          510           63     12960        5450    450       875   \n",
              "4         44          249          869      7560        4120    800      1500   \n",
              "\n",
              "   PhD  Terminal  S.F.Ratio  perc.alumni  Expend  Grad.Rate  \n",
              "0   70        78       18.1           12    7041         60  \n",
              "1   29        30       12.2           16   10527         56  \n",
              "2   53        66       12.9           30    8735         54  \n",
              "3   92        97        7.7           37   19016         59  \n",
              "4   76        72       11.9            2   10922         15  "
            ]
          },
          "metadata": {
            "tags": []
          },
          "execution_count": 6
        }
      ]
    },
    {
      "cell_type": "markdown",
      "metadata": {
        "id": "FnPoU_Fxd6P0",
        "colab_type": "text"
      },
      "source": [
        "---\n",
        "## EDA: \n",
        "##### You may perform more EDA steps than the ones suggested below."
      ]
    },
    {
      "cell_type": "code",
      "metadata": {
        "id": "y0ftsJI0d6P1",
        "colab_type": "code",
        "outputId": "af3108b6-9421-44ba-d361-3096a21a7941",
        "colab": {
          "base_uri": "https://localhost:8080/",
          "height": 443
        }
      },
      "source": [
        "# See what kind of data format and how many are there in each column\n",
        "col.info()"
      ],
      "execution_count": 0,
      "outputs": [
        {
          "output_type": "stream",
          "text": [
            "<class 'pandas.core.frame.DataFrame'>\n",
            "RangeIndex: 777 entries, 0 to 776\n",
            "Data columns (total 19 columns):\n",
            "Unnamed: 0     777 non-null object\n",
            "Private        777 non-null object\n",
            "Apps           777 non-null int64\n",
            "Accept         777 non-null int64\n",
            "Enroll         777 non-null int64\n",
            "Top10perc      777 non-null int64\n",
            "Top25perc      777 non-null int64\n",
            "F.Undergrad    777 non-null int64\n",
            "P.Undergrad    777 non-null int64\n",
            "Outstate       777 non-null int64\n",
            "Room.Board     777 non-null int64\n",
            "Books          777 non-null int64\n",
            "Personal       777 non-null int64\n",
            "PhD            777 non-null int64\n",
            "Terminal       777 non-null int64\n",
            "S.F.Ratio      777 non-null float64\n",
            "perc.alumni    777 non-null int64\n",
            "Expend         777 non-null int64\n",
            "Grad.Rate      777 non-null int64\n",
            "dtypes: float64(1), int64(16), object(2)\n",
            "memory usage: 115.4+ KB\n"
          ],
          "name": "stdout"
        }
      ]
    },
    {
      "cell_type": "code",
      "metadata": {
        "id": "HVnAbGsCKpOB",
        "colab_type": "code",
        "outputId": "649f71b9-d165-417f-bc99-0dedf171e560",
        "colab": {
          "base_uri": "https://localhost:8080/",
          "height": 34
        }
      },
      "source": [
        "col.shape ## There are 777 rows and 19 columns in the dataset"
      ],
      "execution_count": 0,
      "outputs": [
        {
          "output_type": "execute_result",
          "data": {
            "text/plain": [
              "(777, 19)"
            ]
          },
          "metadata": {
            "tags": []
          },
          "execution_count": 8
        }
      ]
    },
    {
      "cell_type": "code",
      "metadata": {
        "id": "GbmJGfZ-Kxtj",
        "colab_type": "code",
        "outputId": "d0c42325-df36-49b8-b3d7-43037db0e1f6",
        "colab": {
          "base_uri": "https://localhost:8080/",
          "height": 372
        }
      },
      "source": [
        "col.dtypes"
      ],
      "execution_count": 0,
      "outputs": [
        {
          "output_type": "execute_result",
          "data": {
            "text/plain": [
              "Unnamed: 0      object\n",
              "Private         object\n",
              "Apps             int64\n",
              "Accept           int64\n",
              "Enroll           int64\n",
              "Top10perc        int64\n",
              "Top25perc        int64\n",
              "F.Undergrad      int64\n",
              "P.Undergrad      int64\n",
              "Outstate         int64\n",
              "Room.Board       int64\n",
              "Books            int64\n",
              "Personal         int64\n",
              "PhD              int64\n",
              "Terminal         int64\n",
              "S.F.Ratio      float64\n",
              "perc.alumni      int64\n",
              "Expend           int64\n",
              "Grad.Rate        int64\n",
              "dtype: object"
            ]
          },
          "metadata": {
            "tags": []
          },
          "execution_count": 9
        }
      ]
    },
    {
      "cell_type": "markdown",
      "metadata": {
        "id": "6sA4l-Wed6P3",
        "colab_type": "text"
      },
      "source": [
        "---\n",
        "\n",
        "#### Rename the first column name to University so it will be easier to relate."
      ]
    },
    {
      "cell_type": "code",
      "metadata": {
        "id": "Uh0uBZmKd6P4",
        "colab_type": "code",
        "outputId": "b7b7820b-cb16-48df-c2d2-a65ae980be9e",
        "colab": {
          "base_uri": "https://localhost:8080/",
          "height": 177
        }
      },
      "source": [
        "#After renaming, check to see if the column names got changed.\n",
        "\n",
        "col.rename(columns = {'Unnamed: 0' : 'University'},inplace = True)\n",
        "col.head(2)"
      ],
      "execution_count": 0,
      "outputs": [
        {
          "output_type": "execute_result",
          "data": {
            "text/html": [
              "<div>\n",
              "<style scoped>\n",
              "    .dataframe tbody tr th:only-of-type {\n",
              "        vertical-align: middle;\n",
              "    }\n",
              "\n",
              "    .dataframe tbody tr th {\n",
              "        vertical-align: top;\n",
              "    }\n",
              "\n",
              "    .dataframe thead th {\n",
              "        text-align: right;\n",
              "    }\n",
              "</style>\n",
              "<table border=\"1\" class=\"dataframe\">\n",
              "  <thead>\n",
              "    <tr style=\"text-align: right;\">\n",
              "      <th></th>\n",
              "      <th>University</th>\n",
              "      <th>Private</th>\n",
              "      <th>Apps</th>\n",
              "      <th>Accept</th>\n",
              "      <th>Enroll</th>\n",
              "      <th>Top10perc</th>\n",
              "      <th>Top25perc</th>\n",
              "      <th>F.Undergrad</th>\n",
              "      <th>P.Undergrad</th>\n",
              "      <th>Outstate</th>\n",
              "      <th>Room.Board</th>\n",
              "      <th>Books</th>\n",
              "      <th>Personal</th>\n",
              "      <th>PhD</th>\n",
              "      <th>Terminal</th>\n",
              "      <th>S.F.Ratio</th>\n",
              "      <th>perc.alumni</th>\n",
              "      <th>Expend</th>\n",
              "      <th>Grad.Rate</th>\n",
              "    </tr>\n",
              "  </thead>\n",
              "  <tbody>\n",
              "    <tr>\n",
              "      <th>0</th>\n",
              "      <td>Abilene Christian University</td>\n",
              "      <td>Yes</td>\n",
              "      <td>1660</td>\n",
              "      <td>1232</td>\n",
              "      <td>721</td>\n",
              "      <td>23</td>\n",
              "      <td>52</td>\n",
              "      <td>2885</td>\n",
              "      <td>537</td>\n",
              "      <td>7440</td>\n",
              "      <td>3300</td>\n",
              "      <td>450</td>\n",
              "      <td>2200</td>\n",
              "      <td>70</td>\n",
              "      <td>78</td>\n",
              "      <td>18.1</td>\n",
              "      <td>12</td>\n",
              "      <td>7041</td>\n",
              "      <td>60</td>\n",
              "    </tr>\n",
              "    <tr>\n",
              "      <th>1</th>\n",
              "      <td>Adelphi University</td>\n",
              "      <td>Yes</td>\n",
              "      <td>2186</td>\n",
              "      <td>1924</td>\n",
              "      <td>512</td>\n",
              "      <td>16</td>\n",
              "      <td>29</td>\n",
              "      <td>2683</td>\n",
              "      <td>1227</td>\n",
              "      <td>12280</td>\n",
              "      <td>6450</td>\n",
              "      <td>750</td>\n",
              "      <td>1500</td>\n",
              "      <td>29</td>\n",
              "      <td>30</td>\n",
              "      <td>12.2</td>\n",
              "      <td>16</td>\n",
              "      <td>10527</td>\n",
              "      <td>56</td>\n",
              "    </tr>\n",
              "  </tbody>\n",
              "</table>\n",
              "</div>"
            ],
            "text/plain": [
              "                     University Private  Apps  Accept  Enroll  Top10perc  \\\n",
              "0  Abilene Christian University     Yes  1660    1232     721         23   \n",
              "1            Adelphi University     Yes  2186    1924     512         16   \n",
              "\n",
              "   Top25perc  F.Undergrad  P.Undergrad  Outstate  Room.Board  Books  Personal  \\\n",
              "0         52         2885          537      7440        3300    450      2200   \n",
              "1         29         2683         1227     12280        6450    750      1500   \n",
              "\n",
              "   PhD  Terminal  S.F.Ratio  perc.alumni  Expend  Grad.Rate  \n",
              "0   70        78       18.1           12    7041         60  \n",
              "1   29        30       12.2           16   10527         56  "
            ]
          },
          "metadata": {
            "tags": []
          },
          "execution_count": 10
        }
      ]
    },
    {
      "cell_type": "markdown",
      "metadata": {
        "id": "m7kWdC1wd6P7",
        "colab_type": "text"
      },
      "source": [
        "#### Change yes/no to 1/0 in column 'Priviate' to get it ready for model training."
      ]
    },
    {
      "cell_type": "code",
      "metadata": {
        "id": "NzdtTbw7d6P8",
        "colab_type": "code",
        "outputId": "58787da0-b087-4849-a11b-2f4d9f3c068f",
        "colab": {
          "base_uri": "https://localhost:8080/",
          "height": 70
        }
      },
      "source": [
        "#First of all, find out how many yes and no are there in the 'Private' column.\n",
        "col.loc[:,'Private'].value_counts()\n",
        "col.Private.value_counts()"
      ],
      "execution_count": 0,
      "outputs": [
        {
          "output_type": "execute_result",
          "data": {
            "text/plain": [
              "Yes    565\n",
              "No     212\n",
              "Name: Private, dtype: int64"
            ]
          },
          "metadata": {
            "tags": []
          },
          "execution_count": 11
        }
      ]
    },
    {
      "cell_type": "code",
      "metadata": {
        "id": "DZLzVveYd6P_",
        "colab_type": "code",
        "outputId": "884968d4-70f9-4f5e-e74f-be6bc3a74253",
        "colab": {
          "base_uri": "https://localhost:8080/",
          "height": 70
        }
      },
      "source": [
        "#change yes to 1 and no to 0 in the \"Private\" column and view the changes after your action.\n",
        "Private_dummies = pd.get_dummies(col.Private,prefix = 'Private') # Convert string categories  into dummies\n",
        "\n",
        "Private_dummies.drop(Private_dummies.columns[0],axis = 1,inplace = True) # Drop first column after creating of dummies\n",
        "\n",
        "col.drop(['Private'],axis = 1,inplace = True) # Drop the actual Private Column\n",
        "\n",
        "col.insert(loc = 1,column = 'Private', value = Private_dummies ) # Insert the values for Yes as 1's and No as 0's\n",
        "\n",
        "col.loc[:,'Private'].value_counts() ## Count the number of 1's and 0's\n"
      ],
      "execution_count": 0,
      "outputs": [
        {
          "output_type": "execute_result",
          "data": {
            "text/plain": [
              "1    565\n",
              "0    212\n",
              "Name: Private, dtype: int64"
            ]
          },
          "metadata": {
            "tags": []
          },
          "execution_count": 170
        }
      ]
    },
    {
      "cell_type": "code",
      "metadata": {
        "id": "DDUgLyILd6QD",
        "colab_type": "code",
        "outputId": "4aa66c7c-9343-41ea-da7b-948a026db234",
        "colab": {
          "base_uri": "https://localhost:8080/",
          "height": 70
        }
      },
      "source": [
        "#check to see if there are equal number of 1/0s as that in yes/no you checked earilier.\n",
        "col.loc[:,'Private'].value_counts() ## Count the number of 1's and 0's\n"
      ],
      "execution_count": 0,
      "outputs": [
        {
          "output_type": "execute_result",
          "data": {
            "text/plain": [
              "1    565\n",
              "0    212\n",
              "Name: Private, dtype: int64"
            ]
          },
          "metadata": {
            "tags": []
          },
          "execution_count": 171
        }
      ]
    },
    {
      "cell_type": "markdown",
      "metadata": {
        "id": "t9gelyowRHLM",
        "colab_type": "text"
      },
      "source": [
        "There are 565 - Yes and 212 - No.\n",
        "\n",
        "Now, we have 565 - 1's and 212 - 0's. Hence there is no change in the value counts"
      ]
    },
    {
      "cell_type": "markdown",
      "metadata": {
        "id": "20VNzTnPd6QG",
        "colab_type": "text"
      },
      "source": [
        "___\n",
        "### Compare classification performance of different models with cross validation"
      ]
    },
    {
      "cell_type": "code",
      "metadata": {
        "id": "Am14f1tBTBsV",
        "colab_type": "code",
        "colab": {}
      },
      "source": [
        "coll = col"
      ],
      "execution_count": 0,
      "outputs": []
    },
    {
      "cell_type": "code",
      "metadata": {
        "id": "vmKf-Z0hd6QH",
        "colab_type": "code",
        "colab": {}
      },
      "source": [
        "# Assign the Private column as target y and \n",
        "#assign all columns, except University and Private, in the dataframe as X\n",
        "\n",
        "y = coll.loc[:,'Private']\n",
        "\n",
        "X = coll.iloc[:,2:19]"
      ],
      "execution_count": 0,
      "outputs": []
    },
    {
      "cell_type": "markdown",
      "metadata": {
        "id": "Ylvey_Eqd6QJ",
        "colab_type": "text"
      },
      "source": [
        "#### Create a function that takes a model and the 'number of splits' parameter in StratifiedKFold cross validation"
      ]
    },
    {
      "cell_type": "code",
      "metadata": {
        "id": "1Dy5ejB7Ii49",
        "colab_type": "code",
        "colab": {}
      },
      "source": [
        "from sklearn.tree import DecisionTreeClassifier\n",
        "\n",
        "from sklearn.ensemble import RandomForestClassifier, ExtraTreesClassifier, BaggingClassifier, AdaBoostClassifier,GradientBoostingClassifier\n",
        "  \n",
        "dt = DecisionTreeClassifier()\n",
        "\n",
        "bc = BaggingClassifier()\n",
        "\n",
        "et = ExtraTreesClassifier()\n",
        "\n",
        "rf = RandomForestClassifier()"
      ],
      "execution_count": 0,
      "outputs": []
    },
    {
      "cell_type": "code",
      "metadata": {
        "id": "7aHVm05ld6QK",
        "colab_type": "code",
        "colab": {}
      },
      "source": [
        "def cross_score(model,model_name,n_splitss, X, y):\n",
        "    \"\"\"\n",
        "    Function that shows performance avearge and standard deviation \n",
        "    with different models and differnt number of splits in cross validation.\n",
        "\n",
        "    Args:\n",
        "        model: machine learning model used, e.g., DecisionTreeClassifier()\n",
        "        model_name: The name of the machine learning model used, e.g., 'Decision Tree' Classifier.\n",
        "        n_splits: number of folds used in StratifiedKFold\n",
        "        X: feature data used for the model\n",
        "        y: target data used for the model\n",
        "    Returns:\n",
        "        none\n",
        "    Printout: \n",
        "        the average and the standard deviation of cross validation score \n",
        "        with 3 decimal places like the following.\n",
        "        \n",
        "        Decision Tree Classifier with 2 splits has an average score of 0.916 ± 0.038\n",
        "\n",
        "    \"\"\"\n",
        "    ### your code here ###\n",
        "    from sklearn.model_selection import cross_val_score, StratifiedKFold\n",
        "  \n",
        "    cv = StratifiedKFold(n_splits= n_splitss, shuffle=True)\n",
        "  \n",
        "    s = cross_val_score(model, X, y, cv=cv, n_jobs=-1)\n",
        "  \n",
        "    #print(\"{} Score:\\t{:0.3} ± {:0.3}\".format('model_name', s.mean().round(3), s.std().round(3)))\n",
        "    #print(\"{} Score:\\t{:0.3} ± {:0.3}\".format(model_name, s.mean().round(3), s.std().round(3)))\n",
        "  \n",
        "    print(\"%s Classifier with %s splits has an average score of %s ± %s\" %(model_name,n_splitss,s.mean().round(3),s.std().round(3)))\n",
        "\n",
        "  \n"
      ],
      "execution_count": 0,
      "outputs": []
    },
    {
      "cell_type": "code",
      "metadata": {
        "id": "IDy-3KQrUA0F",
        "colab_type": "code",
        "colab": {}
      },
      "source": [
        ""
      ],
      "execution_count": 0,
      "outputs": []
    },
    {
      "cell_type": "code",
      "metadata": {
        "id": "BIEuwmgMYulN",
        "colab_type": "code",
        "colab": {}
      },
      "source": [
        "from sklearn.tree import DecisionTreeClassifier\n",
        "\n",
        "from sklearn.ensemble import RandomForestClassifier, ExtraTreesClassifier, BaggingClassifier, AdaBoostClassifier,GradientBoostingClassifier\n",
        "  \n",
        "dt = DecisionTreeClassifier()\n",
        "\n",
        "bc = BaggingClassifier()\n",
        "\n",
        "et = ExtraTreesClassifier()\n",
        "\n",
        "rf = RandomForestClassifier()\n",
        "\n",
        "def cross_score(model,model_name,n_splitss, X, y):\n",
        "  from sklearn.model_selection import cross_val_score, StratifiedKFold\n",
        "  \n",
        "  cv = StratifiedKFold(n_splits= n_splitss, shuffle=True)\n",
        "  \n",
        "  s = cross_val_score(model, X, y, cv=cv, n_jobs=-1)\n",
        "  \n",
        "  #print(\"{} Score:\\t{:0.3} ± {:0.3}\".format('model_name', s.mean().round(3), s.std().round(3)))\n",
        "  #print(\"{} Score:\\t{:0.3} ± {:0.3}\".format(model_name, s.mean().round(3), s.std().round(3)))\n",
        "  \n",
        "  print(\"%s Classifier with %s splits has an average score of %s ± %s\" %(model_name,n_splitss,s.mean().round(3),s.std().round(3)))\n",
        "\n",
        "  \n",
        "  #print('{}'.format(model_name))"
      ],
      "execution_count": 0,
      "outputs": []
    },
    {
      "cell_type": "code",
      "metadata": {
        "id": "MwQgxdt7Ywif",
        "colab_type": "code",
        "colab": {}
      },
      "source": [
        "#cross_score(DecisionTreeClassifier(), 'Decision Tree', 3,X,y)\n",
        "\n",
        "cross_score(RandomForestClassifier(), 'Random Forest ', 2,X,y)\n",
        "\n",
        "#cross_score(ExtraTreesClassifier(), 'Extra Trees Classifier', 5,X,y)\n",
        "\n",
        "#cross_score(BaggingClassifier(), 'Bagging Classifier', 5,X,y)\n",
        "\n",
        "#cross_score(RandomForestClassifier(), 'Random Forest', 5,X,y)"
      ],
      "execution_count": 0,
      "outputs": []
    },
    {
      "cell_type": "markdown",
      "metadata": {
        "id": "aPpDcFq1d6QN",
        "colab_type": "text"
      },
      "source": [
        "### Testing the function on Decision Tree algorithm"
      ]
    },
    {
      "cell_type": "code",
      "metadata": {
        "id": "Kg5NFx6W24KO",
        "colab_type": "code",
        "outputId": "96a76366-7e10-4c66-b2d2-e4d0dfc27de0",
        "colab": {
          "base_uri": "https://localhost:8080/",
          "height": 354
        }
      },
      "source": [
        "for i in range(2,21):\n",
        "  \n",
        "  cross_score(dt, 'Decision Tree ', i,X,y)"
      ],
      "execution_count": 0,
      "outputs": [
        {
          "output_type": "stream",
          "text": [
            "Decision Tree  Classifier with 2 splits has an average score of 0.898 ± 0.009\n",
            "Decision Tree  Classifier with 3 splits has an average score of 0.906 ± 0.01\n",
            "Decision Tree  Classifier with 4 splits has an average score of 0.907 ± 0.011\n",
            "Decision Tree  Classifier with 5 splits has an average score of 0.919 ± 0.013\n",
            "Decision Tree  Classifier with 6 splits has an average score of 0.896 ± 0.015\n",
            "Decision Tree  Classifier with 7 splits has an average score of 0.902 ± 0.035\n",
            "Decision Tree  Classifier with 8 splits has an average score of 0.925 ± 0.018\n",
            "Decision Tree  Classifier with 9 splits has an average score of 0.898 ± 0.023\n",
            "Decision Tree  Classifier with 10 splits has an average score of 0.905 ± 0.028\n",
            "Decision Tree  Classifier with 11 splits has an average score of 0.907 ± 0.018\n",
            "Decision Tree  Classifier with 12 splits has an average score of 0.915 ± 0.031\n",
            "Decision Tree  Classifier with 13 splits has an average score of 0.906 ± 0.042\n",
            "Decision Tree  Classifier with 14 splits has an average score of 0.91 ± 0.023\n",
            "Decision Tree  Classifier with 15 splits has an average score of 0.901 ± 0.029\n",
            "Decision Tree  Classifier with 16 splits has an average score of 0.906 ± 0.043\n",
            "Decision Tree  Classifier with 17 splits has an average score of 0.9 ± 0.044\n",
            "Decision Tree  Classifier with 18 splits has an average score of 0.912 ± 0.055\n",
            "Decision Tree  Classifier with 19 splits has an average score of 0.915 ± 0.033\n",
            "Decision Tree  Classifier with 20 splits has an average score of 0.914 ± 0.047\n"
          ],
          "name": "stdout"
        }
      ]
    },
    {
      "cell_type": "markdown",
      "metadata": {
        "id": "INfuLwn7d6QR",
        "colab_type": "text"
      },
      "source": [
        "#### By examining the result above, which split(s) gives you best performance?"
      ]
    },
    {
      "cell_type": "markdown",
      "metadata": {
        "id": "BARz5HPUd6QU",
        "colab_type": "text"
      },
      "source": [
        "\n",
        "\n",
        "Answer: In General, mean should be of maximum and std should be low. The Time, when I ran the above cell it's with 5 splits, has given the maximum mean and low standard deviation, when compared to rest of the other splits. We can make conclusion that split 5 could give best perfomace over the other splits. If you keep re run the value may get change.\n",
        "\n"
      ]
    },
    {
      "cell_type": "markdown",
      "metadata": {
        "id": "GkuJR8Vtd6QU",
        "colab_type": "text"
      },
      "source": [
        "___\n",
        "### Comparing the mean and sd of cross validation scores subject to decision tree and ensemble methods"
      ]
    },
    {
      "cell_type": "markdown",
      "metadata": {
        "id": "58QkzH_1d6QV",
        "colab_type": "text"
      },
      "source": [
        "Use the function you created above to print out  \n",
        "the mean and sd of cross validation scores for  \n",
        "decision trees, bagging, random forest, extra trees ,\n",
        "AdaBoost, and Gradient Boosting classifiers   \n",
        "with 3 folds cross validation."
      ]
    },
    {
      "cell_type": "code",
      "metadata": {
        "id": "jR8665V1T_V-",
        "colab_type": "code",
        "outputId": "c4853371-84bc-47a2-b39a-0e369cdf40b0",
        "colab": {
          "base_uri": "https://localhost:8080/",
          "height": 123
        }
      },
      "source": [
        "cross_score(DecisionTreeClassifier(), 'Decision Tree', 3,X,y)\n",
        "\n",
        "cross_score(RandomForestClassifier(), 'Random Forest ', 3,X,y)\n",
        "\n",
        "cross_score(ExtraTreesClassifier(), 'Extra Trees Classifier', 3,X,y)\n",
        "\n",
        "cross_score(BaggingClassifier(), 'Bagging Classifier', 3,X,y)\n",
        "\n",
        "cross_score(AdaBoostClassifier(), 'Ada Boosst', 3,X,y)\n",
        "\n",
        "cross_score(GradientBoostingClassifier(), 'Gradient Boosting', 3,X,y)\n"
      ],
      "execution_count": 0,
      "outputs": [
        {
          "output_type": "stream",
          "text": [
            "Decision Tree Classifier with 3 splits has an average score of 0.916 ± 0.019\n",
            "Random Forest  Classifier with 3 splits has an average score of 0.93 ± 0.019\n",
            "Extra Trees Classifier Classifier with 3 splits has an average score of 0.937 ± 0.006\n",
            "Bagging Classifier Classifier with 3 splits has an average score of 0.934 ± 0.014\n",
            "Ada Boosst Classifier with 3 splits has an average score of 0.918 ± 0.011\n",
            "Gradient Boosting Classifier with 3 splits has an average score of 0.936 ± 0.005\n"
          ],
          "name": "stdout"
        }
      ]
    },
    {
      "cell_type": "markdown",
      "metadata": {
        "id": "OKJZgjsgd6QZ",
        "colab_type": "text"
      },
      "source": [
        "#### Comment on the mean and the sd deviation of scores and see if they are consistent with the pros and cons of ensemble methods.   \n",
        "You may want to run few times for generalized comparision purposes.\n",
        "\n",
        "--- As I ran the cell several times the ensemble approach values of mean and standard deviation are consistent for most of the time which has very minute variation.\n",
        "\n",
        "It is not much improved with using of ensemble methids, but it any how got improved . The variation and bias got minimized with ensemble approach."
      ]
    },
    {
      "cell_type": "markdown",
      "metadata": {
        "id": "1WHVanMhd6Qa",
        "colab_type": "text"
      },
      "source": [
        "---\n",
        "\n",
        "### Print out the \"feature importances\" of this best model.\n",
        "\n",
        "The model has an attribute called `.feature_importances_` which can tell us which features were most important vs. others. It ranges from 0 to 1, with 1 being the most important.\n",
        "\n",
        "An easy way to think about the feature importance is how much that particular variable was used to make decisions. Really though, it also takes into account how much that feature contributed to splitting up the class or reducing the variance.\n",
        "\n",
        "A feature with higher feature importance reduced the criterion (impurity) more than the other features.\n",
        "\n",
        "See \n",
        "<a href=\"https://towardsdatascience.com/running-random-forests-inspect-the-feature-importances-with-this-code-2b00dd72b92e\">here </a> for more detail and coding sample."
      ]
    },
    {
      "cell_type": "markdown",
      "metadata": {
        "id": "Gt2U0P02d6Qb",
        "colab_type": "text"
      },
      "source": [
        "#### Show, for RandomForestClassifier, the feature importances for each variable predicting private vs. not, sorted by most important feature to least."
      ]
    },
    {
      "cell_type": "code",
      "metadata": {
        "id": "TyJ49slId6Qc",
        "colab_type": "code",
        "colab": {}
      },
      "source": [
        "# show the ranked list of feature importances here\n",
        "\n",
        "rf.fit(X, y)\n",
        "\n",
        "#print(dt.feature_importances_)\n",
        "\n",
        "import pandas as pd\n",
        "feature_importances = pd.DataFrame(rf.feature_importances_,\n",
        "                                   index = X.columns,\n",
        "                                    columns=['Random_Forest_Important_Features']).sort_values('Random_Forest_Important_Features', ascending=False)\n"
      ],
      "execution_count": 0,
      "outputs": []
    },
    {
      "cell_type": "code",
      "metadata": {
        "id": "rvwmVHoeu4-a",
        "colab_type": "code",
        "outputId": "5a7c67d9-c1c0-4d00-b35e-0e290237c6d3",
        "colab": {
          "base_uri": "https://localhost:8080/",
          "height": 557
        }
      },
      "source": [
        "features = feature_importances\n",
        "feature_importances"
      ],
      "execution_count": 0,
      "outputs": [
        {
          "output_type": "execute_result",
          "data": {
            "text/html": [
              "<div>\n",
              "<style scoped>\n",
              "    .dataframe tbody tr th:only-of-type {\n",
              "        vertical-align: middle;\n",
              "    }\n",
              "\n",
              "    .dataframe tbody tr th {\n",
              "        vertical-align: top;\n",
              "    }\n",
              "\n",
              "    .dataframe thead th {\n",
              "        text-align: right;\n",
              "    }\n",
              "</style>\n",
              "<table border=\"1\" class=\"dataframe\">\n",
              "  <thead>\n",
              "    <tr style=\"text-align: right;\">\n",
              "      <th></th>\n",
              "      <th>Random_Forest_Important_Features</th>\n",
              "    </tr>\n",
              "  </thead>\n",
              "  <tbody>\n",
              "    <tr>\n",
              "      <th>F.Undergrad</th>\n",
              "      <td>0.218535</td>\n",
              "    </tr>\n",
              "    <tr>\n",
              "      <th>Outstate</th>\n",
              "      <td>0.203657</td>\n",
              "    </tr>\n",
              "    <tr>\n",
              "      <th>Enroll</th>\n",
              "      <td>0.102236</td>\n",
              "    </tr>\n",
              "    <tr>\n",
              "      <th>P.Undergrad</th>\n",
              "      <td>0.085526</td>\n",
              "    </tr>\n",
              "    <tr>\n",
              "      <th>Expend</th>\n",
              "      <td>0.069796</td>\n",
              "    </tr>\n",
              "    <tr>\n",
              "      <th>Accept</th>\n",
              "      <td>0.056063</td>\n",
              "    </tr>\n",
              "    <tr>\n",
              "      <th>Room.Board</th>\n",
              "      <td>0.045354</td>\n",
              "    </tr>\n",
              "    <tr>\n",
              "      <th>Apps</th>\n",
              "      <td>0.039114</td>\n",
              "    </tr>\n",
              "    <tr>\n",
              "      <th>S.F.Ratio</th>\n",
              "      <td>0.027600</td>\n",
              "    </tr>\n",
              "    <tr>\n",
              "      <th>perc.alumni</th>\n",
              "      <td>0.025828</td>\n",
              "    </tr>\n",
              "    <tr>\n",
              "      <th>Top10perc</th>\n",
              "      <td>0.018959</td>\n",
              "    </tr>\n",
              "    <tr>\n",
              "      <th>Personal</th>\n",
              "      <td>0.018951</td>\n",
              "    </tr>\n",
              "    <tr>\n",
              "      <th>Grad.Rate</th>\n",
              "      <td>0.018642</td>\n",
              "    </tr>\n",
              "    <tr>\n",
              "      <th>PhD</th>\n",
              "      <td>0.018016</td>\n",
              "    </tr>\n",
              "    <tr>\n",
              "      <th>Terminal</th>\n",
              "      <td>0.017629</td>\n",
              "    </tr>\n",
              "    <tr>\n",
              "      <th>Top25perc</th>\n",
              "      <td>0.017353</td>\n",
              "    </tr>\n",
              "    <tr>\n",
              "      <th>Books</th>\n",
              "      <td>0.016740</td>\n",
              "    </tr>\n",
              "  </tbody>\n",
              "</table>\n",
              "</div>"
            ],
            "text/plain": [
              "             Random_Forest_Important_Features\n",
              "F.Undergrad                          0.218535\n",
              "Outstate                             0.203657\n",
              "Enroll                               0.102236\n",
              "P.Undergrad                          0.085526\n",
              "Expend                               0.069796\n",
              "Accept                               0.056063\n",
              "Room.Board                           0.045354\n",
              "Apps                                 0.039114\n",
              "S.F.Ratio                            0.027600\n",
              "perc.alumni                          0.025828\n",
              "Top10perc                            0.018959\n",
              "Personal                             0.018951\n",
              "Grad.Rate                            0.018642\n",
              "PhD                                  0.018016\n",
              "Terminal                             0.017629\n",
              "Top25perc                            0.017353\n",
              "Books                                0.016740"
            ]
          },
          "metadata": {
            "tags": []
          },
          "execution_count": 153
        }
      ]
    },
    {
      "cell_type": "markdown",
      "metadata": {
        "id": "n1Aj4FV9d6Qg",
        "colab_type": "text"
      },
      "source": [
        "#### Show a ranked list of features in col dataframe that is correlated to the target column 'Private'"
      ]
    },
    {
      "cell_type": "code",
      "metadata": {
        "id": "EsKLS0ood6Qh",
        "colab_type": "code",
        "colab": {}
      },
      "source": [
        "# ranked list of features in col dataframe that is correlated to the target column 'Private'.\n",
        "\n",
        "#yy = pd.concat(X,y,axis = 1,inplace = True)\n",
        "\n",
        "result = pd.concat([X, y], axis=1)\n",
        "\n",
        "col.corr().abs().Private.sort_values(ascending= False)\n",
        "\n",
        "#result.corr()\n",
        "\n",
        "data = col.corr().abs().Private.sort_values(ascending= False)\n",
        "\n",
        "data1 = feature_importances\n",
        "\n",
        "dataa = pd.DataFrame(data,data1)\n",
        "\n"
      ],
      "execution_count": 0,
      "outputs": []
    },
    {
      "cell_type": "code",
      "metadata": {
        "id": "EJruscROCO4e",
        "colab_type": "code",
        "outputId": "a675d9d0-45c6-4f98-c714-73f40eaa28a4",
        "colab": {
          "base_uri": "https://localhost:8080/",
          "height": 587
        }
      },
      "source": [
        "dataa = pd.concat([data,data1],axis = 1 )\n",
        "\n",
        "#df.sort_values('2')\n",
        "\n",
        "#dataa.sort_values('Private')\n",
        "\n",
        "dataa.sort_values(by=['Private'], ascending=False)"
      ],
      "execution_count": 0,
      "outputs": [
        {
          "output_type": "execute_result",
          "data": {
            "text/html": [
              "<div>\n",
              "<style scoped>\n",
              "    .dataframe tbody tr th:only-of-type {\n",
              "        vertical-align: middle;\n",
              "    }\n",
              "\n",
              "    .dataframe tbody tr th {\n",
              "        vertical-align: top;\n",
              "    }\n",
              "\n",
              "    .dataframe thead th {\n",
              "        text-align: right;\n",
              "    }\n",
              "</style>\n",
              "<table border=\"1\" class=\"dataframe\">\n",
              "  <thead>\n",
              "    <tr style=\"text-align: right;\">\n",
              "      <th></th>\n",
              "      <th>Private</th>\n",
              "      <th>Random_Forest_Important_Features</th>\n",
              "    </tr>\n",
              "  </thead>\n",
              "  <tbody>\n",
              "    <tr>\n",
              "      <th>Private</th>\n",
              "      <td>1.000000</td>\n",
              "      <td>NaN</td>\n",
              "    </tr>\n",
              "    <tr>\n",
              "      <th>F.Undergrad</th>\n",
              "      <td>0.615561</td>\n",
              "      <td>0.218535</td>\n",
              "    </tr>\n",
              "    <tr>\n",
              "      <th>Enroll</th>\n",
              "      <td>0.567908</td>\n",
              "      <td>0.102236</td>\n",
              "    </tr>\n",
              "    <tr>\n",
              "      <th>Outstate</th>\n",
              "      <td>0.552650</td>\n",
              "      <td>0.203657</td>\n",
              "    </tr>\n",
              "    <tr>\n",
              "      <th>Accept</th>\n",
              "      <td>0.475252</td>\n",
              "      <td>0.056063</td>\n",
              "    </tr>\n",
              "    <tr>\n",
              "      <th>S.F.Ratio</th>\n",
              "      <td>0.472205</td>\n",
              "      <td>0.027600</td>\n",
              "    </tr>\n",
              "    <tr>\n",
              "      <th>P.Undergrad</th>\n",
              "      <td>0.452088</td>\n",
              "      <td>0.085526</td>\n",
              "    </tr>\n",
              "    <tr>\n",
              "      <th>Apps</th>\n",
              "      <td>0.432095</td>\n",
              "      <td>0.039114</td>\n",
              "    </tr>\n",
              "    <tr>\n",
              "      <th>perc.alumni</th>\n",
              "      <td>0.414775</td>\n",
              "      <td>0.025828</td>\n",
              "    </tr>\n",
              "    <tr>\n",
              "      <th>Room.Board</th>\n",
              "      <td>0.340532</td>\n",
              "      <td>0.045354</td>\n",
              "    </tr>\n",
              "    <tr>\n",
              "      <th>Grad.Rate</th>\n",
              "      <td>0.336162</td>\n",
              "      <td>0.018642</td>\n",
              "    </tr>\n",
              "    <tr>\n",
              "      <th>Personal</th>\n",
              "      <td>0.304485</td>\n",
              "      <td>0.018951</td>\n",
              "    </tr>\n",
              "    <tr>\n",
              "      <th>Expend</th>\n",
              "      <td>0.258461</td>\n",
              "      <td>0.069796</td>\n",
              "    </tr>\n",
              "    <tr>\n",
              "      <th>Top10perc</th>\n",
              "      <td>0.164132</td>\n",
              "      <td>0.018959</td>\n",
              "    </tr>\n",
              "    <tr>\n",
              "      <th>PhD</th>\n",
              "      <td>0.156714</td>\n",
              "      <td>0.018016</td>\n",
              "    </tr>\n",
              "    <tr>\n",
              "      <th>Terminal</th>\n",
              "      <td>0.129620</td>\n",
              "      <td>0.017629</td>\n",
              "    </tr>\n",
              "    <tr>\n",
              "      <th>Top25perc</th>\n",
              "      <td>0.095752</td>\n",
              "      <td>0.017353</td>\n",
              "    </tr>\n",
              "    <tr>\n",
              "      <th>Books</th>\n",
              "      <td>0.018549</td>\n",
              "      <td>0.016740</td>\n",
              "    </tr>\n",
              "  </tbody>\n",
              "</table>\n",
              "</div>"
            ],
            "text/plain": [
              "              Private  Random_Forest_Important_Features\n",
              "Private      1.000000                               NaN\n",
              "F.Undergrad  0.615561                          0.218535\n",
              "Enroll       0.567908                          0.102236\n",
              "Outstate     0.552650                          0.203657\n",
              "Accept       0.475252                          0.056063\n",
              "S.F.Ratio    0.472205                          0.027600\n",
              "P.Undergrad  0.452088                          0.085526\n",
              "Apps         0.432095                          0.039114\n",
              "perc.alumni  0.414775                          0.025828\n",
              "Room.Board   0.340532                          0.045354\n",
              "Grad.Rate    0.336162                          0.018642\n",
              "Personal     0.304485                          0.018951\n",
              "Expend       0.258461                          0.069796\n",
              "Top10perc    0.164132                          0.018959\n",
              "PhD          0.156714                          0.018016\n",
              "Terminal     0.129620                          0.017629\n",
              "Top25perc    0.095752                          0.017353\n",
              "Books        0.018549                          0.016740"
            ]
          },
          "metadata": {
            "tags": []
          },
          "execution_count": 159
        }
      ]
    },
    {
      "cell_type": "markdown",
      "metadata": {
        "id": "x_3Bjd0wd6Qj",
        "colab_type": "text"
      },
      "source": [
        "#### Compare and comment on the feature importances and corr() lists you have above."
      ]
    },
    {
      "cell_type": "markdown",
      "metadata": {
        "id": "-yGiTcccd6Ql",
        "colab_type": "text"
      },
      "source": [
        "There  are 18 features in the dataset.\n",
        "\n",
        "The Random Forest model has made among all the 18 features in the dataset, F.Undergrad, Outstate,Enroll,\t were the top 3 features of importance that has high predctibality power and are less impure nodes when compared to other features. \n",
        "\n",
        "But If we look into correlation table  Enroll was secong  has high correlation with respect to target feature \"Private\" among  the features. But  Random forest considered it to be the third important feature. \n",
        "\n",
        "One major takeaway on both Correlation table and Feature importance by random forest.\n",
        "That is, it is not necessarily, that if the features are highly correlated with target variable need not have to be the important important feature.\n",
        "\n",
        "\n",
        "##### Note: The values may change as you keep on running the cells. The values are the one I got, when I executed it on my machine.\n",
        "### Top correlated Features:\n"
      ]
    },
    {
      "cell_type": "code",
      "metadata": {
        "id": "vqBRlJpYHERw",
        "colab_type": "code",
        "outputId": "d8496dcd-a9be-4b01-e1df-a2a654844f0d",
        "colab": {
          "base_uri": "https://localhost:8080/",
          "height": 310
        }
      },
      "source": [
        "data = col.corr().abs().Private.sort_values(ascending= False)\n",
        "data"
      ],
      "execution_count": 0,
      "outputs": [
        {
          "output_type": "error",
          "ename": "AttributeError",
          "evalue": "ignored",
          "traceback": [
            "\u001b[0;31m---------------------------------------------------------------------------\u001b[0m",
            "\u001b[0;31mAttributeError\u001b[0m                            Traceback (most recent call last)",
            "\u001b[0;32m<ipython-input-13-3acb7e372763>\u001b[0m in \u001b[0;36m<module>\u001b[0;34m()\u001b[0m\n\u001b[0;32m----> 1\u001b[0;31m \u001b[0mdata\u001b[0m \u001b[0;34m=\u001b[0m \u001b[0mcol\u001b[0m\u001b[0;34m.\u001b[0m\u001b[0mcorr\u001b[0m\u001b[0;34m(\u001b[0m\u001b[0;34m)\u001b[0m\u001b[0;34m.\u001b[0m\u001b[0mabs\u001b[0m\u001b[0;34m(\u001b[0m\u001b[0;34m)\u001b[0m\u001b[0;34m.\u001b[0m\u001b[0mPrivate\u001b[0m\u001b[0;34m.\u001b[0m\u001b[0msort_values\u001b[0m\u001b[0;34m(\u001b[0m\u001b[0mascending\u001b[0m\u001b[0;34m=\u001b[0m \u001b[0;32mFalse\u001b[0m\u001b[0;34m)\u001b[0m\u001b[0;34m\u001b[0m\u001b[0;34m\u001b[0m\u001b[0m\n\u001b[0m\u001b[1;32m      2\u001b[0m \u001b[0mdata\u001b[0m\u001b[0;34m\u001b[0m\u001b[0;34m\u001b[0m\u001b[0m\n",
            "\u001b[0;32m/usr/local/lib/python3.6/dist-packages/pandas/core/generic.py\u001b[0m in \u001b[0;36m__getattr__\u001b[0;34m(self, name)\u001b[0m\n\u001b[1;32m   3612\u001b[0m             \u001b[0;32mif\u001b[0m \u001b[0mname\u001b[0m \u001b[0;32min\u001b[0m \u001b[0mself\u001b[0m\u001b[0;34m.\u001b[0m\u001b[0m_info_axis\u001b[0m\u001b[0;34m:\u001b[0m\u001b[0;34m\u001b[0m\u001b[0;34m\u001b[0m\u001b[0m\n\u001b[1;32m   3613\u001b[0m                 \u001b[0;32mreturn\u001b[0m \u001b[0mself\u001b[0m\u001b[0;34m[\u001b[0m\u001b[0mname\u001b[0m\u001b[0;34m]\u001b[0m\u001b[0;34m\u001b[0m\u001b[0;34m\u001b[0m\u001b[0m\n\u001b[0;32m-> 3614\u001b[0;31m             \u001b[0;32mreturn\u001b[0m \u001b[0mobject\u001b[0m\u001b[0;34m.\u001b[0m\u001b[0m__getattribute__\u001b[0m\u001b[0;34m(\u001b[0m\u001b[0mself\u001b[0m\u001b[0;34m,\u001b[0m \u001b[0mname\u001b[0m\u001b[0;34m)\u001b[0m\u001b[0;34m\u001b[0m\u001b[0;34m\u001b[0m\u001b[0m\n\u001b[0m\u001b[1;32m   3615\u001b[0m \u001b[0;34m\u001b[0m\u001b[0m\n\u001b[1;32m   3616\u001b[0m     \u001b[0;32mdef\u001b[0m \u001b[0m__setattr__\u001b[0m\u001b[0;34m(\u001b[0m\u001b[0mself\u001b[0m\u001b[0;34m,\u001b[0m \u001b[0mname\u001b[0m\u001b[0;34m,\u001b[0m \u001b[0mvalue\u001b[0m\u001b[0;34m)\u001b[0m\u001b[0;34m:\u001b[0m\u001b[0;34m\u001b[0m\u001b[0;34m\u001b[0m\u001b[0m\n",
            "\u001b[0;31mAttributeError\u001b[0m: 'DataFrame' object has no attribute 'Private'"
          ]
        }
      ]
    },
    {
      "cell_type": "code",
      "metadata": {
        "id": "PPwi-7k3TYXO",
        "colab_type": "code",
        "colab": {}
      },
      "source": [
        ""
      ],
      "execution_count": 0,
      "outputs": []
    }
  ]
}