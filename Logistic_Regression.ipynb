{
  "nbformat": 4,
  "nbformat_minor": 0,
  "metadata": {
    "colab": {
      "name": "Logistic Regression.ipynb",
      "version": "0.3.2",
      "provenance": [],
      "collapsed_sections": []
    },
    "kernelspec": {
      "display_name": "Python 3",
      "language": "python",
      "name": "python3"
    }
  },
  "cells": [
    {
      "cell_type": "markdown",
      "metadata": {
        "id": "cP1KAJZPJb8V",
        "colab_type": "text"
      },
      "source": [
        "# HW 4: Logistic Regression"
      ]
    },
    {
      "cell_type": "markdown",
      "metadata": {
        "id": "DKT4vSn4Jb8W",
        "colab_type": "text"
      },
      "source": [
        "## Importing libraries"
      ]
    },
    {
      "cell_type": "code",
      "metadata": {
        "id": "uCK_22g1Jb8X",
        "colab_type": "code",
        "colab": {}
      },
      "source": [
        "from sklearn.linear_model import LogisticRegression\n",
        "from sklearn import datasets\n",
        "from sklearn.preprocessing import StandardScaler\n",
        "import pandas as pd\n",
        "import numpy as np\n",
        "import seaborn as sns\n",
        "import matplotlib.pyplot as plt\n",
        "%matplotlib inline"
      ],
      "execution_count": 0,
      "outputs": []
    },
    {
      "cell_type": "markdown",
      "metadata": {
        "id": "qUOc5CSNJb8Z",
        "colab_type": "text"
      },
      "source": [
        "## Loading Dataset"
      ]
    },
    {
      "cell_type": "code",
      "metadata": {
        "id": "_x6ztOSBJb8a",
        "colab_type": "code",
        "outputId": "57792caf-55b9-47c5-e5e6-21da58223ba0",
        "colab": {
          "base_uri": "https://localhost:8080/",
          "height": 123
        }
      },
      "source": [
        "# Load Iris dataset and find out what is in this dataset\n",
        "iris = datasets.load_iris()\n",
        "for key, value in iris.items():\n",
        "    print(key)"
      ],
      "execution_count": 0,
      "outputs": [
        {
          "output_type": "stream",
          "text": [
            "data\n",
            "target\n",
            "target_names\n",
            "DESCR\n",
            "feature_names\n",
            "filename\n"
          ],
          "name": "stdout"
        }
      ]
    },
    {
      "cell_type": "code",
      "metadata": {
        "id": "PfVlA1k_Jb8e",
        "colab_type": "code",
        "colab": {}
      },
      "source": [
        "#what's in each of \n",
        "# target_names\n",
        "# DESCR\n",
        "# target\n",
        "# feature_names\n",
        "# data\n",
        "# DESCR and target are shown below. \n",
        "# Continue to work out the rest by appending more cells below."
      ],
      "execution_count": 0,
      "outputs": []
    },
    {
      "cell_type": "code",
      "metadata": {
        "id": "Q7HHRyCTJb8h",
        "colab_type": "code",
        "outputId": "32da9519-b602-4c12-f49f-cd86d0f17858",
        "colab": {
          "base_uri": "https://localhost:8080/",
          "height": 54
        }
      },
      "source": [
        "#Let's see the description of this dataset?\n",
        "iris['DESCR']"
      ],
      "execution_count": 0,
      "outputs": [
        {
          "output_type": "execute_result",
          "data": {
            "text/plain": [
              "'.. _iris_dataset:\\n\\nIris plants dataset\\n--------------------\\n\\n**Data Set Characteristics:**\\n\\n    :Number of Instances: 150 (50 in each of three classes)\\n    :Number of Attributes: 4 numeric, predictive attributes and the class\\n    :Attribute Information:\\n        - sepal length in cm\\n        - sepal width in cm\\n        - petal length in cm\\n        - petal width in cm\\n        - class:\\n                - Iris-Setosa\\n                - Iris-Versicolour\\n                - Iris-Virginica\\n                \\n    :Summary Statistics:\\n\\n    ============== ==== ==== ======= ===== ====================\\n                    Min  Max   Mean    SD   Class Correlation\\n    ============== ==== ==== ======= ===== ====================\\n    sepal length:   4.3  7.9   5.84   0.83    0.7826\\n    sepal width:    2.0  4.4   3.05   0.43   -0.4194\\n    petal length:   1.0  6.9   3.76   1.76    0.9490  (high!)\\n    petal width:    0.1  2.5   1.20   0.76    0.9565  (high!)\\n    ============== ==== ==== ======= ===== ====================\\n\\n    :Missing Attribute Values: None\\n    :Class Distribution: 33.3% for each of 3 classes.\\n    :Creator: R.A. Fisher\\n    :Donor: Michael Marshall (MARSHALL%PLU@io.arc.nasa.gov)\\n    :Date: July, 1988\\n\\nThe famous Iris database, first used by Sir R.A. Fisher. The dataset is taken\\nfrom Fisher\\'s paper. Note that it\\'s the same as in R, but not as in the UCI\\nMachine Learning Repository, which has two wrong data points.\\n\\nThis is perhaps the best known database to be found in the\\npattern recognition literature.  Fisher\\'s paper is a classic in the field and\\nis referenced frequently to this day.  (See Duda & Hart, for example.)  The\\ndata set contains 3 classes of 50 instances each, where each class refers to a\\ntype of iris plant.  One class is linearly separable from the other 2; the\\nlatter are NOT linearly separable from each other.\\n\\n.. topic:: References\\n\\n   - Fisher, R.A. \"The use of multiple measurements in taxonomic problems\"\\n     Annual Eugenics, 7, Part II, 179-188 (1936); also in \"Contributions to\\n     Mathematical Statistics\" (John Wiley, NY, 1950).\\n   - Duda, R.O., & Hart, P.E. (1973) Pattern Classification and Scene Analysis.\\n     (Q327.D83) John Wiley & Sons.  ISBN 0-471-22361-1.  See page 218.\\n   - Dasarathy, B.V. (1980) \"Nosing Around the Neighborhood: A New System\\n     Structure and Classification Rule for Recognition in Partially Exposed\\n     Environments\".  IEEE Transactions on Pattern Analysis and Machine\\n     Intelligence, Vol. PAMI-2, No. 1, 67-71.\\n   - Gates, G.W. (1972) \"The Reduced Nearest Neighbor Rule\".  IEEE Transactions\\n     on Information Theory, May 1972, 431-433.\\n   - See also: 1988 MLC Proceedings, 54-64.  Cheeseman et al\"s AUTOCLASS II\\n     conceptual clustering system finds 3 classes in the data.\\n   - Many, many more ...'"
            ]
          },
          "metadata": {
            "tags": []
          },
          "execution_count": 4
        }
      ]
    },
    {
      "cell_type": "code",
      "metadata": {
        "id": "FFoAEceiJb8k",
        "colab_type": "code",
        "outputId": "18ecf792-71fd-4087-d080-e18d5bf677e7",
        "colab": {
          "base_uri": "https://localhost:8080/",
          "height": 141
        }
      },
      "source": [
        "#What's in target?\n",
        "iris['target']"
      ],
      "execution_count": 0,
      "outputs": [
        {
          "output_type": "execute_result",
          "data": {
            "text/plain": [
              "array([0, 0, 0, 0, 0, 0, 0, 0, 0, 0, 0, 0, 0, 0, 0, 0, 0, 0, 0, 0, 0, 0,\n",
              "       0, 0, 0, 0, 0, 0, 0, 0, 0, 0, 0, 0, 0, 0, 0, 0, 0, 0, 0, 0, 0, 0,\n",
              "       0, 0, 0, 0, 0, 0, 1, 1, 1, 1, 1, 1, 1, 1, 1, 1, 1, 1, 1, 1, 1, 1,\n",
              "       1, 1, 1, 1, 1, 1, 1, 1, 1, 1, 1, 1, 1, 1, 1, 1, 1, 1, 1, 1, 1, 1,\n",
              "       1, 1, 1, 1, 1, 1, 1, 1, 1, 1, 1, 1, 2, 2, 2, 2, 2, 2, 2, 2, 2, 2,\n",
              "       2, 2, 2, 2, 2, 2, 2, 2, 2, 2, 2, 2, 2, 2, 2, 2, 2, 2, 2, 2, 2, 2,\n",
              "       2, 2, 2, 2, 2, 2, 2, 2, 2, 2, 2, 2, 2, 2, 2, 2, 2, 2])"
            ]
          },
          "metadata": {
            "tags": []
          },
          "execution_count": 5
        }
      ]
    },
    {
      "cell_type": "code",
      "metadata": {
        "id": "9uT9kyZyh0IA",
        "colab_type": "code",
        "outputId": "39791557-ceaf-4f88-b5d1-2975caaa9689",
        "colab": {
          "base_uri": "https://localhost:8080/",
          "height": 34
        }
      },
      "source": [
        "iris['target_names'] ## The Iris data set consists of three types of flower names in the array column called 'target_names'."
      ],
      "execution_count": 0,
      "outputs": [
        {
          "output_type": "execute_result",
          "data": {
            "text/plain": [
              "array(['setosa', 'versicolor', 'virginica'], dtype='<U10')"
            ]
          },
          "metadata": {
            "tags": []
          },
          "execution_count": 6
        }
      ]
    },
    {
      "cell_type": "code",
      "metadata": {
        "id": "_SZqHEt2h3Py",
        "colab_type": "code",
        "outputId": "ad61f7b3-013f-4b0e-ea37-c12b7a3632e5",
        "colab": {
          "base_uri": "https://localhost:8080/",
          "height": 87
        }
      },
      "source": [
        "iris['feature_names'] # This gives the the specific features for the flowers"
      ],
      "execution_count": 0,
      "outputs": [
        {
          "output_type": "execute_result",
          "data": {
            "text/plain": [
              "['sepal length (cm)',\n",
              " 'sepal width (cm)',\n",
              " 'petal length (cm)',\n",
              " 'petal width (cm)']"
            ]
          },
          "metadata": {
            "tags": []
          },
          "execution_count": 10
        }
      ]
    },
    {
      "cell_type": "code",
      "metadata": {
        "id": "6WMJVAueUBhN",
        "colab_type": "code",
        "colab": {}
      },
      "source": [
        ""
      ],
      "execution_count": 0,
      "outputs": []
    },
    {
      "cell_type": "code",
      "metadata": {
        "id": "lWZd_6_sh9bc",
        "colab_type": "code",
        "colab": {}
      },
      "source": [
        "iris['data'] # This gives the sepal length (cm), sepal width (cm), petal length (cm) and petal width (cm) values in the dataset."
      ],
      "execution_count": 0,
      "outputs": []
    },
    {
      "cell_type": "code",
      "metadata": {
        "id": "saCkrYTAJb8m",
        "colab_type": "code",
        "outputId": "59f05234-0b15-4bbc-818a-d6e1981ae473",
        "colab": {
          "base_uri": "https://localhost:8080/",
          "height": 70
        }
      },
      "source": [
        "#How many 0s, 1s, and 2s are in target?\n",
        "\n",
        "x = iris['target']\n",
        "unique, counts = np.unique(x,return_counts = True)\n",
        "print(np.asarray((unique,counts)).T)"
      ],
      "execution_count": 0,
      "outputs": [
        {
          "output_type": "stream",
          "text": [
            "[[ 0 50]\n",
            " [ 1 50]\n",
            " [ 2 50]]\n"
          ],
          "name": "stdout"
        }
      ]
    },
    {
      "cell_type": "markdown",
      "metadata": {
        "id": "zEPmBcGtlLvh",
        "colab_type": "text"
      },
      "source": [
        "The 0s are  50, 1s are 50 and 2s are 50."
      ]
    },
    {
      "cell_type": "markdown",
      "metadata": {
        "id": "OX9IV8V3Jb8o",
        "colab_type": "text"
      },
      "source": [
        "## Using Logistic Regression for binary class classification"
      ]
    },
    {
      "cell_type": "code",
      "metadata": {
        "id": "LukyzUE5Jb8p",
        "colab_type": "code",
        "colab": {}
      },
      "source": [
        "# Let's focus on data with only two classes ( the first 100 entries)\n",
        "data_100 = iris.data[:100,:]\n",
        "target_100 = iris.target[:100]"
      ],
      "execution_count": 0,
      "outputs": []
    },
    {
      "cell_type": "code",
      "metadata": {
        "id": "x2YtU2h5Jb8r",
        "colab_type": "code",
        "outputId": "22c6eb56-4c47-40b7-bae7-c20cde130442",
        "colab": {
          "base_uri": "https://localhost:8080/",
          "height": 34
        }
      },
      "source": [
        "#check the size of data_100\n",
        "\n",
        "data_100.shape # The dataset consists of 100 rows and 4 columns"
      ],
      "execution_count": 0,
      "outputs": [
        {
          "output_type": "execute_result",
          "data": {
            "text/plain": [
              "(100, 4)"
            ]
          },
          "metadata": {
            "tags": []
          },
          "execution_count": 21
        }
      ]
    },
    {
      "cell_type": "markdown",
      "metadata": {
        "id": "jJ8z4lP5Jb8t",
        "colab_type": "text"
      },
      "source": [
        "## Standardize Features"
      ]
    },
    {
      "cell_type": "code",
      "metadata": {
        "id": "_GVzAc0IJb8t",
        "colab_type": "code",
        "outputId": "c0f863a6-b471-4350-ea33-b9834af90cc8",
        "colab": {
          "base_uri": "https://localhost:8080/",
          "height": 1794
        }
      },
      "source": [
        "#What's the mean and standard deviation of data_100 and target_100\n",
        "data_100"
      ],
      "execution_count": 0,
      "outputs": [
        {
          "output_type": "execute_result",
          "data": {
            "text/plain": [
              "array([[5.1, 3.5, 1.4, 0.2],\n",
              "       [4.9, 3. , 1.4, 0.2],\n",
              "       [4.7, 3.2, 1.3, 0.2],\n",
              "       [4.6, 3.1, 1.5, 0.2],\n",
              "       [5. , 3.6, 1.4, 0.2],\n",
              "       [5.4, 3.9, 1.7, 0.4],\n",
              "       [4.6, 3.4, 1.4, 0.3],\n",
              "       [5. , 3.4, 1.5, 0.2],\n",
              "       [4.4, 2.9, 1.4, 0.2],\n",
              "       [4.9, 3.1, 1.5, 0.1],\n",
              "       [5.4, 3.7, 1.5, 0.2],\n",
              "       [4.8, 3.4, 1.6, 0.2],\n",
              "       [4.8, 3. , 1.4, 0.1],\n",
              "       [4.3, 3. , 1.1, 0.1],\n",
              "       [5.8, 4. , 1.2, 0.2],\n",
              "       [5.7, 4.4, 1.5, 0.4],\n",
              "       [5.4, 3.9, 1.3, 0.4],\n",
              "       [5.1, 3.5, 1.4, 0.3],\n",
              "       [5.7, 3.8, 1.7, 0.3],\n",
              "       [5.1, 3.8, 1.5, 0.3],\n",
              "       [5.4, 3.4, 1.7, 0.2],\n",
              "       [5.1, 3.7, 1.5, 0.4],\n",
              "       [4.6, 3.6, 1. , 0.2],\n",
              "       [5.1, 3.3, 1.7, 0.5],\n",
              "       [4.8, 3.4, 1.9, 0.2],\n",
              "       [5. , 3. , 1.6, 0.2],\n",
              "       [5. , 3.4, 1.6, 0.4],\n",
              "       [5.2, 3.5, 1.5, 0.2],\n",
              "       [5.2, 3.4, 1.4, 0.2],\n",
              "       [4.7, 3.2, 1.6, 0.2],\n",
              "       [4.8, 3.1, 1.6, 0.2],\n",
              "       [5.4, 3.4, 1.5, 0.4],\n",
              "       [5.2, 4.1, 1.5, 0.1],\n",
              "       [5.5, 4.2, 1.4, 0.2],\n",
              "       [4.9, 3.1, 1.5, 0.2],\n",
              "       [5. , 3.2, 1.2, 0.2],\n",
              "       [5.5, 3.5, 1.3, 0.2],\n",
              "       [4.9, 3.6, 1.4, 0.1],\n",
              "       [4.4, 3. , 1.3, 0.2],\n",
              "       [5.1, 3.4, 1.5, 0.2],\n",
              "       [5. , 3.5, 1.3, 0.3],\n",
              "       [4.5, 2.3, 1.3, 0.3],\n",
              "       [4.4, 3.2, 1.3, 0.2],\n",
              "       [5. , 3.5, 1.6, 0.6],\n",
              "       [5.1, 3.8, 1.9, 0.4],\n",
              "       [4.8, 3. , 1.4, 0.3],\n",
              "       [5.1, 3.8, 1.6, 0.2],\n",
              "       [4.6, 3.2, 1.4, 0.2],\n",
              "       [5.3, 3.7, 1.5, 0.2],\n",
              "       [5. , 3.3, 1.4, 0.2],\n",
              "       [7. , 3.2, 4.7, 1.4],\n",
              "       [6.4, 3.2, 4.5, 1.5],\n",
              "       [6.9, 3.1, 4.9, 1.5],\n",
              "       [5.5, 2.3, 4. , 1.3],\n",
              "       [6.5, 2.8, 4.6, 1.5],\n",
              "       [5.7, 2.8, 4.5, 1.3],\n",
              "       [6.3, 3.3, 4.7, 1.6],\n",
              "       [4.9, 2.4, 3.3, 1. ],\n",
              "       [6.6, 2.9, 4.6, 1.3],\n",
              "       [5.2, 2.7, 3.9, 1.4],\n",
              "       [5. , 2. , 3.5, 1. ],\n",
              "       [5.9, 3. , 4.2, 1.5],\n",
              "       [6. , 2.2, 4. , 1. ],\n",
              "       [6.1, 2.9, 4.7, 1.4],\n",
              "       [5.6, 2.9, 3.6, 1.3],\n",
              "       [6.7, 3.1, 4.4, 1.4],\n",
              "       [5.6, 3. , 4.5, 1.5],\n",
              "       [5.8, 2.7, 4.1, 1. ],\n",
              "       [6.2, 2.2, 4.5, 1.5],\n",
              "       [5.6, 2.5, 3.9, 1.1],\n",
              "       [5.9, 3.2, 4.8, 1.8],\n",
              "       [6.1, 2.8, 4. , 1.3],\n",
              "       [6.3, 2.5, 4.9, 1.5],\n",
              "       [6.1, 2.8, 4.7, 1.2],\n",
              "       [6.4, 2.9, 4.3, 1.3],\n",
              "       [6.6, 3. , 4.4, 1.4],\n",
              "       [6.8, 2.8, 4.8, 1.4],\n",
              "       [6.7, 3. , 5. , 1.7],\n",
              "       [6. , 2.9, 4.5, 1.5],\n",
              "       [5.7, 2.6, 3.5, 1. ],\n",
              "       [5.5, 2.4, 3.8, 1.1],\n",
              "       [5.5, 2.4, 3.7, 1. ],\n",
              "       [5.8, 2.7, 3.9, 1.2],\n",
              "       [6. , 2.7, 5.1, 1.6],\n",
              "       [5.4, 3. , 4.5, 1.5],\n",
              "       [6. , 3.4, 4.5, 1.6],\n",
              "       [6.7, 3.1, 4.7, 1.5],\n",
              "       [6.3, 2.3, 4.4, 1.3],\n",
              "       [5.6, 3. , 4.1, 1.3],\n",
              "       [5.5, 2.5, 4. , 1.3],\n",
              "       [5.5, 2.6, 4.4, 1.2],\n",
              "       [6.1, 3. , 4.6, 1.4],\n",
              "       [5.8, 2.6, 4. , 1.2],\n",
              "       [5. , 2.3, 3.3, 1. ],\n",
              "       [5.6, 2.7, 4.2, 1.3],\n",
              "       [5.7, 3. , 4.2, 1.2],\n",
              "       [5.7, 2.9, 4.2, 1.3],\n",
              "       [6.2, 2.9, 4.3, 1.3],\n",
              "       [5.1, 2.5, 3. , 1.1],\n",
              "       [5.7, 2.8, 4.1, 1.3]])"
            ]
          },
          "metadata": {
            "tags": []
          },
          "execution_count": 22
        }
      ]
    },
    {
      "cell_type": "code",
      "metadata": {
        "id": "-yUa2SLWCBPc",
        "colab_type": "code",
        "outputId": "12ae175e-ebe0-4b37-8ce4-996e96168d91",
        "colab": {
          "base_uri": "https://localhost:8080/",
          "height": 34
        }
      },
      "source": [
        "data_100.mean() #The mean was 3.05425"
      ],
      "execution_count": 0,
      "outputs": [
        {
          "output_type": "execute_result",
          "data": {
            "text/plain": [
              "3.05425"
            ]
          },
          "metadata": {
            "tags": []
          },
          "execution_count": 23
        }
      ]
    },
    {
      "cell_type": "code",
      "metadata": {
        "id": "AQ5Ijqa2CEQw",
        "colab_type": "code",
        "outputId": "a746ea80-78e9-4bf6-f07a-aa5d4368a581",
        "colab": {
          "base_uri": "https://localhost:8080/",
          "height": 34
        }
      },
      "source": [
        "data_100.std() # The Standard Deviation # 1.8745"
      ],
      "execution_count": 0,
      "outputs": [
        {
          "output_type": "execute_result",
          "data": {
            "text/plain": [
              "1.8745617987945877"
            ]
          },
          "metadata": {
            "tags": []
          },
          "execution_count": 24
        }
      ]
    },
    {
      "cell_type": "code",
      "metadata": {
        "id": "omzVVma2CGe7",
        "colab_type": "code",
        "outputId": "22dcfb22-db9a-441f-cc9d-17ba86d8ec81",
        "colab": {
          "base_uri": "https://localhost:8080/",
          "height": 34
        }
      },
      "source": [
        "target_100.mean() # The Mean was 0.5\n"
      ],
      "execution_count": 0,
      "outputs": [
        {
          "output_type": "execute_result",
          "data": {
            "text/plain": [
              "0.5"
            ]
          },
          "metadata": {
            "tags": []
          },
          "execution_count": 25
        }
      ]
    },
    {
      "cell_type": "code",
      "metadata": {
        "id": "0UBZyi7eCHIE",
        "colab_type": "code",
        "outputId": "a76e87e1-8eb2-408a-b9db-617a44b086e7",
        "colab": {
          "base_uri": "https://localhost:8080/",
          "height": 34
        }
      },
      "source": [
        "target_100.std() # The Std was 0.5"
      ],
      "execution_count": 0,
      "outputs": [
        {
          "output_type": "execute_result",
          "data": {
            "text/plain": [
              "0.5"
            ]
          },
          "metadata": {
            "tags": []
          },
          "execution_count": 26
        }
      ]
    },
    {
      "cell_type": "code",
      "metadata": {
        "id": "PbapNxDAJb8v",
        "colab_type": "code",
        "outputId": "7378977a-de40-4703-c301-fd8b188dd2a3",
        "colab": {
          "base_uri": "https://localhost:8080/",
          "height": 3572
        }
      },
      "source": [
        "scaler = StandardScaler()\n",
        "# Transform the feature\n",
        "data_100_standardized = scaler.fit_transform(data_100)\n",
        "data_100_standardized"
      ],
      "execution_count": 0,
      "outputs": [
        {
          "output_type": "execute_result",
          "data": {
            "text/plain": [
              "array([[-5.81065904e-01,  8.41837140e-01, -1.01297765e+00,\n",
              "        -1.04211089e+00],\n",
              "       [-8.94308978e-01, -2.07835104e-01, -1.01297765e+00,\n",
              "        -1.04211089e+00],\n",
              "       [-1.20755205e+00,  2.12033793e-01, -1.08231219e+00,\n",
              "        -1.04211089e+00],\n",
              "       [-1.36417359e+00,  2.09934449e-03, -9.43643106e-01,\n",
              "        -1.04211089e+00],\n",
              "       [-7.37687441e-01,  1.05177159e+00, -1.01297765e+00,\n",
              "        -1.04211089e+00],\n",
              "       [-1.11201292e-01,  1.68157493e+00, -8.04974023e-01,\n",
              "        -6.86441647e-01],\n",
              "       [-1.36417359e+00,  6.31902691e-01, -1.01297765e+00,\n",
              "        -8.64276271e-01],\n",
              "       [-7.37687441e-01,  6.31902691e-01, -9.43643106e-01,\n",
              "        -1.04211089e+00],\n",
              "       [-1.67741667e+00, -4.17769553e-01, -1.01297765e+00,\n",
              "        -1.04211089e+00],\n",
              "       [-8.94308978e-01,  2.09934449e-03, -9.43643106e-01,\n",
              "        -1.21994552e+00],\n",
              "       [-1.11201292e-01,  1.26170604e+00, -9.43643106e-01,\n",
              "        -1.04211089e+00],\n",
              "       [-1.05093052e+00,  6.31902691e-01, -8.74308565e-01,\n",
              "        -1.04211089e+00],\n",
              "       [-1.05093052e+00, -2.07835104e-01, -1.01297765e+00,\n",
              "        -1.21994552e+00],\n",
              "       [-1.83403820e+00, -2.07835104e-01, -1.22098127e+00,\n",
              "        -1.21994552e+00],\n",
              "       [ 5.15284858e-01,  1.89150938e+00, -1.15164673e+00,\n",
              "        -1.04211089e+00],\n",
              "       [ 3.58663321e-01,  2.73124718e+00, -9.43643106e-01,\n",
              "        -6.86441647e-01],\n",
              "       [-1.11201292e-01,  1.68157493e+00, -1.08231219e+00,\n",
              "        -6.86441647e-01],\n",
              "       [-5.81065904e-01,  8.41837140e-01, -1.01297765e+00,\n",
              "        -8.64276271e-01],\n",
              "       [ 3.58663321e-01,  1.47164049e+00, -8.04974023e-01,\n",
              "        -8.64276271e-01],\n",
              "       [-5.81065904e-01,  1.47164049e+00, -9.43643106e-01,\n",
              "        -8.64276271e-01],\n",
              "       [-1.11201292e-01,  6.31902691e-01, -8.04974023e-01,\n",
              "        -1.04211089e+00],\n",
              "       [-5.81065904e-01,  1.26170604e+00, -9.43643106e-01,\n",
              "        -6.86441647e-01],\n",
              "       [-1.36417359e+00,  1.05177159e+00, -1.29031581e+00,\n",
              "        -1.04211089e+00],\n",
              "       [-5.81065904e-01,  4.21968242e-01, -8.04974023e-01,\n",
              "        -5.08607024e-01],\n",
              "       [-1.05093052e+00,  6.31902691e-01, -6.66304941e-01,\n",
              "        -1.04211089e+00],\n",
              "       [-7.37687441e-01, -2.07835104e-01, -8.74308565e-01,\n",
              "        -1.04211089e+00],\n",
              "       [-7.37687441e-01,  6.31902691e-01, -8.74308565e-01,\n",
              "        -6.86441647e-01],\n",
              "       [-4.24444366e-01,  8.41837140e-01, -9.43643106e-01,\n",
              "        -1.04211089e+00],\n",
              "       [-4.24444366e-01,  6.31902691e-01, -1.01297765e+00,\n",
              "        -1.04211089e+00],\n",
              "       [-1.20755205e+00,  2.12033793e-01, -8.74308565e-01,\n",
              "        -1.04211089e+00],\n",
              "       [-1.05093052e+00,  2.09934449e-03, -8.74308565e-01,\n",
              "        -1.04211089e+00],\n",
              "       [-1.11201292e-01,  6.31902691e-01, -9.43643106e-01,\n",
              "        -6.86441647e-01],\n",
              "       [-4.24444366e-01,  2.10144383e+00, -9.43643106e-01,\n",
              "        -1.21994552e+00],\n",
              "       [ 4.54202458e-02,  2.31137828e+00, -1.01297765e+00,\n",
              "        -1.04211089e+00],\n",
              "       [-8.94308978e-01,  2.09934449e-03, -9.43643106e-01,\n",
              "        -1.04211089e+00],\n",
              "       [-7.37687441e-01,  2.12033793e-01, -1.15164673e+00,\n",
              "        -1.04211089e+00],\n",
              "       [ 4.54202458e-02,  8.41837140e-01, -1.08231219e+00,\n",
              "        -1.04211089e+00],\n",
              "       [-8.94308978e-01,  1.05177159e+00, -1.01297765e+00,\n",
              "        -1.21994552e+00],\n",
              "       [-1.67741667e+00, -2.07835104e-01, -1.08231219e+00,\n",
              "        -1.04211089e+00],\n",
              "       [-5.81065904e-01,  6.31902691e-01, -9.43643106e-01,\n",
              "        -1.04211089e+00],\n",
              "       [-7.37687441e-01,  8.41837140e-01, -1.08231219e+00,\n",
              "        -8.64276271e-01],\n",
              "       [-1.52079513e+00, -1.67737625e+00, -1.08231219e+00,\n",
              "        -8.64276271e-01],\n",
              "       [-1.67741667e+00,  2.12033793e-01, -1.08231219e+00,\n",
              "        -1.04211089e+00],\n",
              "       [-7.37687441e-01,  8.41837140e-01, -8.74308565e-01,\n",
              "        -3.30772400e-01],\n",
              "       [-5.81065904e-01,  1.47164049e+00, -6.66304941e-01,\n",
              "        -6.86441647e-01],\n",
              "       [-1.05093052e+00, -2.07835104e-01, -1.01297765e+00,\n",
              "        -8.64276271e-01],\n",
              "       [-5.81065904e-01,  1.47164049e+00, -8.74308565e-01,\n",
              "        -1.04211089e+00],\n",
              "       [-1.36417359e+00,  2.12033793e-01, -1.01297765e+00,\n",
              "        -1.04211089e+00],\n",
              "       [-2.67822829e-01,  1.26170604e+00, -9.43643106e-01,\n",
              "        -1.04211089e+00],\n",
              "       [-7.37687441e-01,  4.21968242e-01, -1.01297765e+00,\n",
              "        -1.04211089e+00],\n",
              "       [ 2.39474331e+00,  2.12033793e-01,  1.27506221e+00,\n",
              "         1.09190459e+00],\n",
              "       [ 1.45501408e+00,  2.12033793e-01,  1.13639313e+00,\n",
              "         1.26973921e+00],\n",
              "       [ 2.23812177e+00,  2.09934449e-03,  1.41373130e+00,\n",
              "         1.26973921e+00],\n",
              "       [ 4.54202458e-02, -1.67737625e+00,  7.89720424e-01,\n",
              "         9.14069966e-01],\n",
              "       [ 1.61163562e+00, -6.27704002e-01,  1.20572767e+00,\n",
              "         1.26973921e+00],\n",
              "       [ 3.58663321e-01, -6.27704002e-01,  1.13639313e+00,\n",
              "         9.14069966e-01],\n",
              "       [ 1.29839254e+00,  4.21968242e-01,  1.27506221e+00,\n",
              "         1.44757384e+00],\n",
              "       [-8.94308978e-01, -1.46744180e+00,  3.04378636e-01,\n",
              "         3.80566095e-01],\n",
              "       [ 1.76825716e+00, -4.17769553e-01,  1.20572767e+00,\n",
              "         9.14069966e-01],\n",
              "       [-4.24444366e-01, -8.37638451e-01,  7.20385883e-01,\n",
              "         1.09190459e+00],\n",
              "       [-7.37687441e-01, -2.30717959e+00,  4.43047718e-01,\n",
              "         3.80566095e-01],\n",
              "       [ 6.71906395e-01, -2.07835104e-01,  9.28389507e-01,\n",
              "         1.26973921e+00],\n",
              "       [ 8.28527933e-01, -1.88731069e+00,  7.89720424e-01,\n",
              "         3.80566095e-01],\n",
              "       [ 9.85149470e-01, -4.17769553e-01,  1.27506221e+00,\n",
              "         1.09190459e+00],\n",
              "       [ 2.02041783e-01, -4.17769553e-01,  5.12382260e-01,\n",
              "         9.14069966e-01],\n",
              "       [ 1.92487869e+00,  2.09934449e-03,  1.06705859e+00,\n",
              "         1.09190459e+00],\n",
              "       [ 2.02041783e-01, -2.07835104e-01,  1.13639313e+00,\n",
              "         1.26973921e+00],\n",
              "       [ 5.15284858e-01, -8.37638451e-01,  8.59054966e-01,\n",
              "         3.80566095e-01],\n",
              "       [ 1.14177101e+00, -1.88731069e+00,  1.13639313e+00,\n",
              "         1.26973921e+00],\n",
              "       [ 2.02041783e-01, -1.25750735e+00,  7.20385883e-01,\n",
              "         5.58400718e-01],\n",
              "       [ 6.71906395e-01,  2.12033793e-01,  1.34439675e+00,\n",
              "         1.80324308e+00],\n",
              "       [ 9.85149470e-01, -6.27704002e-01,  7.89720424e-01,\n",
              "         9.14069966e-01],\n",
              "       [ 1.29839254e+00, -1.25750735e+00,  1.41373130e+00,\n",
              "         1.26973921e+00],\n",
              "       [ 9.85149470e-01, -6.27704002e-01,  1.27506221e+00,\n",
              "         7.36235342e-01],\n",
              "       [ 1.45501408e+00, -4.17769553e-01,  9.97724048e-01,\n",
              "         9.14069966e-01],\n",
              "       [ 1.76825716e+00, -2.07835104e-01,  1.06705859e+00,\n",
              "         1.09190459e+00],\n",
              "       [ 2.08150023e+00, -6.27704002e-01,  1.34439675e+00,\n",
              "         1.09190459e+00],\n",
              "       [ 1.92487869e+00, -2.07835104e-01,  1.48306584e+00,\n",
              "         1.62540846e+00],\n",
              "       [ 8.28527933e-01, -4.17769553e-01,  1.13639313e+00,\n",
              "         1.26973921e+00],\n",
              "       [ 3.58663321e-01, -1.04757290e+00,  4.43047718e-01,\n",
              "         3.80566095e-01],\n",
              "       [ 4.54202458e-02, -1.46744180e+00,  6.51051342e-01,\n",
              "         5.58400718e-01],\n",
              "       [ 4.54202458e-02, -1.46744180e+00,  5.81716801e-01,\n",
              "         3.80566095e-01],\n",
              "       [ 5.15284858e-01, -8.37638451e-01,  7.20385883e-01,\n",
              "         7.36235342e-01],\n",
              "       [ 8.28527933e-01, -8.37638451e-01,  1.55240038e+00,\n",
              "         1.44757384e+00],\n",
              "       [-1.11201292e-01, -2.07835104e-01,  1.13639313e+00,\n",
              "         1.26973921e+00],\n",
              "       [ 8.28527933e-01,  6.31902691e-01,  1.13639313e+00,\n",
              "         1.44757384e+00],\n",
              "       [ 1.92487869e+00,  2.09934449e-03,  1.27506221e+00,\n",
              "         1.26973921e+00],\n",
              "       [ 1.29839254e+00, -1.67737625e+00,  1.06705859e+00,\n",
              "         9.14069966e-01],\n",
              "       [ 2.02041783e-01, -2.07835104e-01,  8.59054966e-01,\n",
              "         9.14069966e-01],\n",
              "       [ 4.54202458e-02, -1.25750735e+00,  7.89720424e-01,\n",
              "         9.14069966e-01],\n",
              "       [ 4.54202458e-02, -1.04757290e+00,  1.06705859e+00,\n",
              "         7.36235342e-01],\n",
              "       [ 9.85149470e-01, -2.07835104e-01,  1.20572767e+00,\n",
              "         1.09190459e+00],\n",
              "       [ 5.15284858e-01, -1.04757290e+00,  7.89720424e-01,\n",
              "         7.36235342e-01],\n",
              "       [-7.37687441e-01, -1.67737625e+00,  3.04378636e-01,\n",
              "         3.80566095e-01],\n",
              "       [ 2.02041783e-01, -8.37638451e-01,  9.28389507e-01,\n",
              "         9.14069966e-01],\n",
              "       [ 3.58663321e-01, -2.07835104e-01,  9.28389507e-01,\n",
              "         7.36235342e-01],\n",
              "       [ 3.58663321e-01, -4.17769553e-01,  9.28389507e-01,\n",
              "         9.14069966e-01],\n",
              "       [ 1.14177101e+00, -4.17769553e-01,  9.97724048e-01,\n",
              "         9.14069966e-01],\n",
              "       [-5.81065904e-01, -1.25750735e+00,  9.63750123e-02,\n",
              "         5.58400718e-01],\n",
              "       [ 3.58663321e-01, -6.27704002e-01,  8.59054966e-01,\n",
              "         9.14069966e-01]])"
            ]
          },
          "metadata": {
            "tags": []
          },
          "execution_count": 27
        }
      ]
    },
    {
      "cell_type": "code",
      "metadata": {
        "id": "y0FN2nH2Jb8x",
        "colab_type": "code",
        "outputId": "8c517dd7-fc72-4117-f4ac-b178b81d14f6",
        "colab": {
          "base_uri": "https://localhost:8080/",
          "height": 34
        }
      },
      "source": [
        "#what's the mean and standard deviation of the standardized data_100\n",
        "\n",
        "data_100_standardized.mean() ## Mean was -1.1723955140041654e\n",
        "\n",
        "#data_100_standardized.std() ##  Standard deviation was 0.9999\n"
      ],
      "execution_count": 0,
      "outputs": [
        {
          "output_type": "execute_result",
          "data": {
            "text/plain": [
              "-1.1723955140041654e-15"
            ]
          },
          "metadata": {
            "tags": []
          },
          "execution_count": 28
        }
      ]
    },
    {
      "cell_type": "markdown",
      "metadata": {
        "id": "sbJ_a8dKJb8z",
        "colab_type": "text"
      },
      "source": [
        "## Create Logistic Regression"
      ]
    },
    {
      "cell_type": "code",
      "metadata": {
        "id": "EVebgMrjJb80",
        "colab_type": "code",
        "outputId": "3553dac5-edab-4c76-e753-defe4ead7028",
        "colab": {
          "base_uri": "https://localhost:8080/",
          "height": 197
        }
      },
      "source": [
        "#Let's create a dataframe table to store all the features\n",
        "features = pd.DataFrame(data_100_standardized, columns=iris.feature_names)\n",
        "features.head()"
      ],
      "execution_count": 0,
      "outputs": [
        {
          "output_type": "execute_result",
          "data": {
            "text/html": [
              "<div>\n",
              "<style scoped>\n",
              "    .dataframe tbody tr th:only-of-type {\n",
              "        vertical-align: middle;\n",
              "    }\n",
              "\n",
              "    .dataframe tbody tr th {\n",
              "        vertical-align: top;\n",
              "    }\n",
              "\n",
              "    .dataframe thead th {\n",
              "        text-align: right;\n",
              "    }\n",
              "</style>\n",
              "<table border=\"1\" class=\"dataframe\">\n",
              "  <thead>\n",
              "    <tr style=\"text-align: right;\">\n",
              "      <th></th>\n",
              "      <th>sepal length (cm)</th>\n",
              "      <th>sepal width (cm)</th>\n",
              "      <th>petal length (cm)</th>\n",
              "      <th>petal width (cm)</th>\n",
              "    </tr>\n",
              "  </thead>\n",
              "  <tbody>\n",
              "    <tr>\n",
              "      <th>0</th>\n",
              "      <td>-0.581066</td>\n",
              "      <td>0.841837</td>\n",
              "      <td>-1.012978</td>\n",
              "      <td>-1.042111</td>\n",
              "    </tr>\n",
              "    <tr>\n",
              "      <th>1</th>\n",
              "      <td>-0.894309</td>\n",
              "      <td>-0.207835</td>\n",
              "      <td>-1.012978</td>\n",
              "      <td>-1.042111</td>\n",
              "    </tr>\n",
              "    <tr>\n",
              "      <th>2</th>\n",
              "      <td>-1.207552</td>\n",
              "      <td>0.212034</td>\n",
              "      <td>-1.082312</td>\n",
              "      <td>-1.042111</td>\n",
              "    </tr>\n",
              "    <tr>\n",
              "      <th>3</th>\n",
              "      <td>-1.364174</td>\n",
              "      <td>0.002099</td>\n",
              "      <td>-0.943643</td>\n",
              "      <td>-1.042111</td>\n",
              "    </tr>\n",
              "    <tr>\n",
              "      <th>4</th>\n",
              "      <td>-0.737687</td>\n",
              "      <td>1.051772</td>\n",
              "      <td>-1.012978</td>\n",
              "      <td>-1.042111</td>\n",
              "    </tr>\n",
              "  </tbody>\n",
              "</table>\n",
              "</div>"
            ],
            "text/plain": [
              "   sepal length (cm)  sepal width (cm)  petal length (cm)  petal width (cm)\n",
              "0          -0.581066          0.841837          -1.012978         -1.042111\n",
              "1          -0.894309         -0.207835          -1.012978         -1.042111\n",
              "2          -1.207552          0.212034          -1.082312         -1.042111\n",
              "3          -1.364174          0.002099          -0.943643         -1.042111\n",
              "4          -0.737687          1.051772          -1.012978         -1.042111"
            ]
          },
          "metadata": {
            "tags": []
          },
          "execution_count": 29
        }
      ]
    },
    {
      "cell_type": "code",
      "metadata": {
        "id": "sZKZ1loeXtxE",
        "colab_type": "code",
        "outputId": "49f335bb-186b-4d52-c81b-c66f9e8be160",
        "colab": {
          "base_uri": "https://localhost:8080/",
          "height": 87
        }
      },
      "source": [
        "iris.feature_names"
      ],
      "execution_count": 0,
      "outputs": [
        {
          "output_type": "execute_result",
          "data": {
            "text/plain": [
              "['sepal length (cm)',\n",
              " 'sepal width (cm)',\n",
              " 'petal length (cm)',\n",
              " 'petal width (cm)']"
            ]
          },
          "metadata": {
            "tags": []
          },
          "execution_count": 30
        }
      ]
    },
    {
      "cell_type": "code",
      "metadata": {
        "id": "1nqMpRYAJb82",
        "colab_type": "code",
        "outputId": "161099d3-e67d-400b-9be2-a6a794ae5b77",
        "colab": {
          "base_uri": "https://localhost:8080/",
          "height": 1906
        }
      },
      "source": [
        "#Create another dataframe to store the target\n",
        "target = pd.DataFrame(target_100, columns=['target'])\n",
        "target"
      ],
      "execution_count": 0,
      "outputs": [
        {
          "output_type": "execute_result",
          "data": {
            "text/html": [
              "<div>\n",
              "<style scoped>\n",
              "    .dataframe tbody tr th:only-of-type {\n",
              "        vertical-align: middle;\n",
              "    }\n",
              "\n",
              "    .dataframe tbody tr th {\n",
              "        vertical-align: top;\n",
              "    }\n",
              "\n",
              "    .dataframe thead th {\n",
              "        text-align: right;\n",
              "    }\n",
              "</style>\n",
              "<table border=\"1\" class=\"dataframe\">\n",
              "  <thead>\n",
              "    <tr style=\"text-align: right;\">\n",
              "      <th></th>\n",
              "      <th>target</th>\n",
              "    </tr>\n",
              "  </thead>\n",
              "  <tbody>\n",
              "    <tr>\n",
              "      <th>0</th>\n",
              "      <td>0</td>\n",
              "    </tr>\n",
              "    <tr>\n",
              "      <th>1</th>\n",
              "      <td>0</td>\n",
              "    </tr>\n",
              "    <tr>\n",
              "      <th>2</th>\n",
              "      <td>0</td>\n",
              "    </tr>\n",
              "    <tr>\n",
              "      <th>3</th>\n",
              "      <td>0</td>\n",
              "    </tr>\n",
              "    <tr>\n",
              "      <th>4</th>\n",
              "      <td>0</td>\n",
              "    </tr>\n",
              "    <tr>\n",
              "      <th>5</th>\n",
              "      <td>0</td>\n",
              "    </tr>\n",
              "    <tr>\n",
              "      <th>6</th>\n",
              "      <td>0</td>\n",
              "    </tr>\n",
              "    <tr>\n",
              "      <th>7</th>\n",
              "      <td>0</td>\n",
              "    </tr>\n",
              "    <tr>\n",
              "      <th>8</th>\n",
              "      <td>0</td>\n",
              "    </tr>\n",
              "    <tr>\n",
              "      <th>9</th>\n",
              "      <td>0</td>\n",
              "    </tr>\n",
              "    <tr>\n",
              "      <th>10</th>\n",
              "      <td>0</td>\n",
              "    </tr>\n",
              "    <tr>\n",
              "      <th>11</th>\n",
              "      <td>0</td>\n",
              "    </tr>\n",
              "    <tr>\n",
              "      <th>12</th>\n",
              "      <td>0</td>\n",
              "    </tr>\n",
              "    <tr>\n",
              "      <th>13</th>\n",
              "      <td>0</td>\n",
              "    </tr>\n",
              "    <tr>\n",
              "      <th>14</th>\n",
              "      <td>0</td>\n",
              "    </tr>\n",
              "    <tr>\n",
              "      <th>15</th>\n",
              "      <td>0</td>\n",
              "    </tr>\n",
              "    <tr>\n",
              "      <th>16</th>\n",
              "      <td>0</td>\n",
              "    </tr>\n",
              "    <tr>\n",
              "      <th>17</th>\n",
              "      <td>0</td>\n",
              "    </tr>\n",
              "    <tr>\n",
              "      <th>18</th>\n",
              "      <td>0</td>\n",
              "    </tr>\n",
              "    <tr>\n",
              "      <th>19</th>\n",
              "      <td>0</td>\n",
              "    </tr>\n",
              "    <tr>\n",
              "      <th>20</th>\n",
              "      <td>0</td>\n",
              "    </tr>\n",
              "    <tr>\n",
              "      <th>21</th>\n",
              "      <td>0</td>\n",
              "    </tr>\n",
              "    <tr>\n",
              "      <th>22</th>\n",
              "      <td>0</td>\n",
              "    </tr>\n",
              "    <tr>\n",
              "      <th>23</th>\n",
              "      <td>0</td>\n",
              "    </tr>\n",
              "    <tr>\n",
              "      <th>24</th>\n",
              "      <td>0</td>\n",
              "    </tr>\n",
              "    <tr>\n",
              "      <th>25</th>\n",
              "      <td>0</td>\n",
              "    </tr>\n",
              "    <tr>\n",
              "      <th>26</th>\n",
              "      <td>0</td>\n",
              "    </tr>\n",
              "    <tr>\n",
              "      <th>27</th>\n",
              "      <td>0</td>\n",
              "    </tr>\n",
              "    <tr>\n",
              "      <th>28</th>\n",
              "      <td>0</td>\n",
              "    </tr>\n",
              "    <tr>\n",
              "      <th>29</th>\n",
              "      <td>0</td>\n",
              "    </tr>\n",
              "    <tr>\n",
              "      <th>...</th>\n",
              "      <td>...</td>\n",
              "    </tr>\n",
              "    <tr>\n",
              "      <th>70</th>\n",
              "      <td>1</td>\n",
              "    </tr>\n",
              "    <tr>\n",
              "      <th>71</th>\n",
              "      <td>1</td>\n",
              "    </tr>\n",
              "    <tr>\n",
              "      <th>72</th>\n",
              "      <td>1</td>\n",
              "    </tr>\n",
              "    <tr>\n",
              "      <th>73</th>\n",
              "      <td>1</td>\n",
              "    </tr>\n",
              "    <tr>\n",
              "      <th>74</th>\n",
              "      <td>1</td>\n",
              "    </tr>\n",
              "    <tr>\n",
              "      <th>75</th>\n",
              "      <td>1</td>\n",
              "    </tr>\n",
              "    <tr>\n",
              "      <th>76</th>\n",
              "      <td>1</td>\n",
              "    </tr>\n",
              "    <tr>\n",
              "      <th>77</th>\n",
              "      <td>1</td>\n",
              "    </tr>\n",
              "    <tr>\n",
              "      <th>78</th>\n",
              "      <td>1</td>\n",
              "    </tr>\n",
              "    <tr>\n",
              "      <th>79</th>\n",
              "      <td>1</td>\n",
              "    </tr>\n",
              "    <tr>\n",
              "      <th>80</th>\n",
              "      <td>1</td>\n",
              "    </tr>\n",
              "    <tr>\n",
              "      <th>81</th>\n",
              "      <td>1</td>\n",
              "    </tr>\n",
              "    <tr>\n",
              "      <th>82</th>\n",
              "      <td>1</td>\n",
              "    </tr>\n",
              "    <tr>\n",
              "      <th>83</th>\n",
              "      <td>1</td>\n",
              "    </tr>\n",
              "    <tr>\n",
              "      <th>84</th>\n",
              "      <td>1</td>\n",
              "    </tr>\n",
              "    <tr>\n",
              "      <th>85</th>\n",
              "      <td>1</td>\n",
              "    </tr>\n",
              "    <tr>\n",
              "      <th>86</th>\n",
              "      <td>1</td>\n",
              "    </tr>\n",
              "    <tr>\n",
              "      <th>87</th>\n",
              "      <td>1</td>\n",
              "    </tr>\n",
              "    <tr>\n",
              "      <th>88</th>\n",
              "      <td>1</td>\n",
              "    </tr>\n",
              "    <tr>\n",
              "      <th>89</th>\n",
              "      <td>1</td>\n",
              "    </tr>\n",
              "    <tr>\n",
              "      <th>90</th>\n",
              "      <td>1</td>\n",
              "    </tr>\n",
              "    <tr>\n",
              "      <th>91</th>\n",
              "      <td>1</td>\n",
              "    </tr>\n",
              "    <tr>\n",
              "      <th>92</th>\n",
              "      <td>1</td>\n",
              "    </tr>\n",
              "    <tr>\n",
              "      <th>93</th>\n",
              "      <td>1</td>\n",
              "    </tr>\n",
              "    <tr>\n",
              "      <th>94</th>\n",
              "      <td>1</td>\n",
              "    </tr>\n",
              "    <tr>\n",
              "      <th>95</th>\n",
              "      <td>1</td>\n",
              "    </tr>\n",
              "    <tr>\n",
              "      <th>96</th>\n",
              "      <td>1</td>\n",
              "    </tr>\n",
              "    <tr>\n",
              "      <th>97</th>\n",
              "      <td>1</td>\n",
              "    </tr>\n",
              "    <tr>\n",
              "      <th>98</th>\n",
              "      <td>1</td>\n",
              "    </tr>\n",
              "    <tr>\n",
              "      <th>99</th>\n",
              "      <td>1</td>\n",
              "    </tr>\n",
              "  </tbody>\n",
              "</table>\n",
              "<p>100 rows × 1 columns</p>\n",
              "</div>"
            ],
            "text/plain": [
              "    target\n",
              "0        0\n",
              "1        0\n",
              "2        0\n",
              "3        0\n",
              "4        0\n",
              "5        0\n",
              "6        0\n",
              "7        0\n",
              "8        0\n",
              "9        0\n",
              "10       0\n",
              "11       0\n",
              "12       0\n",
              "13       0\n",
              "14       0\n",
              "15       0\n",
              "16       0\n",
              "17       0\n",
              "18       0\n",
              "19       0\n",
              "20       0\n",
              "21       0\n",
              "22       0\n",
              "23       0\n",
              "24       0\n",
              "25       0\n",
              "26       0\n",
              "27       0\n",
              "28       0\n",
              "29       0\n",
              "..     ...\n",
              "70       1\n",
              "71       1\n",
              "72       1\n",
              "73       1\n",
              "74       1\n",
              "75       1\n",
              "76       1\n",
              "77       1\n",
              "78       1\n",
              "79       1\n",
              "80       1\n",
              "81       1\n",
              "82       1\n",
              "83       1\n",
              "84       1\n",
              "85       1\n",
              "86       1\n",
              "87       1\n",
              "88       1\n",
              "89       1\n",
              "90       1\n",
              "91       1\n",
              "92       1\n",
              "93       1\n",
              "94       1\n",
              "95       1\n",
              "96       1\n",
              "97       1\n",
              "98       1\n",
              "99       1\n",
              "\n",
              "[100 rows x 1 columns]"
            ]
          },
          "metadata": {
            "tags": []
          },
          "execution_count": 31
        }
      ]
    },
    {
      "cell_type": "code",
      "metadata": {
        "id": "wkh09S56Jb84",
        "colab_type": "code",
        "outputId": "6b5f0957-df9b-4ffe-8970-e3d16d890091",
        "colab": {
          "base_uri": "https://localhost:8080/",
          "height": 107
        }
      },
      "source": [
        "# let's combine these two 'tables' into one dataframe\n",
        "df = pd.concat([features,target], axis=1)\n",
        "df.head(2)"
      ],
      "execution_count": 0,
      "outputs": [
        {
          "output_type": "execute_result",
          "data": {
            "text/html": [
              "<div>\n",
              "<style scoped>\n",
              "    .dataframe tbody tr th:only-of-type {\n",
              "        vertical-align: middle;\n",
              "    }\n",
              "\n",
              "    .dataframe tbody tr th {\n",
              "        vertical-align: top;\n",
              "    }\n",
              "\n",
              "    .dataframe thead th {\n",
              "        text-align: right;\n",
              "    }\n",
              "</style>\n",
              "<table border=\"1\" class=\"dataframe\">\n",
              "  <thead>\n",
              "    <tr style=\"text-align: right;\">\n",
              "      <th></th>\n",
              "      <th>sepal length (cm)</th>\n",
              "      <th>sepal width (cm)</th>\n",
              "      <th>petal length (cm)</th>\n",
              "      <th>petal width (cm)</th>\n",
              "      <th>target</th>\n",
              "    </tr>\n",
              "  </thead>\n",
              "  <tbody>\n",
              "    <tr>\n",
              "      <th>0</th>\n",
              "      <td>-0.581066</td>\n",
              "      <td>0.841837</td>\n",
              "      <td>-1.012978</td>\n",
              "      <td>-1.042111</td>\n",
              "      <td>0</td>\n",
              "    </tr>\n",
              "    <tr>\n",
              "      <th>1</th>\n",
              "      <td>-0.894309</td>\n",
              "      <td>-0.207835</td>\n",
              "      <td>-1.012978</td>\n",
              "      <td>-1.042111</td>\n",
              "      <td>0</td>\n",
              "    </tr>\n",
              "  </tbody>\n",
              "</table>\n",
              "</div>"
            ],
            "text/plain": [
              "   sepal length (cm)  sepal width (cm)  petal length (cm)  petal width (cm)  \\\n",
              "0          -0.581066          0.841837          -1.012978         -1.042111   \n",
              "1          -0.894309         -0.207835          -1.012978         -1.042111   \n",
              "\n",
              "   target  \n",
              "0       0  \n",
              "1       0  "
            ]
          },
          "metadata": {
            "tags": []
          },
          "execution_count": 32
        }
      ]
    },
    {
      "cell_type": "code",
      "metadata": {
        "id": "7bTtCrOsJb86",
        "colab_type": "code",
        "outputId": "82a26020-114b-44c1-b68a-cd715494c686",
        "colab": {
          "base_uri": "https://localhost:8080/",
          "height": 123
        }
      },
      "source": [
        "#find out which is most correlated to the target?\n",
        "#df.info()\n",
        "#df.corr().abs().target.sort_values(ascending=False)[1:]\n",
        "df.corr().abs().target.sort_values(ascending = False)[1:]\n",
        "\n",
        "## The petal length (cm) and petal width (cm) are most correlated variable to the target variable."
      ],
      "execution_count": 0,
      "outputs": [
        {
          "output_type": "execute_result",
          "data": {
            "text/plain": [
              "target               1.000000\n",
              "petal length (cm)    0.969990\n",
              "petal width (cm)     0.960307\n",
              "sepal length (cm)    0.728290\n",
              "sepal width (cm)     0.690684\n",
              "Name: target, dtype: float64"
            ]
          },
          "metadata": {
            "tags": []
          },
          "execution_count": 38
        }
      ]
    },
    {
      "cell_type": "code",
      "metadata": {
        "id": "rD8aUMADJb89",
        "colab_type": "code",
        "colab": {}
      },
      "source": [
        "# Create logistic regression object\n",
        "LogReg = LogisticRegression()"
      ],
      "execution_count": 0,
      "outputs": []
    },
    {
      "cell_type": "markdown",
      "metadata": {
        "id": "S-qUbHPfJb9B",
        "colab_type": "text"
      },
      "source": [
        "## Train Logistic Regression"
      ]
    },
    {
      "cell_type": "code",
      "metadata": {
        "id": "_c9CDomVJb9C",
        "colab_type": "code",
        "colab": {}
      },
      "source": [
        "#Create (X,y) data pair ready for fitting the model\n",
        "X = df[iris.feature_names]\n",
        "y=df['target']"
      ],
      "execution_count": 0,
      "outputs": []
    },
    {
      "cell_type": "code",
      "metadata": {
        "id": "HuV6IcJUY0P1",
        "colab_type": "code",
        "colab": {}
      },
      "source": [
        ""
      ],
      "execution_count": 0,
      "outputs": []
    },
    {
      "cell_type": "code",
      "metadata": {
        "id": "aS9I2SnYJb9E",
        "colab_type": "code",
        "outputId": "deec5de2-777c-4f52-a8df-6bb9940480f3",
        "colab": {
          "base_uri": "https://localhost:8080/",
          "height": 143
        }
      },
      "source": [
        "# Train model using the entire dataset\n",
        "LogReg.fit(X,y)"
      ],
      "execution_count": 0,
      "outputs": [
        {
          "output_type": "stream",
          "text": [
            "/usr/local/lib/python3.6/dist-packages/sklearn/linear_model/logistic.py:433: FutureWarning: Default solver will be changed to 'lbfgs' in 0.22. Specify a solver to silence this warning.\n",
            "  FutureWarning)\n"
          ],
          "name": "stderr"
        },
        {
          "output_type": "execute_result",
          "data": {
            "text/plain": [
              "LogisticRegression(C=1.0, class_weight=None, dual=False, fit_intercept=True,\n",
              "          intercept_scaling=1, max_iter=100, multi_class='warn',\n",
              "          n_jobs=None, penalty='l2', random_state=None, solver='warn',\n",
              "          tol=0.0001, verbose=0, warm_start=False)"
            ]
          },
          "metadata": {
            "tags": []
          },
          "execution_count": 41
        }
      ]
    },
    {
      "cell_type": "code",
      "metadata": {
        "id": "WuZnNbsCJb9G",
        "colab_type": "code",
        "outputId": "d97b458a-8d57-43c2-a0cc-4efc4e1048a6",
        "colab": {
          "base_uri": "https://localhost:8080/",
          "height": 197
        }
      },
      "source": [
        "# Add a column predictions to the df datagrame on the predicted values based on X\n",
        "df['predictions'] = LogReg.predict(X)\n",
        "pred = df['predictions']\n",
        "df.head(5)"
      ],
      "execution_count": 0,
      "outputs": [
        {
          "output_type": "execute_result",
          "data": {
            "text/html": [
              "<div>\n",
              "<style scoped>\n",
              "    .dataframe tbody tr th:only-of-type {\n",
              "        vertical-align: middle;\n",
              "    }\n",
              "\n",
              "    .dataframe tbody tr th {\n",
              "        vertical-align: top;\n",
              "    }\n",
              "\n",
              "    .dataframe thead th {\n",
              "        text-align: right;\n",
              "    }\n",
              "</style>\n",
              "<table border=\"1\" class=\"dataframe\">\n",
              "  <thead>\n",
              "    <tr style=\"text-align: right;\">\n",
              "      <th></th>\n",
              "      <th>sepal length (cm)</th>\n",
              "      <th>sepal width (cm)</th>\n",
              "      <th>petal length (cm)</th>\n",
              "      <th>petal width (cm)</th>\n",
              "      <th>target</th>\n",
              "      <th>predictions</th>\n",
              "    </tr>\n",
              "  </thead>\n",
              "  <tbody>\n",
              "    <tr>\n",
              "      <th>0</th>\n",
              "      <td>-0.581066</td>\n",
              "      <td>0.841837</td>\n",
              "      <td>-1.012978</td>\n",
              "      <td>-1.042111</td>\n",
              "      <td>0</td>\n",
              "      <td>0</td>\n",
              "    </tr>\n",
              "    <tr>\n",
              "      <th>1</th>\n",
              "      <td>-0.894309</td>\n",
              "      <td>-0.207835</td>\n",
              "      <td>-1.012978</td>\n",
              "      <td>-1.042111</td>\n",
              "      <td>0</td>\n",
              "      <td>0</td>\n",
              "    </tr>\n",
              "    <tr>\n",
              "      <th>2</th>\n",
              "      <td>-1.207552</td>\n",
              "      <td>0.212034</td>\n",
              "      <td>-1.082312</td>\n",
              "      <td>-1.042111</td>\n",
              "      <td>0</td>\n",
              "      <td>0</td>\n",
              "    </tr>\n",
              "    <tr>\n",
              "      <th>3</th>\n",
              "      <td>-1.364174</td>\n",
              "      <td>0.002099</td>\n",
              "      <td>-0.943643</td>\n",
              "      <td>-1.042111</td>\n",
              "      <td>0</td>\n",
              "      <td>0</td>\n",
              "    </tr>\n",
              "    <tr>\n",
              "      <th>4</th>\n",
              "      <td>-0.737687</td>\n",
              "      <td>1.051772</td>\n",
              "      <td>-1.012978</td>\n",
              "      <td>-1.042111</td>\n",
              "      <td>0</td>\n",
              "      <td>0</td>\n",
              "    </tr>\n",
              "  </tbody>\n",
              "</table>\n",
              "</div>"
            ],
            "text/plain": [
              "   sepal length (cm)  sepal width (cm)  petal length (cm)  petal width (cm)  \\\n",
              "0          -0.581066          0.841837          -1.012978         -1.042111   \n",
              "1          -0.894309         -0.207835          -1.012978         -1.042111   \n",
              "2          -1.207552          0.212034          -1.082312         -1.042111   \n",
              "3          -1.364174          0.002099          -0.943643         -1.042111   \n",
              "4          -0.737687          1.051772          -1.012978         -1.042111   \n",
              "\n",
              "   target  predictions  \n",
              "0       0            0  \n",
              "1       0            0  \n",
              "2       0            0  \n",
              "3       0            0  \n",
              "4       0            0  "
            ]
          },
          "metadata": {
            "tags": []
          },
          "execution_count": 42
        }
      ]
    },
    {
      "cell_type": "code",
      "metadata": {
        "id": "ovUo9dvqJb9I",
        "colab_type": "code",
        "outputId": "d7fa0ffa-c9e8-488d-b486-074e75911a3b",
        "colab": {
          "base_uri": "https://localhost:8080/",
          "height": 34
        }
      },
      "source": [
        "#What's the score of using the entire dataset to train our Logistic Regression?\n",
        "LogReg.score(X,y) # The score was 1.0"
      ],
      "execution_count": 0,
      "outputs": [
        {
          "output_type": "execute_result",
          "data": {
            "text/plain": [
              "1.0"
            ]
          },
          "metadata": {
            "tags": []
          },
          "execution_count": 43
        }
      ]
    },
    {
      "cell_type": "code",
      "metadata": {
        "id": "8qy_MAxTJb9K",
        "colab_type": "code",
        "outputId": "e40a8a1f-b38b-41a2-a425-900272b8bb5d",
        "colab": {
          "base_uri": "https://localhost:8080/",
          "height": 347
        }
      },
      "source": [
        "# probability of each class as validated against X\n",
        "#LogReg.predict_proba(X)[0:10]\n",
        "\n",
        "\n",
        "df['predictions_probability_0'] = LogReg.predict_proba(X)[:, 0]\n",
        "df['predictions_probability_1'] = LogReg.predict_proba(X)[:, 1]\n",
        "df.sample(10)"
      ],
      "execution_count": 0,
      "outputs": [
        {
          "output_type": "execute_result",
          "data": {
            "text/html": [
              "<div>\n",
              "<style scoped>\n",
              "    .dataframe tbody tr th:only-of-type {\n",
              "        vertical-align: middle;\n",
              "    }\n",
              "\n",
              "    .dataframe tbody tr th {\n",
              "        vertical-align: top;\n",
              "    }\n",
              "\n",
              "    .dataframe thead th {\n",
              "        text-align: right;\n",
              "    }\n",
              "</style>\n",
              "<table border=\"1\" class=\"dataframe\">\n",
              "  <thead>\n",
              "    <tr style=\"text-align: right;\">\n",
              "      <th></th>\n",
              "      <th>sepal length (cm)</th>\n",
              "      <th>sepal width (cm)</th>\n",
              "      <th>petal length (cm)</th>\n",
              "      <th>petal width (cm)</th>\n",
              "      <th>target</th>\n",
              "      <th>predictions</th>\n",
              "      <th>predictions_probability_0</th>\n",
              "      <th>predictions_probability_1</th>\n",
              "    </tr>\n",
              "  </thead>\n",
              "  <tbody>\n",
              "    <tr>\n",
              "      <th>26</th>\n",
              "      <td>-0.737687</td>\n",
              "      <td>0.631903</td>\n",
              "      <td>-0.874309</td>\n",
              "      <td>-0.686442</td>\n",
              "      <td>0</td>\n",
              "      <td>0</td>\n",
              "      <td>0.974028</td>\n",
              "      <td>0.025972</td>\n",
              "    </tr>\n",
              "    <tr>\n",
              "      <th>86</th>\n",
              "      <td>1.924879</td>\n",
              "      <td>0.002099</td>\n",
              "      <td>1.275062</td>\n",
              "      <td>1.269739</td>\n",
              "      <td>1</td>\n",
              "      <td>1</td>\n",
              "      <td>0.003848</td>\n",
              "      <td>0.996152</td>\n",
              "    </tr>\n",
              "    <tr>\n",
              "      <th>81</th>\n",
              "      <td>0.045420</td>\n",
              "      <td>-1.467442</td>\n",
              "      <td>0.581717</td>\n",
              "      <td>0.380566</td>\n",
              "      <td>1</td>\n",
              "      <td>1</td>\n",
              "      <td>0.034668</td>\n",
              "      <td>0.965332</td>\n",
              "    </tr>\n",
              "    <tr>\n",
              "      <th>91</th>\n",
              "      <td>0.985149</td>\n",
              "      <td>-0.207835</td>\n",
              "      <td>1.205728</td>\n",
              "      <td>1.091905</td>\n",
              "      <td>1</td>\n",
              "      <td>1</td>\n",
              "      <td>0.009367</td>\n",
              "      <td>0.990633</td>\n",
              "    </tr>\n",
              "    <tr>\n",
              "      <th>69</th>\n",
              "      <td>0.202042</td>\n",
              "      <td>-1.257507</td>\n",
              "      <td>0.720386</td>\n",
              "      <td>0.558401</td>\n",
              "      <td>1</td>\n",
              "      <td>1</td>\n",
              "      <td>0.024289</td>\n",
              "      <td>0.975711</td>\n",
              "    </tr>\n",
              "    <tr>\n",
              "      <th>70</th>\n",
              "      <td>0.671906</td>\n",
              "      <td>0.212034</td>\n",
              "      <td>1.344397</td>\n",
              "      <td>1.803243</td>\n",
              "      <td>1</td>\n",
              "      <td>1</td>\n",
              "      <td>0.005366</td>\n",
              "      <td>0.994634</td>\n",
              "    </tr>\n",
              "    <tr>\n",
              "      <th>1</th>\n",
              "      <td>-0.894309</td>\n",
              "      <td>-0.207835</td>\n",
              "      <td>-1.012978</td>\n",
              "      <td>-1.042111</td>\n",
              "      <td>0</td>\n",
              "      <td>0</td>\n",
              "      <td>0.971477</td>\n",
              "      <td>0.028523</td>\n",
              "    </tr>\n",
              "    <tr>\n",
              "      <th>80</th>\n",
              "      <td>0.045420</td>\n",
              "      <td>-1.467442</td>\n",
              "      <td>0.651051</td>\n",
              "      <td>0.558401</td>\n",
              "      <td>1</td>\n",
              "      <td>1</td>\n",
              "      <td>0.023986</td>\n",
              "      <td>0.976014</td>\n",
              "    </tr>\n",
              "    <tr>\n",
              "      <th>96</th>\n",
              "      <td>0.358663</td>\n",
              "      <td>-0.417770</td>\n",
              "      <td>0.928390</td>\n",
              "      <td>0.914070</td>\n",
              "      <td>1</td>\n",
              "      <td>1</td>\n",
              "      <td>0.024067</td>\n",
              "      <td>0.975933</td>\n",
              "    </tr>\n",
              "    <tr>\n",
              "      <th>29</th>\n",
              "      <td>-1.207552</td>\n",
              "      <td>0.212034</td>\n",
              "      <td>-0.874309</td>\n",
              "      <td>-1.042111</td>\n",
              "      <td>0</td>\n",
              "      <td>0</td>\n",
              "      <td>0.983067</td>\n",
              "      <td>0.016933</td>\n",
              "    </tr>\n",
              "  </tbody>\n",
              "</table>\n",
              "</div>"
            ],
            "text/plain": [
              "    sepal length (cm)  sepal width (cm)  petal length (cm)  petal width (cm)  \\\n",
              "26          -0.737687          0.631903          -0.874309         -0.686442   \n",
              "86           1.924879          0.002099           1.275062          1.269739   \n",
              "81           0.045420         -1.467442           0.581717          0.380566   \n",
              "91           0.985149         -0.207835           1.205728          1.091905   \n",
              "69           0.202042         -1.257507           0.720386          0.558401   \n",
              "70           0.671906          0.212034           1.344397          1.803243   \n",
              "1           -0.894309         -0.207835          -1.012978         -1.042111   \n",
              "80           0.045420         -1.467442           0.651051          0.558401   \n",
              "96           0.358663         -0.417770           0.928390          0.914070   \n",
              "29          -1.207552          0.212034          -0.874309         -1.042111   \n",
              "\n",
              "    target  predictions  predictions_probability_0  predictions_probability_1  \n",
              "26       0            0                   0.974028                   0.025972  \n",
              "86       1            1                   0.003848                   0.996152  \n",
              "81       1            1                   0.034668                   0.965332  \n",
              "91       1            1                   0.009367                   0.990633  \n",
              "69       1            1                   0.024289                   0.975711  \n",
              "70       1            1                   0.005366                   0.994634  \n",
              "1        0            0                   0.971477                   0.028523  \n",
              "80       1            1                   0.023986                   0.976014  \n",
              "96       1            1                   0.024067                   0.975933  \n",
              "29       0            0                   0.983067                   0.016933  "
            ]
          },
          "metadata": {
            "tags": []
          },
          "execution_count": 44
        }
      ]
    },
    {
      "cell_type": "code",
      "metadata": {
        "id": "DTmUEZh1OmHz",
        "colab_type": "code",
        "outputId": "e9beae51-1df0-4296-8e50-38318212bc71",
        "colab": {
          "base_uri": "https://localhost:8080/",
          "height": 1794
        }
      },
      "source": [
        "#probability of each class validated against X\n",
        "LogReg.predict_proba(X)"
      ],
      "execution_count": 0,
      "outputs": [
        {
          "output_type": "execute_result",
          "data": {
            "text/plain": [
              "array([[9.89030983e-01, 1.09690167e-02],\n",
              "       [9.71476553e-01, 2.85234466e-02],\n",
              "       [9.87612030e-01, 1.23879698e-02],\n",
              "       [9.82851619e-01, 1.71483812e-02],\n",
              "       [9.92415445e-01, 7.58455550e-03],\n",
              "       [9.85775233e-01, 1.42247668e-02],\n",
              "       [9.90215071e-01, 9.78492871e-03],\n",
              "       [9.86310757e-01, 1.36892430e-02],\n",
              "       [9.80490169e-01, 1.95098306e-02],\n",
              "       [9.80950103e-01, 1.90498972e-02],\n",
              "       [9.89079877e-01, 1.09201227e-02],\n",
              "       [9.88172711e-01, 1.18272886e-02],\n",
              "       [9.80708481e-01, 1.92915188e-02],\n",
              "       [9.92462406e-01, 7.53759411e-03],\n",
              "       [9.93644975e-01, 6.35502480e-03],\n",
              "       [9.95016071e-01, 4.98392867e-03],\n",
              "       [9.90634595e-01, 9.36540503e-03],\n",
              "       [9.85628542e-01, 1.43714579e-02],\n",
              "       [9.79883156e-01, 2.01168438e-02],\n",
              "       [9.92299470e-01, 7.70052995e-03],\n",
              "       [9.72302046e-01, 2.76979540e-02],\n",
              "       [9.87126748e-01, 1.28732522e-02],\n",
              "       [9.96995157e-01, 3.00484276e-03],\n",
              "       [9.46480171e-01, 5.35198291e-02],\n",
              "       [9.83829890e-01, 1.61701104e-02],\n",
              "       [9.60446635e-01, 3.95533654e-02],\n",
              "       [9.74027723e-01, 2.59722774e-02],\n",
              "       [9.86197784e-01, 1.38022155e-02],\n",
              "       [9.84160376e-01, 1.58396238e-02],\n",
              "       [9.83066862e-01, 1.69331384e-02],\n",
              "       [9.75613286e-01, 2.43867143e-02],\n",
              "       [9.61672872e-01, 3.83271277e-02],\n",
              "       [9.97565275e-01, 2.43472467e-03],\n",
              "       [9.96705994e-01, 3.29400586e-03],\n",
              "       [9.75104177e-01, 2.48958232e-02],\n",
              "       [9.83754714e-01, 1.62452856e-02],\n",
              "       [9.83693609e-01, 1.63063908e-02],\n",
              "       [9.94905807e-01, 5.09419302e-03],\n",
              "       [9.86188248e-01, 1.38117524e-02],\n",
              "       [9.84487236e-01, 1.55127640e-02],\n",
              "       [9.88577237e-01, 1.14227635e-02],\n",
              "       [8.95621532e-01, 1.04378468e-01],\n",
              "       [9.91501023e-01, 8.49897654e-03],\n",
              "       [9.65197792e-01, 3.48022078e-02],\n",
              "       [9.84666164e-01, 1.53338356e-02],\n",
              "       [9.67117470e-01, 3.28825301e-02],\n",
              "       [9.93481891e-01, 6.51810873e-03],\n",
              "       [9.87868541e-01, 1.21314589e-02],\n",
              "       [9.90368816e-01, 9.63118390e-03],\n",
              "       [9.84289760e-01, 1.57102405e-02],\n",
              "       [4.41608610e-03, 9.95583914e-01],\n",
              "       [8.84664214e-03, 9.91153358e-01],\n",
              "       [2.41967133e-03, 9.97580329e-01],\n",
              "       [8.92325475e-03, 9.91076745e-01],\n",
              "       [2.64259400e-03, 9.97357406e-01],\n",
              "       [1.38548240e-02, 9.86145176e-01],\n",
              "       [7.91138299e-03, 9.92088617e-01],\n",
              "       [1.05048085e-01, 8.94951915e-01],\n",
              "       [5.12979343e-03, 9.94870207e-01],\n",
              "       [2.88765650e-02, 9.71123435e-01],\n",
              "       [3.03956527e-02, 9.69604347e-01],\n",
              "       [1.39517308e-02, 9.86048269e-01],\n",
              "       [8.41511867e-03, 9.91584881e-01],\n",
              "       [6.61114387e-03, 9.93388856e-01],\n",
              "       [5.01486108e-02, 9.49851389e-01],\n",
              "       [6.92492275e-03, 9.93075077e-01],\n",
              "       [1.48535539e-02, 9.85146446e-01],\n",
              "       [3.24891436e-02, 9.67510856e-01],\n",
              "       [9.87093023e-04, 9.99012907e-01],\n",
              "       [2.42891468e-02, 9.75710853e-01],\n",
              "       [5.36584651e-03, 9.94634153e-01],\n",
              "       [1.41444938e-02, 9.85855506e-01],\n",
              "       [1.18939405e-03, 9.98810606e-01],\n",
              "       [8.91904214e-03, 9.91080958e-01],\n",
              "       [9.04389214e-03, 9.90956108e-01],\n",
              "       [6.15541040e-03, 9.93844590e-01],\n",
              "       [1.92311823e-03, 9.98076882e-01],\n",
              "       [1.27145803e-03, 9.98728542e-01],\n",
              "       [7.05010247e-03, 9.92949898e-01],\n",
              "       [5.32482673e-02, 9.46751733e-01],\n",
              "       [2.39864621e-02, 9.76013538e-01],\n",
              "       [3.46681208e-02, 9.65331879e-01],\n",
              "       [2.34395426e-02, 9.76560457e-01],\n",
              "       [1.74977010e-03, 9.98250230e-01],\n",
              "       [1.90632720e-02, 9.80936728e-01],\n",
              "       [1.80945078e-02, 9.81905492e-01],\n",
              "       [3.84758527e-03, 9.96152415e-01],\n",
              "       [2.13268713e-03, 9.97867313e-01],\n",
              "       [3.82562708e-02, 9.61743729e-01],\n",
              "       [1.44973723e-02, 9.85502628e-01],\n",
              "       [1.59381252e-02, 9.84061875e-01],\n",
              "       [9.36680533e-03, 9.90633195e-01],\n",
              "       [1.66131919e-02, 9.83386808e-01],\n",
              "       [7.48320807e-02, 9.25167919e-01],\n",
              "       [1.68471911e-02, 9.83152809e-01],\n",
              "       [3.97933722e-02, 9.60206628e-01],\n",
              "       [2.40673562e-02, 9.75932644e-01],\n",
              "       [1.16264979e-02, 9.88373502e-01],\n",
              "       [1.08404668e-01, 8.91595332e-01],\n",
              "       [2.09942129e-02, 9.79005787e-01]])"
            ]
          },
          "metadata": {
            "tags": []
          },
          "execution_count": 45
        }
      ]
    },
    {
      "cell_type": "code",
      "metadata": {
        "id": "Yla9SoYUJb9L",
        "colab_type": "code",
        "outputId": "8c9a704c-f0ac-42ff-8157-f3d317629fc6",
        "colab": {
          "base_uri": "https://localhost:8080/",
          "height": 296
        }
      },
      "source": [
        "# Plot the paredicted probabilities of petal length (cm) against predictions                          \n",
        "\n",
        "df.rename(columns = {'petal length (cm)': 'petal_length'},inplace = True) # Rename the column                        \n",
        "plt.scatter(df.petal_length, df.target)                                                      \n",
        "\n",
        "plt.scatter(df.petal_length,df.predictions_probability_1 , color='red')             \n",
        "\n",
        "#plt.plot(df.petal_length,pred, color='red')                 \n",
        "plt.xlabel('petal length (cm)')                \n",
        "plt.ylabel('target')                                                            "
      ],
      "execution_count": 0,
      "outputs": [
        {
          "output_type": "execute_result",
          "data": {
            "text/plain": [
              "Text(0, 0.5, 'target')"
            ]
          },
          "metadata": {
            "tags": []
          },
          "execution_count": 61
        },
        {
          "output_type": "display_data",
          "data": {
            "image/png": "[encoded data removed]",
            "text/plain": [
              "<Figure size 432x288 with 1 Axes>"
            ]
          },
          "metadata": {
            "tags": []
          }
        }
      ]
    },
    {
      "cell_type": "code",
      "metadata": {
        "id": "5u9Kx18PdhkV",
        "colab_type": "code",
        "colab": {}
      },
      "source": [
        ""
      ],
      "execution_count": 0,
      "outputs": []
    },
    {
      "cell_type": "code",
      "metadata": {
        "id": "lkIAsJnXOx_K",
        "colab_type": "code",
        "outputId": "885826df-81d0-4c54-84c8-ba7ebfd1549a",
        "colab": {
          "base_uri": "https://localhost:8080/",
          "height": 296
        }
      },
      "source": [
        "# Plot the paredicted probabilities of petal length (cm) against predictions                          \n",
        "\n",
        "df.rename(columns = {'petal length (cm)': 'petal_length'},inplace = True) # Rename the column                        \n",
        "plt.scatter(df.petal_length, df.target)                                                      \n",
        "\n",
        "#plt.scatter(df.petal_length,df.predictions_prob_1 , color='red')             \n",
        "\n",
        "plt.plot(df.petal_length,df.predictions_probability_1, color='red')                 \n",
        "plt.xlabel('petal length (cm)')                \n",
        "plt.ylabel('target')"
      ],
      "execution_count": 0,
      "outputs": [
        {
          "output_type": "execute_result",
          "data": {
            "text/plain": [
              "Text(0, 0.5, 'target')"
            ]
          },
          "metadata": {
            "tags": []
          },
          "execution_count": 50
        },
        {
          "output_type": "display_data",
          "data": {
            "image/png": "[encoded data removed]",
            "text/plain": [
              "<Figure size 432x288 with 1 Axes>"
            ]
          },
          "metadata": {
            "tags": []
          }
        }
      ]
    },
    {
      "cell_type": "markdown",
      "metadata": {
        "id": "sWB2bwO4Jb9N",
        "colab_type": "text"
      },
      "source": [
        "##  Multi-class classification using Logistic Regression"
      ]
    },
    {
      "cell_type": "code",
      "metadata": {
        "id": "bgeHqxlZJb9O",
        "colab_type": "code",
        "colab": {}
      },
      "source": [
        "#Load Iris dataset again\n",
        "iris = datasets.load_iris()"
      ],
      "execution_count": 0,
      "outputs": []
    },
    {
      "cell_type": "code",
      "metadata": {
        "id": "U3OziXQnJb9Q",
        "colab_type": "code",
        "colab": {}
      },
      "source": [
        "#Standardize the dataset\n",
        "scaler2 = StandardScaler()\n",
        "\n",
        "# Transform the feature\n",
        "standardized_data = scaler2.fit_transform(iris.data)"
      ],
      "execution_count": 0,
      "outputs": []
    },
    {
      "cell_type": "code",
      "metadata": {
        "id": "AcGxzADEJb9S",
        "colab_type": "code",
        "colab": {}
      },
      "source": [
        "#create dataframes for data and target separately\n",
        "data = pd.DataFrame(standardized_data, columns=iris.feature_names)\n",
        "target = pd.DataFrame(iris.target, columns=['target'])"
      ],
      "execution_count": 0,
      "outputs": []
    },
    {
      "cell_type": "code",
      "metadata": {
        "id": "zTKtlzWRJb9U",
        "colab_type": "code",
        "colab": {}
      },
      "source": [
        "#Combine data and target into one big dataframe tables\n",
        "\n",
        "multi_data = pd.concat([data,target],axis = 1)\n",
        "#df = pd.concat([features,target], axis=1)"
      ],
      "execution_count": 0,
      "outputs": []
    },
    {
      "cell_type": "code",
      "metadata": {
        "id": "OCFslN08Jb9Y",
        "colab_type": "code",
        "outputId": "f9570b9f-898c-48b5-e85a-2eae78ff19b4",
        "colab": {
          "base_uri": "https://localhost:8080/",
          "height": 87
        }
      },
      "source": [
        "#check how many different values does target have?\n",
        "multi_data['target'].value_counts()"
      ],
      "execution_count": 0,
      "outputs": [
        {
          "output_type": "execute_result",
          "data": {
            "text/plain": [
              "2    50\n",
              "1    50\n",
              "0    50\n",
              "Name: target, dtype: int64"
            ]
          },
          "metadata": {
            "tags": []
          },
          "execution_count": 57
        }
      ]
    },
    {
      "cell_type": "code",
      "metadata": {
        "id": "caO0gdVhJb9a",
        "colab_type": "code",
        "colab": {}
      },
      "source": [
        "#Create a new copy of Logistic Regression class\n",
        "#LogRegM = LogisticRegression()\n",
        "\n",
        "LogRegM = LogisticRegression(random_state=0, multi_class='multinomial', solver='newton-cg')\n"
      ],
      "execution_count": 0,
      "outputs": []
    },
    {
      "cell_type": "code",
      "metadata": {
        "id": "1mX6_rBNJb9c",
        "colab_type": "code",
        "colab": {}
      },
      "source": [
        "#Define (X,y) to be used for training the model\n",
        "X=multi_data[iris.feature_names]\n",
        "y=multi_data['target']"
      ],
      "execution_count": 0,
      "outputs": []
    },
    {
      "cell_type": "code",
      "metadata": {
        "id": "HyVHwA-SfOKG",
        "colab_type": "code",
        "colab": {}
      },
      "source": [
        ""
      ],
      "execution_count": 0,
      "outputs": []
    },
    {
      "cell_type": "code",
      "metadata": {
        "id": "Pj4t_R8KJb9e",
        "colab_type": "code",
        "outputId": "534cc9ac-f3ed-41c7-e8ef-af00c384dc9a",
        "colab": {
          "base_uri": "https://localhost:8080/",
          "height": 34
        }
      },
      "source": [
        "#Fit the model with all the data\n",
        "#Find out how well it scores\n",
        "\n",
        "ss = LogRegM.fit(X,y)\n",
        "ss.score(X,y)"
      ],
      "execution_count": 0,
      "outputs": [
        {
          "output_type": "execute_result",
          "data": {
            "text/plain": [
              "0.9733333333333334"
            ]
          },
          "metadata": {
            "tags": []
          },
          "execution_count": 274
        }
      ]
    },
    {
      "cell_type": "code",
      "metadata": {
        "id": "IgxoDgQ3Jb9g",
        "colab_type": "code",
        "outputId": "922e21fe-878a-4d16-e55d-95fc993f81d7",
        "colab": {
          "base_uri": "https://localhost:8080/",
          "height": 167
        }
      },
      "source": [
        "#Show which ones (rows) the model fail to predict \n",
        "\n",
        "multi_data['predictions'] = LogRegM.predict(X)\n",
        "\n",
        "#multi_data.loc[:,['target','predictions']]\n",
        "\n",
        "multi_data.loc[~(multi_data['target'] == multi_data['predictions'])] ## Gives the rows which the model fail to predict"
      ],
      "execution_count": 0,
      "outputs": [
        {
          "output_type": "execute_result",
          "data": {
            "text/html": [
              "<div>\n",
              "<style scoped>\n",
              "    .dataframe tbody tr th:only-of-type {\n",
              "        vertical-align: middle;\n",
              "    }\n",
              "\n",
              "    .dataframe tbody tr th {\n",
              "        vertical-align: top;\n",
              "    }\n",
              "\n",
              "    .dataframe thead th {\n",
              "        text-align: right;\n",
              "    }\n",
              "</style>\n",
              "<table border=\"1\" class=\"dataframe\">\n",
              "  <thead>\n",
              "    <tr style=\"text-align: right;\">\n",
              "      <th></th>\n",
              "      <th>sepal length (cm)</th>\n",
              "      <th>sepal width (cm)</th>\n",
              "      <th>petal length (cm)</th>\n",
              "      <th>petal width (cm)</th>\n",
              "      <th>target</th>\n",
              "      <th>predictions</th>\n",
              "    </tr>\n",
              "  </thead>\n",
              "  <tbody>\n",
              "    <tr>\n",
              "      <th>70</th>\n",
              "      <td>0.068662</td>\n",
              "      <td>0.328414</td>\n",
              "      <td>0.592246</td>\n",
              "      <td>0.790671</td>\n",
              "      <td>1</td>\n",
              "      <td>2</td>\n",
              "    </tr>\n",
              "    <tr>\n",
              "      <th>77</th>\n",
              "      <td>1.038005</td>\n",
              "      <td>-0.131979</td>\n",
              "      <td>0.705921</td>\n",
              "      <td>0.659038</td>\n",
              "      <td>1</td>\n",
              "      <td>2</td>\n",
              "    </tr>\n",
              "    <tr>\n",
              "      <th>83</th>\n",
              "      <td>0.189830</td>\n",
              "      <td>-0.822570</td>\n",
              "      <td>0.762758</td>\n",
              "      <td>0.527406</td>\n",
              "      <td>1</td>\n",
              "      <td>2</td>\n",
              "    </tr>\n",
              "    <tr>\n",
              "      <th>133</th>\n",
              "      <td>0.553333</td>\n",
              "      <td>-0.592373</td>\n",
              "      <td>0.762758</td>\n",
              "      <td>0.395774</td>\n",
              "      <td>2</td>\n",
              "      <td>1</td>\n",
              "    </tr>\n",
              "  </tbody>\n",
              "</table>\n",
              "</div>"
            ],
            "text/plain": [
              "     sepal length (cm)  sepal width (cm)  petal length (cm)  petal width (cm)  \\\n",
              "70            0.068662          0.328414           0.592246          0.790671   \n",
              "77            1.038005         -0.131979           0.705921          0.659038   \n",
              "83            0.189830         -0.822570           0.762758          0.527406   \n",
              "133           0.553333         -0.592373           0.762758          0.395774   \n",
              "\n",
              "     target  predictions  \n",
              "70        1            2  \n",
              "77        1            2  \n",
              "83        1            2  \n",
              "133       2            1  "
            ]
          },
          "metadata": {
            "tags": []
          },
          "execution_count": 275
        }
      ]
    },
    {
      "cell_type": "code",
      "metadata": {
        "id": "3AzPJ6sS0ZwS",
        "colab_type": "code",
        "colab": {}
      },
      "source": [
        "#multi_data['predictions'].value_counts()"
      ],
      "execution_count": 0,
      "outputs": []
    },
    {
      "cell_type": "code",
      "metadata": {
        "id": "DZXM0LkGJb9i",
        "colab_type": "code",
        "outputId": "c2f85ad3-460b-47bf-cd7f-677f55a84d90",
        "colab": {
          "base_uri": "https://localhost:8080/",
          "height": 87
        }
      },
      "source": [
        "#Show the predict_proba of those (rows) that failed to predict correctly.\n",
        "#Is the probability of the target class close/not close to that of the predicted class in these cases?\n",
        "for i in range(0,len(multi_data)):\n",
        "  if (multi_data['target'][i] != multi_data['predictions'][i]):\n",
        "    print(LogRegM.predict_proba(X)[i])\n",
        "    \n",
        "    \n",
        "# Note: Here, the probabilities for target predict class was bit close to actual target class.\n",
        "#  If we observe the actual target for the first row in the above dataframe was 1 it has probability of 0.4403, but model had predicted as 2 which has probability of 0.5476. \n",
        "# So, if we see the both values Here, the probabilities seems close but predictions were different."
      ],
      "execution_count": 0,
      "outputs": [
        {
          "output_type": "stream",
          "text": [
            "[0.01201214 0.44032623 0.54766162]\n",
            "[0.00117927 0.45787004 0.54095069]\n",
            "[0.00167859 0.43725132 0.56107009]\n",
            "[0.00198042 0.58401019 0.41400939]\n"
          ],
          "name": "stdout"
        }
      ]
    },
    {
      "cell_type": "code",
      "metadata": {
        "id": "kwmHhUWBMgc2",
        "colab_type": "code",
        "colab": {}
      },
      "source": [
        ""
      ],
      "execution_count": 0,
      "outputs": []
    }
  ]
}