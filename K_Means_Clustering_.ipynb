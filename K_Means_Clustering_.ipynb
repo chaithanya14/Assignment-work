{
  "nbformat": 4,
  "nbformat_minor": 0,
  "metadata": {
    "colab": {
      "name": "K-Means Clustering .ipynb",
      "version": "0.3.2",
      "provenance": [],
      "collapsed_sections": []
    },
    "kernelspec": {
      "display_name": "Python 3",
      "language": "python",
      "name": "python3"
    }
  },
  "cells": [
    {
      "cell_type": "markdown",
      "metadata": {
        "id": "2oJ17CN5N4n0",
        "colab_type": "text"
      },
      "source": [
        "# HW 8: Clustering by K-Means\n",
        "---"
      ]
    },
    {
      "cell_type": "code",
      "metadata": {
        "id": "e0y8rb3TimHR",
        "colab_type": "code",
        "colab": {}
      },
      "source": [
        ""
      ],
      "execution_count": 0,
      "outputs": []
    },
    {
      "cell_type": "code",
      "metadata": {
        "id": "_ctqbII3N4n2",
        "colab_type": "code",
        "colab": {}
      },
      "source": [
        "import pandas as pd\n",
        "from sklearn.cluster import KMeans\n",
        "import numpy as np\n",
        "from sklearn.preprocessing import StandardScaler\n",
        "import matplotlib.pyplot as plt\n",
        "plt.rcParams['font.size'] = 14\n",
        "%matplotlib inline"
      ],
      "execution_count": 0,
      "outputs": []
    },
    {
      "cell_type": "markdown",
      "metadata": {
        "id": "ZMZPikxPN4n9",
        "colab_type": "text"
      },
      "source": [
        "# Import a Beer data set to a dataframe"
      ]
    },
    {
      "cell_type": "code",
      "metadata": {
        "colab_type": "code",
        "id": "1WbzJM4cYp1I",
        "colab": {}
      },
      "source": [
        "#1 Code to read csv file into colaboratory:\n",
        "!pip install -U -q PyDrive\n",
        "from pydrive.auth import GoogleAuth\n",
        "from pydrive.drive import GoogleDrive\n",
        "from google.colab import auth\n",
        "from oauth2client.client import GoogleCredentials\n",
        "\n",
        "# 1. Authenticate and create the PyDrive client.\n",
        "auth.authenticate_user()\n",
        "gauth = GoogleAuth()\n",
        "gauth.credentials = GoogleCredentials.get_application_default()\n",
        "drive = GoogleDrive(gauth)"
      ],
      "execution_count": 0,
      "outputs": []
    },
    {
      "cell_type": "code",
      "metadata": {
        "colab_type": "code",
        "id": "ubjxW9IrYrMG",
        "colab": {}
      },
      "source": [
        "#2. Get the file\n",
        "#make sure you upload all your data files to your Google drive and change share->Advanced->change->anyone with the link can view\n",
        "downloaded = drive.CreateFile({'id':'1bjCoHPxe_96Ijoz8eCzYUikwlkPA6XDc'}) # replace the id with id of file you want to access\n",
        "downloaded.GetContentFile('beer.txt')"
      ],
      "execution_count": 0,
      "outputs": []
    },
    {
      "cell_type": "code",
      "metadata": {
        "id": "Gq-x4iKjN4n-",
        "colab_type": "code",
        "outputId": "8d9a9d67-5b44-4428-ac1d-bdddaa74308e",
        "colab": {
          "base_uri": "https://localhost:8080/",
          "height": 647
        }
      },
      "source": [
        "url = 'beer.txt'\n",
        "beer = pd.read_csv(url, sep=' ')\n",
        "beer"
      ],
      "execution_count": 0,
      "outputs": [
        {
          "output_type": "execute_result",
          "data": {
            "text/html": [
              "<div>\n",
              "<style scoped>\n",
              "    .dataframe tbody tr th:only-of-type {\n",
              "        vertical-align: middle;\n",
              "    }\n",
              "\n",
              "    .dataframe tbody tr th {\n",
              "        vertical-align: top;\n",
              "    }\n",
              "\n",
              "    .dataframe thead th {\n",
              "        text-align: right;\n",
              "    }\n",
              "</style>\n",
              "<table border=\"1\" class=\"dataframe\">\n",
              "  <thead>\n",
              "    <tr style=\"text-align: right;\">\n",
              "      <th></th>\n",
              "      <th>name</th>\n",
              "      <th>calories</th>\n",
              "      <th>sodium</th>\n",
              "      <th>alcohol</th>\n",
              "      <th>cost</th>\n",
              "    </tr>\n",
              "  </thead>\n",
              "  <tbody>\n",
              "    <tr>\n",
              "      <th>0</th>\n",
              "      <td>Budweiser</td>\n",
              "      <td>144</td>\n",
              "      <td>15</td>\n",
              "      <td>4.7</td>\n",
              "      <td>0.43</td>\n",
              "    </tr>\n",
              "    <tr>\n",
              "      <th>1</th>\n",
              "      <td>Schlitz</td>\n",
              "      <td>151</td>\n",
              "      <td>19</td>\n",
              "      <td>4.9</td>\n",
              "      <td>0.43</td>\n",
              "    </tr>\n",
              "    <tr>\n",
              "      <th>2</th>\n",
              "      <td>Lowenbrau</td>\n",
              "      <td>157</td>\n",
              "      <td>15</td>\n",
              "      <td>0.9</td>\n",
              "      <td>0.48</td>\n",
              "    </tr>\n",
              "    <tr>\n",
              "      <th>3</th>\n",
              "      <td>Kronenbourg</td>\n",
              "      <td>170</td>\n",
              "      <td>7</td>\n",
              "      <td>5.2</td>\n",
              "      <td>0.73</td>\n",
              "    </tr>\n",
              "    <tr>\n",
              "      <th>4</th>\n",
              "      <td>Heineken</td>\n",
              "      <td>152</td>\n",
              "      <td>11</td>\n",
              "      <td>5.0</td>\n",
              "      <td>0.77</td>\n",
              "    </tr>\n",
              "    <tr>\n",
              "      <th>5</th>\n",
              "      <td>Old_Milwaukee</td>\n",
              "      <td>145</td>\n",
              "      <td>23</td>\n",
              "      <td>4.6</td>\n",
              "      <td>0.28</td>\n",
              "    </tr>\n",
              "    <tr>\n",
              "      <th>6</th>\n",
              "      <td>Augsberger</td>\n",
              "      <td>175</td>\n",
              "      <td>24</td>\n",
              "      <td>5.5</td>\n",
              "      <td>0.40</td>\n",
              "    </tr>\n",
              "    <tr>\n",
              "      <th>7</th>\n",
              "      <td>Srohs_Bohemian_Style</td>\n",
              "      <td>149</td>\n",
              "      <td>27</td>\n",
              "      <td>4.7</td>\n",
              "      <td>0.42</td>\n",
              "    </tr>\n",
              "    <tr>\n",
              "      <th>8</th>\n",
              "      <td>Miller_Lite</td>\n",
              "      <td>99</td>\n",
              "      <td>10</td>\n",
              "      <td>4.3</td>\n",
              "      <td>0.43</td>\n",
              "    </tr>\n",
              "    <tr>\n",
              "      <th>9</th>\n",
              "      <td>Budweiser_Light</td>\n",
              "      <td>113</td>\n",
              "      <td>8</td>\n",
              "      <td>3.7</td>\n",
              "      <td>0.40</td>\n",
              "    </tr>\n",
              "    <tr>\n",
              "      <th>10</th>\n",
              "      <td>Coors</td>\n",
              "      <td>140</td>\n",
              "      <td>18</td>\n",
              "      <td>4.6</td>\n",
              "      <td>0.44</td>\n",
              "    </tr>\n",
              "    <tr>\n",
              "      <th>11</th>\n",
              "      <td>Coors_Light</td>\n",
              "      <td>102</td>\n",
              "      <td>15</td>\n",
              "      <td>4.1</td>\n",
              "      <td>0.46</td>\n",
              "    </tr>\n",
              "    <tr>\n",
              "      <th>12</th>\n",
              "      <td>Michelob_Light</td>\n",
              "      <td>135</td>\n",
              "      <td>11</td>\n",
              "      <td>4.2</td>\n",
              "      <td>0.50</td>\n",
              "    </tr>\n",
              "    <tr>\n",
              "      <th>13</th>\n",
              "      <td>Becks</td>\n",
              "      <td>150</td>\n",
              "      <td>19</td>\n",
              "      <td>4.7</td>\n",
              "      <td>0.76</td>\n",
              "    </tr>\n",
              "    <tr>\n",
              "      <th>14</th>\n",
              "      <td>Kirin</td>\n",
              "      <td>149</td>\n",
              "      <td>6</td>\n",
              "      <td>5.0</td>\n",
              "      <td>0.79</td>\n",
              "    </tr>\n",
              "    <tr>\n",
              "      <th>15</th>\n",
              "      <td>Pabst_Extra_Light</td>\n",
              "      <td>68</td>\n",
              "      <td>15</td>\n",
              "      <td>2.3</td>\n",
              "      <td>0.38</td>\n",
              "    </tr>\n",
              "    <tr>\n",
              "      <th>16</th>\n",
              "      <td>Hamms</td>\n",
              "      <td>139</td>\n",
              "      <td>19</td>\n",
              "      <td>4.4</td>\n",
              "      <td>0.43</td>\n",
              "    </tr>\n",
              "    <tr>\n",
              "      <th>17</th>\n",
              "      <td>Heilemans_Old_Style</td>\n",
              "      <td>144</td>\n",
              "      <td>24</td>\n",
              "      <td>4.9</td>\n",
              "      <td>0.43</td>\n",
              "    </tr>\n",
              "    <tr>\n",
              "      <th>18</th>\n",
              "      <td>Olympia_Goled_Light</td>\n",
              "      <td>72</td>\n",
              "      <td>6</td>\n",
              "      <td>2.9</td>\n",
              "      <td>0.46</td>\n",
              "    </tr>\n",
              "    <tr>\n",
              "      <th>19</th>\n",
              "      <td>Schlitz_Light</td>\n",
              "      <td>97</td>\n",
              "      <td>7</td>\n",
              "      <td>4.2</td>\n",
              "      <td>0.47</td>\n",
              "    </tr>\n",
              "  </tbody>\n",
              "</table>\n",
              "</div>"
            ],
            "text/plain": [
              "                    name  calories  sodium  alcohol  cost\n",
              "0              Budweiser       144      15      4.7  0.43\n",
              "1                Schlitz       151      19      4.9  0.43\n",
              "2              Lowenbrau       157      15      0.9  0.48\n",
              "3            Kronenbourg       170       7      5.2  0.73\n",
              "4               Heineken       152      11      5.0  0.77\n",
              "5          Old_Milwaukee       145      23      4.6  0.28\n",
              "6             Augsberger       175      24      5.5  0.40\n",
              "7   Srohs_Bohemian_Style       149      27      4.7  0.42\n",
              "8            Miller_Lite        99      10      4.3  0.43\n",
              "9        Budweiser_Light       113       8      3.7  0.40\n",
              "10                 Coors       140      18      4.6  0.44\n",
              "11           Coors_Light       102      15      4.1  0.46\n",
              "12        Michelob_Light       135      11      4.2  0.50\n",
              "13                 Becks       150      19      4.7  0.76\n",
              "14                 Kirin       149       6      5.0  0.79\n",
              "15     Pabst_Extra_Light        68      15      2.3  0.38\n",
              "16                 Hamms       139      19      4.4  0.43\n",
              "17   Heilemans_Old_Style       144      24      4.9  0.43\n",
              "18   Olympia_Goled_Light        72       6      2.9  0.46\n",
              "19         Schlitz_Light        97       7      4.2  0.47"
            ]
          },
          "metadata": {
            "tags": []
          },
          "execution_count": 38
        }
      ]
    },
    {
      "cell_type": "markdown",
      "metadata": {
        "id": "23tpz0y6N4oH",
        "colab_type": "text"
      },
      "source": [
        "#### Let's pick the feature set"
      ]
    },
    {
      "cell_type": "code",
      "metadata": {
        "id": "yzo5j0aoN4oK",
        "colab_type": "code",
        "colab": {}
      },
      "source": [
        "# Define X. \n",
        "X = beer.drop('name', axis=1)"
      ],
      "execution_count": 0,
      "outputs": []
    },
    {
      "cell_type": "code",
      "metadata": {
        "id": "81les2TvWzt9",
        "colab_type": "code",
        "outputId": "ff1ce99e-1283-4812-ea13-7d6b40f825c4",
        "colab": {
          "base_uri": "https://localhost:8080/",
          "height": 197
        }
      },
      "source": [
        "X.head()"
      ],
      "execution_count": 0,
      "outputs": [
        {
          "output_type": "execute_result",
          "data": {
            "text/html": [
              "<div>\n",
              "<style scoped>\n",
              "    .dataframe tbody tr th:only-of-type {\n",
              "        vertical-align: middle;\n",
              "    }\n",
              "\n",
              "    .dataframe tbody tr th {\n",
              "        vertical-align: top;\n",
              "    }\n",
              "\n",
              "    .dataframe thead th {\n",
              "        text-align: right;\n",
              "    }\n",
              "</style>\n",
              "<table border=\"1\" class=\"dataframe\">\n",
              "  <thead>\n",
              "    <tr style=\"text-align: right;\">\n",
              "      <th></th>\n",
              "      <th>calories</th>\n",
              "      <th>sodium</th>\n",
              "      <th>alcohol</th>\n",
              "      <th>cost</th>\n",
              "    </tr>\n",
              "  </thead>\n",
              "  <tbody>\n",
              "    <tr>\n",
              "      <th>0</th>\n",
              "      <td>144</td>\n",
              "      <td>15</td>\n",
              "      <td>4.7</td>\n",
              "      <td>0.43</td>\n",
              "    </tr>\n",
              "    <tr>\n",
              "      <th>1</th>\n",
              "      <td>151</td>\n",
              "      <td>19</td>\n",
              "      <td>4.9</td>\n",
              "      <td>0.43</td>\n",
              "    </tr>\n",
              "    <tr>\n",
              "      <th>2</th>\n",
              "      <td>157</td>\n",
              "      <td>15</td>\n",
              "      <td>0.9</td>\n",
              "      <td>0.48</td>\n",
              "    </tr>\n",
              "    <tr>\n",
              "      <th>3</th>\n",
              "      <td>170</td>\n",
              "      <td>7</td>\n",
              "      <td>5.2</td>\n",
              "      <td>0.73</td>\n",
              "    </tr>\n",
              "    <tr>\n",
              "      <th>4</th>\n",
              "      <td>152</td>\n",
              "      <td>11</td>\n",
              "      <td>5.0</td>\n",
              "      <td>0.77</td>\n",
              "    </tr>\n",
              "  </tbody>\n",
              "</table>\n",
              "</div>"
            ],
            "text/plain": [
              "   calories  sodium  alcohol  cost\n",
              "0       144      15      4.7  0.43\n",
              "1       151      19      4.9  0.43\n",
              "2       157      15      0.9  0.48\n",
              "3       170       7      5.2  0.73\n",
              "4       152      11      5.0  0.77"
            ]
          },
          "metadata": {
            "tags": []
          },
          "execution_count": 40
        }
      ]
    },
    {
      "cell_type": "markdown",
      "metadata": {
        "id": "rv5XdZnNN4oP",
        "colab_type": "text"
      },
      "source": [
        "#### Do we need to define a target called Y? Explain.\n",
        "\n",
        "**Answer:**  Since, we are solving the clustering problem which is an unsupervised problem, where we don't have the target feature in order to train the model. It is our job to figure out what the target value is of. We are trying to apply the structure to the data quantitatively and based on the specific criteria.\n",
        "\n",
        "We make predictions based on the structure of the data."
      ]
    },
    {
      "cell_type": "markdown",
      "metadata": {
        "id": "zsluTh8AN4oR",
        "colab_type": "text"
      },
      "source": [
        "## K-Means Clustering"
      ]
    },
    {
      "cell_type": "markdown",
      "metadata": {
        "id": "ylG9kU2VN4oS",
        "colab_type": "text"
      },
      "source": [
        "#### Create a K-means model with three clusters and fit it with 'X'."
      ]
    },
    {
      "cell_type": "code",
      "metadata": {
        "id": "I63pxYv3N4oU",
        "colab_type": "code",
        "outputId": "b68c5e4b-fbcc-4b3f-d140-ff319c0c976e",
        "colab": {
          "base_uri": "https://localhost:8080/",
          "height": 70
        }
      },
      "source": [
        "# \n",
        "model = KMeans(n_clusters = 3,random_state = 0)\n",
        "model.fit(X)"
      ],
      "execution_count": 0,
      "outputs": [
        {
          "output_type": "execute_result",
          "data": {
            "text/plain": [
              "KMeans(algorithm='auto', copy_x=True, init='k-means++', max_iter=300,\n",
              "    n_clusters=3, n_init=10, n_jobs=None, precompute_distances='auto',\n",
              "    random_state=0, tol=0.0001, verbose=0)"
            ]
          },
          "metadata": {
            "tags": []
          },
          "execution_count": 41
        }
      ]
    },
    {
      "cell_type": "markdown",
      "metadata": {
        "id": "LJ5rNPXYN4oY",
        "colab_type": "text"
      },
      "source": [
        "#### Review and show the cluster labels."
      ]
    },
    {
      "cell_type": "code",
      "metadata": {
        "id": "Esh_XoqNN4oa",
        "colab_type": "code",
        "outputId": "fcfa89ec-aacd-4ae6-d34d-bc6c6d63b1b2",
        "colab": {
          "base_uri": "https://localhost:8080/",
          "height": 105
        }
      },
      "source": [
        "#\n",
        "predicted = model.labels_\n",
        "centroids = model.cluster_centers_\n",
        "\n",
        "print(\"Predicted clusters to points: \", predicted)\n",
        "print(\"Location of centroids: \")\n",
        "print(centroids)\n"
      ],
      "execution_count": 0,
      "outputs": [
        {
          "output_type": "stream",
          "text": [
            "Predicted clusters to points:  [0 0 0 0 0 0 0 0 2 2 0 2 0 0 0 1 0 0 1 2]\n",
            "Location of centroids: \n",
            "[[150.          17.           4.52142857   0.52071429]\n",
            " [ 70.          10.5          2.6          0.42      ]\n",
            " [102.75        10.           4.075        0.44      ]]\n"
          ],
          "name": "stdout"
        }
      ]
    },
    {
      "cell_type": "markdown",
      "metadata": {
        "id": "BKGmg1MzN4og",
        "colab_type": "text"
      },
      "source": [
        "#### Add the cluster labels as an additional column('cluster') in the dataframe and print out the dataframe as sorted by cluster."
      ]
    },
    {
      "cell_type": "code",
      "metadata": {
        "id": "y3JSyGGNN4ok",
        "colab_type": "code",
        "outputId": "bbdde718-f3c2-42ac-fba2-89ea3ba55558",
        "colab": {
          "base_uri": "https://localhost:8080/",
          "height": 647
        }
      },
      "source": [
        "#\n",
        "beer['cluster'] = predicted\n",
        "beer.sort_values(by='cluster')\n"
      ],
      "execution_count": 0,
      "outputs": [
        {
          "output_type": "execute_result",
          "data": {
            "text/html": [
              "<div>\n",
              "<style scoped>\n",
              "    .dataframe tbody tr th:only-of-type {\n",
              "        vertical-align: middle;\n",
              "    }\n",
              "\n",
              "    .dataframe tbody tr th {\n",
              "        vertical-align: top;\n",
              "    }\n",
              "\n",
              "    .dataframe thead th {\n",
              "        text-align: right;\n",
              "    }\n",
              "</style>\n",
              "<table border=\"1\" class=\"dataframe\">\n",
              "  <thead>\n",
              "    <tr style=\"text-align: right;\">\n",
              "      <th></th>\n",
              "      <th>name</th>\n",
              "      <th>calories</th>\n",
              "      <th>sodium</th>\n",
              "      <th>alcohol</th>\n",
              "      <th>cost</th>\n",
              "      <th>cluster</th>\n",
              "    </tr>\n",
              "  </thead>\n",
              "  <tbody>\n",
              "    <tr>\n",
              "      <th>0</th>\n",
              "      <td>Budweiser</td>\n",
              "      <td>144</td>\n",
              "      <td>15</td>\n",
              "      <td>4.7</td>\n",
              "      <td>0.43</td>\n",
              "      <td>0</td>\n",
              "    </tr>\n",
              "    <tr>\n",
              "      <th>1</th>\n",
              "      <td>Schlitz</td>\n",
              "      <td>151</td>\n",
              "      <td>19</td>\n",
              "      <td>4.9</td>\n",
              "      <td>0.43</td>\n",
              "      <td>0</td>\n",
              "    </tr>\n",
              "    <tr>\n",
              "      <th>2</th>\n",
              "      <td>Lowenbrau</td>\n",
              "      <td>157</td>\n",
              "      <td>15</td>\n",
              "      <td>0.9</td>\n",
              "      <td>0.48</td>\n",
              "      <td>0</td>\n",
              "    </tr>\n",
              "    <tr>\n",
              "      <th>3</th>\n",
              "      <td>Kronenbourg</td>\n",
              "      <td>170</td>\n",
              "      <td>7</td>\n",
              "      <td>5.2</td>\n",
              "      <td>0.73</td>\n",
              "      <td>0</td>\n",
              "    </tr>\n",
              "    <tr>\n",
              "      <th>4</th>\n",
              "      <td>Heineken</td>\n",
              "      <td>152</td>\n",
              "      <td>11</td>\n",
              "      <td>5.0</td>\n",
              "      <td>0.77</td>\n",
              "      <td>0</td>\n",
              "    </tr>\n",
              "    <tr>\n",
              "      <th>5</th>\n",
              "      <td>Old_Milwaukee</td>\n",
              "      <td>145</td>\n",
              "      <td>23</td>\n",
              "      <td>4.6</td>\n",
              "      <td>0.28</td>\n",
              "      <td>0</td>\n",
              "    </tr>\n",
              "    <tr>\n",
              "      <th>6</th>\n",
              "      <td>Augsberger</td>\n",
              "      <td>175</td>\n",
              "      <td>24</td>\n",
              "      <td>5.5</td>\n",
              "      <td>0.40</td>\n",
              "      <td>0</td>\n",
              "    </tr>\n",
              "    <tr>\n",
              "      <th>7</th>\n",
              "      <td>Srohs_Bohemian_Style</td>\n",
              "      <td>149</td>\n",
              "      <td>27</td>\n",
              "      <td>4.7</td>\n",
              "      <td>0.42</td>\n",
              "      <td>0</td>\n",
              "    </tr>\n",
              "    <tr>\n",
              "      <th>17</th>\n",
              "      <td>Heilemans_Old_Style</td>\n",
              "      <td>144</td>\n",
              "      <td>24</td>\n",
              "      <td>4.9</td>\n",
              "      <td>0.43</td>\n",
              "      <td>0</td>\n",
              "    </tr>\n",
              "    <tr>\n",
              "      <th>10</th>\n",
              "      <td>Coors</td>\n",
              "      <td>140</td>\n",
              "      <td>18</td>\n",
              "      <td>4.6</td>\n",
              "      <td>0.44</td>\n",
              "      <td>0</td>\n",
              "    </tr>\n",
              "    <tr>\n",
              "      <th>16</th>\n",
              "      <td>Hamms</td>\n",
              "      <td>139</td>\n",
              "      <td>19</td>\n",
              "      <td>4.4</td>\n",
              "      <td>0.43</td>\n",
              "      <td>0</td>\n",
              "    </tr>\n",
              "    <tr>\n",
              "      <th>12</th>\n",
              "      <td>Michelob_Light</td>\n",
              "      <td>135</td>\n",
              "      <td>11</td>\n",
              "      <td>4.2</td>\n",
              "      <td>0.50</td>\n",
              "      <td>0</td>\n",
              "    </tr>\n",
              "    <tr>\n",
              "      <th>13</th>\n",
              "      <td>Becks</td>\n",
              "      <td>150</td>\n",
              "      <td>19</td>\n",
              "      <td>4.7</td>\n",
              "      <td>0.76</td>\n",
              "      <td>0</td>\n",
              "    </tr>\n",
              "    <tr>\n",
              "      <th>14</th>\n",
              "      <td>Kirin</td>\n",
              "      <td>149</td>\n",
              "      <td>6</td>\n",
              "      <td>5.0</td>\n",
              "      <td>0.79</td>\n",
              "      <td>0</td>\n",
              "    </tr>\n",
              "    <tr>\n",
              "      <th>18</th>\n",
              "      <td>Olympia_Goled_Light</td>\n",
              "      <td>72</td>\n",
              "      <td>6</td>\n",
              "      <td>2.9</td>\n",
              "      <td>0.46</td>\n",
              "      <td>1</td>\n",
              "    </tr>\n",
              "    <tr>\n",
              "      <th>15</th>\n",
              "      <td>Pabst_Extra_Light</td>\n",
              "      <td>68</td>\n",
              "      <td>15</td>\n",
              "      <td>2.3</td>\n",
              "      <td>0.38</td>\n",
              "      <td>1</td>\n",
              "    </tr>\n",
              "    <tr>\n",
              "      <th>9</th>\n",
              "      <td>Budweiser_Light</td>\n",
              "      <td>113</td>\n",
              "      <td>8</td>\n",
              "      <td>3.7</td>\n",
              "      <td>0.40</td>\n",
              "      <td>2</td>\n",
              "    </tr>\n",
              "    <tr>\n",
              "      <th>8</th>\n",
              "      <td>Miller_Lite</td>\n",
              "      <td>99</td>\n",
              "      <td>10</td>\n",
              "      <td>4.3</td>\n",
              "      <td>0.43</td>\n",
              "      <td>2</td>\n",
              "    </tr>\n",
              "    <tr>\n",
              "      <th>11</th>\n",
              "      <td>Coors_Light</td>\n",
              "      <td>102</td>\n",
              "      <td>15</td>\n",
              "      <td>4.1</td>\n",
              "      <td>0.46</td>\n",
              "      <td>2</td>\n",
              "    </tr>\n",
              "    <tr>\n",
              "      <th>19</th>\n",
              "      <td>Schlitz_Light</td>\n",
              "      <td>97</td>\n",
              "      <td>7</td>\n",
              "      <td>4.2</td>\n",
              "      <td>0.47</td>\n",
              "      <td>2</td>\n",
              "    </tr>\n",
              "  </tbody>\n",
              "</table>\n",
              "</div>"
            ],
            "text/plain": [
              "                    name  calories  sodium  alcohol  cost  cluster\n",
              "0              Budweiser       144      15      4.7  0.43        0\n",
              "1                Schlitz       151      19      4.9  0.43        0\n",
              "2              Lowenbrau       157      15      0.9  0.48        0\n",
              "3            Kronenbourg       170       7      5.2  0.73        0\n",
              "4               Heineken       152      11      5.0  0.77        0\n",
              "5          Old_Milwaukee       145      23      4.6  0.28        0\n",
              "6             Augsberger       175      24      5.5  0.40        0\n",
              "7   Srohs_Bohemian_Style       149      27      4.7  0.42        0\n",
              "17   Heilemans_Old_Style       144      24      4.9  0.43        0\n",
              "10                 Coors       140      18      4.6  0.44        0\n",
              "16                 Hamms       139      19      4.4  0.43        0\n",
              "12        Michelob_Light       135      11      4.2  0.50        0\n",
              "13                 Becks       150      19      4.7  0.76        0\n",
              "14                 Kirin       149       6      5.0  0.79        0\n",
              "18   Olympia_Goled_Light        72       6      2.9  0.46        1\n",
              "15     Pabst_Extra_Light        68      15      2.3  0.38        1\n",
              "9        Budweiser_Light       113       8      3.7  0.40        2\n",
              "8            Miller_Lite        99      10      4.3  0.43        2\n",
              "11           Coors_Light       102      15      4.1  0.46        2\n",
              "19         Schlitz_Light        97       7      4.2  0.47        2"
            ]
          },
          "metadata": {
            "tags": []
          },
          "execution_count": 43
        }
      ]
    },
    {
      "cell_type": "markdown",
      "metadata": {
        "id": "wW_fUNZfN4op",
        "colab_type": "text"
      },
      "source": [
        "#### What feature(s) do the clusters seem to be based on? Why?\n",
        "\n",
        "**Answer:** The clusters are most likely based on the calories. We had unscaled features  which makes the model to put more bias towards higher value based ones. Hence the cluster seems to be on calories features."
      ]
    },
    {
      "cell_type": "markdown",
      "metadata": {
        "id": "BnUcpwq8N4or",
        "colab_type": "text"
      },
      "source": [
        "#### Show the cluster centers."
      ]
    },
    {
      "cell_type": "code",
      "metadata": {
        "id": "dP4uCVHjs3WA",
        "colab_type": "code",
        "outputId": "bcbafcbe-8f1f-4059-e537-49cbbe5927f2",
        "colab": {
          "base_uri": "https://localhost:8080/",
          "height": 70
        }
      },
      "source": [
        "centroids=model.cluster_centers_\n",
        "print(\"Location of centroids: \",centroids)"
      ],
      "execution_count": 0,
      "outputs": [
        {
          "output_type": "stream",
          "text": [
            "Location of centroids:  [[150.          17.           4.52142857   0.52071429]\n",
            " [ 70.          10.5          2.6          0.42      ]\n",
            " [102.75        10.           4.075        0.44      ]]\n"
          ],
          "name": "stdout"
        }
      ]
    },
    {
      "cell_type": "markdown",
      "metadata": {
        "id": "5amcOEzyN4oy",
        "colab_type": "text"
      },
      "source": [
        "#### Calculate the mean of each feature for each cluster."
      ]
    },
    {
      "cell_type": "code",
      "metadata": {
        "id": "WeKslT-CN4oz",
        "colab_type": "code",
        "outputId": "a433bf16-a726-4368-84d4-07e111e2ec13",
        "colab": {
          "base_uri": "https://localhost:8080/",
          "height": 167
        }
      },
      "source": [
        "# hint: \n",
        " beer.groupby('cluster').mean()"
      ],
      "execution_count": 0,
      "outputs": [
        {
          "output_type": "execute_result",
          "data": {
            "text/html": [
              "<div>\n",
              "<style scoped>\n",
              "    .dataframe tbody tr th:only-of-type {\n",
              "        vertical-align: middle;\n",
              "    }\n",
              "\n",
              "    .dataframe tbody tr th {\n",
              "        vertical-align: top;\n",
              "    }\n",
              "\n",
              "    .dataframe thead th {\n",
              "        text-align: right;\n",
              "    }\n",
              "</style>\n",
              "<table border=\"1\" class=\"dataframe\">\n",
              "  <thead>\n",
              "    <tr style=\"text-align: right;\">\n",
              "      <th></th>\n",
              "      <th>calories</th>\n",
              "      <th>sodium</th>\n",
              "      <th>alcohol</th>\n",
              "      <th>cost</th>\n",
              "    </tr>\n",
              "    <tr>\n",
              "      <th>cluster</th>\n",
              "      <th></th>\n",
              "      <th></th>\n",
              "      <th></th>\n",
              "      <th></th>\n",
              "    </tr>\n",
              "  </thead>\n",
              "  <tbody>\n",
              "    <tr>\n",
              "      <th>0</th>\n",
              "      <td>150.00</td>\n",
              "      <td>17.0</td>\n",
              "      <td>4.521429</td>\n",
              "      <td>0.520714</td>\n",
              "    </tr>\n",
              "    <tr>\n",
              "      <th>1</th>\n",
              "      <td>70.00</td>\n",
              "      <td>10.5</td>\n",
              "      <td>2.600000</td>\n",
              "      <td>0.420000</td>\n",
              "    </tr>\n",
              "    <tr>\n",
              "      <th>2</th>\n",
              "      <td>102.75</td>\n",
              "      <td>10.0</td>\n",
              "      <td>4.075000</td>\n",
              "      <td>0.440000</td>\n",
              "    </tr>\n",
              "  </tbody>\n",
              "</table>\n",
              "</div>"
            ],
            "text/plain": [
              "         calories  sodium   alcohol      cost\n",
              "cluster                                      \n",
              "0          150.00    17.0  4.521429  0.520714\n",
              "1           70.00    10.5  2.600000  0.420000\n",
              "2          102.75    10.0  4.075000  0.440000"
            ]
          },
          "metadata": {
            "tags": []
          },
          "execution_count": 45
        }
      ]
    },
    {
      "cell_type": "markdown",
      "metadata": {
        "id": "j0Keval-N4o3",
        "colab_type": "text"
      },
      "source": [
        "#### Save the `mean` of cluster centers as 'centers'."
      ]
    },
    {
      "cell_type": "code",
      "metadata": {
        "id": "YdKo9vCXN4o5",
        "colab_type": "code",
        "outputId": "5a72d6e2-a62c-410b-8def-0ff606563efd",
        "colab": {
          "base_uri": "https://localhost:8080/",
          "height": 167
        }
      },
      "source": [
        "#\n",
        "centers = beer.groupby('cluster').mean()\n",
        "centers"
      ],
      "execution_count": 0,
      "outputs": [
        {
          "output_type": "execute_result",
          "data": {
            "text/html": [
              "<div>\n",
              "<style scoped>\n",
              "    .dataframe tbody tr th:only-of-type {\n",
              "        vertical-align: middle;\n",
              "    }\n",
              "\n",
              "    .dataframe tbody tr th {\n",
              "        vertical-align: top;\n",
              "    }\n",
              "\n",
              "    .dataframe thead th {\n",
              "        text-align: right;\n",
              "    }\n",
              "</style>\n",
              "<table border=\"1\" class=\"dataframe\">\n",
              "  <thead>\n",
              "    <tr style=\"text-align: right;\">\n",
              "      <th></th>\n",
              "      <th>calories</th>\n",
              "      <th>sodium</th>\n",
              "      <th>alcohol</th>\n",
              "      <th>cost</th>\n",
              "    </tr>\n",
              "    <tr>\n",
              "      <th>cluster</th>\n",
              "      <th></th>\n",
              "      <th></th>\n",
              "      <th></th>\n",
              "      <th></th>\n",
              "    </tr>\n",
              "  </thead>\n",
              "  <tbody>\n",
              "    <tr>\n",
              "      <th>0</th>\n",
              "      <td>150.00</td>\n",
              "      <td>17.0</td>\n",
              "      <td>4.521429</td>\n",
              "      <td>0.520714</td>\n",
              "    </tr>\n",
              "    <tr>\n",
              "      <th>1</th>\n",
              "      <td>70.00</td>\n",
              "      <td>10.5</td>\n",
              "      <td>2.600000</td>\n",
              "      <td>0.420000</td>\n",
              "    </tr>\n",
              "    <tr>\n",
              "      <th>2</th>\n",
              "      <td>102.75</td>\n",
              "      <td>10.0</td>\n",
              "      <td>4.075000</td>\n",
              "      <td>0.440000</td>\n",
              "    </tr>\n",
              "  </tbody>\n",
              "</table>\n",
              "</div>"
            ],
            "text/plain": [
              "         calories  sodium   alcohol      cost\n",
              "cluster                                      \n",
              "0          150.00    17.0  4.521429  0.520714\n",
              "1           70.00    10.5  2.600000  0.420000\n",
              "2          102.75    10.0  4.075000  0.440000"
            ]
          },
          "metadata": {
            "tags": []
          },
          "execution_count": 46
        }
      ]
    },
    {
      "cell_type": "markdown",
      "metadata": {
        "id": "ECC5pATMN4o-",
        "colab_type": "text"
      },
      "source": [
        "#### Create a \"colors\" array for plotting."
      ]
    },
    {
      "cell_type": "code",
      "metadata": {
        "id": "ivHGpVvsN4pE",
        "colab_type": "code",
        "colab": {}
      },
      "source": [
        "\n",
        "colors = np.array(['red', 'green', 'blue', 'yellow'])"
      ],
      "execution_count": 0,
      "outputs": []
    },
    {
      "cell_type": "markdown",
      "metadata": {
        "id": "oKJuOOWEN4pK",
        "colab_type": "text"
      },
      "source": [
        "#### Scatter plot of calories versus alcohol, colored by cluster (0=red, 1=green, 2=blue)."
      ]
    },
    {
      "cell_type": "code",
      "metadata": {
        "id": "91zOrlaitVZE",
        "colab_type": "code",
        "outputId": "f975f651-ef7a-4989-f2cb-5159cca62d11",
        "colab": {
          "base_uri": "https://localhost:8080/",
          "height": 308
        }
      },
      "source": [
        "plt.scatter(beer['calories'],beer['alcohol'],c=colors[beer['cluster']])\n",
        "plt.scatter(centers.calories, centers.alcohol, linewidths=3, marker='+', s=300, c='black')\n",
        "plt.xlabel('calories')\n",
        "plt.ylabel('alcohol')"
      ],
      "execution_count": 0,
      "outputs": [
        {
          "output_type": "execute_result",
          "data": {
            "text/plain": [
              "Text(0, 0.5, 'alcohol')"
            ]
          },
          "metadata": {
            "tags": []
          },
          "execution_count": 48
        },
        {
          "output_type": "display_data",
          "data": {
            "image/png": "[encoded data removed]",
            "text/plain": [
              "<Figure size 432x288 with 1 Axes>"
            ]
          },
          "metadata": {
            "tags": []
          }
        }
      ]
    },
    {
      "cell_type": "code",
      "metadata": {
        "id": "JlarXtv8N4pM",
        "colab_type": "code",
        "colab": {}
      },
      "source": [
        "#"
      ],
      "execution_count": 0,
      "outputs": []
    },
    {
      "cell_type": "markdown",
      "metadata": {
        "id": "JOxABc5jN4pS",
        "colab_type": "text"
      },
      "source": [
        "#### Create a scatter plot matrix (clusters should be colored as: 0=red, 1=green, 2=blue)."
      ]
    },
    {
      "cell_type": "code",
      "metadata": {
        "id": "svQboqxUN4pU",
        "colab_type": "code",
        "outputId": "845b4298-e760-4b7f-aca3-f7440d239594",
        "colab": {
          "base_uri": "https://localhost:8080/",
          "height": 923
        }
      },
      "source": [
        "#\n",
        "pd.plotting.scatter_matrix(X, c=colors[beer.cluster], figsize=(10,10), s=100)"
      ],
      "execution_count": 0,
      "outputs": [
        {
          "output_type": "execute_result",
          "data": {
            "text/plain": [
              "array([[<matplotlib.axes._subplots.AxesSubplot object at 0x7fb037e06550>,\n",
              "        <matplotlib.axes._subplots.AxesSubplot object at 0x7fb037dd8198>,\n",
              "        <matplotlib.axes._subplots.AxesSubplot object at 0x7fb037d9ea58>,\n",
              "        <matplotlib.axes._subplots.AxesSubplot object at 0x7fb0384df400>],\n",
              "       [<matplotlib.axes._subplots.AxesSubplot object at 0x7fb0384fdd68>,\n",
              "        <matplotlib.axes._subplots.AxesSubplot object at 0x7fb037f3e710>,\n",
              "        <matplotlib.axes._subplots.AxesSubplot object at 0x7fb03839f0b8>,\n",
              "        <matplotlib.axes._subplots.AxesSubplot object at 0x7fb0383c5a58>],\n",
              "       [<matplotlib.axes._subplots.AxesSubplot object at 0x7fb0383c5a90>,\n",
              "        <matplotlib.axes._subplots.AxesSubplot object at 0x7fb03860dd30>,\n",
              "        <matplotlib.axes._subplots.AxesSubplot object at 0x7fb0382e1eb8>,\n",
              "        <matplotlib.axes._subplots.AxesSubplot object at 0x7fb0382d1080>],\n",
              "       [<matplotlib.axes._subplots.AxesSubplot object at 0x7fb037e719e8>,\n",
              "        <matplotlib.axes._subplots.AxesSubplot object at 0x7fb038661f98>,\n",
              "        <matplotlib.axes._subplots.AxesSubplot object at 0x7fb038658cf8>,\n",
              "        <matplotlib.axes._subplots.AxesSubplot object at 0x7fb0385f76a0>]],\n",
              "      dtype=object)"
            ]
          },
          "metadata": {
            "tags": []
          },
          "execution_count": 50
        },
        {
          "output_type": "display_data",
          "data": {
            "image/png": "[encoded data removed]",
            "text/plain": [
              "<Figure size 720x720 with 16 Axes>"
            ]
          },
          "metadata": {
            "tags": []
          }
        }
      ]
    },
    {
      "cell_type": "code",
      "metadata": {
        "id": "LTNVtzEQ_J2M",
        "colab_type": "code",
        "colab": {}
      },
      "source": [
        ""
      ],
      "execution_count": 0,
      "outputs": []
    },
    {
      "cell_type": "markdown",
      "metadata": {
        "id": "VGSLaVC9N4pb",
        "colab_type": "text"
      },
      "source": [
        "<a id=\"repeat-with-scaled-data\"></a>\n",
        "### Repeat With Scaled Data\n",
        "\n",
        "Unscaled features cause most algorithms to put too much weight onto one feature. We can scale our data to make sure k-means accounts for all features."
      ]
    },
    {
      "cell_type": "markdown",
      "metadata": {
        "id": "3EYAGp6qN4pe",
        "colab_type": "text"
      },
      "source": [
        "#### Use StandardScaler to scale the data X."
      ]
    },
    {
      "cell_type": "code",
      "metadata": {
        "id": "3F_ESFHzN4pk",
        "colab_type": "code",
        "outputId": "03d0571c-36c7-4ce3-89a7-fb9dd70b591a",
        "colab": {
          "base_uri": "https://localhost:8080/",
          "height": 738
        }
      },
      "source": [
        "#\n",
        "\n",
        "X_scaled = StandardScaler().fit_transform(X)\n",
        "X_scaled=pd.DataFrame(X_scaled, columns=['calories','sodium','alcohol','cost']);\n",
        "X_scaled"
      ],
      "execution_count": 0,
      "outputs": [
        {
          "output_type": "stream",
          "text": [
            "/usr/local/lib/python3.6/dist-packages/sklearn/preprocessing/data.py:645: DataConversionWarning: Data with input dtype int64, float64 were all converted to float64 by StandardScaler.\n",
            "  return self.partial_fit(X, y)\n",
            "/usr/local/lib/python3.6/dist-packages/sklearn/base.py:464: DataConversionWarning: Data with input dtype int64, float64 were all converted to float64 by StandardScaler.\n",
            "  return self.fit(X, **fit_params).transform(X)\n"
          ],
          "name": "stderr"
        },
        {
          "output_type": "execute_result",
          "data": {
            "text/html": [
              "<div>\n",
              "<style scoped>\n",
              "    .dataframe tbody tr th:only-of-type {\n",
              "        vertical-align: middle;\n",
              "    }\n",
              "\n",
              "    .dataframe tbody tr th {\n",
              "        vertical-align: top;\n",
              "    }\n",
              "\n",
              "    .dataframe thead th {\n",
              "        text-align: right;\n",
              "    }\n",
              "</style>\n",
              "<table border=\"1\" class=\"dataframe\">\n",
              "  <thead>\n",
              "    <tr style=\"text-align: right;\">\n",
              "      <th></th>\n",
              "      <th>calories</th>\n",
              "      <th>sodium</th>\n",
              "      <th>alcohol</th>\n",
              "      <th>cost</th>\n",
              "    </tr>\n",
              "  </thead>\n",
              "  <tbody>\n",
              "    <tr>\n",
              "      <th>0</th>\n",
              "      <td>0.387913</td>\n",
              "      <td>0.007795</td>\n",
              "      <td>0.433808</td>\n",
              "      <td>-0.456830</td>\n",
              "    </tr>\n",
              "    <tr>\n",
              "      <th>1</th>\n",
              "      <td>0.625066</td>\n",
              "      <td>0.631369</td>\n",
              "      <td>0.622420</td>\n",
              "      <td>-0.456830</td>\n",
              "    </tr>\n",
              "    <tr>\n",
              "      <th>2</th>\n",
              "      <td>0.828339</td>\n",
              "      <td>0.007795</td>\n",
              "      <td>-3.149822</td>\n",
              "      <td>-0.102698</td>\n",
              "    </tr>\n",
              "    <tr>\n",
              "      <th>3</th>\n",
              "      <td>1.268765</td>\n",
              "      <td>-1.239354</td>\n",
              "      <td>0.905338</td>\n",
              "      <td>1.667960</td>\n",
              "    </tr>\n",
              "    <tr>\n",
              "      <th>4</th>\n",
              "      <td>0.658944</td>\n",
              "      <td>-0.615780</td>\n",
              "      <td>0.716726</td>\n",
              "      <td>1.951265</td>\n",
              "    </tr>\n",
              "    <tr>\n",
              "      <th>5</th>\n",
              "      <td>0.421792</td>\n",
              "      <td>1.254943</td>\n",
              "      <td>0.339502</td>\n",
              "      <td>-1.519224</td>\n",
              "    </tr>\n",
              "    <tr>\n",
              "      <th>6</th>\n",
              "      <td>1.438159</td>\n",
              "      <td>1.410837</td>\n",
              "      <td>1.188256</td>\n",
              "      <td>-0.669309</td>\n",
              "    </tr>\n",
              "    <tr>\n",
              "      <th>7</th>\n",
              "      <td>0.557308</td>\n",
              "      <td>1.878518</td>\n",
              "      <td>0.433808</td>\n",
              "      <td>-0.527656</td>\n",
              "    </tr>\n",
              "    <tr>\n",
              "      <th>8</th>\n",
              "      <td>-1.136637</td>\n",
              "      <td>-0.771673</td>\n",
              "      <td>0.056584</td>\n",
              "      <td>-0.456830</td>\n",
              "    </tr>\n",
              "    <tr>\n",
              "      <th>9</th>\n",
              "      <td>-0.662332</td>\n",
              "      <td>-1.083460</td>\n",
              "      <td>-0.509253</td>\n",
              "      <td>-0.669309</td>\n",
              "    </tr>\n",
              "    <tr>\n",
              "      <th>10</th>\n",
              "      <td>0.252398</td>\n",
              "      <td>0.475475</td>\n",
              "      <td>0.339502</td>\n",
              "      <td>-0.386003</td>\n",
              "    </tr>\n",
              "    <tr>\n",
              "      <th>11</th>\n",
              "      <td>-1.035000</td>\n",
              "      <td>0.007795</td>\n",
              "      <td>-0.132028</td>\n",
              "      <td>-0.244351</td>\n",
              "    </tr>\n",
              "    <tr>\n",
              "      <th>12</th>\n",
              "      <td>0.083003</td>\n",
              "      <td>-0.615780</td>\n",
              "      <td>-0.037722</td>\n",
              "      <td>0.038954</td>\n",
              "    </tr>\n",
              "    <tr>\n",
              "      <th>13</th>\n",
              "      <td>0.591187</td>\n",
              "      <td>0.631369</td>\n",
              "      <td>0.433808</td>\n",
              "      <td>1.880438</td>\n",
              "    </tr>\n",
              "    <tr>\n",
              "      <th>14</th>\n",
              "      <td>0.557308</td>\n",
              "      <td>-1.395248</td>\n",
              "      <td>0.716726</td>\n",
              "      <td>2.092917</td>\n",
              "    </tr>\n",
              "    <tr>\n",
              "      <th>15</th>\n",
              "      <td>-2.186883</td>\n",
              "      <td>0.007795</td>\n",
              "      <td>-1.829537</td>\n",
              "      <td>-0.810961</td>\n",
              "    </tr>\n",
              "    <tr>\n",
              "      <th>16</th>\n",
              "      <td>0.218519</td>\n",
              "      <td>0.631369</td>\n",
              "      <td>0.150890</td>\n",
              "      <td>-0.456830</td>\n",
              "    </tr>\n",
              "    <tr>\n",
              "      <th>17</th>\n",
              "      <td>0.387913</td>\n",
              "      <td>1.410837</td>\n",
              "      <td>0.622420</td>\n",
              "      <td>-0.456830</td>\n",
              "    </tr>\n",
              "    <tr>\n",
              "      <th>18</th>\n",
              "      <td>-2.051367</td>\n",
              "      <td>-1.395248</td>\n",
              "      <td>-1.263701</td>\n",
              "      <td>-0.244351</td>\n",
              "    </tr>\n",
              "    <tr>\n",
              "      <th>19</th>\n",
              "      <td>-1.204395</td>\n",
              "      <td>-1.239354</td>\n",
              "      <td>-0.037722</td>\n",
              "      <td>-0.173524</td>\n",
              "    </tr>\n",
              "  </tbody>\n",
              "</table>\n",
              "</div>"
            ],
            "text/plain": [
              "    calories    sodium   alcohol      cost\n",
              "0   0.387913  0.007795  0.433808 -0.456830\n",
              "1   0.625066  0.631369  0.622420 -0.456830\n",
              "2   0.828339  0.007795 -3.149822 -0.102698\n",
              "3   1.268765 -1.239354  0.905338  1.667960\n",
              "4   0.658944 -0.615780  0.716726  1.951265\n",
              "5   0.421792  1.254943  0.339502 -1.519224\n",
              "6   1.438159  1.410837  1.188256 -0.669309\n",
              "7   0.557308  1.878518  0.433808 -0.527656\n",
              "8  -1.136637 -0.771673  0.056584 -0.456830\n",
              "9  -0.662332 -1.083460 -0.509253 -0.669309\n",
              "10  0.252398  0.475475  0.339502 -0.386003\n",
              "11 -1.035000  0.007795 -0.132028 -0.244351\n",
              "12  0.083003 -0.615780 -0.037722  0.038954\n",
              "13  0.591187  0.631369  0.433808  1.880438\n",
              "14  0.557308 -1.395248  0.716726  2.092917\n",
              "15 -2.186883  0.007795 -1.829537 -0.810961\n",
              "16  0.218519  0.631369  0.150890 -0.456830\n",
              "17  0.387913  1.410837  0.622420 -0.456830\n",
              "18 -2.051367 -1.395248 -1.263701 -0.244351\n",
              "19 -1.204395 -1.239354 -0.037722 -0.173524"
            ]
          },
          "metadata": {
            "tags": []
          },
          "execution_count": 52
        }
      ]
    },
    {
      "cell_type": "markdown",
      "metadata": {
        "id": "ILvdCv5IN4ps",
        "colab_type": "text"
      },
      "source": [
        "#### Show the scaled X indeed has mean and standard deviation close to 0 and 1, respectively."
      ]
    },
    {
      "cell_type": "code",
      "metadata": {
        "id": "NtA-aIAeN4pt",
        "colab_type": "code",
        "outputId": "c76ae475-ab65-467d-dc1b-cf014251c644",
        "colab": {
          "base_uri": "https://localhost:8080/",
          "height": 230
        }
      },
      "source": [
        "#\n",
        "print('Mean values')\n",
        "print(X_scaled.mean())\n",
        "print('Standard deviation values')\n",
        "print(X_scaled.std())"
      ],
      "execution_count": 0,
      "outputs": [
        {
          "output_type": "stream",
          "text": [
            "Mean values\n",
            "calories   -3.219647e-16\n",
            "sodium      7.771561e-17\n",
            "alcohol    -1.003711e-15\n",
            "cost       -3.608225e-16\n",
            "dtype: float64\n",
            "Standard deviation values\n",
            "calories    1.025978\n",
            "sodium      1.025978\n",
            "alcohol     1.025978\n",
            "cost        1.025978\n",
            "dtype: float64\n"
          ],
          "name": "stdout"
        }
      ]
    },
    {
      "cell_type": "markdown",
      "metadata": {
        "id": "jFUmiIqFN4py",
        "colab_type": "text"
      },
      "source": [
        "#### Repeat K-means with three clusters on scaled data."
      ]
    },
    {
      "cell_type": "code",
      "metadata": {
        "id": "xvY-ZnsDN4p0",
        "colab_type": "code",
        "outputId": "c1990f21-7660-442d-d29c-219a52da267a",
        "colab": {
          "base_uri": "https://localhost:8080/",
          "height": 70
        }
      },
      "source": [
        "#\n",
        "model1=KMeans(n_clusters=3,random_state=0)\n",
        "model1.fit(X_scaled)\n"
      ],
      "execution_count": 0,
      "outputs": [
        {
          "output_type": "execute_result",
          "data": {
            "text/plain": [
              "KMeans(algorithm='auto', copy_x=True, init='k-means++', max_iter=300,\n",
              "    n_clusters=3, n_init=10, n_jobs=None, precompute_distances='auto',\n",
              "    random_state=0, tol=0.0001, verbose=0)"
            ]
          },
          "metadata": {
            "tags": []
          },
          "execution_count": 54
        }
      ]
    },
    {
      "cell_type": "markdown",
      "metadata": {
        "id": "G2Gj2aLXN4p5",
        "colab_type": "text"
      },
      "source": [
        "#### Add the cluster labels as an additional column('cluster') in the dataframe and print out the dataframe as sorted by cluster."
      ]
    },
    {
      "cell_type": "code",
      "metadata": {
        "id": "LH0cJlLBN4p7",
        "colab_type": "code",
        "outputId": "edc60f5c-f095-478e-8679-6c646f8029ce",
        "colab": {
          "base_uri": "https://localhost:8080/",
          "height": 167
        }
      },
      "source": [
        "#\n",
        "predicted1=model1.labels_\n",
        "X_scaled['cluster']=predicted1\n",
        "X_scaled.sort_values(by='cluster')\n",
        "X_scaled.groupby('cluster').mean()"
      ],
      "execution_count": 0,
      "outputs": [
        {
          "output_type": "execute_result",
          "data": {
            "text/html": [
              "<div>\n",
              "<style scoped>\n",
              "    .dataframe tbody tr th:only-of-type {\n",
              "        vertical-align: middle;\n",
              "    }\n",
              "\n",
              "    .dataframe tbody tr th {\n",
              "        vertical-align: top;\n",
              "    }\n",
              "\n",
              "    .dataframe thead th {\n",
              "        text-align: right;\n",
              "    }\n",
              "</style>\n",
              "<table border=\"1\" class=\"dataframe\">\n",
              "  <thead>\n",
              "    <tr style=\"text-align: right;\">\n",
              "      <th></th>\n",
              "      <th>calories</th>\n",
              "      <th>sodium</th>\n",
              "      <th>alcohol</th>\n",
              "      <th>cost</th>\n",
              "    </tr>\n",
              "    <tr>\n",
              "      <th>cluster</th>\n",
              "      <th></th>\n",
              "      <th></th>\n",
              "      <th></th>\n",
              "      <th></th>\n",
              "    </tr>\n",
              "  </thead>\n",
              "  <tbody>\n",
              "    <tr>\n",
              "      <th>0</th>\n",
              "      <td>-0.920659</td>\n",
              "      <td>-0.635266</td>\n",
              "      <td>-0.862900</td>\n",
              "      <td>-0.332884</td>\n",
              "    </tr>\n",
              "    <tr>\n",
              "      <th>1</th>\n",
              "      <td>0.536134</td>\n",
              "      <td>0.962643</td>\n",
              "      <td>0.516326</td>\n",
              "      <td>-0.616189</td>\n",
              "    </tr>\n",
              "    <tr>\n",
              "      <th>2</th>\n",
              "      <td>0.769051</td>\n",
              "      <td>-0.654753</td>\n",
              "      <td>0.693150</td>\n",
              "      <td>1.898145</td>\n",
              "    </tr>\n",
              "  </tbody>\n",
              "</table>\n",
              "</div>"
            ],
            "text/plain": [
              "         calories    sodium   alcohol      cost\n",
              "cluster                                        \n",
              "0       -0.920659 -0.635266 -0.862900 -0.332884\n",
              "1        0.536134  0.962643  0.516326 -0.616189\n",
              "2        0.769051 -0.654753  0.693150  1.898145"
            ]
          },
          "metadata": {
            "tags": []
          },
          "execution_count": 55
        }
      ]
    },
    {
      "cell_type": "code",
      "metadata": {
        "id": "ZIo6Q-Au9LSx",
        "colab_type": "code",
        "colab": {}
      },
      "source": [
        "X_scaled"
      ],
      "execution_count": 0,
      "outputs": []
    },
    {
      "cell_type": "markdown",
      "metadata": {
        "id": "MjrRxvO8N4qA",
        "colab_type": "text"
      },
      "source": [
        "#### What are the \"characteristics\" of each cluster?\n",
        "\n",
        "**Answer:**  \n",
        "\n",
        "Here the  Characteristic of each clusters are based up on  the mean values of the variables in the cluster\n",
        "if you observe the cluster 0 cost variable from the above dataframe has higher mean, which is -0.3 and cluster 0 is seems to be more focussed on cost variable.\n",
        "\n",
        "Now, in the second cluster that is cluster '1'  sodium variable has higher mean, which is 0.96 and cluster 1 is more focussed on sodium perspective.\n",
        "\n",
        "Next, in the cluster '2' cost variable has higher mean value, which is of 1.89 and cluster 2 is more inclined towards on cost variable.\n",
        "\n",
        "Here,  sodium, cost variable shows highest values,which seems to be uncommon. Alcohol and calories differentiated well\n"
      ]
    },
    {
      "cell_type": "markdown",
      "metadata": {
        "id": "clHgPICON4qB",
        "colab_type": "text"
      },
      "source": [
        "#### Show the cluster centers."
      ]
    },
    {
      "cell_type": "code",
      "metadata": {
        "id": "ulTobG9AN4qD",
        "colab_type": "code",
        "outputId": "760c740a-871e-49d4-817b-18a7f3a1ce26",
        "colab": {
          "base_uri": "https://localhost:8080/",
          "height": 70
        }
      },
      "source": [
        "#\n",
        "\n",
        "centroids=model1.cluster_centers_\n",
        "print(\"Location of centroids: \",centroids)"
      ],
      "execution_count": 0,
      "outputs": [
        {
          "output_type": "stream",
          "text": [
            "Location of centroids:  [[-0.92065895 -0.6352664  -0.86290041 -0.33288365]\n",
            " [ 0.5361335   0.96264295  0.51632566 -0.61618888]\n",
            " [ 0.7690509  -0.6547531   0.69314951  1.89814505]]\n"
          ],
          "name": "stdout"
        }
      ]
    },
    {
      "cell_type": "markdown",
      "metadata": {
        "id": "tl1l5mnfN4qJ",
        "colab_type": "text"
      },
      "source": [
        "#### Create scatter plot matrix of new cluster assignments (0=red, 1=green, 2=blue)."
      ]
    },
    {
      "cell_type": "code",
      "metadata": {
        "id": "Z1y6w-KCN4qL",
        "colab_type": "code",
        "outputId": "08772edb-597b-4f4c-c516-59d314934d91",
        "colab": {
          "base_uri": "https://localhost:8080/",
          "height": 724
        }
      },
      "source": [
        "#\n",
        "import seaborn as sns\n",
        "sns.set(style=\"ticks\")\n",
        "colors = {0: 'red', 1: 'green', 2: 'blue'}\n",
        "sns.pairplot(X_scaled, hue=\"cluster\",palette=colors,vars=['calories','sodium','alcohol','cost']);\n"
      ],
      "execution_count": 0,
      "outputs": [
        {
          "output_type": "display_data",
          "data": {
            "image/png": "[encoded data removed]",
            "text/plain": [
              "<Figure size 761.625x720 with 20 Axes>"
            ]
          },
          "metadata": {
            "tags": []
          }
        }
      ]
    },
    {
      "cell_type": "markdown",
      "metadata": {
        "id": "U6NO0OP8N4qX",
        "colab_type": "text"
      },
      "source": [
        "####  Do you notice any feaure(s) irrelevant in clustering assignments? How would you explain this?\n",
        "\n",
        "**Answer:** It appears that `sodium` is not often useful in predicting the cluster. Perhaps sodium levels vary quite a lot amongst all types of beers and are not indicative of beer type (indeed, the sodium is quite low compared to most foods)."
      ]
    },
    {
      "cell_type": "markdown",
      "metadata": {
        "id": "v8g64XTcN4qY",
        "colab_type": "text"
      },
      "source": [
        "### Applying the elbow method to k-means\n",
        "\n",
        "The [elbow method](https://en.wikipedia.org/wiki/Elbow_method_(clustering) is one possible method to help narrow in on the ideal value of **K**. The method is built around the concept of diminishing returns where the percentage of explained variance is reviewed as a function of the number of clusters: One should choose a number of clusters where the next cluster doesn't significantly explain additional variance. \n",
        "\n",
        "[Determining the right number of clusters](https://en.wikipedia.org/wiki/Determining_the_number_of_clusters_in_a_data_set)   \n",
        "\n",
        "Try a range of K and plot both the Inertia Over K and Silhouette Over K curves."
      ]
    },
    {
      "cell_type": "code",
      "metadata": {
        "id": "1XjEW1WqN4qa",
        "colab_type": "code",
        "colab": {}
      },
      "source": [
        ""
      ],
      "execution_count": 0,
      "outputs": []
    },
    {
      "cell_type": "code",
      "metadata": {
        "id": "1OLG7uz2vPuv",
        "colab_type": "code",
        "outputId": "877b8038-2fc5-4e95-9e69-a9b2f6d9046a",
        "colab": {
          "base_uri": "https://localhost:8080/",
          "height": 292
        }
      },
      "source": [
        "from sklearn.metrics import silhouette_score\n",
        "from sklearn import metrics\n",
        "values = range(2,19)\n",
        "scores = []\n",
        "for value in values:        \n",
        "    model = KMeans(n_clusters = value)\n",
        "    model.fit(X_scaled)\n",
        "    score    = silhouette_score(X_scaled, model.labels_)\n",
        "    inertia = model.inertia_\n",
        "    scores.append({\n",
        "                    \"inertia\":    inertia,\n",
        "                    \"silhouette\": score\n",
        "                })\n",
        "\n",
        "eval_scores = pd.DataFrame(scores)\n",
        "eval_scores.head()\n",
        "\n",
        "fig, ax = plt.subplots(ncols=2, figsize=(10, 4))\n",
        "eval_scores[\"inertia\"].plot(ax=ax[0], title=\"Intertia Over K\")\n",
        "eval_scores[\"silhouette\"].plot(ax=ax[1], title=\"Silhouette Over K\")\n",
        "\n",
        "\n",
        "fig.tight_layout()"
      ],
      "execution_count": 0,
      "outputs": [
        {
          "output_type": "display_data",
          "data": {
            "image/png": "[encoded data removed]",
            "text/plain": [
              "<Figure size 720x288 with 2 Axes>"
            ]
          },
          "metadata": {
            "tags": []
          }
        }
      ]
    },
    {
      "cell_type": "code",
      "metadata": {
        "id": "DFHEGcOC-Lg4",
        "colab_type": "code",
        "outputId": "a50ad935-d833-4b02-dd48-3ba330a333ff",
        "colab": {
          "base_uri": "https://localhost:8080/",
          "height": 372
        }
      },
      "source": [
        "ks = range(2, 19)\n",
        "inertias = []\n",
        "\n",
        "for k in ks:\n",
        "    # Create a KMeans instance with k clusters: model\n",
        "    model=KMeans(n_clusters=k)\n",
        "    \n",
        "    # Fit model to samples\n",
        "    model.fit(X_scaled)\n",
        "    \n",
        "    # Append the inertia to the list of inertias\n",
        "    inertias.append(model.inertia_)\n",
        "    \n",
        "# Plot ks vs inertias\n",
        "plt.plot(ks, inertias, '-o')\n",
        "plt.xlabel('number of clusters, k')\n",
        "plt.ylabel('inertia')\n",
        "plt.xticks(ks)\n",
        "plt.show()"
      ],
      "execution_count": 0,
      "outputs": [
        {
          "output_type": "display_data",
          "data": {
            "image/png": "[encoded data removed]",
            "text/plain": [
              "<Figure size 576x396 with 1 Axes>"
            ]
          },
          "metadata": {
            "tags": []
          }
        }
      ]
    },
    {
      "cell_type": "markdown",
      "metadata": {
        "id": "jgTgZy1iN4qf",
        "colab_type": "text"
      },
      "source": [
        "#### Let's analyze the above\n",
        "\n",
        "- Do you see the **\"elbow\"**?\n",
        "\n",
        "- What's the best value of k?\n",
        "\n"
      ]
    },
    {
      "cell_type": "markdown",
      "metadata": {
        "id": "0tEfBIqjN4qh",
        "colab_type": "text"
      },
      "source": [
        "**Answer** Yes, we can see elbow. The best value for \"K\" is 2 moreover, we can also see even from  Silhouetee graph that over K = 2 gives the maximum value."
      ]
    }
  ]
}