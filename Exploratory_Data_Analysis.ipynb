{
  "nbformat": 4,
  "nbformat_minor": 0,
  "metadata": {
    "colab": {
      "name": "Exploratory Data Analysis.ipynb",
      "version": "0.3.2",
      "provenance": [],
      "collapsed_sections": []
    },
    "kernelspec": {
      "display_name": "Python 3",
      "language": "python",
      "name": "python3"
    }
  },
  "cells": [
    {
      "cell_type": "markdown",
      "metadata": {
        "id": "ZN3dOqS_Yiqg",
        "colab_type": "text"
      },
      "source": [
        "\n",
        "\n",
        "# HW 2: Analyzing IMDb Data\n",
        "\n",
        "---"
      ]
    },
    {
      "cell_type": "markdown",
      "metadata": {
        "id": "eiOFMQhrYiqi",
        "colab_type": "text"
      },
      "source": [
        "For project two, you will complete a serious of exercises exploring movie rating data from IMDb.\n",
        "\n",
        "For these exercises, you will be conducting basic exploratory data analysis on IMDB's movie data, looking to answer such questions as:\n",
        "\n",
        "What is the average rating per genre?\n",
        "How many different actors are in a movie?\n",
        "\n",
        "This process will help you practice your data analysis skills while becoming comfortable with Pandas."
      ]
    },
    {
      "cell_type": "markdown",
      "metadata": {
        "id": "evywzmz4brZ-",
        "colab_type": "text"
      },
      "source": [
        "The csv data can be downloaded from https://drive.google.com/open?id=12oQVUx8gGsdruEi4iJB-KFvxLt3znK-l for your offline use purpose"
      ]
    },
    {
      "cell_type": "markdown",
      "metadata": {
        "id": "O0iJJPsKYiql",
        "colab_type": "text"
      },
      "source": [
        "## Part 1"
      ]
    },
    {
      "cell_type": "code",
      "metadata": {
        "id": "ZxEcPzUOYiqn",
        "colab_type": "code",
        "colab": {}
      },
      "source": [
        "import pandas as pd\n",
        "import matplotlib.pyplot as plt\n",
        "import seaborn as sns\n",
        "%matplotlib inline"
      ],
      "execution_count": 0,
      "outputs": []
    },
    {
      "cell_type": "code",
      "metadata": {
        "id": "tlYBlIJqZ5E7",
        "colab_type": "code",
        "colab": {}
      },
      "source": [
        "#1 Code to read csv file into colaboratory:\n",
        "!pip install -U -q PyDrive\n",
        "from pydrive.auth import GoogleAuth\n",
        "from pydrive.drive import GoogleDrive\n",
        "from google.colab import auth\n",
        "from oauth2client.client import GoogleCredentials\n",
        "\n",
        "# 1. Authenticate and create the PyDrive client.\n",
        "auth.authenticate_user()\n",
        "gauth = GoogleAuth()\n",
        "gauth.credentials = GoogleCredentials.get_application_default()\n",
        "drive = GoogleDrive(gauth)"
      ],
      "execution_count": 0,
      "outputs": []
    },
    {
      "cell_type": "code",
      "metadata": {
        "id": "1zVBMWX7Z564",
        "colab_type": "code",
        "colab": {}
      },
      "source": [
        "#2. Get the file\n",
        "#make sure you upload all your data files to your Google drive and change share->Advanced->change->anyone with the link can view\n",
        "downloaded = drive.CreateFile({'id':'12oQVUx8gGsdruEi4iJB-KFvxLt3znK-l'}) # replace the id with id of file you want to access\n",
        "downloaded.GetContentFile('imdb_1000.csv') "
      ],
      "execution_count": 0,
      "outputs": []
    },
    {
      "cell_type": "markdown",
      "metadata": {
        "id": "4XGbDoh0Yiqu",
        "colab_type": "text"
      },
      "source": [
        "#### Read in 'imdb_1000.csv' and store it in a DataFrame named movies."
      ]
    },
    {
      "cell_type": "code",
      "metadata": {
        "id": "SMeS0mAnYiqw",
        "colab_type": "code",
        "outputId": "435bd577-3648-4c69-b7d0-135ba6c2b5b6",
        "colab": {
          "base_uri": "https://localhost:8080/",
          "height": 197
        }
      },
      "source": [
        "movies = pd.read_csv('imdb_1000.csv')\n",
        "movies.head()"
      ],
      "execution_count": 0,
      "outputs": [
        {
          "output_type": "execute_result",
          "data": {
            "text/html": [
              "<div>\n",
              "<style scoped>\n",
              "    .dataframe tbody tr th:only-of-type {\n",
              "        vertical-align: middle;\n",
              "    }\n",
              "\n",
              "    .dataframe tbody tr th {\n",
              "        vertical-align: top;\n",
              "    }\n",
              "\n",
              "    .dataframe thead th {\n",
              "        text-align: right;\n",
              "    }\n",
              "</style>\n",
              "<table border=\"1\" class=\"dataframe\">\n",
              "  <thead>\n",
              "    <tr style=\"text-align: right;\">\n",
              "      <th></th>\n",
              "      <th>star_rating</th>\n",
              "      <th>title</th>\n",
              "      <th>content_rating</th>\n",
              "      <th>genre</th>\n",
              "      <th>duration</th>\n",
              "      <th>actors_list</th>\n",
              "    </tr>\n",
              "  </thead>\n",
              "  <tbody>\n",
              "    <tr>\n",
              "      <th>0</th>\n",
              "      <td>9.3</td>\n",
              "      <td>The Shawshank Redemption</td>\n",
              "      <td>R</td>\n",
              "      <td>Crime</td>\n",
              "      <td>142</td>\n",
              "      <td>[u'Tim Robbins', u'Morgan Freeman', u'Bob Gunt...</td>\n",
              "    </tr>\n",
              "    <tr>\n",
              "      <th>1</th>\n",
              "      <td>9.2</td>\n",
              "      <td>The Godfather</td>\n",
              "      <td>R</td>\n",
              "      <td>Crime</td>\n",
              "      <td>175</td>\n",
              "      <td>[u'Marlon Brando', u'Al Pacino', u'James Caan']</td>\n",
              "    </tr>\n",
              "    <tr>\n",
              "      <th>2</th>\n",
              "      <td>9.1</td>\n",
              "      <td>The Godfather: Part II</td>\n",
              "      <td>R</td>\n",
              "      <td>Crime</td>\n",
              "      <td>200</td>\n",
              "      <td>[u'Al Pacino', u'Robert De Niro', u'Robert Duv...</td>\n",
              "    </tr>\n",
              "    <tr>\n",
              "      <th>3</th>\n",
              "      <td>9.0</td>\n",
              "      <td>The Dark Knight</td>\n",
              "      <td>PG-13</td>\n",
              "      <td>Action</td>\n",
              "      <td>152</td>\n",
              "      <td>[u'Christian Bale', u'Heath Ledger', u'Aaron E...</td>\n",
              "    </tr>\n",
              "    <tr>\n",
              "      <th>4</th>\n",
              "      <td>8.9</td>\n",
              "      <td>Pulp Fiction</td>\n",
              "      <td>R</td>\n",
              "      <td>Crime</td>\n",
              "      <td>154</td>\n",
              "      <td>[u'John Travolta', u'Uma Thurman', u'Samuel L....</td>\n",
              "    </tr>\n",
              "  </tbody>\n",
              "</table>\n",
              "</div>"
            ],
            "text/plain": [
              "   star_rating                     title content_rating   genre  duration  \\\n",
              "0          9.3  The Shawshank Redemption              R   Crime       142   \n",
              "1          9.2             The Godfather              R   Crime       175   \n",
              "2          9.1    The Godfather: Part II              R   Crime       200   \n",
              "3          9.0           The Dark Knight          PG-13  Action       152   \n",
              "4          8.9              Pulp Fiction              R   Crime       154   \n",
              "\n",
              "                                         actors_list  \n",
              "0  [u'Tim Robbins', u'Morgan Freeman', u'Bob Gunt...  \n",
              "1    [u'Marlon Brando', u'Al Pacino', u'James Caan']  \n",
              "2  [u'Al Pacino', u'Robert De Niro', u'Robert Duv...  \n",
              "3  [u'Christian Bale', u'Heath Ledger', u'Aaron E...  \n",
              "4  [u'John Travolta', u'Uma Thurman', u'Samuel L....  "
            ]
          },
          "metadata": {
            "tags": []
          },
          "execution_count": 4
        }
      ]
    },
    {
      "cell_type": "markdown",
      "metadata": {
        "id": "bt_YG5t2Yiq3",
        "colab_type": "text"
      },
      "source": [
        "#### Check the number of rows and columns."
      ]
    },
    {
      "cell_type": "code",
      "metadata": {
        "id": "QaRrROi2Yiq5",
        "colab_type": "code",
        "outputId": "afe5c476-791f-4270-9252-6eb333cf2ef4",
        "colab": {
          "base_uri": "https://localhost:8080/",
          "height": 34
        }
      },
      "source": [
        "# Answer:\n",
        "\n",
        "movies.shape ## It has 976 rows and 6 coulmns"
      ],
      "execution_count": 0,
      "outputs": [
        {
          "output_type": "execute_result",
          "data": {
            "text/plain": [
              "(979, 6)"
            ]
          },
          "metadata": {
            "tags": []
          },
          "execution_count": 5
        }
      ]
    },
    {
      "cell_type": "markdown",
      "metadata": {
        "id": "QI-5ZNRZYiq_",
        "colab_type": "text"
      },
      "source": [
        "#### Check the data type of each column."
      ]
    },
    {
      "cell_type": "code",
      "metadata": {
        "id": "8OcFfpDGYirA",
        "colab_type": "code",
        "outputId": "d78ff201-cb90-435b-f873-5833d26f4f35",
        "colab": {
          "base_uri": "https://localhost:8080/",
          "height": 141
        }
      },
      "source": [
        "# Answer:\n",
        "\n",
        "#movies.info() ## This gives data type of each column\n",
        "# or\n",
        "\n",
        "movies.dtypes"
      ],
      "execution_count": 0,
      "outputs": [
        {
          "output_type": "execute_result",
          "data": {
            "text/plain": [
              "star_rating       float64\n",
              "title              object\n",
              "content_rating     object\n",
              "genre              object\n",
              "duration            int64\n",
              "actors_list        object\n",
              "dtype: object"
            ]
          },
          "metadata": {
            "tags": []
          },
          "execution_count": 6
        }
      ]
    },
    {
      "cell_type": "markdown",
      "metadata": {
        "id": "XM4tTDGgYirG",
        "colab_type": "text"
      },
      "source": [
        "#### Calculate the average movie duration."
      ]
    },
    {
      "cell_type": "code",
      "metadata": {
        "id": "6wR0wQypYirH",
        "colab_type": "code",
        "outputId": "743b8f6a-8717-4561-ba4e-4606038d6184",
        "colab": {
          "base_uri": "https://localhost:8080/",
          "height": 52
        }
      },
      "source": [
        "# Answer:\n",
        "\n",
        "movies[['duration']].mean() ## The mean duration was 120.979"
      ],
      "execution_count": 0,
      "outputs": [
        {
          "output_type": "execute_result",
          "data": {
            "text/plain": [
              "duration    120.979571\n",
              "dtype: float64"
            ]
          },
          "metadata": {
            "tags": []
          },
          "execution_count": 7
        }
      ]
    },
    {
      "cell_type": "markdown",
      "metadata": {
        "id": "P7E8jto5YirN",
        "colab_type": "text"
      },
      "source": [
        "#### Sort the DataFrame by duration to find the shortest and longest movies."
      ]
    },
    {
      "cell_type": "code",
      "metadata": {
        "id": "BKYAHPQyYirT",
        "colab_type": "code",
        "outputId": "77ac6bec-0ba5-44fa-9b7c-c85b4565ab9c",
        "colab": {
          "base_uri": "https://localhost:8080/",
          "height": 1906
        }
      },
      "source": [
        "# Answer:\n",
        "moviee = movies.sort_values(['duration'])\n",
        "moviee"
      ],
      "execution_count": 0,
      "outputs": [
        {
          "output_type": "execute_result",
          "data": {
            "text/html": [
              "<div>\n",
              "<style scoped>\n",
              "    .dataframe tbody tr th:only-of-type {\n",
              "        vertical-align: middle;\n",
              "    }\n",
              "\n",
              "    .dataframe tbody tr th {\n",
              "        vertical-align: top;\n",
              "    }\n",
              "\n",
              "    .dataframe thead th {\n",
              "        text-align: right;\n",
              "    }\n",
              "</style>\n",
              "<table border=\"1\" class=\"dataframe\">\n",
              "  <thead>\n",
              "    <tr style=\"text-align: right;\">\n",
              "      <th></th>\n",
              "      <th>star_rating</th>\n",
              "      <th>title</th>\n",
              "      <th>content_rating</th>\n",
              "      <th>genre</th>\n",
              "      <th>duration</th>\n",
              "      <th>actors_list</th>\n",
              "    </tr>\n",
              "  </thead>\n",
              "  <tbody>\n",
              "    <tr>\n",
              "      <th>389</th>\n",
              "      <td>8.0</td>\n",
              "      <td>Freaks</td>\n",
              "      <td>UNRATED</td>\n",
              "      <td>Drama</td>\n",
              "      <td>64</td>\n",
              "      <td>[u'Wallace Ford', u'Leila Hyams', u'Olga Bacla...</td>\n",
              "    </tr>\n",
              "    <tr>\n",
              "      <th>338</th>\n",
              "      <td>8.0</td>\n",
              "      <td>Battleship Potemkin</td>\n",
              "      <td>UNRATED</td>\n",
              "      <td>History</td>\n",
              "      <td>66</td>\n",
              "      <td>[u'Aleksandr Antonov', u'Vladimir Barsky', u'G...</td>\n",
              "    </tr>\n",
              "    <tr>\n",
              "      <th>258</th>\n",
              "      <td>8.1</td>\n",
              "      <td>The Cabinet of Dr. Caligari</td>\n",
              "      <td>UNRATED</td>\n",
              "      <td>Crime</td>\n",
              "      <td>67</td>\n",
              "      <td>[u'Werner Krauss', u'Conrad Veidt', u'Friedric...</td>\n",
              "    </tr>\n",
              "    <tr>\n",
              "      <th>293</th>\n",
              "      <td>8.1</td>\n",
              "      <td>Duck Soup</td>\n",
              "      <td>PASSED</td>\n",
              "      <td>Comedy</td>\n",
              "      <td>68</td>\n",
              "      <td>[u'Groucho Marx', u'Harpo Marx', u'Chico Marx']</td>\n",
              "    </tr>\n",
              "    <tr>\n",
              "      <th>88</th>\n",
              "      <td>8.4</td>\n",
              "      <td>The Kid</td>\n",
              "      <td>NOT RATED</td>\n",
              "      <td>Comedy</td>\n",
              "      <td>68</td>\n",
              "      <td>[u'Charles Chaplin', u'Edna Purviance', u'Jack...</td>\n",
              "    </tr>\n",
              "    <tr>\n",
              "      <th>742</th>\n",
              "      <td>7.6</td>\n",
              "      <td>Following</td>\n",
              "      <td>R</td>\n",
              "      <td>Mystery</td>\n",
              "      <td>69</td>\n",
              "      <td>[u'Jeremy Theobald', u'Alex Haw', u'Lucy Russe...</td>\n",
              "    </tr>\n",
              "    <tr>\n",
              "      <th>351</th>\n",
              "      <td>8.0</td>\n",
              "      <td>Frankenstein</td>\n",
              "      <td>UNRATED</td>\n",
              "      <td>Horror</td>\n",
              "      <td>70</td>\n",
              "      <td>[u'Colin Clive', u'Mae Clarke', u'Boris Karloff']</td>\n",
              "    </tr>\n",
              "    <tr>\n",
              "      <th>938</th>\n",
              "      <td>7.4</td>\n",
              "      <td>Alice in Wonderland</td>\n",
              "      <td>G</td>\n",
              "      <td>Animation</td>\n",
              "      <td>75</td>\n",
              "      <td>[u'Kathryn Beaumont', u'Ed Wynn', u'Richard Ha...</td>\n",
              "    </tr>\n",
              "    <tr>\n",
              "      <th>405</th>\n",
              "      <td>7.9</td>\n",
              "      <td>The Bride of Frankenstein</td>\n",
              "      <td>NOT RATED</td>\n",
              "      <td>Horror</td>\n",
              "      <td>75</td>\n",
              "      <td>[u'Boris Karloff', u'Elsa Lanchester', u'Colin...</td>\n",
              "    </tr>\n",
              "    <tr>\n",
              "      <th>303</th>\n",
              "      <td>8.0</td>\n",
              "      <td>The Nightmare Before Christmas</td>\n",
              "      <td>PG</td>\n",
              "      <td>Animation</td>\n",
              "      <td>76</td>\n",
              "      <td>[u'Danny Elfman', u'Chris Sarandon', u\"Catheri...</td>\n",
              "    </tr>\n",
              "    <tr>\n",
              "      <th>713</th>\n",
              "      <td>7.6</td>\n",
              "      <td>The Jungle Book</td>\n",
              "      <td>APPROVED</td>\n",
              "      <td>Animation</td>\n",
              "      <td>78</td>\n",
              "      <td>[u'Phil Harris', u'Sebastian Cabot', u'Louis P...</td>\n",
              "    </tr>\n",
              "    <tr>\n",
              "      <th>864</th>\n",
              "      <td>7.5</td>\n",
              "      <td>[Rec]</td>\n",
              "      <td>R</td>\n",
              "      <td>Horror</td>\n",
              "      <td>78</td>\n",
              "      <td>[u'Manuela Velasco', u'Ferran Terraza', u'Jorg...</td>\n",
              "    </tr>\n",
              "    <tr>\n",
              "      <th>489</th>\n",
              "      <td>7.8</td>\n",
              "      <td>The Triplets of Belleville</td>\n",
              "      <td>PG-13</td>\n",
              "      <td>Animation</td>\n",
              "      <td>78</td>\n",
              "      <td>[u'Mich\\xe8le Caucheteux', u'Jean-Claude Donda...</td>\n",
              "    </tr>\n",
              "    <tr>\n",
              "      <th>535</th>\n",
              "      <td>7.8</td>\n",
              "      <td>Zelig</td>\n",
              "      <td>PG</td>\n",
              "      <td>Comedy</td>\n",
              "      <td>79</td>\n",
              "      <td>[u'Woody Allen', u'Mia Farrow', u'Patrick Horg...</td>\n",
              "    </tr>\n",
              "    <tr>\n",
              "      <th>513</th>\n",
              "      <td>7.8</td>\n",
              "      <td>Invasion of the Body Snatchers</td>\n",
              "      <td>APPROVED</td>\n",
              "      <td>Horror</td>\n",
              "      <td>80</td>\n",
              "      <td>[u'Kevin McCarthy', u'Dana Wynter', u'Larry Ga...</td>\n",
              "    </tr>\n",
              "    <tr>\n",
              "      <th>853</th>\n",
              "      <td>7.5</td>\n",
              "      <td>L'illusionniste</td>\n",
              "      <td>PG</td>\n",
              "      <td>Animation</td>\n",
              "      <td>80</td>\n",
              "      <td>[u'Jean-Claude Donda', u'Eilidh Rankin', u'Dun...</td>\n",
              "    </tr>\n",
              "    <tr>\n",
              "      <th>533</th>\n",
              "      <td>7.8</td>\n",
              "      <td>Run Lola Run</td>\n",
              "      <td>R</td>\n",
              "      <td>Action</td>\n",
              "      <td>80</td>\n",
              "      <td>[u'Franka Potente', u'Moritz Bleibtreu', u'Her...</td>\n",
              "    </tr>\n",
              "    <tr>\n",
              "      <th>283</th>\n",
              "      <td>8.1</td>\n",
              "      <td>Before Sunset</td>\n",
              "      <td>R</td>\n",
              "      <td>Drama</td>\n",
              "      <td>80</td>\n",
              "      <td>[u'Ethan Hawke', u'Julie Delpy', u'Vernon Dobt...</td>\n",
              "    </tr>\n",
              "    <tr>\n",
              "      <th>297</th>\n",
              "      <td>8.0</td>\n",
              "      <td>Rope</td>\n",
              "      <td>PG</td>\n",
              "      <td>Crime</td>\n",
              "      <td>80</td>\n",
              "      <td>[u'James Stewart', u'John Dall', u'Farley Gran...</td>\n",
              "    </tr>\n",
              "    <tr>\n",
              "      <th>622</th>\n",
              "      <td>7.7</td>\n",
              "      <td>The Dinner Game</td>\n",
              "      <td>PG-13</td>\n",
              "      <td>Comedy</td>\n",
              "      <td>80</td>\n",
              "      <td>[u'Thierry Lhermitte', u'Jacques Villeret', u'...</td>\n",
              "    </tr>\n",
              "    <tr>\n",
              "      <th>117</th>\n",
              "      <td>8.3</td>\n",
              "      <td>Toy Story</td>\n",
              "      <td>G</td>\n",
              "      <td>Animation</td>\n",
              "      <td>81</td>\n",
              "      <td>[u'Tom Hanks', u'Tim Allen', u'Don Rickles']</td>\n",
              "    </tr>\n",
              "    <tr>\n",
              "      <th>541</th>\n",
              "      <td>7.8</td>\n",
              "      <td>South Park: Bigger Longer &amp; Uncut</td>\n",
              "      <td>R</td>\n",
              "      <td>Animation</td>\n",
              "      <td>81</td>\n",
              "      <td>[u'Trey Parker', u'Matt Stone', u'Mary Kay Ber...</td>\n",
              "    </tr>\n",
              "    <tr>\n",
              "      <th>738</th>\n",
              "      <td>7.6</td>\n",
              "      <td>Army of Darkness</td>\n",
              "      <td>R</td>\n",
              "      <td>Comedy</td>\n",
              "      <td>81</td>\n",
              "      <td>[u'Bruce Campbell', u'Embeth Davidtz', u'Marcu...</td>\n",
              "    </tr>\n",
              "    <tr>\n",
              "      <th>789</th>\n",
              "      <td>7.6</td>\n",
              "      <td>Ice Age</td>\n",
              "      <td>PG</td>\n",
              "      <td>Animation</td>\n",
              "      <td>81</td>\n",
              "      <td>[u'Denis Leary', u'John Leguizamo', u'Ray Roma...</td>\n",
              "    </tr>\n",
              "    <tr>\n",
              "      <th>330</th>\n",
              "      <td>8.0</td>\n",
              "      <td>Nosferatu</td>\n",
              "      <td>UNRATED</td>\n",
              "      <td>Horror</td>\n",
              "      <td>81</td>\n",
              "      <td>[u'Max Schreck', u'Greta Schr\\xf6der', u'Ruth ...</td>\n",
              "    </tr>\n",
              "    <tr>\n",
              "      <th>595</th>\n",
              "      <td>7.7</td>\n",
              "      <td>The Purple Rose of Cairo</td>\n",
              "      <td>PG</td>\n",
              "      <td>Comedy</td>\n",
              "      <td>82</td>\n",
              "      <td>[u'Mia Farrow', u'Jeff Daniels', u'Danny Aiello']</td>\n",
              "    </tr>\n",
              "    <tr>\n",
              "      <th>306</th>\n",
              "      <td>8.0</td>\n",
              "      <td>This Is Spinal Tap</td>\n",
              "      <td>R</td>\n",
              "      <td>Comedy</td>\n",
              "      <td>82</td>\n",
              "      <td>[u'Rob Reiner', u'Michael McKean', u'Christoph...</td>\n",
              "    </tr>\n",
              "    <tr>\n",
              "      <th>174</th>\n",
              "      <td>8.2</td>\n",
              "      <td>Persona</td>\n",
              "      <td>NOT RATED</td>\n",
              "      <td>Drama</td>\n",
              "      <td>83</td>\n",
              "      <td>[u'Bibi Andersson', u'Liv Ullmann', u'Margaret...</td>\n",
              "    </tr>\n",
              "    <tr>\n",
              "      <th>759</th>\n",
              "      <td>7.6</td>\n",
              "      <td>Robin Hood</td>\n",
              "      <td>G</td>\n",
              "      <td>Animation</td>\n",
              "      <td>83</td>\n",
              "      <td>[u'Brian Bedford', u'Phil Harris', u'Roger Mil...</td>\n",
              "    </tr>\n",
              "    <tr>\n",
              "      <th>766</th>\n",
              "      <td>7.6</td>\n",
              "      <td>The Little Mermaid</td>\n",
              "      <td>G</td>\n",
              "      <td>Animation</td>\n",
              "      <td>83</td>\n",
              "      <td>[u'Jodi Benson', u'Samuel E. Wright', u'Rene A...</td>\n",
              "    </tr>\n",
              "    <tr>\n",
              "      <th>...</th>\n",
              "      <td>...</td>\n",
              "      <td>...</td>\n",
              "      <td>...</td>\n",
              "      <td>...</td>\n",
              "      <td>...</td>\n",
              "      <td>...</td>\n",
              "    </tr>\n",
              "    <tr>\n",
              "      <th>361</th>\n",
              "      <td>8.0</td>\n",
              "      <td>Fiddler on the Roof</td>\n",
              "      <td>G</td>\n",
              "      <td>Drama</td>\n",
              "      <td>181</td>\n",
              "      <td>[u'Topol', u'Norma Crane', u'Leonard Frey']</td>\n",
              "    </tr>\n",
              "    <tr>\n",
              "      <th>166</th>\n",
              "      <td>8.2</td>\n",
              "      <td>The Deer Hunter</td>\n",
              "      <td>R</td>\n",
              "      <td>Drama</td>\n",
              "      <td>182</td>\n",
              "      <td>[u'Robert De Niro', u'Christopher Walken', u'J...</td>\n",
              "    </tr>\n",
              "    <tr>\n",
              "      <th>109</th>\n",
              "      <td>8.3</td>\n",
              "      <td>Dil Chahta Hai</td>\n",
              "      <td>NOT RATED</td>\n",
              "      <td>Comedy</td>\n",
              "      <td>183</td>\n",
              "      <td>[u'Aamir Khan', u'Saif Ali Khan', u'Akshaye Kh...</td>\n",
              "    </tr>\n",
              "    <tr>\n",
              "      <th>245</th>\n",
              "      <td>8.1</td>\n",
              "      <td>Barry Lyndon</td>\n",
              "      <td>PG</td>\n",
              "      <td>Adventure</td>\n",
              "      <td>184</td>\n",
              "      <td>[u\"Ryan O'Neal\", u'Marisa Berenson', u'Patrick...</td>\n",
              "    </tr>\n",
              "    <tr>\n",
              "      <th>132</th>\n",
              "      <td>8.3</td>\n",
              "      <td>Judgment at Nuremberg</td>\n",
              "      <td>NOT RATED</td>\n",
              "      <td>Drama</td>\n",
              "      <td>186</td>\n",
              "      <td>[u'Spencer Tracy', u'Burt Lancaster', u'Richar...</td>\n",
              "    </tr>\n",
              "    <tr>\n",
              "      <th>611</th>\n",
              "      <td>7.7</td>\n",
              "      <td>Short Cuts</td>\n",
              "      <td>R</td>\n",
              "      <td>Comedy</td>\n",
              "      <td>187</td>\n",
              "      <td>[u'Andie MacDowell', u'Julianne Moore', u'Tim ...</td>\n",
              "    </tr>\n",
              "    <tr>\n",
              "      <th>318</th>\n",
              "      <td>8.0</td>\n",
              "      <td>Magnolia</td>\n",
              "      <td>R</td>\n",
              "      <td>Drama</td>\n",
              "      <td>188</td>\n",
              "      <td>[u'Tom Cruise', u'Jason Robards', u'Julianne M...</td>\n",
              "    </tr>\n",
              "    <tr>\n",
              "      <th>184</th>\n",
              "      <td>8.2</td>\n",
              "      <td>Fanny and Alexander</td>\n",
              "      <td>R</td>\n",
              "      <td>Drama</td>\n",
              "      <td>188</td>\n",
              "      <td>[u'Bertil Guve', u'Pernilla Allwin', u'Kristin...</td>\n",
              "    </tr>\n",
              "    <tr>\n",
              "      <th>89</th>\n",
              "      <td>8.4</td>\n",
              "      <td>Swades</td>\n",
              "      <td>NOT RATED</td>\n",
              "      <td>Drama</td>\n",
              "      <td>189</td>\n",
              "      <td>[u'Shah Rukh Khan', u'Gayatri Joshi', u'Kishor...</td>\n",
              "    </tr>\n",
              "    <tr>\n",
              "      <th>316</th>\n",
              "      <td>8.0</td>\n",
              "      <td>JFK</td>\n",
              "      <td>R</td>\n",
              "      <td>Drama</td>\n",
              "      <td>189</td>\n",
              "      <td>[u'Kevin Costner', u'Gary Oldman', u'Jack Lemm...</td>\n",
              "    </tr>\n",
              "    <tr>\n",
              "      <th>40</th>\n",
              "      <td>8.5</td>\n",
              "      <td>The Green Mile</td>\n",
              "      <td>R</td>\n",
              "      <td>Crime</td>\n",
              "      <td>189</td>\n",
              "      <td>[u'Tom Hanks', u'Michael Clarke Duncan', u'Dav...</td>\n",
              "    </tr>\n",
              "    <tr>\n",
              "      <th>671</th>\n",
              "      <td>7.7</td>\n",
              "      <td>Grindhouse</td>\n",
              "      <td>R</td>\n",
              "      <td>Action</td>\n",
              "      <td>191</td>\n",
              "      <td>[u'Kurt Russell', u'Rose McGowan', u'Danny Tre...</td>\n",
              "    </tr>\n",
              "    <tr>\n",
              "      <th>220</th>\n",
              "      <td>8.1</td>\n",
              "      <td>Gandhi</td>\n",
              "      <td>PG</td>\n",
              "      <td>Biography</td>\n",
              "      <td>191</td>\n",
              "      <td>[u'Ben Kingsley', u'John Gielgud', u'Candice B...</td>\n",
              "    </tr>\n",
              "    <tr>\n",
              "      <th>424</th>\n",
              "      <td>7.9</td>\n",
              "      <td>The Right Stuff</td>\n",
              "      <td>R</td>\n",
              "      <td>Adventure</td>\n",
              "      <td>193</td>\n",
              "      <td>[u'Sam Shepard', u'Scott Glenn', u'Ed Harris']</td>\n",
              "    </tr>\n",
              "    <tr>\n",
              "      <th>620</th>\n",
              "      <td>7.7</td>\n",
              "      <td>Titanic</td>\n",
              "      <td>PG-13</td>\n",
              "      <td>Drama</td>\n",
              "      <td>194</td>\n",
              "      <td>[u'Leonardo DiCaprio', u'Kate Winslet', u'Bill...</td>\n",
              "    </tr>\n",
              "    <tr>\n",
              "      <th>8</th>\n",
              "      <td>8.9</td>\n",
              "      <td>Schindler's List</td>\n",
              "      <td>R</td>\n",
              "      <td>Biography</td>\n",
              "      <td>195</td>\n",
              "      <td>[u'Liam Neeson', u'Ralph Fiennes', u'Ben Kings...</td>\n",
              "    </tr>\n",
              "    <tr>\n",
              "      <th>385</th>\n",
              "      <td>8.0</td>\n",
              "      <td>Spartacus</td>\n",
              "      <td>PG-13</td>\n",
              "      <td>Action</td>\n",
              "      <td>197</td>\n",
              "      <td>[u'Kirk Douglas', u'Laurence Olivier', u'Jean ...</td>\n",
              "    </tr>\n",
              "    <tr>\n",
              "      <th>335</th>\n",
              "      <td>8.0</td>\n",
              "      <td>Doctor Zhivago</td>\n",
              "      <td>PG-13</td>\n",
              "      <td>Drama</td>\n",
              "      <td>197</td>\n",
              "      <td>[u'Omar Sharif', u'Julie Christie', u'Geraldin...</td>\n",
              "    </tr>\n",
              "    <tr>\n",
              "      <th>2</th>\n",
              "      <td>9.1</td>\n",
              "      <td>The Godfather: Part II</td>\n",
              "      <td>R</td>\n",
              "      <td>Crime</td>\n",
              "      <td>200</td>\n",
              "      <td>[u'Al Pacino', u'Robert De Niro', u'Robert Duv...</td>\n",
              "    </tr>\n",
              "    <tr>\n",
              "      <th>7</th>\n",
              "      <td>8.9</td>\n",
              "      <td>The Lord of the Rings: The Return of the King</td>\n",
              "      <td>PG-13</td>\n",
              "      <td>Adventure</td>\n",
              "      <td>201</td>\n",
              "      <td>[u'Elijah Wood', u'Viggo Mortensen', u'Ian McK...</td>\n",
              "    </tr>\n",
              "    <tr>\n",
              "      <th>630</th>\n",
              "      <td>7.7</td>\n",
              "      <td>Malcolm X</td>\n",
              "      <td>PG-13</td>\n",
              "      <td>Biography</td>\n",
              "      <td>202</td>\n",
              "      <td>[u'Denzel Washington', u'Angela Bassett', u'De...</td>\n",
              "    </tr>\n",
              "    <tr>\n",
              "      <th>767</th>\n",
              "      <td>7.6</td>\n",
              "      <td>It's a Mad, Mad, Mad, Mad World</td>\n",
              "      <td>APPROVED</td>\n",
              "      <td>Action</td>\n",
              "      <td>205</td>\n",
              "      <td>[u'Spencer Tracy', u'Milton Berle', u'Ethel Me...</td>\n",
              "    </tr>\n",
              "    <tr>\n",
              "      <th>17</th>\n",
              "      <td>8.7</td>\n",
              "      <td>Seven Samurai</td>\n",
              "      <td>UNRATED</td>\n",
              "      <td>Drama</td>\n",
              "      <td>207</td>\n",
              "      <td>[u'Toshir\\xf4 Mifune', u'Takashi Shimura', u'K...</td>\n",
              "    </tr>\n",
              "    <tr>\n",
              "      <th>204</th>\n",
              "      <td>8.1</td>\n",
              "      <td>Ben-Hur</td>\n",
              "      <td>G</td>\n",
              "      <td>Adventure</td>\n",
              "      <td>212</td>\n",
              "      <td>[u'Charlton Heston', u'Jack Hawkins', u'Stephe...</td>\n",
              "    </tr>\n",
              "    <tr>\n",
              "      <th>85</th>\n",
              "      <td>8.4</td>\n",
              "      <td>Lawrence of Arabia</td>\n",
              "      <td>PG</td>\n",
              "      <td>Adventure</td>\n",
              "      <td>216</td>\n",
              "      <td>[u\"Peter O'Toole\", u'Alec Guinness', u'Anthony...</td>\n",
              "    </tr>\n",
              "    <tr>\n",
              "      <th>445</th>\n",
              "      <td>7.9</td>\n",
              "      <td>The Ten Commandments</td>\n",
              "      <td>APPROVED</td>\n",
              "      <td>Adventure</td>\n",
              "      <td>220</td>\n",
              "      <td>[u'Charlton Heston', u'Yul Brynner', u'Anne Ba...</td>\n",
              "    </tr>\n",
              "    <tr>\n",
              "      <th>142</th>\n",
              "      <td>8.3</td>\n",
              "      <td>Lagaan: Once Upon a Time in India</td>\n",
              "      <td>PG</td>\n",
              "      <td>Adventure</td>\n",
              "      <td>224</td>\n",
              "      <td>[u'Aamir Khan', u'Gracy Singh', u'Rachel Shell...</td>\n",
              "    </tr>\n",
              "    <tr>\n",
              "      <th>78</th>\n",
              "      <td>8.4</td>\n",
              "      <td>Once Upon a Time in America</td>\n",
              "      <td>R</td>\n",
              "      <td>Crime</td>\n",
              "      <td>229</td>\n",
              "      <td>[u'Robert De Niro', u'James Woods', u'Elizabet...</td>\n",
              "    </tr>\n",
              "    <tr>\n",
              "      <th>157</th>\n",
              "      <td>8.2</td>\n",
              "      <td>Gone with the Wind</td>\n",
              "      <td>G</td>\n",
              "      <td>Drama</td>\n",
              "      <td>238</td>\n",
              "      <td>[u'Clark Gable', u'Vivien Leigh', u'Thomas Mit...</td>\n",
              "    </tr>\n",
              "    <tr>\n",
              "      <th>476</th>\n",
              "      <td>7.8</td>\n",
              "      <td>Hamlet</td>\n",
              "      <td>PG-13</td>\n",
              "      <td>Drama</td>\n",
              "      <td>242</td>\n",
              "      <td>[u'Kenneth Branagh', u'Julie Christie', u'Dere...</td>\n",
              "    </tr>\n",
              "  </tbody>\n",
              "</table>\n",
              "<p>979 rows × 6 columns</p>\n",
              "</div>"
            ],
            "text/plain": [
              "     star_rating                                          title  \\\n",
              "389          8.0                                         Freaks   \n",
              "338          8.0                            Battleship Potemkin   \n",
              "258          8.1                    The Cabinet of Dr. Caligari   \n",
              "293          8.1                                      Duck Soup   \n",
              "88           8.4                                        The Kid   \n",
              "742          7.6                                      Following   \n",
              "351          8.0                                   Frankenstein   \n",
              "938          7.4                            Alice in Wonderland   \n",
              "405          7.9                      The Bride of Frankenstein   \n",
              "303          8.0                 The Nightmare Before Christmas   \n",
              "713          7.6                                The Jungle Book   \n",
              "864          7.5                                          [Rec]   \n",
              "489          7.8                     The Triplets of Belleville   \n",
              "535          7.8                                          Zelig   \n",
              "513          7.8                 Invasion of the Body Snatchers   \n",
              "853          7.5                                L'illusionniste   \n",
              "533          7.8                                   Run Lola Run   \n",
              "283          8.1                                  Before Sunset   \n",
              "297          8.0                                           Rope   \n",
              "622          7.7                                The Dinner Game   \n",
              "117          8.3                                      Toy Story   \n",
              "541          7.8              South Park: Bigger Longer & Uncut   \n",
              "738          7.6                               Army of Darkness   \n",
              "789          7.6                                        Ice Age   \n",
              "330          8.0                                      Nosferatu   \n",
              "595          7.7                       The Purple Rose of Cairo   \n",
              "306          8.0                             This Is Spinal Tap   \n",
              "174          8.2                                        Persona   \n",
              "759          7.6                                     Robin Hood   \n",
              "766          7.6                             The Little Mermaid   \n",
              "..           ...                                            ...   \n",
              "361          8.0                            Fiddler on the Roof   \n",
              "166          8.2                                The Deer Hunter   \n",
              "109          8.3                                 Dil Chahta Hai   \n",
              "245          8.1                                   Barry Lyndon   \n",
              "132          8.3                          Judgment at Nuremberg   \n",
              "611          7.7                                     Short Cuts   \n",
              "318          8.0                                       Magnolia   \n",
              "184          8.2                            Fanny and Alexander   \n",
              "89           8.4                                         Swades   \n",
              "316          8.0                                            JFK   \n",
              "40           8.5                                 The Green Mile   \n",
              "671          7.7                                     Grindhouse   \n",
              "220          8.1                                         Gandhi   \n",
              "424          7.9                                The Right Stuff   \n",
              "620          7.7                                        Titanic   \n",
              "8            8.9                               Schindler's List   \n",
              "385          8.0                                      Spartacus   \n",
              "335          8.0                                 Doctor Zhivago   \n",
              "2            9.1                         The Godfather: Part II   \n",
              "7            8.9  The Lord of the Rings: The Return of the King   \n",
              "630          7.7                                      Malcolm X   \n",
              "767          7.6                It's a Mad, Mad, Mad, Mad World   \n",
              "17           8.7                                  Seven Samurai   \n",
              "204          8.1                                        Ben-Hur   \n",
              "85           8.4                             Lawrence of Arabia   \n",
              "445          7.9                           The Ten Commandments   \n",
              "142          8.3              Lagaan: Once Upon a Time in India   \n",
              "78           8.4                    Once Upon a Time in America   \n",
              "157          8.2                             Gone with the Wind   \n",
              "476          7.8                                         Hamlet   \n",
              "\n",
              "    content_rating      genre  duration  \\\n",
              "389        UNRATED      Drama        64   \n",
              "338        UNRATED    History        66   \n",
              "258        UNRATED      Crime        67   \n",
              "293         PASSED     Comedy        68   \n",
              "88       NOT RATED     Comedy        68   \n",
              "742              R    Mystery        69   \n",
              "351        UNRATED     Horror        70   \n",
              "938              G  Animation        75   \n",
              "405      NOT RATED     Horror        75   \n",
              "303             PG  Animation        76   \n",
              "713       APPROVED  Animation        78   \n",
              "864              R     Horror        78   \n",
              "489          PG-13  Animation        78   \n",
              "535             PG     Comedy        79   \n",
              "513       APPROVED     Horror        80   \n",
              "853             PG  Animation        80   \n",
              "533              R     Action        80   \n",
              "283              R      Drama        80   \n",
              "297             PG      Crime        80   \n",
              "622          PG-13     Comedy        80   \n",
              "117              G  Animation        81   \n",
              "541              R  Animation        81   \n",
              "738              R     Comedy        81   \n",
              "789             PG  Animation        81   \n",
              "330        UNRATED     Horror        81   \n",
              "595             PG     Comedy        82   \n",
              "306              R     Comedy        82   \n",
              "174      NOT RATED      Drama        83   \n",
              "759              G  Animation        83   \n",
              "766              G  Animation        83   \n",
              "..             ...        ...       ...   \n",
              "361              G      Drama       181   \n",
              "166              R      Drama       182   \n",
              "109      NOT RATED     Comedy       183   \n",
              "245             PG  Adventure       184   \n",
              "132      NOT RATED      Drama       186   \n",
              "611              R     Comedy       187   \n",
              "318              R      Drama       188   \n",
              "184              R      Drama       188   \n",
              "89       NOT RATED      Drama       189   \n",
              "316              R      Drama       189   \n",
              "40               R      Crime       189   \n",
              "671              R     Action       191   \n",
              "220             PG  Biography       191   \n",
              "424              R  Adventure       193   \n",
              "620          PG-13      Drama       194   \n",
              "8                R  Biography       195   \n",
              "385          PG-13     Action       197   \n",
              "335          PG-13      Drama       197   \n",
              "2                R      Crime       200   \n",
              "7            PG-13  Adventure       201   \n",
              "630          PG-13  Biography       202   \n",
              "767       APPROVED     Action       205   \n",
              "17         UNRATED      Drama       207   \n",
              "204              G  Adventure       212   \n",
              "85              PG  Adventure       216   \n",
              "445       APPROVED  Adventure       220   \n",
              "142             PG  Adventure       224   \n",
              "78               R      Crime       229   \n",
              "157              G      Drama       238   \n",
              "476          PG-13      Drama       242   \n",
              "\n",
              "                                           actors_list  \n",
              "389  [u'Wallace Ford', u'Leila Hyams', u'Olga Bacla...  \n",
              "338  [u'Aleksandr Antonov', u'Vladimir Barsky', u'G...  \n",
              "258  [u'Werner Krauss', u'Conrad Veidt', u'Friedric...  \n",
              "293    [u'Groucho Marx', u'Harpo Marx', u'Chico Marx']  \n",
              "88   [u'Charles Chaplin', u'Edna Purviance', u'Jack...  \n",
              "742  [u'Jeremy Theobald', u'Alex Haw', u'Lucy Russe...  \n",
              "351  [u'Colin Clive', u'Mae Clarke', u'Boris Karloff']  \n",
              "938  [u'Kathryn Beaumont', u'Ed Wynn', u'Richard Ha...  \n",
              "405  [u'Boris Karloff', u'Elsa Lanchester', u'Colin...  \n",
              "303  [u'Danny Elfman', u'Chris Sarandon', u\"Catheri...  \n",
              "713  [u'Phil Harris', u'Sebastian Cabot', u'Louis P...  \n",
              "864  [u'Manuela Velasco', u'Ferran Terraza', u'Jorg...  \n",
              "489  [u'Mich\\xe8le Caucheteux', u'Jean-Claude Donda...  \n",
              "535  [u'Woody Allen', u'Mia Farrow', u'Patrick Horg...  \n",
              "513  [u'Kevin McCarthy', u'Dana Wynter', u'Larry Ga...  \n",
              "853  [u'Jean-Claude Donda', u'Eilidh Rankin', u'Dun...  \n",
              "533  [u'Franka Potente', u'Moritz Bleibtreu', u'Her...  \n",
              "283  [u'Ethan Hawke', u'Julie Delpy', u'Vernon Dobt...  \n",
              "297  [u'James Stewart', u'John Dall', u'Farley Gran...  \n",
              "622  [u'Thierry Lhermitte', u'Jacques Villeret', u'...  \n",
              "117       [u'Tom Hanks', u'Tim Allen', u'Don Rickles']  \n",
              "541  [u'Trey Parker', u'Matt Stone', u'Mary Kay Ber...  \n",
              "738  [u'Bruce Campbell', u'Embeth Davidtz', u'Marcu...  \n",
              "789  [u'Denis Leary', u'John Leguizamo', u'Ray Roma...  \n",
              "330  [u'Max Schreck', u'Greta Schr\\xf6der', u'Ruth ...  \n",
              "595  [u'Mia Farrow', u'Jeff Daniels', u'Danny Aiello']  \n",
              "306  [u'Rob Reiner', u'Michael McKean', u'Christoph...  \n",
              "174  [u'Bibi Andersson', u'Liv Ullmann', u'Margaret...  \n",
              "759  [u'Brian Bedford', u'Phil Harris', u'Roger Mil...  \n",
              "766  [u'Jodi Benson', u'Samuel E. Wright', u'Rene A...  \n",
              "..                                                 ...  \n",
              "361        [u'Topol', u'Norma Crane', u'Leonard Frey']  \n",
              "166  [u'Robert De Niro', u'Christopher Walken', u'J...  \n",
              "109  [u'Aamir Khan', u'Saif Ali Khan', u'Akshaye Kh...  \n",
              "245  [u\"Ryan O'Neal\", u'Marisa Berenson', u'Patrick...  \n",
              "132  [u'Spencer Tracy', u'Burt Lancaster', u'Richar...  \n",
              "611  [u'Andie MacDowell', u'Julianne Moore', u'Tim ...  \n",
              "318  [u'Tom Cruise', u'Jason Robards', u'Julianne M...  \n",
              "184  [u'Bertil Guve', u'Pernilla Allwin', u'Kristin...  \n",
              "89   [u'Shah Rukh Khan', u'Gayatri Joshi', u'Kishor...  \n",
              "316  [u'Kevin Costner', u'Gary Oldman', u'Jack Lemm...  \n",
              "40   [u'Tom Hanks', u'Michael Clarke Duncan', u'Dav...  \n",
              "671  [u'Kurt Russell', u'Rose McGowan', u'Danny Tre...  \n",
              "220  [u'Ben Kingsley', u'John Gielgud', u'Candice B...  \n",
              "424     [u'Sam Shepard', u'Scott Glenn', u'Ed Harris']  \n",
              "620  [u'Leonardo DiCaprio', u'Kate Winslet', u'Bill...  \n",
              "8    [u'Liam Neeson', u'Ralph Fiennes', u'Ben Kings...  \n",
              "385  [u'Kirk Douglas', u'Laurence Olivier', u'Jean ...  \n",
              "335  [u'Omar Sharif', u'Julie Christie', u'Geraldin...  \n",
              "2    [u'Al Pacino', u'Robert De Niro', u'Robert Duv...  \n",
              "7    [u'Elijah Wood', u'Viggo Mortensen', u'Ian McK...  \n",
              "630  [u'Denzel Washington', u'Angela Bassett', u'De...  \n",
              "767  [u'Spencer Tracy', u'Milton Berle', u'Ethel Me...  \n",
              "17   [u'Toshir\\xf4 Mifune', u'Takashi Shimura', u'K...  \n",
              "204  [u'Charlton Heston', u'Jack Hawkins', u'Stephe...  \n",
              "85   [u\"Peter O'Toole\", u'Alec Guinness', u'Anthony...  \n",
              "445  [u'Charlton Heston', u'Yul Brynner', u'Anne Ba...  \n",
              "142  [u'Aamir Khan', u'Gracy Singh', u'Rachel Shell...  \n",
              "78   [u'Robert De Niro', u'James Woods', u'Elizabet...  \n",
              "157  [u'Clark Gable', u'Vivien Leigh', u'Thomas Mit...  \n",
              "476  [u'Kenneth Branagh', u'Julie Christie', u'Dere...  \n",
              "\n",
              "[979 rows x 6 columns]"
            ]
          },
          "metadata": {
            "tags": []
          },
          "execution_count": 8
        }
      ]
    },
    {
      "cell_type": "code",
      "metadata": {
        "id": "7tmDNPFv2dU-",
        "colab_type": "code",
        "outputId": "2f8e1ee8-f542-4f6d-e821-e1c5a42103d4",
        "colab": {
          "base_uri": "https://localhost:8080/",
          "height": 95
        }
      },
      "source": [
        "print('Shortest movie with respect to duration')\n",
        "moviee.head(1)"
      ],
      "execution_count": 0,
      "outputs": [
        {
          "output_type": "stream",
          "text": [
            "Shortest movie with respect to duration\n"
          ],
          "name": "stdout"
        },
        {
          "output_type": "execute_result",
          "data": {
            "text/html": [
              "<div>\n",
              "<style scoped>\n",
              "    .dataframe tbody tr th:only-of-type {\n",
              "        vertical-align: middle;\n",
              "    }\n",
              "\n",
              "    .dataframe tbody tr th {\n",
              "        vertical-align: top;\n",
              "    }\n",
              "\n",
              "    .dataframe thead th {\n",
              "        text-align: right;\n",
              "    }\n",
              "</style>\n",
              "<table border=\"1\" class=\"dataframe\">\n",
              "  <thead>\n",
              "    <tr style=\"text-align: right;\">\n",
              "      <th></th>\n",
              "      <th>star_rating</th>\n",
              "      <th>title</th>\n",
              "      <th>content_rating</th>\n",
              "      <th>genre</th>\n",
              "      <th>duration</th>\n",
              "      <th>actors_list</th>\n",
              "    </tr>\n",
              "  </thead>\n",
              "  <tbody>\n",
              "    <tr>\n",
              "      <th>389</th>\n",
              "      <td>8.0</td>\n",
              "      <td>Freaks</td>\n",
              "      <td>UNRATED</td>\n",
              "      <td>Drama</td>\n",
              "      <td>64</td>\n",
              "      <td>[u'Wallace Ford', u'Leila Hyams', u'Olga Bacla...</td>\n",
              "    </tr>\n",
              "  </tbody>\n",
              "</table>\n",
              "</div>"
            ],
            "text/plain": [
              "     star_rating   title content_rating  genre  duration  \\\n",
              "389          8.0  Freaks        UNRATED  Drama        64   \n",
              "\n",
              "                                           actors_list  \n",
              "389  [u'Wallace Ford', u'Leila Hyams', u'Olga Bacla...  "
            ]
          },
          "metadata": {
            "tags": []
          },
          "execution_count": 9
        }
      ]
    },
    {
      "cell_type": "code",
      "metadata": {
        "id": "Oyvn0vQb21Ei",
        "colab_type": "code",
        "outputId": "ae559735-f251-4681-87c1-801ef4f51b31",
        "colab": {
          "base_uri": "https://localhost:8080/",
          "height": 95
        }
      },
      "source": [
        "print('Longest movie with respect to duration')\n",
        "moviee.tail(1)"
      ],
      "execution_count": 0,
      "outputs": [
        {
          "output_type": "stream",
          "text": [
            "Longest movie with respect to duration\n"
          ],
          "name": "stdout"
        },
        {
          "output_type": "execute_result",
          "data": {
            "text/html": [
              "<div>\n",
              "<style scoped>\n",
              "    .dataframe tbody tr th:only-of-type {\n",
              "        vertical-align: middle;\n",
              "    }\n",
              "\n",
              "    .dataframe tbody tr th {\n",
              "        vertical-align: top;\n",
              "    }\n",
              "\n",
              "    .dataframe thead th {\n",
              "        text-align: right;\n",
              "    }\n",
              "</style>\n",
              "<table border=\"1\" class=\"dataframe\">\n",
              "  <thead>\n",
              "    <tr style=\"text-align: right;\">\n",
              "      <th></th>\n",
              "      <th>star_rating</th>\n",
              "      <th>title</th>\n",
              "      <th>content_rating</th>\n",
              "      <th>genre</th>\n",
              "      <th>duration</th>\n",
              "      <th>actors_list</th>\n",
              "    </tr>\n",
              "  </thead>\n",
              "  <tbody>\n",
              "    <tr>\n",
              "      <th>476</th>\n",
              "      <td>7.8</td>\n",
              "      <td>Hamlet</td>\n",
              "      <td>PG-13</td>\n",
              "      <td>Drama</td>\n",
              "      <td>242</td>\n",
              "      <td>[u'Kenneth Branagh', u'Julie Christie', u'Dere...</td>\n",
              "    </tr>\n",
              "  </tbody>\n",
              "</table>\n",
              "</div>"
            ],
            "text/plain": [
              "     star_rating   title content_rating  genre  duration  \\\n",
              "476          7.8  Hamlet          PG-13  Drama       242   \n",
              "\n",
              "                                           actors_list  \n",
              "476  [u'Kenneth Branagh', u'Julie Christie', u'Dere...  "
            ]
          },
          "metadata": {
            "tags": []
          },
          "execution_count": 12
        }
      ]
    },
    {
      "cell_type": "code",
      "metadata": {
        "id": "2yOuhl0XJAZM",
        "colab_type": "code",
        "colab": {}
      },
      "source": [
        ""
      ],
      "execution_count": 0,
      "outputs": []
    },
    {
      "cell_type": "markdown",
      "metadata": {
        "id": "dH8rYbcfYirb",
        "colab_type": "text"
      },
      "source": [
        "#### Create a histogram of duration, choosing an \"appropriate\" number of bins."
      ]
    },
    {
      "cell_type": "code",
      "metadata": {
        "id": "064QKOVfYire",
        "colab_type": "code",
        "outputId": "5b1d829e-fb9a-4417-9866-3a91e2fdf7f8",
        "colab": {
          "base_uri": "https://localhost:8080/",
          "height": 280
        }
      },
      "source": [
        "# Answer:\n",
        "\n",
        "movies.hist(column = ['duration'],bins = 10)\n",
        "plt.show()"
      ],
      "execution_count": 0,
      "outputs": [
        {
          "output_type": "display_data",
          "data": {
            "image/png": "[encoded data removed]",
            "text/plain": [
              "<Figure size 432x288 with 1 Axes>"
            ]
          },
          "metadata": {
            "tags": []
          }
        }
      ]
    },
    {
      "cell_type": "markdown",
      "metadata": {
        "id": "LuHaMK26Yirl",
        "colab_type": "text"
      },
      "source": [
        "#### Use a box plot to display that same data."
      ]
    },
    {
      "cell_type": "code",
      "metadata": {
        "id": "u5LtAvdIYirm",
        "colab_type": "code",
        "outputId": "0daca00d-19f7-4481-c648-989eff6f642a",
        "colab": {
          "base_uri": "https://localhost:8080/",
          "height": 267
        }
      },
      "source": [
        "# Answer:\n",
        "\n",
        "movies.boxplot(column = ['duration'],return_type = 'axes')\n",
        "plt.show()"
      ],
      "execution_count": 0,
      "outputs": [
        {
          "output_type": "display_data",
          "data": {
            "image/png": "[encoded data removed]",
            "text/plain": [
              "<Figure size 432x288 with 1 Axes>"
            ]
          },
          "metadata": {
            "tags": []
          }
        }
      ]
    },
    {
      "cell_type": "markdown",
      "metadata": {
        "id": "CQ02aIjoYirq",
        "colab_type": "text"
      },
      "source": [
        "## Part 2"
      ]
    },
    {
      "cell_type": "markdown",
      "metadata": {
        "id": "5Gzfx9IPYirs",
        "colab_type": "text"
      },
      "source": [
        "#### Count how many movies have each of the content ratings."
      ]
    },
    {
      "cell_type": "code",
      "metadata": {
        "id": "81BeJBTXYirt",
        "colab_type": "code",
        "outputId": "71a88da7-9082-4296-8911-ced2613a8260",
        "colab": {
          "base_uri": "https://localhost:8080/",
          "height": 247
        }
      },
      "source": [
        "# Answer:\n",
        "\n",
        "movies['content_rating'].unique()\n",
        "\n",
        "movies.content_rating.value_counts()"
      ],
      "execution_count": 0,
      "outputs": [
        {
          "output_type": "execute_result",
          "data": {
            "text/plain": [
              "R            460\n",
              "PG-13        189\n",
              "PG           123\n",
              "NOT RATED     65\n",
              "APPROVED      47\n",
              "UNRATED       38\n",
              "G             32\n",
              "NC-17          7\n",
              "PASSED         7\n",
              "X              4\n",
              "GP             3\n",
              "TV-MA          1\n",
              "Name: content_rating, dtype: int64"
            ]
          },
          "metadata": {
            "tags": []
          },
          "execution_count": 15
        }
      ]
    },
    {
      "cell_type": "markdown",
      "metadata": {
        "id": "WH6SKpmQYiry",
        "colab_type": "text"
      },
      "source": [
        "#### Use a visualization to display that same data, including a title and x and y labels."
      ]
    },
    {
      "cell_type": "code",
      "metadata": {
        "id": "Dpycq14rYir0",
        "colab_type": "code",
        "outputId": "95c92245-96ff-4ff9-b19e-b2925be2a13f",
        "colab": {
          "base_uri": "https://localhost:8080/",
          "height": 342
        }
      },
      "source": [
        "# Answer: \n",
        "\n",
        "movies.content_rating.value_counts().plot(kind='bar')\n",
        "plt.xlabel('Top movies by content rating');\n",
        "plt.ylabel(\"No. of movies\");\n",
        "plt.title(\"Movies content rating\");\n",
        "\n",
        "\n",
        "#temp = dataframe[column].value_counts()\n",
        "#ax =temp.plot(kind='bar',title ='something')\n",
        "##ax.set_xlabel('something')\n",
        "#ax.set_ylabel('something')"
      ],
      "execution_count": 0,
      "outputs": [
        {
          "output_type": "display_data",
          "data": {
            "image/png": "[encoded data removed]",
            "text/plain": [
              "<Figure size 432x288 with 1 Axes>"
            ]
          },
          "metadata": {
            "tags": []
          }
        }
      ]
    },
    {
      "cell_type": "markdown",
      "metadata": {
        "id": "1x8vQD_QYir4",
        "colab_type": "text"
      },
      "source": [
        "#### Convert the following content ratings to \"UNRATED\": NOT RATED, APPROVED, PASSED, GP."
      ]
    },
    {
      "cell_type": "code",
      "metadata": {
        "id": "j5HkOPsLYir5",
        "colab_type": "code",
        "outputId": "79831440-8fee-4ecb-dbcb-3c5c2ececdc1",
        "colab": {
          "base_uri": "https://localhost:8080/",
          "height": 247
        }
      },
      "source": [
        "# Answer:\n",
        "\n",
        "movies['content_rating'] = movies['content_rating'].replace({'NOT RATED': 'UNRATED','APPROVED':'UNRATED','PASSED':'UNRATED','GP':'UNRATED' }) \n",
        "movies.content_rating.value_counts()  "
      ],
      "execution_count": 0,
      "outputs": [
        {
          "output_type": "execute_result",
          "data": {
            "text/plain": [
              "R            460\n",
              "PG-13        189\n",
              "PG           123\n",
              "NOT RATED     65\n",
              "APPROVED      47\n",
              "UNRATED       38\n",
              "G             32\n",
              "NC-17          7\n",
              "PASSED         7\n",
              "X              4\n",
              "GP             3\n",
              "TV-MA          1\n",
              "Name: content_rating, dtype: int64"
            ]
          },
          "metadata": {
            "tags": []
          },
          "execution_count": 11
        }
      ]
    },
    {
      "cell_type": "markdown",
      "metadata": {
        "id": "kFCIiwbAYir-",
        "colab_type": "text"
      },
      "source": [
        "#### Convert the following content ratings to \"NC-17\": X, TV-MA."
      ]
    },
    {
      "cell_type": "code",
      "metadata": {
        "id": "nI7W0y6nYisA",
        "colab_type": "code",
        "outputId": "7ac308e5-9dea-4779-8da1-ebbcfb5e7b04",
        "colab": {
          "base_uri": "https://localhost:8080/",
          "height": 141
        }
      },
      "source": [
        "# Answer:\n",
        "\n",
        "movies['content_rating'] = movies['content_rating'].replace({'X':'NC-17','TV-MA':'NC-17'})\n",
        "\n",
        "movies.content_rating.value_counts()\n",
        "\n"
      ],
      "execution_count": 0,
      "outputs": [
        {
          "output_type": "execute_result",
          "data": {
            "text/plain": [
              "R          460\n",
              "PG-13      189\n",
              "UNRATED    160\n",
              "PG         123\n",
              "G           32\n",
              "NC-17       12\n",
              "Name: content_rating, dtype: int64"
            ]
          },
          "metadata": {
            "tags": []
          },
          "execution_count": 18
        }
      ]
    },
    {
      "cell_type": "markdown",
      "metadata": {
        "id": "aGDFNU7OYisF",
        "colab_type": "text"
      },
      "source": [
        "#### Count the number of missing values in each column."
      ]
    },
    {
      "cell_type": "code",
      "metadata": {
        "id": "Kzid35PcYisH",
        "colab_type": "code",
        "outputId": "fce73e3d-2404-41b4-a252-43b184750b52",
        "colab": {
          "base_uri": "https://localhost:8080/",
          "height": 141
        }
      },
      "source": [
        "# Answer:\n",
        "\n",
        "movies.isnull().sum()"
      ],
      "execution_count": 0,
      "outputs": [
        {
          "output_type": "execute_result",
          "data": {
            "text/plain": [
              "star_rating       0\n",
              "title             0\n",
              "content_rating    3\n",
              "genre             0\n",
              "duration          0\n",
              "actors_list       0\n",
              "dtype: int64"
            ]
          },
          "metadata": {
            "tags": []
          },
          "execution_count": 19
        }
      ]
    },
    {
      "cell_type": "markdown",
      "metadata": {
        "id": "i0Q_A-2bYisV",
        "colab_type": "text"
      },
      "source": [
        "#### If there are missing values: examine them, then fill them in with \"reasonable\" values."
      ]
    },
    {
      "cell_type": "code",
      "metadata": {
        "id": "WH_fng5PYisX",
        "colab_type": "code",
        "outputId": "ce9262ea-c315-430d-d867-5d155b21dcec",
        "colab": {
          "base_uri": "https://localhost:8080/",
          "height": 141
        }
      },
      "source": [
        "# Answer:\n",
        "\n",
        "movies['content_rating'].fillna('reasonable', inplace=True)\n",
        "\n",
        "movies.isnull().sum()"
      ],
      "execution_count": 0,
      "outputs": [
        {
          "output_type": "execute_result",
          "data": {
            "text/plain": [
              "star_rating       0\n",
              "title             0\n",
              "content_rating    0\n",
              "genre             0\n",
              "duration          0\n",
              "actors_list       0\n",
              "dtype: int64"
            ]
          },
          "metadata": {
            "tags": []
          },
          "execution_count": 20
        }
      ]
    },
    {
      "cell_type": "markdown",
      "metadata": {
        "id": "eR4R_o7zYisd",
        "colab_type": "text"
      },
      "source": [
        "#### Calculate the average star rating for movies 2 hours or longer, and compare that with the average star rating for movies shorter than 2 hours."
      ]
    },
    {
      "cell_type": "code",
      "metadata": {
        "id": "_B-Q3YHKYisf",
        "colab_type": "code",
        "outputId": "e2253041-9540-46d4-8420-6aee29c3c246",
        "colab": {
          "base_uri": "https://localhost:8080/",
          "height": 52
        }
      },
      "source": [
        "# Answer:\n",
        "\n",
        "x = movies.loc[movies['duration'] >= 120, 'star_rating'].mean()\n",
        "\n",
        "y = movies.loc[movies['duration'] < 120, 'star_rating'].mean()\n",
        "\n",
        "print('''The  average star rating for movies shorter than 2 hours is {:.4f} and \n",
        "      average star rating for movies longer than 2 hours is  {:.4f}''' .format(y,x))"
      ],
      "execution_count": 0,
      "outputs": [
        {
          "output_type": "stream",
          "text": [
            "The  average star rating for movies shorter than 2 hours is 7.8387 and \n",
            "      average star rating for movies longer than 2 hours is  7.9489\n"
          ],
          "name": "stdout"
        }
      ]
    },
    {
      "cell_type": "markdown",
      "metadata": {
        "id": "ZUnHNptCYisj",
        "colab_type": "text"
      },
      "source": [
        "#### Use a visualization to detect whether there is a relationship between duration and star rating."
      ]
    },
    {
      "cell_type": "code",
      "metadata": {
        "id": "J9w7s0bdsZrt",
        "colab_type": "code",
        "outputId": "36589753-5682-4588-9440-7e33cb349c06",
        "colab": {
          "base_uri": "https://localhost:8080/",
          "height": 282
        }
      },
      "source": [
        "sns.heatmap(movies[['duration','star_rating']].corr())"
      ],
      "execution_count": 0,
      "outputs": [
        {
          "output_type": "execute_result",
          "data": {
            "text/plain": [
              "<matplotlib.axes._subplots.AxesSubplot at 0x7fd4d0ce90b8>"
            ]
          },
          "metadata": {
            "tags": []
          },
          "execution_count": 22
        },
        {
          "output_type": "display_data",
          "data": {
            "image/png": "[encoded data removed]",
            "text/plain": [
              "<Figure size 432x288 with 2 Axes>"
            ]
          },
          "metadata": {
            "tags": []
          }
        }
      ]
    },
    {
      "cell_type": "markdown",
      "metadata": {
        "id": "cnoiIGWmYisq",
        "colab_type": "text"
      },
      "source": [
        "#### Calculate the average duration for each genre."
      ]
    },
    {
      "cell_type": "code",
      "metadata": {
        "id": "qeZ7suYUYisr",
        "colab_type": "code",
        "outputId": "af4503c6-4006-4507-bf59-61ff963f5dda",
        "colab": {
          "base_uri": "https://localhost:8080/",
          "height": 527
        }
      },
      "source": [
        "# Answer:\n",
        "\n",
        "movies.groupby('genre', as_index=False)['duration'].mean() ## Without as_index=False, it returns a Series instead"
      ],
      "execution_count": 0,
      "outputs": [
        {
          "output_type": "execute_result",
          "data": {
            "text/html": [
              "<div>\n",
              "<style scoped>\n",
              "    .dataframe tbody tr th:only-of-type {\n",
              "        vertical-align: middle;\n",
              "    }\n",
              "\n",
              "    .dataframe tbody tr th {\n",
              "        vertical-align: top;\n",
              "    }\n",
              "\n",
              "    .dataframe thead th {\n",
              "        text-align: right;\n",
              "    }\n",
              "</style>\n",
              "<table border=\"1\" class=\"dataframe\">\n",
              "  <thead>\n",
              "    <tr style=\"text-align: right;\">\n",
              "      <th></th>\n",
              "      <th>genre</th>\n",
              "      <th>duration</th>\n",
              "    </tr>\n",
              "  </thead>\n",
              "  <tbody>\n",
              "    <tr>\n",
              "      <th>0</th>\n",
              "      <td>Action</td>\n",
              "      <td>126.485294</td>\n",
              "    </tr>\n",
              "    <tr>\n",
              "      <th>1</th>\n",
              "      <td>Adventure</td>\n",
              "      <td>134.840000</td>\n",
              "    </tr>\n",
              "    <tr>\n",
              "      <th>2</th>\n",
              "      <td>Animation</td>\n",
              "      <td>96.596774</td>\n",
              "    </tr>\n",
              "    <tr>\n",
              "      <th>3</th>\n",
              "      <td>Biography</td>\n",
              "      <td>131.844156</td>\n",
              "    </tr>\n",
              "    <tr>\n",
              "      <th>4</th>\n",
              "      <td>Comedy</td>\n",
              "      <td>107.602564</td>\n",
              "    </tr>\n",
              "    <tr>\n",
              "      <th>5</th>\n",
              "      <td>Crime</td>\n",
              "      <td>122.298387</td>\n",
              "    </tr>\n",
              "    <tr>\n",
              "      <th>6</th>\n",
              "      <td>Drama</td>\n",
              "      <td>126.539568</td>\n",
              "    </tr>\n",
              "    <tr>\n",
              "      <th>7</th>\n",
              "      <td>Family</td>\n",
              "      <td>107.500000</td>\n",
              "    </tr>\n",
              "    <tr>\n",
              "      <th>8</th>\n",
              "      <td>Fantasy</td>\n",
              "      <td>112.000000</td>\n",
              "    </tr>\n",
              "    <tr>\n",
              "      <th>9</th>\n",
              "      <td>Film-Noir</td>\n",
              "      <td>97.333333</td>\n",
              "    </tr>\n",
              "    <tr>\n",
              "      <th>10</th>\n",
              "      <td>History</td>\n",
              "      <td>66.000000</td>\n",
              "    </tr>\n",
              "    <tr>\n",
              "      <th>11</th>\n",
              "      <td>Horror</td>\n",
              "      <td>102.517241</td>\n",
              "    </tr>\n",
              "    <tr>\n",
              "      <th>12</th>\n",
              "      <td>Mystery</td>\n",
              "      <td>115.625000</td>\n",
              "    </tr>\n",
              "    <tr>\n",
              "      <th>13</th>\n",
              "      <td>Sci-Fi</td>\n",
              "      <td>109.000000</td>\n",
              "    </tr>\n",
              "    <tr>\n",
              "      <th>14</th>\n",
              "      <td>Thriller</td>\n",
              "      <td>114.200000</td>\n",
              "    </tr>\n",
              "    <tr>\n",
              "      <th>15</th>\n",
              "      <td>Western</td>\n",
              "      <td>136.666667</td>\n",
              "    </tr>\n",
              "  </tbody>\n",
              "</table>\n",
              "</div>"
            ],
            "text/plain": [
              "        genre    duration\n",
              "0      Action  126.485294\n",
              "1   Adventure  134.840000\n",
              "2   Animation   96.596774\n",
              "3   Biography  131.844156\n",
              "4      Comedy  107.602564\n",
              "5       Crime  122.298387\n",
              "6       Drama  126.539568\n",
              "7      Family  107.500000\n",
              "8     Fantasy  112.000000\n",
              "9   Film-Noir   97.333333\n",
              "10    History   66.000000\n",
              "11     Horror  102.517241\n",
              "12    Mystery  115.625000\n",
              "13     Sci-Fi  109.000000\n",
              "14   Thriller  114.200000\n",
              "15    Western  136.666667"
            ]
          },
          "metadata": {
            "tags": []
          },
          "execution_count": 23
        }
      ]
    },
    {
      "cell_type": "markdown",
      "metadata": {
        "id": "wiDs-fnxYisy",
        "colab_type": "text"
      },
      "source": [
        "## Part 3"
      ]
    },
    {
      "cell_type": "markdown",
      "metadata": {
        "id": "r0Y61PEdYis0",
        "colab_type": "text"
      },
      "source": [
        "#### Visualize the relationship between content rating and duration."
      ]
    },
    {
      "cell_type": "code",
      "metadata": {
        "id": "2R9BIjZm8E6t",
        "colab_type": "code",
        "outputId": "e9102c2a-de3c-499c-9562-998de0e1d30d",
        "colab": {
          "base_uri": "https://localhost:8080/",
          "height": 318
        }
      },
      "source": [
        "# Answer:\n",
        "movies.boxplot('duration','content_rating')"
      ],
      "execution_count": 0,
      "outputs": [
        {
          "output_type": "execute_result",
          "data": {
            "text/plain": [
              "<matplotlib.axes._subplots.AxesSubplot at 0x7fd4cfa378d0>"
            ]
          },
          "metadata": {
            "tags": []
          },
          "execution_count": 24
        },
        {
          "output_type": "display_data",
          "data": {
            "image/png": "[encoded data removed]",
            "text/plain": [
              "<Figure size 432x288 with 1 Axes>"
            ]
          },
          "metadata": {
            "tags": []
          }
        }
      ]
    },
    {
      "cell_type": "code",
      "metadata": {
        "id": "CK19qLKeYis3",
        "colab_type": "code",
        "outputId": "05d111c6-03f0-473b-8074-df34051be322",
        "colab": {
          "base_uri": "https://localhost:8080/",
          "height": 267
        }
      },
      "source": [
        "# Answer:\n",
        "\n",
        "movies.content_rating.value_counts()\n",
        "\n",
        "plt.scatter(movies['content_rating'],movies['duration'])\n",
        "plt.show()\n"
      ],
      "execution_count": 0,
      "outputs": [
        {
          "output_type": "display_data",
          "data": {
            "image/png": "[encoded data removed]",
            "text/plain": [
              "<Figure size 432x288 with 1 Axes>"
            ]
          },
          "metadata": {
            "tags": []
          }
        }
      ]
    },
    {
      "cell_type": "code",
      "metadata": {
        "id": "Y-yNE8Wn7nOS",
        "colab_type": "code",
        "colab": {}
      },
      "source": [
        "#sns.heatmap(movies[['content_rating','duration']].corr())\n"
      ],
      "execution_count": 0,
      "outputs": []
    },
    {
      "cell_type": "markdown",
      "metadata": {
        "id": "y6Y0Zhv2Yis_",
        "colab_type": "text"
      },
      "source": [
        "#### Determine the top rated movie (by star rating) for each genre."
      ]
    },
    {
      "cell_type": "code",
      "metadata": {
        "id": "CMddj3HWYitA",
        "colab_type": "code",
        "outputId": "233a880e-79a4-43d0-9475-bcb4d3818811",
        "colab": {
          "base_uri": "https://localhost:8080/",
          "height": 527
        }
      },
      "source": [
        "# Answer:\n",
        "\n",
        "dataframe_sorted = movies.sort_values(['star_rating'], ascending=False)\n",
        "data = dataframe_sorted.groupby('genre').head(1)\n",
        "data"
      ],
      "execution_count": 0,
      "outputs": [
        {
          "output_type": "execute_result",
          "data": {
            "text/html": [
              "<div>\n",
              "<style scoped>\n",
              "    .dataframe tbody tr th:only-of-type {\n",
              "        vertical-align: middle;\n",
              "    }\n",
              "\n",
              "    .dataframe tbody tr th {\n",
              "        vertical-align: top;\n",
              "    }\n",
              "\n",
              "    .dataframe thead th {\n",
              "        text-align: right;\n",
              "    }\n",
              "</style>\n",
              "<table border=\"1\" class=\"dataframe\">\n",
              "  <thead>\n",
              "    <tr style=\"text-align: right;\">\n",
              "      <th></th>\n",
              "      <th>star_rating</th>\n",
              "      <th>title</th>\n",
              "      <th>content_rating</th>\n",
              "      <th>genre</th>\n",
              "      <th>duration</th>\n",
              "      <th>actors_list</th>\n",
              "    </tr>\n",
              "  </thead>\n",
              "  <tbody>\n",
              "    <tr>\n",
              "      <th>0</th>\n",
              "      <td>9.3</td>\n",
              "      <td>The Shawshank Redemption</td>\n",
              "      <td>R</td>\n",
              "      <td>Crime</td>\n",
              "      <td>142</td>\n",
              "      <td>[u'Tim Robbins', u'Morgan Freeman', u'Bob Gunt...</td>\n",
              "    </tr>\n",
              "    <tr>\n",
              "      <th>3</th>\n",
              "      <td>9.0</td>\n",
              "      <td>The Dark Knight</td>\n",
              "      <td>PG-13</td>\n",
              "      <td>Action</td>\n",
              "      <td>152</td>\n",
              "      <td>[u'Christian Bale', u'Heath Ledger', u'Aaron E...</td>\n",
              "    </tr>\n",
              "    <tr>\n",
              "      <th>5</th>\n",
              "      <td>8.9</td>\n",
              "      <td>12 Angry Men</td>\n",
              "      <td>UNRATED</td>\n",
              "      <td>Drama</td>\n",
              "      <td>96</td>\n",
              "      <td>[u'Henry Fonda', u'Lee J. Cobb', u'Martin Bals...</td>\n",
              "    </tr>\n",
              "    <tr>\n",
              "      <th>6</th>\n",
              "      <td>8.9</td>\n",
              "      <td>The Good, the Bad and the Ugly</td>\n",
              "      <td>UNRATED</td>\n",
              "      <td>Western</td>\n",
              "      <td>161</td>\n",
              "      <td>[u'Clint Eastwood', u'Eli Wallach', u'Lee Van ...</td>\n",
              "    </tr>\n",
              "    <tr>\n",
              "      <th>7</th>\n",
              "      <td>8.9</td>\n",
              "      <td>The Lord of the Rings: The Return of the King</td>\n",
              "      <td>PG-13</td>\n",
              "      <td>Adventure</td>\n",
              "      <td>201</td>\n",
              "      <td>[u'Elijah Wood', u'Viggo Mortensen', u'Ian McK...</td>\n",
              "    </tr>\n",
              "    <tr>\n",
              "      <th>8</th>\n",
              "      <td>8.9</td>\n",
              "      <td>Schindler's List</td>\n",
              "      <td>R</td>\n",
              "      <td>Biography</td>\n",
              "      <td>195</td>\n",
              "      <td>[u'Liam Neeson', u'Ralph Fiennes', u'Ben Kings...</td>\n",
              "    </tr>\n",
              "    <tr>\n",
              "      <th>39</th>\n",
              "      <td>8.6</td>\n",
              "      <td>Psycho</td>\n",
              "      <td>R</td>\n",
              "      <td>Horror</td>\n",
              "      <td>109</td>\n",
              "      <td>[u'Anthony Perkins', u'Janet Leigh', u'Vera Mi...</td>\n",
              "    </tr>\n",
              "    <tr>\n",
              "      <th>38</th>\n",
              "      <td>8.6</td>\n",
              "      <td>Rear Window</td>\n",
              "      <td>UNRATED</td>\n",
              "      <td>Mystery</td>\n",
              "      <td>112</td>\n",
              "      <td>[u'James Stewart', u'Grace Kelly', u'Wendell C...</td>\n",
              "    </tr>\n",
              "    <tr>\n",
              "      <th>35</th>\n",
              "      <td>8.6</td>\n",
              "      <td>Modern Times</td>\n",
              "      <td>G</td>\n",
              "      <td>Comedy</td>\n",
              "      <td>87</td>\n",
              "      <td>[u'Charles Chaplin', u'Paulette Goddard', u'He...</td>\n",
              "    </tr>\n",
              "    <tr>\n",
              "      <th>30</th>\n",
              "      <td>8.6</td>\n",
              "      <td>Spirited Away</td>\n",
              "      <td>PG</td>\n",
              "      <td>Animation</td>\n",
              "      <td>125</td>\n",
              "      <td>[u'Daveigh Chase', u'Suzanne Pleshette', u'Miy...</td>\n",
              "    </tr>\n",
              "    <tr>\n",
              "      <th>105</th>\n",
              "      <td>8.3</td>\n",
              "      <td>The Third Man</td>\n",
              "      <td>UNRATED</td>\n",
              "      <td>Film-Noir</td>\n",
              "      <td>93</td>\n",
              "      <td>[u'Orson Welles', u'Joseph Cotten', u'Alida Va...</td>\n",
              "    </tr>\n",
              "    <tr>\n",
              "      <th>145</th>\n",
              "      <td>8.2</td>\n",
              "      <td>Blade Runner</td>\n",
              "      <td>R</td>\n",
              "      <td>Sci-Fi</td>\n",
              "      <td>117</td>\n",
              "      <td>[u'Harrison Ford', u'Rutger Hauer', u'Sean You...</td>\n",
              "    </tr>\n",
              "    <tr>\n",
              "      <th>350</th>\n",
              "      <td>8.0</td>\n",
              "      <td>Shadow of a Doubt</td>\n",
              "      <td>UNRATED</td>\n",
              "      <td>Thriller</td>\n",
              "      <td>108</td>\n",
              "      <td>[u'Teresa Wright', u'Joseph Cotten', u'Macdona...</td>\n",
              "    </tr>\n",
              "    <tr>\n",
              "      <th>338</th>\n",
              "      <td>8.0</td>\n",
              "      <td>Battleship Potemkin</td>\n",
              "      <td>UNRATED</td>\n",
              "      <td>History</td>\n",
              "      <td>66</td>\n",
              "      <td>[u'Aleksandr Antonov', u'Vladimir Barsky', u'G...</td>\n",
              "    </tr>\n",
              "    <tr>\n",
              "      <th>468</th>\n",
              "      <td>7.9</td>\n",
              "      <td>E.T. the Extra-Terrestrial</td>\n",
              "      <td>PG</td>\n",
              "      <td>Family</td>\n",
              "      <td>115</td>\n",
              "      <td>[u'Henry Thomas', u'Drew Barrymore', u'Peter C...</td>\n",
              "    </tr>\n",
              "    <tr>\n",
              "      <th>638</th>\n",
              "      <td>7.7</td>\n",
              "      <td>The City of Lost Children</td>\n",
              "      <td>R</td>\n",
              "      <td>Fantasy</td>\n",
              "      <td>112</td>\n",
              "      <td>[u'Ron Perlman', u'Daniel Emilfork', u'Judith ...</td>\n",
              "    </tr>\n",
              "  </tbody>\n",
              "</table>\n",
              "</div>"
            ],
            "text/plain": [
              "     star_rating                                          title  \\\n",
              "0            9.3                       The Shawshank Redemption   \n",
              "3            9.0                                The Dark Knight   \n",
              "5            8.9                                   12 Angry Men   \n",
              "6            8.9                 The Good, the Bad and the Ugly   \n",
              "7            8.9  The Lord of the Rings: The Return of the King   \n",
              "8            8.9                               Schindler's List   \n",
              "39           8.6                                         Psycho   \n",
              "38           8.6                                    Rear Window   \n",
              "35           8.6                                   Modern Times   \n",
              "30           8.6                                  Spirited Away   \n",
              "105          8.3                                  The Third Man   \n",
              "145          8.2                                   Blade Runner   \n",
              "350          8.0                              Shadow of a Doubt   \n",
              "338          8.0                            Battleship Potemkin   \n",
              "468          7.9                     E.T. the Extra-Terrestrial   \n",
              "638          7.7                      The City of Lost Children   \n",
              "\n",
              "    content_rating      genre  duration  \\\n",
              "0                R      Crime       142   \n",
              "3            PG-13     Action       152   \n",
              "5          UNRATED      Drama        96   \n",
              "6          UNRATED    Western       161   \n",
              "7            PG-13  Adventure       201   \n",
              "8                R  Biography       195   \n",
              "39               R     Horror       109   \n",
              "38         UNRATED    Mystery       112   \n",
              "35               G     Comedy        87   \n",
              "30              PG  Animation       125   \n",
              "105        UNRATED  Film-Noir        93   \n",
              "145              R     Sci-Fi       117   \n",
              "350        UNRATED   Thriller       108   \n",
              "338        UNRATED    History        66   \n",
              "468             PG     Family       115   \n",
              "638              R    Fantasy       112   \n",
              "\n",
              "                                           actors_list  \n",
              "0    [u'Tim Robbins', u'Morgan Freeman', u'Bob Gunt...  \n",
              "3    [u'Christian Bale', u'Heath Ledger', u'Aaron E...  \n",
              "5    [u'Henry Fonda', u'Lee J. Cobb', u'Martin Bals...  \n",
              "6    [u'Clint Eastwood', u'Eli Wallach', u'Lee Van ...  \n",
              "7    [u'Elijah Wood', u'Viggo Mortensen', u'Ian McK...  \n",
              "8    [u'Liam Neeson', u'Ralph Fiennes', u'Ben Kings...  \n",
              "39   [u'Anthony Perkins', u'Janet Leigh', u'Vera Mi...  \n",
              "38   [u'James Stewart', u'Grace Kelly', u'Wendell C...  \n",
              "35   [u'Charles Chaplin', u'Paulette Goddard', u'He...  \n",
              "30   [u'Daveigh Chase', u'Suzanne Pleshette', u'Miy...  \n",
              "105  [u'Orson Welles', u'Joseph Cotten', u'Alida Va...  \n",
              "145  [u'Harrison Ford', u'Rutger Hauer', u'Sean You...  \n",
              "350  [u'Teresa Wright', u'Joseph Cotten', u'Macdona...  \n",
              "338  [u'Aleksandr Antonov', u'Vladimir Barsky', u'G...  \n",
              "468  [u'Henry Thomas', u'Drew Barrymore', u'Peter C...  \n",
              "638  [u'Ron Perlman', u'Daniel Emilfork', u'Judith ...  "
            ]
          },
          "metadata": {
            "tags": []
          },
          "execution_count": 26
        }
      ]
    },
    {
      "cell_type": "code",
      "metadata": {
        "id": "hggJ0EvFwcpB",
        "colab_type": "code",
        "outputId": "c69d1014-486a-4998-e2e6-91ced4fd07c8",
        "colab": {
          "base_uri": "https://localhost:8080/",
          "height": 557
        }
      },
      "source": [
        "movies.groupby('genre')['title','star_rating'].first()"
      ],
      "execution_count": 0,
      "outputs": [
        {
          "output_type": "execute_result",
          "data": {
            "text/html": [
              "<div>\n",
              "<style scoped>\n",
              "    .dataframe tbody tr th:only-of-type {\n",
              "        vertical-align: middle;\n",
              "    }\n",
              "\n",
              "    .dataframe tbody tr th {\n",
              "        vertical-align: top;\n",
              "    }\n",
              "\n",
              "    .dataframe thead th {\n",
              "        text-align: right;\n",
              "    }\n",
              "</style>\n",
              "<table border=\"1\" class=\"dataframe\">\n",
              "  <thead>\n",
              "    <tr style=\"text-align: right;\">\n",
              "      <th></th>\n",
              "      <th>title</th>\n",
              "      <th>star_rating</th>\n",
              "    </tr>\n",
              "    <tr>\n",
              "      <th>genre</th>\n",
              "      <th></th>\n",
              "      <th></th>\n",
              "    </tr>\n",
              "  </thead>\n",
              "  <tbody>\n",
              "    <tr>\n",
              "      <th>Action</th>\n",
              "      <td>The Dark Knight</td>\n",
              "      <td>9.0</td>\n",
              "    </tr>\n",
              "    <tr>\n",
              "      <th>Adventure</th>\n",
              "      <td>The Lord of the Rings: The Return of the King</td>\n",
              "      <td>8.9</td>\n",
              "    </tr>\n",
              "    <tr>\n",
              "      <th>Animation</th>\n",
              "      <td>Spirited Away</td>\n",
              "      <td>8.6</td>\n",
              "    </tr>\n",
              "    <tr>\n",
              "      <th>Biography</th>\n",
              "      <td>Schindler's List</td>\n",
              "      <td>8.9</td>\n",
              "    </tr>\n",
              "    <tr>\n",
              "      <th>Comedy</th>\n",
              "      <td>Life Is Beautiful</td>\n",
              "      <td>8.6</td>\n",
              "    </tr>\n",
              "    <tr>\n",
              "      <th>Crime</th>\n",
              "      <td>The Shawshank Redemption</td>\n",
              "      <td>9.3</td>\n",
              "    </tr>\n",
              "    <tr>\n",
              "      <th>Drama</th>\n",
              "      <td>12 Angry Men</td>\n",
              "      <td>8.9</td>\n",
              "    </tr>\n",
              "    <tr>\n",
              "      <th>Family</th>\n",
              "      <td>E.T. the Extra-Terrestrial</td>\n",
              "      <td>7.9</td>\n",
              "    </tr>\n",
              "    <tr>\n",
              "      <th>Fantasy</th>\n",
              "      <td>The City of Lost Children</td>\n",
              "      <td>7.7</td>\n",
              "    </tr>\n",
              "    <tr>\n",
              "      <th>Film-Noir</th>\n",
              "      <td>The Third Man</td>\n",
              "      <td>8.3</td>\n",
              "    </tr>\n",
              "    <tr>\n",
              "      <th>History</th>\n",
              "      <td>Battleship Potemkin</td>\n",
              "      <td>8.0</td>\n",
              "    </tr>\n",
              "    <tr>\n",
              "      <th>Horror</th>\n",
              "      <td>Psycho</td>\n",
              "      <td>8.6</td>\n",
              "    </tr>\n",
              "    <tr>\n",
              "      <th>Mystery</th>\n",
              "      <td>Rear Window</td>\n",
              "      <td>8.6</td>\n",
              "    </tr>\n",
              "    <tr>\n",
              "      <th>Sci-Fi</th>\n",
              "      <td>Blade Runner</td>\n",
              "      <td>8.2</td>\n",
              "    </tr>\n",
              "    <tr>\n",
              "      <th>Thriller</th>\n",
              "      <td>Shadow of a Doubt</td>\n",
              "      <td>8.0</td>\n",
              "    </tr>\n",
              "    <tr>\n",
              "      <th>Western</th>\n",
              "      <td>The Good, the Bad and the Ugly</td>\n",
              "      <td>8.9</td>\n",
              "    </tr>\n",
              "  </tbody>\n",
              "</table>\n",
              "</div>"
            ],
            "text/plain": [
              "                                                   title  star_rating\n",
              "genre                                                                \n",
              "Action                                   The Dark Knight          9.0\n",
              "Adventure  The Lord of the Rings: The Return of the King          8.9\n",
              "Animation                                  Spirited Away          8.6\n",
              "Biography                               Schindler's List          8.9\n",
              "Comedy                                 Life Is Beautiful          8.6\n",
              "Crime                           The Shawshank Redemption          9.3\n",
              "Drama                                       12 Angry Men          8.9\n",
              "Family                        E.T. the Extra-Terrestrial          7.9\n",
              "Fantasy                        The City of Lost Children          7.7\n",
              "Film-Noir                                  The Third Man          8.3\n",
              "History                              Battleship Potemkin          8.0\n",
              "Horror                                            Psycho          8.6\n",
              "Mystery                                      Rear Window          8.6\n",
              "Sci-Fi                                      Blade Runner          8.2\n",
              "Thriller                               Shadow of a Doubt          8.0\n",
              "Western                   The Good, the Bad and the Ugly          8.9"
            ]
          },
          "metadata": {
            "tags": []
          },
          "execution_count": 27
        }
      ]
    },
    {
      "cell_type": "markdown",
      "metadata": {
        "id": "FBbofnNuYitE",
        "colab_type": "text"
      },
      "source": [
        "#### Check if there are multiple movies with the same title, and if so, determine if they are actually duplicates."
      ]
    },
    {
      "cell_type": "code",
      "metadata": {
        "id": "jz92U13EYitF",
        "colab_type": "code",
        "outputId": "977174d7-66f7-453e-a3ae-c8a58a90acb7",
        "colab": {
          "base_uri": "https://localhost:8080/",
          "height": 287
        }
      },
      "source": [
        "# Answer:\n",
        "\n",
        "#movies.title.value_counts()  ## Gives count of duplicates\n",
        "\n",
        "movies[movies.duplicated(['title'], keep=False)]"
      ],
      "execution_count": 0,
      "outputs": [
        {
          "output_type": "execute_result",
          "data": {
            "text/html": [
              "<div>\n",
              "<style scoped>\n",
              "    .dataframe tbody tr th:only-of-type {\n",
              "        vertical-align: middle;\n",
              "    }\n",
              "\n",
              "    .dataframe tbody tr th {\n",
              "        vertical-align: top;\n",
              "    }\n",
              "\n",
              "    .dataframe thead th {\n",
              "        text-align: right;\n",
              "    }\n",
              "</style>\n",
              "<table border=\"1\" class=\"dataframe\">\n",
              "  <thead>\n",
              "    <tr style=\"text-align: right;\">\n",
              "      <th></th>\n",
              "      <th>star_rating</th>\n",
              "      <th>title</th>\n",
              "      <th>content_rating</th>\n",
              "      <th>genre</th>\n",
              "      <th>duration</th>\n",
              "      <th>actors_list</th>\n",
              "    </tr>\n",
              "  </thead>\n",
              "  <tbody>\n",
              "    <tr>\n",
              "      <th>466</th>\n",
              "      <td>7.9</td>\n",
              "      <td>The Girl with the Dragon Tattoo</td>\n",
              "      <td>R</td>\n",
              "      <td>Crime</td>\n",
              "      <td>158</td>\n",
              "      <td>[u'Daniel Craig', u'Rooney Mara', u'Christophe...</td>\n",
              "    </tr>\n",
              "    <tr>\n",
              "      <th>482</th>\n",
              "      <td>7.8</td>\n",
              "      <td>The Girl with the Dragon Tattoo</td>\n",
              "      <td>R</td>\n",
              "      <td>Crime</td>\n",
              "      <td>152</td>\n",
              "      <td>[u'Michael Nyqvist', u'Noomi Rapace', u'Ewa Fr...</td>\n",
              "    </tr>\n",
              "    <tr>\n",
              "      <th>662</th>\n",
              "      <td>7.7</td>\n",
              "      <td>True Grit</td>\n",
              "      <td>PG-13</td>\n",
              "      <td>Adventure</td>\n",
              "      <td>110</td>\n",
              "      <td>[u'Jeff Bridges', u'Matt Damon', u'Hailee Stei...</td>\n",
              "    </tr>\n",
              "    <tr>\n",
              "      <th>678</th>\n",
              "      <td>7.7</td>\n",
              "      <td>Les Miserables</td>\n",
              "      <td>PG-13</td>\n",
              "      <td>Drama</td>\n",
              "      <td>158</td>\n",
              "      <td>[u'Hugh Jackman', u'Russell Crowe', u'Anne Hat...</td>\n",
              "    </tr>\n",
              "    <tr>\n",
              "      <th>703</th>\n",
              "      <td>7.6</td>\n",
              "      <td>Dracula</td>\n",
              "      <td>UNRATED</td>\n",
              "      <td>Horror</td>\n",
              "      <td>85</td>\n",
              "      <td>[u'Bela Lugosi', u'Helen Chandler', u'David Ma...</td>\n",
              "    </tr>\n",
              "    <tr>\n",
              "      <th>905</th>\n",
              "      <td>7.5</td>\n",
              "      <td>Dracula</td>\n",
              "      <td>R</td>\n",
              "      <td>Horror</td>\n",
              "      <td>128</td>\n",
              "      <td>[u'Gary Oldman', u'Winona Ryder', u'Anthony Ho...</td>\n",
              "    </tr>\n",
              "    <tr>\n",
              "      <th>924</th>\n",
              "      <td>7.5</td>\n",
              "      <td>Les Miserables</td>\n",
              "      <td>PG-13</td>\n",
              "      <td>Crime</td>\n",
              "      <td>134</td>\n",
              "      <td>[u'Liam Neeson', u'Geoffrey Rush', u'Uma Thurm...</td>\n",
              "    </tr>\n",
              "    <tr>\n",
              "      <th>936</th>\n",
              "      <td>7.4</td>\n",
              "      <td>True Grit</td>\n",
              "      <td>reasonable</td>\n",
              "      <td>Adventure</td>\n",
              "      <td>128</td>\n",
              "      <td>[u'John Wayne', u'Kim Darby', u'Glen Campbell']</td>\n",
              "    </tr>\n",
              "  </tbody>\n",
              "</table>\n",
              "</div>"
            ],
            "text/plain": [
              "     star_rating                            title content_rating      genre  \\\n",
              "466          7.9  The Girl with the Dragon Tattoo              R      Crime   \n",
              "482          7.8  The Girl with the Dragon Tattoo              R      Crime   \n",
              "662          7.7                        True Grit          PG-13  Adventure   \n",
              "678          7.7                   Les Miserables          PG-13      Drama   \n",
              "703          7.6                          Dracula        UNRATED     Horror   \n",
              "905          7.5                          Dracula              R     Horror   \n",
              "924          7.5                   Les Miserables          PG-13      Crime   \n",
              "936          7.4                        True Grit     reasonable  Adventure   \n",
              "\n",
              "     duration                                        actors_list  \n",
              "466       158  [u'Daniel Craig', u'Rooney Mara', u'Christophe...  \n",
              "482       152  [u'Michael Nyqvist', u'Noomi Rapace', u'Ewa Fr...  \n",
              "662       110  [u'Jeff Bridges', u'Matt Damon', u'Hailee Stei...  \n",
              "678       158  [u'Hugh Jackman', u'Russell Crowe', u'Anne Hat...  \n",
              "703        85  [u'Bela Lugosi', u'Helen Chandler', u'David Ma...  \n",
              "905       128  [u'Gary Oldman', u'Winona Ryder', u'Anthony Ho...  \n",
              "924       134  [u'Liam Neeson', u'Geoffrey Rush', u'Uma Thurm...  \n",
              "936       128    [u'John Wayne', u'Kim Darby', u'Glen Campbell']  "
            ]
          },
          "metadata": {
            "tags": []
          },
          "execution_count": 28
        }
      ]
    },
    {
      "cell_type": "code",
      "metadata": {
        "id": "wLWlSjv0-vgU",
        "colab_type": "code",
        "outputId": "31813262-43fa-42d2-c1ca-cbfc9577c0b3",
        "colab": {
          "base_uri": "https://localhost:8080/",
          "height": 167
        }
      },
      "source": [
        "movies[movies['title'].duplicated() == True] ## Shows what are actual duplicates\n"
      ],
      "execution_count": 0,
      "outputs": [
        {
          "output_type": "execute_result",
          "data": {
            "text/html": [
              "<div>\n",
              "<style scoped>\n",
              "    .dataframe tbody tr th:only-of-type {\n",
              "        vertical-align: middle;\n",
              "    }\n",
              "\n",
              "    .dataframe tbody tr th {\n",
              "        vertical-align: top;\n",
              "    }\n",
              "\n",
              "    .dataframe thead th {\n",
              "        text-align: right;\n",
              "    }\n",
              "</style>\n",
              "<table border=\"1\" class=\"dataframe\">\n",
              "  <thead>\n",
              "    <tr style=\"text-align: right;\">\n",
              "      <th></th>\n",
              "      <th>star_rating</th>\n",
              "      <th>title</th>\n",
              "      <th>content_rating</th>\n",
              "      <th>genre</th>\n",
              "      <th>duration</th>\n",
              "      <th>actors_list</th>\n",
              "    </tr>\n",
              "  </thead>\n",
              "  <tbody>\n",
              "    <tr>\n",
              "      <th>482</th>\n",
              "      <td>7.8</td>\n",
              "      <td>The Girl with the Dragon Tattoo</td>\n",
              "      <td>R</td>\n",
              "      <td>Crime</td>\n",
              "      <td>152</td>\n",
              "      <td>[u'Michael Nyqvist', u'Noomi Rapace', u'Ewa Fr...</td>\n",
              "    </tr>\n",
              "    <tr>\n",
              "      <th>905</th>\n",
              "      <td>7.5</td>\n",
              "      <td>Dracula</td>\n",
              "      <td>R</td>\n",
              "      <td>Horror</td>\n",
              "      <td>128</td>\n",
              "      <td>[u'Gary Oldman', u'Winona Ryder', u'Anthony Ho...</td>\n",
              "    </tr>\n",
              "    <tr>\n",
              "      <th>924</th>\n",
              "      <td>7.5</td>\n",
              "      <td>Les Miserables</td>\n",
              "      <td>PG-13</td>\n",
              "      <td>Crime</td>\n",
              "      <td>134</td>\n",
              "      <td>[u'Liam Neeson', u'Geoffrey Rush', u'Uma Thurm...</td>\n",
              "    </tr>\n",
              "    <tr>\n",
              "      <th>936</th>\n",
              "      <td>7.4</td>\n",
              "      <td>True Grit</td>\n",
              "      <td>reasonable</td>\n",
              "      <td>Adventure</td>\n",
              "      <td>128</td>\n",
              "      <td>[u'John Wayne', u'Kim Darby', u'Glen Campbell']</td>\n",
              "    </tr>\n",
              "  </tbody>\n",
              "</table>\n",
              "</div>"
            ],
            "text/plain": [
              "     star_rating                            title content_rating      genre  \\\n",
              "482          7.8  The Girl with the Dragon Tattoo              R      Crime   \n",
              "905          7.5                          Dracula              R     Horror   \n",
              "924          7.5                   Les Miserables          PG-13      Crime   \n",
              "936          7.4                        True Grit     reasonable  Adventure   \n",
              "\n",
              "     duration                                        actors_list  \n",
              "482       152  [u'Michael Nyqvist', u'Noomi Rapace', u'Ewa Fr...  \n",
              "905       128  [u'Gary Oldman', u'Winona Ryder', u'Anthony Ho...  \n",
              "924       134  [u'Liam Neeson', u'Geoffrey Rush', u'Uma Thurm...  \n",
              "936       128    [u'John Wayne', u'Kim Darby', u'Glen Campbell']  "
            ]
          },
          "metadata": {
            "tags": []
          },
          "execution_count": 29
        }
      ]
    },
    {
      "cell_type": "markdown",
      "metadata": {
        "id": "-kAtf7-9YitJ",
        "colab_type": "text"
      },
      "source": [
        "#### Calculate the average star rating for each genre, but only include genres with at least 10 movies\n"
      ]
    },
    {
      "cell_type": "markdown",
      "metadata": {
        "id": "mKnozXvsYitK",
        "colab_type": "text"
      },
      "source": [
        "#### Option 1: manually create a list of relevant genres, then filter using that list"
      ]
    },
    {
      "cell_type": "code",
      "metadata": {
        "id": "XxmqcBFRYitL",
        "colab_type": "code",
        "outputId": "c0a7f43e-27d7-4bf9-ecb9-62acd56fe3c7",
        "colab": {
          "base_uri": "https://localhost:8080/",
          "height": 212
        }
      },
      "source": [
        "# Answer:\n",
        "\n",
        "movie_type = ['Animation','Horror','Mystery','Drama','Comedy','Action','Crime','Biography','Adventure']\n",
        "movies[movies.genre.isin(movie_type)].groupby('genre')['star_rating'].mean()"
      ],
      "execution_count": 0,
      "outputs": [
        {
          "output_type": "execute_result",
          "data": {
            "text/plain": [
              "genre\n",
              "Action       7.884559\n",
              "Adventure    7.933333\n",
              "Animation    7.914516\n",
              "Biography    7.862338\n",
              "Comedy       7.822436\n",
              "Crime        7.916935\n",
              "Drama        7.902518\n",
              "Horror       7.806897\n",
              "Mystery      7.975000\n",
              "Name: star_rating, dtype: float64"
            ]
          },
          "metadata": {
            "tags": []
          },
          "execution_count": 30
        }
      ]
    },
    {
      "cell_type": "markdown",
      "metadata": {
        "id": "80SKmOflYitP",
        "colab_type": "text"
      },
      "source": [
        "#### Option 2: automatically create a list of relevant genres by saving the value_counts and then filtering"
      ]
    },
    {
      "cell_type": "code",
      "metadata": {
        "id": "Y-dgM5zKYitR",
        "colab_type": "code",
        "outputId": "018fd2dd-aa9a-484d-b289-eb13a82474f7",
        "colab": {
          "base_uri": "https://localhost:8080/",
          "height": 212
        }
      },
      "source": [
        "# Answer:\n",
        "\n",
        "\n",
        "movie_count = movies.genre.value_counts()\n",
        "movie_type_count=movies.genre.value_counts()[movie_count>=10].index\n",
        "movies[movies.genre.isin(movie_type_count)].groupby('genre')['star_rating'].mean()\n"
      ],
      "execution_count": 0,
      "outputs": [
        {
          "output_type": "execute_result",
          "data": {
            "text/plain": [
              "genre\n",
              "Action       7.884559\n",
              "Adventure    7.933333\n",
              "Animation    7.914516\n",
              "Biography    7.862338\n",
              "Comedy       7.822436\n",
              "Crime        7.916935\n",
              "Drama        7.902518\n",
              "Horror       7.806897\n",
              "Mystery      7.975000\n",
              "Name: star_rating, dtype: float64"
            ]
          },
          "metadata": {
            "tags": []
          },
          "execution_count": 31
        }
      ]
    },
    {
      "cell_type": "markdown",
      "metadata": {
        "id": "4eBYGJgmYitU",
        "colab_type": "text"
      },
      "source": [
        "#### Option 3: calculate the average star rating for all genres, then filter using a boolean Series"
      ]
    },
    {
      "cell_type": "code",
      "metadata": {
        "id": "M0WjHr28YitW",
        "colab_type": "code",
        "outputId": "ab9e2eb3-facc-4e6d-cbe7-659032eaedcd",
        "colab": {
          "base_uri": "https://localhost:8080/",
          "height": 212
        }
      },
      "source": [
        "# Answer:\n",
        "movie_count = movies.genre.value_counts()\n",
        "movie_count = (movie_count >=10)\n",
        "movieMeans = movies.groupby('genre').star_rating.mean()\n",
        "movieMeans[movie_count]\n",
        "\n"
      ],
      "execution_count": 0,
      "outputs": [
        {
          "output_type": "execute_result",
          "data": {
            "text/plain": [
              "genre\n",
              "Action       7.884559\n",
              "Adventure    7.933333\n",
              "Animation    7.914516\n",
              "Biography    7.862338\n",
              "Comedy       7.822436\n",
              "Crime        7.916935\n",
              "Drama        7.902518\n",
              "Horror       7.806897\n",
              "Mystery      7.975000\n",
              "Name: star_rating, dtype: float64"
            ]
          },
          "metadata": {
            "tags": []
          },
          "execution_count": 198
        }
      ]
    },
    {
      "cell_type": "markdown",
      "metadata": {
        "id": "Gs0i-u13YitZ",
        "colab_type": "text"
      },
      "source": [
        "#### Option 4: aggregate by count and mean, then filter using the count"
      ]
    },
    {
      "cell_type": "code",
      "metadata": {
        "id": "Xo_pVaBlYitb",
        "colab_type": "code",
        "outputId": "2824f003-96e8-4820-c1bb-09a705cc3a1c",
        "colab": {
          "base_uri": "https://localhost:8080/",
          "height": 212
        }
      },
      "source": [
        "# Answer:\n",
        "movies.groupby('genre')['star_rating'].mean()[movies['genre'].value_counts()>=10]"
      ],
      "execution_count": 0,
      "outputs": [
        {
          "output_type": "execute_result",
          "data": {
            "text/plain": [
              "genre\n",
              "Action       7.884559\n",
              "Adventure    7.933333\n",
              "Animation    7.914516\n",
              "Biography    7.862338\n",
              "Comedy       7.822436\n",
              "Crime        7.916935\n",
              "Drama        7.902518\n",
              "Horror       7.806897\n",
              "Mystery      7.975000\n",
              "Name: star_rating, dtype: float64"
            ]
          },
          "metadata": {
            "tags": []
          },
          "execution_count": 199
        }
      ]
    },
    {
      "cell_type": "markdown",
      "metadata": {
        "id": "r4sm_BuHYitf",
        "colab_type": "text"
      },
      "source": [
        "## Bonus"
      ]
    },
    {
      "cell_type": "markdown",
      "metadata": {
        "id": "HzWm7dMCYitg",
        "colab_type": "text"
      },
      "source": [
        "#### Figure out something \"interesting\" using the actors data!"
      ]
    },
    {
      "cell_type": "code",
      "metadata": {
        "id": "9k6nvvHRYith",
        "colab_type": "code",
        "colab": {}
      },
      "source": [
        "def repp(string):\n",
        "    return string.replace([\"[\",\"]\",\"u'\"],\"\")[:-1]\n",
        "    \n",
        "movies_series = movies['actors_list'].apply(repp)\n",
        "\n",
        "actors_list = []\n",
        "for movie_actors in movies_series:\n",
        "    actors_list.append([e.strip() for e in movie_actors.split(',')])\n",
        "    \n",
        "actor_dict = {}\n",
        "for actor in actors_list:\n",
        "    for a in actor:\n",
        "        if a in actor_dict:\n",
        "            actor_dict[a] +=1\n",
        "        else:\n",
        "            actor_dict[a] = 1\n",
        "\n",
        "\n",
        "sorted_by_value = sorted(actor_dict.items(), key=lambda kv: kv[1],reverse=True)\n",
        "sorted_by_value"
      ],
      "execution_count": 0,
      "outputs": []
    },
    {
      "cell_type": "markdown",
      "metadata": {
        "id": "QQGQd6gdFQdD",
        "colab_type": "text"
      },
      "source": [
        "Which actors acted mostly in the movies\n",
        "\n",
        "\n"
      ]
    },
    {
      "cell_type": "code",
      "metadata": {
        "id": "5J4LoVmMEL7a",
        "colab_type": "code",
        "outputId": "398ab934-3db1-4e17-f801-15ec1f91fd42",
        "colab": {
          "base_uri": "https://localhost:8080/",
          "height": 268
        }
      },
      "source": [
        "   import matplotlib.pyplot as plt\n",
        "tpDict=dict(sorted_by_value)\n",
        "from PIL import Image\n",
        "from wordcloud import WordCloud\n",
        "wc=WordCloud(background_color=\"white\",width=1000,height=1000,relative_scaling=0.5,normalize_plurals=False).generate_from_frequencies(tpDict)\n",
        "plt.imshow(wc)\n",
        "plt.show()"
      ],
      "execution_count": 0,
      "outputs": [
        {
          "output_type": "display_data",
          "data": {
            "image/png": "[encoded data removed]",
            "text/plain": [
              "<Figure size 432x288 with 1 Axes>"
            ]
          },
          "metadata": {
            "tags": []
          }
        }
      ]
    },
    {
      "cell_type": "markdown",
      "metadata": {
        "id": "JpyDExmQFj-f",
        "colab_type": "text"
      },
      "source": [
        "Top 20 Actors based on frequency"
      ]
    },
    {
      "cell_type": "code",
      "metadata": {
        "id": "oMYFZR7AEkOR",
        "colab_type": "code",
        "outputId": "92442bd3-1882-410c-f0ef-461c024edf07",
        "colab": {
          "base_uri": "https://localhost:8080/",
          "height": 372
        }
      },
      "source": [
        "from itertools import islice\n",
        "\n",
        "k=dict(sorted_by_value)\n",
        "top20 = list(islice(k.items(),20))\n",
        "for x in top20:\n",
        "    print(x[0],x[1])"
      ],
      "execution_count": 0,
      "outputs": [
        {
          "output_type": "stream",
          "text": [
            "Robert De Niro 18\n",
            "Clint Eastwood 14\n",
            "Brad Pitt 14\n",
            "Tom Hanks 14\n",
            "Al Pacino 13\n",
            "Johnny Depp 12\n",
            "Christian Bale 11\n",
            "Leonardo DiCaprio 11\n",
            "Dustin Hoffman 11\n",
            "Harrison Ford 10\n",
            "James Stewart 10\n",
            "Julianne Moore 10\n",
            "Denzel Washington 10\n",
            "Jack Nicholson 9\n",
            "Russell Crowe 9\n",
            "Sean Connery 9\n",
            "Ed Harris 9\n",
            "Ethan Hawke 9\n",
            "Morgan Freeman 8\n",
            "Ian McKellen 8\n"
          ],
          "name": "stdout"
        }
      ]
    },
    {
      "cell_type": "markdown",
      "metadata": {
        "id": "wCD2N8liF9aB",
        "colab_type": "text"
      },
      "source": [
        "Wordcloud for High frequency actors(Top 20)"
      ]
    },
    {
      "cell_type": "code",
      "metadata": {
        "id": "YAZQAb0TExqX",
        "colab_type": "code",
        "outputId": "2e8677a2-d93e-4ee4-8b77-d453ef543ed1",
        "colab": {
          "base_uri": "https://localhost:8080/",
          "height": 268
        }
      },
      "source": [
        "import matplotlib.pyplot as plt\n",
        "tpDict=dict(top20)\n",
        "from PIL import Image\n",
        "from wordcloud import WordCloud\n",
        "wc=WordCloud(background_color=\"white\",width=1000,height=1000,relative_scaling=0.5,normalize_plurals=False).generate_from_frequencies(tpDict)\n",
        "plt.imshow(wc)\n",
        "plt.show()"
      ],
      "execution_count": 0,
      "outputs": [
        {
          "output_type": "display_data",
          "data": {
            "image/png": "[encoded data removed]",
            "text/plain": [
              "<Figure size 432x288 with 1 Axes>"
            ]
          },
          "metadata": {
            "tags": []
          }
        }
      ]
    }
  ]
}