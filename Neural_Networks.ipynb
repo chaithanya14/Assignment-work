{
  "nbformat": 4,
  "nbformat_minor": 0,
  "metadata": {
    "colab": {
      "name": "Neural Networks.ipynb",
      "version": "0.3.2",
      "provenance": [],
      "collapsed_sections": []
    },
    "kernelspec": {
      "display_name": "Python 3",
      "language": "python",
      "name": "python3"
    }
  },
  "cells": [
    {
      "cell_type": "markdown",
      "metadata": {
        "id": "J-cKsCZ6axWv",
        "colab_type": "text"
      },
      "source": [
        "# HW #7 Neural Networks\n",
        "\n",
        "In this HW, we'll be exploring a visual proof of the universal approximation theorem and building (from scratch) a neural network that will approximate a pretty ridiculous function.\n",
        "\n",
        "Head over to [this site](http://neuralnetworksanddeeplearning.com/chap4.html) and read from the beginning of the page until the \"Many Input Variables\" section. (You do not need to read the \"Many Input Variables\" section and beyond but are certainly welcome to do so!) You'll read the introduction, the \"Two Caveats\" section, and the \"Universality with One Input and One Output\" section.\n",
        "\n",
        "Your answers to problems 1-5 should come from directly this reading."
      ]
    },
    {
      "cell_type": "markdown",
      "metadata": {
        "id": "uB_nGvAvaxW2",
        "colab_type": "text"
      },
      "source": [
        "**Problem 1**: Summarize the Universal Approximation Theorem. (Don't copy it; use your own words!)"
      ]
    },
    {
      "cell_type": "code",
      "metadata": {
        "id": "Msiu9YDmaxW3",
        "colab_type": "code",
        "colab": {}
      },
      "source": [
        "# The Universal Approximation theorem is having an algorithm ability in approximating any arbitary function in the universe.\n",
        "# Genrally, neural networks are known as Universal Approximators. So a neural network with single hidden layer with n-no.of neurons gains the ability in approximating any function.\n",
        "# In simple way universality means ability to do anything. Neural networks had powerful combination of both learning function and universality. The neural network architecture provides\n",
        "# these kind of feasibilities."
      ],
      "execution_count": 0,
      "outputs": []
    },
    {
      "cell_type": "markdown",
      "metadata": {
        "id": "ICxqzmDIaxW_",
        "colab_type": "text"
      },
      "source": [
        "**Problem 2**: Summarize the two caveats the author uses to describe the statement \"a neural network can compute any function.\""
      ]
    },
    {
      "cell_type": "code",
      "metadata": {
        "id": "fGMDKVOkaxXD",
        "colab_type": "code",
        "colab": {}
      },
      "source": [
        "# By having of sufficient hidden neurons in the hidden layer, neural networks can gain the ability in producing desired output with the desired accuracy.\n",
        "# Neural networks are majorty having of continuous function, even if there is discontinuous function the neural network continuous function can approximate that. "
      ],
      "execution_count": 0,
      "outputs": []
    },
    {
      "cell_type": "markdown",
      "metadata": {
        "id": "lx1kc_QEaxXJ",
        "colab_type": "text"
      },
      "source": [
        "**Problem 3:** For a sigmoidal activation function to closely resemble a step function, how would you describe the value of $w$? What constraints exist on the value of $b$? How do we calculate $s$? What does the value of $s$ indicate?\n",
        "\n",
        "Try playing around with the applets on [this site](http://neuralnetworksanddeeplearning.com/chap4.html) to test how different parts of the perceptron affect the output. This should be helpful in answering the questions above."
      ]
    },
    {
      "cell_type": "markdown",
      "metadata": {
        "id": "umPxYissnQrx",
        "colab_type": "text"
      },
      "source": [
        "**Answer**: \n",
        "  As the weights (w)  should be set to high value. If the bias (b) value keeps decreasing or incresing there is no change in the shape of the graph. by adjusting bias we can set up the starting position of step funtion.\n",
        "The \"S\" can be calclated as -(bias(b)/weights(w)). The value of S indicates the position of the step.\n"
      ]
    },
    {
      "cell_type": "markdown",
      "metadata": {
        "id": "XPyS6AeOaxXP",
        "colab_type": "text"
      },
      "source": [
        "**Problem 4**: When the author wants us to approximate $f(x)=0.2+0.4x^2+0.3x\\sin(15x)+0.05\\cos(50x)$ with a neural network, the function on the applet where we manipulate the values of $h_i$ is not $f(x)$. It's a different function. What is this function, and where on the feedforward Neural Network is can the vaule of this function be collected?"
      ]
    },
    {
      "cell_type": "markdown",
      "metadata": {
        "id": "y4MbbrNwsGhN",
        "colab_type": "text"
      },
      "source": [
        "** Answer **:  It is the actual function that the neural network is calculating. The function  corresponds over the weighted combination of the outputs from the hidden layers towards the output. The value of the function can be seen on the output layer. Since the outputs of all hidden layers are contributed towards the final output layer in our network. It is deciding function in getting of true outputs from the data."
      ]
    },
    {
      "cell_type": "markdown",
      "metadata": {
        "id": "6Ws174ZVaxXY",
        "colab_type": "text"
      },
      "source": [
        "**Problem 5**: The author asks you to find values of $h_i$ that make your neural network closely approximate $\\sigma^{-1}\\circ f(x)$. Record your values of $h_i$ here and your best \"average deviation\" score. Let's name the $h$s from top to bottom on the graph as $h_1$, $h_2$ ,,,, $h_5$,"
      ]
    },
    {
      "cell_type": "code",
      "metadata": {
        "id": "2CDj2XfgaxXa",
        "colab_type": "code",
        "colab": {}
      },
      "source": [
        "# h1 = -1.2, h2 = -1.4, h3= -0.3, h4=-0.9, h5=1.3 , optimal average deviation = 0.38"
      ],
      "execution_count": 0,
      "outputs": []
    },
    {
      "cell_type": "markdown",
      "metadata": {
        "id": "IbLaLSKRaxXf",
        "colab_type": "text"
      },
      "source": [
        "**Problem 6**: Build the neural network from your work in Problem 5 here with MLPClassifier.\n",
        "\n",
        "A few things to keep in mind:\n",
        "* How many inputs are there? \n",
        "* How many outputs are there?\n",
        "* How many neurons are in the hidden layer?\n"
      ]
    },
    {
      "cell_type": "code",
      "metadata": {
        "id": "WwUSykKG2Q8e",
        "colab_type": "code",
        "colab": {}
      },
      "source": [
        "import warnings; warnings.simplefilter('ignore')\n",
        "import numpy as np\n",
        "import pandas as pd\n",
        "from sklearn.linear_model import LogisticRegression, LogisticRegressionCV\n",
        "from sklearn.neural_network import MLPClassifier, MLPRegressor\n",
        "from sklearn.model_selection import train_test_split\n",
        "from sklearn.preprocessing import StandardScaler\n",
        "from matplotlib import pyplot as plt\n",
        "from sklearn.metrics import mean_squared_error\n",
        "%matplotlib inline"
      ],
      "execution_count": 0,
      "outputs": []
    },
    {
      "cell_type": "code",
      "metadata": {
        "id": "7OuDzfHv2UM9",
        "colab_type": "code",
        "colab": {}
      },
      "source": [
        "X = pd.DataFrame(np.linspace(0,1,1000))\n",
        "y = pd.DataFrame(0.2 + 0.4 * X**2 + 0.3 * X * np.sin(15*X) + 0.05 * np.cos(50*X))\n",
        "X_train, X_test, y_train, y_test = train_test_split(X, y, test_size=0.2)"
      ],
      "execution_count": 0,
      "outputs": []
    },
    {
      "cell_type": "code",
      "metadata": {
        "id": "RJlauoxz2UZl",
        "colab_type": "code",
        "outputId": "5952b092-f903-4419-b4ce-68b294030337",
        "colab": {
          "base_uri": "https://localhost:8080/",
          "height": 52
        }
      },
      "source": [
        "# activation = relu\n",
        "mlp = MLPRegressor(hidden_layer_sizes=10, learning_rate_init=0.091, random_state=0)\n",
        "mlp.fit(X_train,y_train)\n",
        "accuracy = mlp.score(X_test,y_test)\n",
        "y_pred = mlp.predict(X)\n",
        "MSE = mean_squared_error(y, y_pred)\n",
        "print(\"Accuracy: {}\".format(accuracy,MSE))\n",
        "print(\"MSE: {}\".format(MSE))"
      ],
      "execution_count": 0,
      "outputs": [
        {
          "output_type": "stream",
          "text": [
            "Accuracy: 0.8182586909073631\n",
            "MSE: 0.008273983854967458\n"
          ],
          "name": "stdout"
        }
      ]
    },
    {
      "cell_type": "markdown",
      "metadata": {
        "id": "E4VwpHTkaxXo",
        "colab_type": "text"
      },
      "source": [
        "**Problem 7**: Once you've built the neural network with the structure described in Problem 6, use `np.linspace` to generate 1000 values of $x$ between 0 and 1 and estimate the performance of your neural network using mean squared error.\n",
        "\n",
        "Recall that mean squared error(MSE) is given by:\n",
        "\n",
        "$$\n",
        "\\frac{1}{n}\\sum_{i=1}^n (\\hat{y}-y)^2\n",
        "$$\n",
        "\n",
        "\n",
        "* Your $\\hat{y}$ in this case are your predicted values from your neural network for each of the $x$ that you generated using `np.linspace`. Make sure to take into account the final activation function!\n",
        "* Your $y$ values are the actual observed values of $f(x)=0.2+0.4x^2+0.3x\\sin(15x)+0.05\\cos(50x)$ for each of the $x$ that you generated using `np.linspace`.\n",
        "* Use  [MLPRegressor](https://scikit-learn.org/stable/modules/generated/sklearn.neural_network.MLPRegressor.html#sklearn.neural_network.MLPRegressor) for this work.\n",
        "* Plot  $f(x)$ curve overlapped with the curve predicted by your trained Neural Networks for x between 0 and 1\n",
        "* Try different learning rates"
      ]
    },
    {
      "cell_type": "code",
      "metadata": {
        "id": "_Kh0CvzN3C12",
        "colab_type": "code",
        "outputId": "d98ddbab-c9f9-4ae1-c866-56bdf21eff02",
        "colab": {
          "base_uri": "https://localhost:8080/",
          "height": 34
        }
      },
      "source": [
        "y_pred = mlp.predict(X)\n",
        "MSE = mean_squared_error(y,y_pred)\n",
        "print(MSE)"
      ],
      "execution_count": 0,
      "outputs": [
        {
          "output_type": "stream",
          "text": [
            "0.008273983854967458\n"
          ],
          "name": "stdout"
        }
      ]
    },
    {
      "cell_type": "code",
      "metadata": {
        "id": "bt8zgncL56pv",
        "colab_type": "code",
        "colab": {}
      },
      "source": [
        "def plot_hyper_param_plots(x, y, y_pred, xlabel):\n",
        "    plt.plot(x, y, label='actual')\n",
        "    plt.plot(x, y_pred, label='predicted')\n",
        "    plt.xlabel(xlabel)\n",
        "    plt.ylabel('Test Accuracy')\n",
        "    plt.legend(loc='upper left')"
      ],
      "execution_count": 0,
      "outputs": []
    },
    {
      "cell_type": "code",
      "metadata": {
        "id": "XrxPNW9B3Exz",
        "colab_type": "code",
        "outputId": "13271c52-e5da-499d-cee9-b20362ac8db2",
        "colab": {
          "base_uri": "https://localhost:8080/",
          "height": 278
        }
      },
      "source": [
        "plot_hyper_param_plots(X, y, y_pred, \"X\")"
      ],
      "execution_count": 0,
      "outputs": [
        {
          "output_type": "display_data",
          "data": {
            "image/png": "[encoded data removed]",
            "text/plain": [
              "<Figure size 432x288 with 1 Axes>"
            ]
          },
          "metadata": {
            "tags": []
          }
        }
      ]
    },
    {
      "cell_type": "code",
      "metadata": {
        "id": "ElPMpX053E1s",
        "colab_type": "code",
        "outputId": "0996e3f5-42dd-4659-eaaa-810227c66aa8",
        "colab": {
          "base_uri": "https://localhost:8080/",
          "height": 585
        }
      },
      "source": [
        "MSE_list = {}\n",
        "for alpha in np.arange(0.001,0.3,0.01):\n",
        "  mlp = MLPRegressor(hidden_layer_sizes=10,activation='relu', learning_rate_init=alpha, random_state=0)\n",
        "  mlp.fit(X_train,y_train)\n",
        "  accuracy = mlp.score(X_test,y_test)\n",
        "  y_hat = mlp.predict(X)\n",
        "  MSE = mean_squared_error(y, y_pred)\n",
        "  MSE_list[alpha]= MSE\n",
        "  print(\"The learning rate is : {} and the MSE is : {}\".format(round(alpha,3) , round(MSE,4)))\n",
        "print()\n",
        "print(\" The minimum value for MSE is at learning rate: \", min(MSE_list.items(), key=lambda x: x[1]) )"
      ],
      "execution_count": 0,
      "outputs": [
        {
          "output_type": "stream",
          "text": [
            "The learning rate is : 0.001 and the MSE is : 0.0083\n",
            "The learning rate is : 0.011 and the MSE is : 0.0083\n",
            "The learning rate is : 0.021 and the MSE is : 0.0083\n",
            "The learning rate is : 0.031 and the MSE is : 0.0083\n",
            "The learning rate is : 0.041 and the MSE is : 0.0083\n",
            "The learning rate is : 0.051 and the MSE is : 0.0083\n",
            "The learning rate is : 0.061 and the MSE is : 0.0083\n",
            "The learning rate is : 0.071 and the MSE is : 0.0083\n",
            "The learning rate is : 0.081 and the MSE is : 0.0083\n",
            "The learning rate is : 0.091 and the MSE is : 0.0083\n",
            "The learning rate is : 0.101 and the MSE is : 0.0083\n",
            "The learning rate is : 0.111 and the MSE is : 0.0083\n",
            "The learning rate is : 0.121 and the MSE is : 0.0083\n",
            "The learning rate is : 0.131 and the MSE is : 0.0083\n",
            "The learning rate is : 0.141 and the MSE is : 0.0083\n",
            "The learning rate is : 0.151 and the MSE is : 0.0083\n",
            "The learning rate is : 0.161 and the MSE is : 0.0083\n",
            "The learning rate is : 0.171 and the MSE is : 0.0083\n",
            "The learning rate is : 0.181 and the MSE is : 0.0083\n",
            "The learning rate is : 0.191 and the MSE is : 0.0083\n",
            "The learning rate is : 0.201 and the MSE is : 0.0083\n",
            "The learning rate is : 0.211 and the MSE is : 0.0083\n",
            "The learning rate is : 0.221 and the MSE is : 0.0083\n",
            "The learning rate is : 0.231 and the MSE is : 0.0083\n",
            "The learning rate is : 0.241 and the MSE is : 0.0083\n",
            "The learning rate is : 0.251 and the MSE is : 0.0083\n",
            "The learning rate is : 0.261 and the MSE is : 0.0083\n",
            "The learning rate is : 0.271 and the MSE is : 0.0083\n",
            "The learning rate is : 0.281 and the MSE is : 0.0083\n",
            "The learning rate is : 0.291 and the MSE is : 0.0083\n",
            "\n",
            " The minimum value for MSE is at learning rate:  (0.001, 0.008273983854967458)\n"
          ],
          "name": "stdout"
        }
      ]
    },
    {
      "cell_type": "markdown",
      "metadata": {
        "id": "8J8JsBvqaxX0",
        "colab_type": "text"
      },
      "source": [
        "**Problem 8**: Suppose you wanted to increase the performance of this neural network. How might you go about doing so?\n",
        "* You try different number of hidden layers and different number of neurons in each hidden layer.\n",
        "* Report your best Neural Network structure and the minimum MSE you can get."
      ]
    },
    {
      "cell_type": "code",
      "metadata": {
        "id": "7aLfE02a3p38",
        "colab_type": "code",
        "colab": {}
      },
      "source": [
        "# Test with different number of hidden layers and different learning rates on each hidden layer\n",
        "def train_mlp(units, activation='relu', lr=0.071, batch_size=1000,loss_curve=False):\n",
        "    \n",
        "    mlp = MLPRegressor(hidden_layer_sizes=units, activation=activation, batch_size=batch_size, momentum=0.0, learning_rate_init=lr, random_state=0)\n",
        "    \n",
        "    mlp.fit(X_train, y_train)\n",
        "    accuracy = mlp.score(X_test,y_test)\n",
        "    \n",
        "    y_pred = mlp.predict(X)\n",
        "\n",
        "    MSE = mean_squared_error(y,y_hat)\n",
        "    \n",
        "    return MSE\n"
      ],
      "execution_count": 0,
      "outputs": []
    },
    {
      "cell_type": "code",
      "metadata": {
        "id": "NYh_-Xtn3waG",
        "colab_type": "code",
        "outputId": "ea9a4619-49b4-4a5b-c71a-e1d48c989992",
        "colab": {
          "base_uri": "https://localhost:8080/",
          "height": 390
        }
      },
      "source": [
        "for units in range(5,110,5):\n",
        "  print(train_mlp(units), units)"
      ],
      "execution_count": 0,
      "outputs": [
        {
          "output_type": "stream",
          "text": [
            "0.0168377700454656 5\n",
            "0.0168377700454656 10\n",
            "0.0168377700454656 15\n",
            "0.0168377700454656 20\n",
            "0.0168377700454656 25\n",
            "0.0168377700454656 30\n",
            "0.0168377700454656 35\n",
            "0.0168377700454656 40\n",
            "0.0168377700454656 45\n",
            "0.0168377700454656 50\n",
            "0.0168377700454656 55\n",
            "0.0168377700454656 60\n",
            "0.0168377700454656 65\n",
            "0.0168377700454656 70\n",
            "0.0168377700454656 75\n",
            "0.0168377700454656 80\n",
            "0.0168377700454656 85\n",
            "0.0168377700454656 90\n",
            "0.0168377700454656 95\n",
            "0.0168377700454656 100\n",
            "0.0168377700454656 105\n"
          ],
          "name": "stdout"
        }
      ]
    },
    {
      "cell_type": "code",
      "metadata": {
        "id": "sZPFMVb23wdb",
        "colab_type": "code",
        "outputId": "d6f1da34-3e98-406d-9c7d-efbdd09c908e",
        "colab": {
          "base_uri": "https://localhost:8080/",
          "height": 585
        }
      },
      "source": [
        "import itertools\n",
        "for i,j in itertools.product(range(10,50,10), range(10,50,10)):\n",
        "  units = i,j\n",
        "  print(units)\n",
        "  print(train_mlp(units))"
      ],
      "execution_count": 0,
      "outputs": [
        {
          "output_type": "stream",
          "text": [
            "(10, 10)\n",
            "0.0168377700454656\n",
            "(10, 20)\n",
            "0.0168377700454656\n",
            "(10, 30)\n",
            "0.0168377700454656\n",
            "(10, 40)\n",
            "0.0168377700454656\n",
            "(20, 10)\n",
            "0.0168377700454656\n",
            "(20, 20)\n",
            "0.0168377700454656\n",
            "(20, 30)\n",
            "0.0168377700454656\n",
            "(20, 40)\n",
            "0.0168377700454656\n",
            "(30, 10)\n",
            "0.0168377700454656\n",
            "(30, 20)\n",
            "0.0168377700454656\n",
            "(30, 30)\n",
            "0.0168377700454656\n",
            "(30, 40)\n",
            "0.0168377700454656\n",
            "(40, 10)\n",
            "0.0168377700454656\n",
            "(40, 20)\n",
            "0.0168377700454656\n",
            "(40, 30)\n",
            "0.0168377700454656\n",
            "(40, 40)\n",
            "0.0168377700454656\n"
          ],
          "name": "stdout"
        }
      ]
    },
    {
      "cell_type": "code",
      "metadata": {
        "id": "bKfDnql83wj7",
        "colab_type": "code",
        "outputId": "13c44b08-c030-442a-e1fa-66341a98da98",
        "colab": {
          "base_uri": "https://localhost:8080/",
          "height": 372
        }
      },
      "source": [
        "num_hidden_units = range(10, 1000, 50)\n",
        "all_test_accuracy = []\n",
        "for units in num_hidden_units: \n",
        "    MSE = train_mlp((units,))\n",
        "    print (\"Units: {}, MSE: {}\".format(units, MSE))\n",
        "    all_test_accuracy.append(MSE)"
      ],
      "execution_count": 0,
      "outputs": [
        {
          "output_type": "stream",
          "text": [
            "Units: 10, MSE: 0.0168377700454656\n",
            "Units: 60, MSE: 0.0168377700454656\n",
            "Units: 110, MSE: 0.0168377700454656\n",
            "Units: 160, MSE: 0.0168377700454656\n",
            "Units: 210, MSE: 0.0168377700454656\n",
            "Units: 260, MSE: 0.0168377700454656\n",
            "Units: 310, MSE: 0.0168377700454656\n",
            "Units: 360, MSE: 0.0168377700454656\n",
            "Units: 410, MSE: 0.0168377700454656\n",
            "Units: 460, MSE: 0.0168377700454656\n",
            "Units: 510, MSE: 0.0168377700454656\n",
            "Units: 560, MSE: 0.0168377700454656\n",
            "Units: 610, MSE: 0.0168377700454656\n",
            "Units: 660, MSE: 0.0168377700454656\n",
            "Units: 710, MSE: 0.0168377700454656\n",
            "Units: 760, MSE: 0.0168377700454656\n",
            "Units: 810, MSE: 0.0168377700454656\n",
            "Units: 860, MSE: 0.0168377700454656\n",
            "Units: 910, MSE: 0.0168377700454656\n",
            "Units: 960, MSE: 0.0168377700454656\n"
          ],
          "name": "stdout"
        }
      ]
    },
    {
      "cell_type": "code",
      "metadata": {
        "id": "tBEY3OVX3whL",
        "colab_type": "code",
        "outputId": "bc39cadb-8ae0-47b8-8112-a6ca6fb67cb1",
        "colab": {
          "base_uri": "https://localhost:8080/",
          "height": 194
        }
      },
      "source": [
        "units = num_hidden_units[np.argmin(all_test_accuracy)]\n",
        "optimum_depth = []\n",
        "\n",
        "for depth in range(1, 11):\n",
        "    MSE = train_mlp((units,)*depth)\n",
        "    optimum_depth.append(MSE)\n",
        "    print (\"No. of Neurons: {} , Depth of the Network: {}, Mean Squared Error: {}\".format(units,depth, MSE))"
      ],
      "execution_count": 0,
      "outputs": [
        {
          "output_type": "stream",
          "text": [
            "No. of Neurons: 10 , Depth of the Network: 1, Mean Squared Error: 0.0168377700454656\n",
            "No. of Neurons: 10 , Depth of the Network: 2, Mean Squared Error: 0.0168377700454656\n",
            "No. of Neurons: 10 , Depth of the Network: 3, Mean Squared Error: 0.0168377700454656\n",
            "No. of Neurons: 10 , Depth of the Network: 4, Mean Squared Error: 0.0168377700454656\n",
            "No. of Neurons: 10 , Depth of the Network: 5, Mean Squared Error: 0.0168377700454656\n",
            "No. of Neurons: 10 , Depth of the Network: 6, Mean Squared Error: 0.0168377700454656\n",
            "No. of Neurons: 10 , Depth of the Network: 7, Mean Squared Error: 0.0168377700454656\n",
            "No. of Neurons: 10 , Depth of the Network: 8, Mean Squared Error: 0.0168377700454656\n",
            "No. of Neurons: 10 , Depth of the Network: 9, Mean Squared Error: 0.0168377700454656\n",
            "No. of Neurons: 10 , Depth of the Network: 10, Mean Squared Error: 0.0168377700454656\n"
          ],
          "name": "stdout"
        }
      ]
    },
    {
      "cell_type": "code",
      "metadata": {
        "id": "_rQ8QzlO8X3m",
        "colab_type": "code",
        "colab": {}
      },
      "source": [
        ""
      ],
      "execution_count": 0,
      "outputs": []
    }
  ]
}